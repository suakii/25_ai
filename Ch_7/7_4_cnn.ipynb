{
 "cells": [
  {
   "cell_type": "code",
   "execution_count": 1,
   "id": "f58dd176-67e2-4b84-ae5f-9656c8536f39",
   "metadata": {
    "execution": {
     "iopub.execute_input": "2025-04-17T07:00:51.401248Z",
     "iopub.status.busy": "2025-04-17T07:00:51.400379Z",
     "iopub.status.idle": "2025-04-17T07:00:52.887749Z",
     "shell.execute_reply": "2025-04-17T07:00:52.885518Z",
     "shell.execute_reply.started": "2025-04-17T07:00:51.401188Z"
    }
   },
   "outputs": [
    {
     "name": "stdout",
     "output_type": "stream",
     "text": [
      "torch.Size([4, 8, 14, 14])\n"
     ]
    }
   ],
   "source": [
    "import torch\n",
    "import torch.nn as nn\n",
    "import torch.nn.functional as F\n",
    "\n",
    "class SimpleConvBlock(nn.Module):\n",
    "    def __init__(self):\n",
    "        super(SimpleConvBlock, self).__init__()\n",
    "        self.conv = nn.Conv2d(in_channels=1, out_channels=8, kernel_size=3, padding=1)\n",
    "        self.pool = nn.MaxPool2d(kernel_size=2, stride=2)\n",
    "\n",
    "    def forward(self, x):\n",
    "        x = self.conv(x)       # [4, 1, 28, 28] → [4, 8, 28, 28]\n",
    "        x = F.relu(x)          # 비선형성 추가\n",
    "        x = self.pool(x)       # [4, 8, 28, 28] → [4, 8, 14, 14]\n",
    "        return x\n",
    "\n",
    "# 입력 데이터 정의\n",
    "x = torch.randn(4, 1, 28, 28)\n",
    "\n",
    "# 모델 생성 및 출력 확인\n",
    "model = SimpleConvBlock()\n",
    "y = model(x)\n",
    "print(y.shape)  # 출력: torch.Size([4, 8, 14, 14])\n"
   ]
  },
  {
   "cell_type": "code",
   "execution_count": null,
   "id": "2f3ead54-ac27-44ca-a011-7c297131f99c",
   "metadata": {},
   "outputs": [],
   "source": []
  }
 ],
 "metadata": {
  "kernelspec": {
   "display_name": "Python 3 (ipykernel)",
   "language": "python",
   "name": "python3"
  },
  "language_info": {
   "codemirror_mode": {
    "name": "ipython",
    "version": 3
   },
   "file_extension": ".py",
   "mimetype": "text/x-python",
   "name": "python",
   "nbconvert_exporter": "python",
   "pygments_lexer": "ipython3",
   "version": "3.8.10"
  }
 },
 "nbformat": 4,
 "nbformat_minor": 5
}
