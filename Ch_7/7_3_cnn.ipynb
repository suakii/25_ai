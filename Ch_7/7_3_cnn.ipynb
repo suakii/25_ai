{
 "cells": [
  {
   "cell_type": "code",
   "execution_count": 1,
   "id": "967ab936-1b40-4a68-b5ab-ad890e40434d",
   "metadata": {
    "execution": {
     "iopub.execute_input": "2025-04-17T06:57:48.961356Z",
     "iopub.status.busy": "2025-04-17T06:57:48.960495Z",
     "iopub.status.idle": "2025-04-17T06:57:50.440938Z",
     "shell.execute_reply": "2025-04-17T06:57:50.439058Z",
     "shell.execute_reply.started": "2025-04-17T06:57:48.961296Z"
    },
    "tags": []
   },
   "outputs": [
    {
     "name": "stdout",
     "output_type": "stream",
     "text": [
      "torch.Size([4, 8, 14, 14])\n"
     ]
    }
   ],
   "source": [
    "import torch\n",
    "import torch.nn as nn\n",
    "\n",
    "# 2x2 최대 풀링 계층 정의\n",
    "pool = nn.MaxPool2d(kernel_size=2, stride=2)\n",
    "\n",
    "# 입력 텐서: 배치 크기 4, 채널 수 8, 높이 28, 너비 28\n",
    "x = torch.randn(4, 8, 28, 28)\n",
    "\n",
    "# 풀링 적용\n",
    "y = pool(x)\n",
    "\n",
    "# 출력 텐서의 형태 확인\n",
    "print(y.shape)  # 결과: torch.Size([4, 8, 14, 14])\n"
   ]
  },
  {
   "cell_type": "code",
   "execution_count": null,
   "id": "f58dd176-67e2-4b84-ae5f-9656c8536f39",
   "metadata": {},
   "outputs": [],
   "source": []
  }
 ],
 "metadata": {
  "kernelspec": {
   "display_name": "Python 3 (ipykernel)",
   "language": "python",
   "name": "python3"
  },
  "language_info": {
   "codemirror_mode": {
    "name": "ipython",
    "version": 3
   },
   "file_extension": ".py",
   "mimetype": "text/x-python",
   "name": "python",
   "nbconvert_exporter": "python",
   "pygments_lexer": "ipython3",
   "version": "3.8.10"
  }
 },
 "nbformat": 4,
 "nbformat_minor": 5
}
