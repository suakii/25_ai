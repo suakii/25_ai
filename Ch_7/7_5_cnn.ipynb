{
 "cells": [
  {
   "cell_type": "code",
   "execution_count": 2,
   "id": "2f3ead54-ac27-44ca-a011-7c297131f99c",
   "metadata": {
    "execution": {
     "iopub.execute_input": "2025-04-17T07:05:40.960297Z",
     "iopub.status.busy": "2025-04-17T07:05:40.959380Z",
     "iopub.status.idle": "2025-04-17T07:05:40.977467Z",
     "shell.execute_reply": "2025-04-17T07:05:40.975595Z",
     "shell.execute_reply.started": "2025-04-17T07:05:40.960229Z"
    }
   },
   "outputs": [],
   "source": [
    "import torch\n",
    "import torch.nn as nn\n",
    "import torch.nn.functional as F\n",
    "\n",
    "class SimpleCNN(nn.Module):\n",
    "    def __init__(self):\n",
    "        super(SimpleCNN, self).__init__()\n",
    "        self.conv1 = nn.Conv2d(in_channels=1, out_channels=8, kernel_size=3, padding=1)\n",
    "        self.pool = nn.MaxPool2d(kernel_size=2, stride=2)\n",
    "        self.conv2 = nn.Conv2d(in_channels=8, out_channels=16, kernel_size=3, padding=1)\n",
    "        self.fc1 = nn.Linear(16 * 7 * 7, 128)\n",
    "        self.fc2 = nn.Linear(128, 10)  # 10개의 클래스 (0~9 숫자)\n",
    "\n",
    "    def forward(self, x):\n",
    "        x = self.pool(F.relu(self.conv1(x)))  # [1, 28, 28] → [8, 14, 14]\n",
    "        x = self.pool(F.relu(self.conv2(x)))  # [8, 14, 14] → [16, 7, 7]\n",
    "        x = x.view(-1, 16 * 7 * 7)            # Flatten\n",
    "        x = F.relu(self.fc1(x))               # [784] → [128]\n",
    "        x = self.fc2(x)                       # [128] → [10]\n",
    "        return x\n"
   ]
  },
  {
   "cell_type": "code",
   "execution_count": 3,
   "id": "ea82e3d1-a51e-4143-afd6-1d058d2a4be9",
   "metadata": {
    "execution": {
     "iopub.execute_input": "2025-04-17T07:05:45.885733Z",
     "iopub.status.busy": "2025-04-17T07:05:45.884916Z",
     "iopub.status.idle": "2025-04-17T07:05:45.910784Z",
     "shell.execute_reply": "2025-04-17T07:05:45.909249Z",
     "shell.execute_reply.started": "2025-04-17T07:05:45.885670Z"
    },
    "tags": []
   },
   "outputs": [
    {
     "name": "stdout",
     "output_type": "stream",
     "text": [
      "torch.Size([4, 10])\n"
     ]
    }
   ],
   "source": [
    "model = SimpleCNN()\n",
    "x = torch.randn(4, 1, 28, 28)  # 배치 크기 4\n",
    "output = model(x)\n",
    "print(output.shape)  # torch.Size([4, 10])\n"
   ]
  },
  {
   "cell_type": "code",
   "execution_count": null,
   "id": "2e91df93-2a2d-4ffc-bb35-835b975a445c",
   "metadata": {},
   "outputs": [],
   "source": []
  }
 ],
 "metadata": {
  "kernelspec": {
   "display_name": "Python 3 (ipykernel)",
   "language": "python",
   "name": "python3"
  },
  "language_info": {
   "codemirror_mode": {
    "name": "ipython",
    "version": 3
   },
   "file_extension": ".py",
   "mimetype": "text/x-python",
   "name": "python",
   "nbconvert_exporter": "python",
   "pygments_lexer": "ipython3",
   "version": "3.8.10"
  }
 },
 "nbformat": 4,
 "nbformat_minor": 5
}
