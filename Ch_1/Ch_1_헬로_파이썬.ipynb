{
 "cells": [
  {
   "cell_type": "markdown",
   "metadata": {
    "id": "q31D9SXTvwui"
   },
   "source": [
    "# 1장. 헬로 파이썬"
   ]
  },
  {
   "cell_type": "markdown",
   "metadata": {
    "id": "DVgRfxunIqiZ"
   },
   "source": [
    "## 1.3 파이썬 인터프리터"
   ]
  },
  {
   "cell_type": "code",
   "execution_count": 1,
   "metadata": {
    "colab": {
     "base_uri": "https://localhost:8080/"
    },
    "execution": {
     "iopub.execute_input": "2025-03-18T06:46:23.542521Z",
     "iopub.status.busy": "2025-03-18T06:46:23.542342Z",
     "iopub.status.idle": "2025-03-18T06:46:23.549807Z",
     "shell.execute_reply": "2025-03-18T06:46:23.548933Z",
     "shell.execute_reply.started": "2025-03-18T06:46:23.542502Z"
    },
    "id": "6S38kt7sBikg",
    "outputId": "4d8b52da-ac85-47d3-ba85-9d6ccbced6df"
   },
   "outputs": [
    {
     "data": {
      "text/plain": [
       "3"
      ]
     },
     "execution_count": 1,
     "metadata": {},
     "output_type": "execute_result"
    }
   ],
   "source": [
    "1 + 2"
   ]
  },
  {
   "cell_type": "markdown",
   "metadata": {
    "id": "A1Im3-4UBz7x"
   },
   "source": [
    "### 1.3.1 산술 연산"
   ]
  },
  {
   "cell_type": "code",
   "execution_count": 2,
   "metadata": {
    "colab": {
     "base_uri": "https://localhost:8080/"
    },
    "execution": {
     "iopub.execute_input": "2025-03-18T06:46:23.551452Z",
     "iopub.status.busy": "2025-03-18T06:46:23.550760Z",
     "iopub.status.idle": "2025-03-18T06:46:23.556360Z",
     "shell.execute_reply": "2025-03-18T06:46:23.555446Z",
     "shell.execute_reply.started": "2025-03-18T06:46:23.551427Z"
    },
    "id": "rIEPttysBkvG",
    "outputId": "4a3122c4-0880-4ed7-9b76-fbe47d7b9573"
   },
   "outputs": [
    {
     "data": {
      "text/plain": [
       "-1"
      ]
     },
     "execution_count": 2,
     "metadata": {},
     "output_type": "execute_result"
    }
   ],
   "source": [
    "1 - 2"
   ]
  },
  {
   "cell_type": "code",
   "execution_count": 3,
   "metadata": {
    "colab": {
     "base_uri": "https://localhost:8080/"
    },
    "execution": {
     "iopub.execute_input": "2025-03-18T06:46:23.557808Z",
     "iopub.status.busy": "2025-03-18T06:46:23.557437Z",
     "iopub.status.idle": "2025-03-18T06:46:23.566787Z",
     "shell.execute_reply": "2025-03-18T06:46:23.565302Z",
     "shell.execute_reply.started": "2025-03-18T06:46:23.557780Z"
    },
    "id": "OUaMOYnJBmmC",
    "outputId": "45cb3bc5-0162-4d27-ad1d-1880130c4c68"
   },
   "outputs": [
    {
     "data": {
      "text/plain": [
       "20"
      ]
     },
     "execution_count": 3,
     "metadata": {},
     "output_type": "execute_result"
    }
   ],
   "source": [
    "4 * 5"
   ]
  },
  {
   "cell_type": "code",
   "execution_count": 4,
   "metadata": {
    "colab": {
     "base_uri": "https://localhost:8080/"
    },
    "execution": {
     "iopub.execute_input": "2025-03-18T06:46:23.568879Z",
     "iopub.status.busy": "2025-03-18T06:46:23.568160Z",
     "iopub.status.idle": "2025-03-18T06:46:23.574840Z",
     "shell.execute_reply": "2025-03-18T06:46:23.573787Z",
     "shell.execute_reply.started": "2025-03-18T06:46:23.568841Z"
    },
    "id": "j1re6U0KBqSG",
    "outputId": "0585507b-4355-4431-cd6d-7200c5d73f1d"
   },
   "outputs": [
    {
     "data": {
      "text/plain": [
       "1.4"
      ]
     },
     "execution_count": 4,
     "metadata": {},
     "output_type": "execute_result"
    }
   ],
   "source": [
    "7 / 5"
   ]
  },
  {
   "cell_type": "code",
   "execution_count": 5,
   "metadata": {
    "colab": {
     "base_uri": "https://localhost:8080/"
    },
    "execution": {
     "iopub.execute_input": "2025-03-18T06:46:23.577361Z",
     "iopub.status.busy": "2025-03-18T06:46:23.576464Z",
     "iopub.status.idle": "2025-03-18T06:46:23.583687Z",
     "shell.execute_reply": "2025-03-18T06:46:23.582563Z",
     "shell.execute_reply.started": "2025-03-18T06:46:23.577314Z"
    },
    "id": "hOn2ouHIBsYI",
    "outputId": "858058e4-992e-4f1c-c413-0ed2ee81445e"
   },
   "outputs": [
    {
     "data": {
      "text/plain": [
       "9"
      ]
     },
     "execution_count": 5,
     "metadata": {},
     "output_type": "execute_result"
    }
   ],
   "source": [
    "3 ** 2"
   ]
  },
  {
   "cell_type": "markdown",
   "metadata": {
    "id": "9yqofvJAB_d_"
   },
   "source": [
    "### 1.3.2 자료형"
   ]
  },
  {
   "cell_type": "code",
   "execution_count": 6,
   "metadata": {
    "colab": {
     "base_uri": "https://localhost:8080/"
    },
    "execution": {
     "iopub.execute_input": "2025-03-18T06:46:23.585745Z",
     "iopub.status.busy": "2025-03-18T06:46:23.585217Z",
     "iopub.status.idle": "2025-03-18T06:46:23.592819Z",
     "shell.execute_reply": "2025-03-18T06:46:23.591680Z",
     "shell.execute_reply.started": "2025-03-18T06:46:23.585701Z"
    },
    "id": "AwU7MkjECBlk",
    "outputId": "0ec27c86-9e6d-4193-854e-fa829f22d4a9"
   },
   "outputs": [
    {
     "data": {
      "text/plain": [
       "int"
      ]
     },
     "execution_count": 6,
     "metadata": {},
     "output_type": "execute_result"
    }
   ],
   "source": [
    "type(10)"
   ]
  },
  {
   "cell_type": "code",
   "execution_count": 7,
   "metadata": {
    "colab": {
     "base_uri": "https://localhost:8080/"
    },
    "execution": {
     "iopub.execute_input": "2025-03-18T06:46:23.599498Z",
     "iopub.status.busy": "2025-03-18T06:46:23.598734Z",
     "iopub.status.idle": "2025-03-18T06:46:23.606339Z",
     "shell.execute_reply": "2025-03-18T06:46:23.605204Z",
     "shell.execute_reply.started": "2025-03-18T06:46:23.599449Z"
    },
    "id": "lUYaDbbzCE43",
    "outputId": "6f986e0d-ada1-4539-fad8-7436401754ae"
   },
   "outputs": [
    {
     "data": {
      "text/plain": [
       "float"
      ]
     },
     "execution_count": 7,
     "metadata": {},
     "output_type": "execute_result"
    }
   ],
   "source": [
    "type(2.718)"
   ]
  },
  {
   "cell_type": "code",
   "execution_count": 8,
   "metadata": {
    "colab": {
     "base_uri": "https://localhost:8080/"
    },
    "execution": {
     "iopub.execute_input": "2025-03-18T06:46:23.610471Z",
     "iopub.status.busy": "2025-03-18T06:46:23.609913Z",
     "iopub.status.idle": "2025-03-18T06:46:23.618868Z",
     "shell.execute_reply": "2025-03-18T06:46:23.617661Z",
     "shell.execute_reply.started": "2025-03-18T06:46:23.610430Z"
    },
    "id": "AT9mM-i5CH4K",
    "outputId": "b97e3c15-8c2b-4e8c-e8c3-a22c0e9a9bc7"
   },
   "outputs": [
    {
     "data": {
      "text/plain": [
       "str"
      ]
     },
     "execution_count": 8,
     "metadata": {},
     "output_type": "execute_result"
    }
   ],
   "source": [
    "type(\"hello\")"
   ]
  },
  {
   "cell_type": "markdown",
   "metadata": {
    "id": "VHk92x4sCd8G"
   },
   "source": [
    "### 1.3.3 변수"
   ]
  },
  {
   "cell_type": "code",
   "execution_count": 9,
   "metadata": {
    "colab": {
     "base_uri": "https://localhost:8080/"
    },
    "execution": {
     "iopub.execute_input": "2025-03-18T06:46:23.621218Z",
     "iopub.status.busy": "2025-03-18T06:46:23.620611Z",
     "iopub.status.idle": "2025-03-18T06:46:23.627580Z",
     "shell.execute_reply": "2025-03-18T06:46:23.626294Z",
     "shell.execute_reply.started": "2025-03-18T06:46:23.621166Z"
    },
    "id": "UugIyisfCgcR",
    "outputId": "822d18d9-573b-4b06-bd4d-f534653a4fdb"
   },
   "outputs": [
    {
     "name": "stdout",
     "output_type": "stream",
     "text": [
      "10\n"
     ]
    }
   ],
   "source": [
    "x = 10\n",
    "print(x)"
   ]
  },
  {
   "cell_type": "code",
   "execution_count": 10,
   "metadata": {
    "colab": {
     "base_uri": "https://localhost:8080/"
    },
    "execution": {
     "iopub.execute_input": "2025-03-18T06:46:23.630237Z",
     "iopub.status.busy": "2025-03-18T06:46:23.629285Z",
     "iopub.status.idle": "2025-03-18T06:46:23.635856Z",
     "shell.execute_reply": "2025-03-18T06:46:23.634614Z",
     "shell.execute_reply.started": "2025-03-18T06:46:23.630184Z"
    },
    "id": "zO8HOHDCCi1W",
    "outputId": "734ef372-9a4f-4c0e-dcf4-f0e73a030df9"
   },
   "outputs": [
    {
     "name": "stdout",
     "output_type": "stream",
     "text": [
      "100\n"
     ]
    }
   ],
   "source": [
    "x = 100\n",
    "print(x)"
   ]
  },
  {
   "cell_type": "code",
   "execution_count": 11,
   "metadata": {
    "colab": {
     "base_uri": "https://localhost:8080/"
    },
    "execution": {
     "iopub.execute_input": "2025-03-18T06:46:23.638309Z",
     "iopub.status.busy": "2025-03-18T06:46:23.637541Z",
     "iopub.status.idle": "2025-03-18T06:46:23.645412Z",
     "shell.execute_reply": "2025-03-18T06:46:23.644223Z",
     "shell.execute_reply.started": "2025-03-18T06:46:23.638256Z"
    },
    "id": "PQ_As5LIClDx",
    "outputId": "6115a40b-3ecd-4d39-e8e0-b3abd57b817f"
   },
   "outputs": [
    {
     "data": {
      "text/plain": [
       "314.0"
      ]
     },
     "execution_count": 11,
     "metadata": {},
     "output_type": "execute_result"
    }
   ],
   "source": [
    "y = 3.14\n",
    "x * y"
   ]
  },
  {
   "cell_type": "code",
   "execution_count": 12,
   "metadata": {
    "colab": {
     "base_uri": "https://localhost:8080/"
    },
    "execution": {
     "iopub.execute_input": "2025-03-18T06:46:23.647571Z",
     "iopub.status.busy": "2025-03-18T06:46:23.647029Z",
     "iopub.status.idle": "2025-03-18T06:46:23.654519Z",
     "shell.execute_reply": "2025-03-18T06:46:23.653384Z",
     "shell.execute_reply.started": "2025-03-18T06:46:23.647526Z"
    },
    "id": "RYGgKsx1CprU",
    "outputId": "2ed2f524-6d30-4217-db97-213e85466eb0"
   },
   "outputs": [
    {
     "data": {
      "text/plain": [
       "float"
      ]
     },
     "execution_count": 12,
     "metadata": {},
     "output_type": "execute_result"
    }
   ],
   "source": [
    "type(x * y)"
   ]
  },
  {
   "cell_type": "markdown",
   "metadata": {
    "id": "uhVUfTpVCsdN"
   },
   "source": [
    "### 1.3.4 리스트"
   ]
  },
  {
   "cell_type": "code",
   "execution_count": 13,
   "metadata": {
    "colab": {
     "base_uri": "https://localhost:8080/"
    },
    "execution": {
     "iopub.execute_input": "2025-03-18T06:46:23.656962Z",
     "iopub.status.busy": "2025-03-18T06:46:23.656075Z",
     "iopub.status.idle": "2025-03-18T06:46:23.662843Z",
     "shell.execute_reply": "2025-03-18T06:46:23.661648Z",
     "shell.execute_reply.started": "2025-03-18T06:46:23.656914Z"
    },
    "id": "rES8DflUCw44",
    "outputId": "5783e984-339e-4e19-a1f0-af56df070267"
   },
   "outputs": [
    {
     "name": "stdout",
     "output_type": "stream",
     "text": [
      "[1, 2, 3, 4, 5]\n"
     ]
    }
   ],
   "source": [
    "a = [1, 2, 3, 4, 5]  # 리스트 생성\n",
    "print(a)   # 리스트의 내용 출력"
   ]
  },
  {
   "cell_type": "code",
   "execution_count": 14,
   "metadata": {
    "colab": {
     "base_uri": "https://localhost:8080/"
    },
    "execution": {
     "iopub.execute_input": "2025-03-18T06:46:23.665116Z",
     "iopub.status.busy": "2025-03-18T06:46:23.664428Z",
     "iopub.status.idle": "2025-03-18T06:46:23.671540Z",
     "shell.execute_reply": "2025-03-18T06:46:23.670459Z",
     "shell.execute_reply.started": "2025-03-18T06:46:23.665070Z"
    },
    "id": "w8GympYRC16d",
    "outputId": "f4239633-d676-4391-ba10-ecb069c661e9"
   },
   "outputs": [
    {
     "data": {
      "text/plain": [
       "5"
      ]
     },
     "execution_count": 14,
     "metadata": {},
     "output_type": "execute_result"
    }
   ],
   "source": [
    "len(a)     # 리스트의 길이 출력"
   ]
  },
  {
   "cell_type": "code",
   "execution_count": 15,
   "metadata": {
    "colab": {
     "base_uri": "https://localhost:8080/"
    },
    "execution": {
     "iopub.execute_input": "2025-03-18T06:46:23.673466Z",
     "iopub.status.busy": "2025-03-18T06:46:23.672973Z",
     "iopub.status.idle": "2025-03-18T06:46:23.679990Z",
     "shell.execute_reply": "2025-03-18T06:46:23.678926Z",
     "shell.execute_reply.started": "2025-03-18T06:46:23.673424Z"
    },
    "id": "2SUDbvQpC3oW",
    "outputId": "451aea03-dec1-4b69-c6f3-6802d980020d"
   },
   "outputs": [
    {
     "data": {
      "text/plain": [
       "1"
      ]
     },
     "execution_count": 15,
     "metadata": {},
     "output_type": "execute_result"
    }
   ],
   "source": [
    "a[0]       # 첫 원소에 접근"
   ]
  },
  {
   "cell_type": "code",
   "execution_count": 16,
   "metadata": {
    "colab": {
     "base_uri": "https://localhost:8080/"
    },
    "execution": {
     "iopub.execute_input": "2025-03-18T06:46:23.682026Z",
     "iopub.status.busy": "2025-03-18T06:46:23.681388Z",
     "iopub.status.idle": "2025-03-18T06:46:23.688344Z",
     "shell.execute_reply": "2025-03-18T06:46:23.687221Z",
     "shell.execute_reply.started": "2025-03-18T06:46:23.681985Z"
    },
    "id": "4ZIyr3EtC5nD",
    "outputId": "b6fc62b6-cc15-4465-f858-052059fbad52"
   },
   "outputs": [
    {
     "data": {
      "text/plain": [
       "5"
      ]
     },
     "execution_count": 16,
     "metadata": {},
     "output_type": "execute_result"
    }
   ],
   "source": [
    "a[4]       # 다섯 번째 원소에 접근"
   ]
  },
  {
   "cell_type": "code",
   "execution_count": 17,
   "metadata": {
    "colab": {
     "base_uri": "https://localhost:8080/"
    },
    "execution": {
     "iopub.execute_input": "2025-03-18T06:46:23.690589Z",
     "iopub.status.busy": "2025-03-18T06:46:23.689893Z",
     "iopub.status.idle": "2025-03-18T06:46:23.696472Z",
     "shell.execute_reply": "2025-03-18T06:46:23.695248Z",
     "shell.execute_reply.started": "2025-03-18T06:46:23.690543Z"
    },
    "id": "DMVO7KJXC8LY",
    "outputId": "fb44aad6-973d-464c-b50c-151043dd1e53"
   },
   "outputs": [
    {
     "name": "stdout",
     "output_type": "stream",
     "text": [
      "[1, 2, 3, 4, 99]\n"
     ]
    }
   ],
   "source": [
    "a[4] = 99  # 값 대입\n",
    "print(a)"
   ]
  },
  {
   "cell_type": "code",
   "execution_count": 18,
   "metadata": {
    "colab": {
     "base_uri": "https://localhost:8080/"
    },
    "execution": {
     "iopub.execute_input": "2025-03-18T06:46:23.698751Z",
     "iopub.status.busy": "2025-03-18T06:46:23.698127Z",
     "iopub.status.idle": "2025-03-18T06:46:23.706480Z",
     "shell.execute_reply": "2025-03-18T06:46:23.705261Z",
     "shell.execute_reply.started": "2025-03-18T06:46:23.698698Z"
    },
    "id": "8wwz0Hq_DAmH",
    "outputId": "6f7f020b-c418-420e-a3ef-80f22afef6ed"
   },
   "outputs": [
    {
     "data": {
      "text/plain": [
       "[1, 2]"
      ]
     },
     "execution_count": 18,
     "metadata": {},
     "output_type": "execute_result"
    }
   ],
   "source": [
    "a[0:2]  # 인덱스 0부터 2까지 얻기(2번째는 포함하지 않는다!)"
   ]
  },
  {
   "cell_type": "code",
   "execution_count": 19,
   "metadata": {
    "colab": {
     "base_uri": "https://localhost:8080/"
    },
    "execution": {
     "iopub.execute_input": "2025-03-18T06:46:23.709021Z",
     "iopub.status.busy": "2025-03-18T06:46:23.708141Z",
     "iopub.status.idle": "2025-03-18T06:46:23.715755Z",
     "shell.execute_reply": "2025-03-18T06:46:23.714602Z",
     "shell.execute_reply.started": "2025-03-18T06:46:23.708976Z"
    },
    "id": "EOqGuiRaDQyb",
    "outputId": "ca3dcb19-00fd-4b72-b2da-89484ec3f693"
   },
   "outputs": [
    {
     "data": {
      "text/plain": [
       "[2, 3, 4, 99]"
      ]
     },
     "execution_count": 19,
     "metadata": {},
     "output_type": "execute_result"
    }
   ],
   "source": [
    "a[1:]  # 인덱스 1부터 끝까지 얻기"
   ]
  },
  {
   "cell_type": "code",
   "execution_count": 20,
   "metadata": {
    "colab": {
     "base_uri": "https://localhost:8080/"
    },
    "execution": {
     "iopub.execute_input": "2025-03-18T06:46:23.717839Z",
     "iopub.status.busy": "2025-03-18T06:46:23.717300Z",
     "iopub.status.idle": "2025-03-18T06:46:23.724951Z",
     "shell.execute_reply": "2025-03-18T06:46:23.723838Z",
     "shell.execute_reply.started": "2025-03-18T06:46:23.717793Z"
    },
    "id": "mkFlssWCDVn2",
    "outputId": "795272f5-418d-4470-a90f-b610a13e47ba"
   },
   "outputs": [
    {
     "data": {
      "text/plain": [
       "[1, 2, 3]"
      ]
     },
     "execution_count": 20,
     "metadata": {},
     "output_type": "execute_result"
    }
   ],
   "source": [
    "a[:3]  # 처음부터 인덱스 3까지 얻기(3번째는 포함하지 않는다!)"
   ]
  },
  {
   "cell_type": "code",
   "execution_count": 21,
   "metadata": {
    "colab": {
     "base_uri": "https://localhost:8080/"
    },
    "execution": {
     "iopub.execute_input": "2025-03-18T06:46:23.727392Z",
     "iopub.status.busy": "2025-03-18T06:46:23.726502Z",
     "iopub.status.idle": "2025-03-18T06:46:23.733841Z",
     "shell.execute_reply": "2025-03-18T06:46:23.732802Z",
     "shell.execute_reply.started": "2025-03-18T06:46:23.727347Z"
    },
    "id": "_crUmFHvDZCI",
    "outputId": "f8dfd289-d019-4db8-a4b6-9e9fd8dc2786"
   },
   "outputs": [
    {
     "data": {
      "text/plain": [
       "[1, 2, 3, 4]"
      ]
     },
     "execution_count": 21,
     "metadata": {},
     "output_type": "execute_result"
    }
   ],
   "source": [
    "a[:-1]  # 처음부터 마지막 원소의 1개 앞까지 얻기"
   ]
  },
  {
   "cell_type": "code",
   "execution_count": 22,
   "metadata": {
    "colab": {
     "base_uri": "https://localhost:8080/"
    },
    "execution": {
     "iopub.execute_input": "2025-03-18T06:46:23.735920Z",
     "iopub.status.busy": "2025-03-18T06:46:23.735264Z",
     "iopub.status.idle": "2025-03-18T06:46:23.742492Z",
     "shell.execute_reply": "2025-03-18T06:46:23.741440Z",
     "shell.execute_reply.started": "2025-03-18T06:46:23.735879Z"
    },
    "id": "rpBHYlPfDcKh",
    "outputId": "7620ff97-cdcf-4c0d-8d88-5d772e9b7fc1"
   },
   "outputs": [
    {
     "data": {
      "text/plain": [
       "[1, 2, 3]"
      ]
     },
     "execution_count": 22,
     "metadata": {},
     "output_type": "execute_result"
    }
   ],
   "source": [
    "a[:-2]  # 처음부터 마지막 원소의 2개 앞까지 얻기"
   ]
  },
  {
   "cell_type": "markdown",
   "metadata": {
    "id": "lkFXp18sDfgG"
   },
   "source": [
    "### 1.3.5 딕셔너리"
   ]
  },
  {
   "cell_type": "code",
   "execution_count": 23,
   "metadata": {
    "colab": {
     "base_uri": "https://localhost:8080/"
    },
    "execution": {
     "iopub.execute_input": "2025-03-18T06:46:23.744403Z",
     "iopub.status.busy": "2025-03-18T06:46:23.743926Z",
     "iopub.status.idle": "2025-03-18T06:46:23.751243Z",
     "shell.execute_reply": "2025-03-18T06:46:23.750165Z",
     "shell.execute_reply.started": "2025-03-18T06:46:23.744363Z"
    },
    "id": "_svQ6MR8DiDj",
    "outputId": "625400ea-1ea8-4580-8aff-f9e15e52d0d9"
   },
   "outputs": [
    {
     "data": {
      "text/plain": [
       "180"
      ]
     },
     "execution_count": 23,
     "metadata": {},
     "output_type": "execute_result"
    }
   ],
   "source": [
    "me = {'height':180}  # 딕셔너리 생성\n",
    "me['height']         # 원소에 접근"
   ]
  },
  {
   "cell_type": "code",
   "execution_count": 24,
   "metadata": {
    "colab": {
     "base_uri": "https://localhost:8080/"
    },
    "execution": {
     "iopub.execute_input": "2025-03-18T06:46:23.753310Z",
     "iopub.status.busy": "2025-03-18T06:46:23.752682Z",
     "iopub.status.idle": "2025-03-18T06:46:23.759157Z",
     "shell.execute_reply": "2025-03-18T06:46:23.758015Z",
     "shell.execute_reply.started": "2025-03-18T06:46:23.753269Z"
    },
    "id": "R7L_YxNbDpkF",
    "outputId": "39d5e045-7661-4bc1-c862-a100fd2cfcc6"
   },
   "outputs": [
    {
     "name": "stdout",
     "output_type": "stream",
     "text": [
      "{'height': 180, 'weight': 70}\n"
     ]
    }
   ],
   "source": [
    "me['weight'] = 70    # 새 원소 추가\n",
    "print(me)"
   ]
  },
  {
   "cell_type": "markdown",
   "metadata": {
    "id": "_TjITiN4D_ct"
   },
   "source": [
    "### 1.3.6 bool"
   ]
  },
  {
   "cell_type": "code",
   "execution_count": 25,
   "metadata": {
    "execution": {
     "iopub.execute_input": "2025-03-18T06:46:23.761416Z",
     "iopub.status.busy": "2025-03-18T06:46:23.760714Z",
     "iopub.status.idle": "2025-03-18T06:46:23.766171Z",
     "shell.execute_reply": "2025-03-18T06:46:23.765021Z",
     "shell.execute_reply.started": "2025-03-18T06:46:23.761371Z"
    },
    "id": "HKtn33uAECIg"
   },
   "outputs": [],
   "source": [
    "hungry = True   # 배가 고프다\n",
    "sleepy = False  # 졸리지 않다"
   ]
  },
  {
   "cell_type": "code",
   "execution_count": 26,
   "metadata": {
    "colab": {
     "base_uri": "https://localhost:8080/"
    },
    "execution": {
     "iopub.execute_input": "2025-03-18T06:46:23.778839Z",
     "iopub.status.busy": "2025-03-18T06:46:23.778331Z",
     "iopub.status.idle": "2025-03-18T06:46:23.784977Z",
     "shell.execute_reply": "2025-03-18T06:46:23.784041Z",
     "shell.execute_reply.started": "2025-03-18T06:46:23.778797Z"
    },
    "id": "el-oTNhgEOFo",
    "outputId": "1b29c2c4-ceed-445d-b4e6-b43f34b8c487"
   },
   "outputs": [
    {
     "data": {
      "text/plain": [
       "bool"
      ]
     },
     "execution_count": 26,
     "metadata": {},
     "output_type": "execute_result"
    }
   ],
   "source": [
    "type(hungry)"
   ]
  },
  {
   "cell_type": "code",
   "execution_count": 27,
   "metadata": {
    "colab": {
     "base_uri": "https://localhost:8080/"
    },
    "execution": {
     "iopub.execute_input": "2025-03-18T06:46:23.786445Z",
     "iopub.status.busy": "2025-03-18T06:46:23.786083Z",
     "iopub.status.idle": "2025-03-18T06:46:23.792117Z",
     "shell.execute_reply": "2025-03-18T06:46:23.791157Z",
     "shell.execute_reply.started": "2025-03-18T06:46:23.786416Z"
    },
    "id": "SkudayasEQN1",
    "outputId": "9af065e4-32aa-45a6-aaea-d468dad059c6"
   },
   "outputs": [
    {
     "data": {
      "text/plain": [
       "False"
      ]
     },
     "execution_count": 27,
     "metadata": {},
     "output_type": "execute_result"
    }
   ],
   "source": [
    "not hungry"
   ]
  },
  {
   "cell_type": "code",
   "execution_count": 28,
   "metadata": {
    "colab": {
     "base_uri": "https://localhost:8080/"
    },
    "execution": {
     "iopub.execute_input": "2025-03-18T06:46:23.793671Z",
     "iopub.status.busy": "2025-03-18T06:46:23.793282Z",
     "iopub.status.idle": "2025-03-18T06:46:23.799471Z",
     "shell.execute_reply": "2025-03-18T06:46:23.798506Z",
     "shell.execute_reply.started": "2025-03-18T06:46:23.793639Z"
    },
    "id": "5-znZrvIESeB",
    "outputId": "71c63dc2-3fb1-4fb9-db8e-c5dcf043b3ca"
   },
   "outputs": [
    {
     "data": {
      "text/plain": [
       "False"
      ]
     },
     "execution_count": 28,
     "metadata": {},
     "output_type": "execute_result"
    }
   ],
   "source": [
    "hungry and sleepy  # '배가 고프다' 그릭 '졸리지 않다'"
   ]
  },
  {
   "cell_type": "code",
   "execution_count": 29,
   "metadata": {
    "colab": {
     "base_uri": "https://localhost:8080/"
    },
    "execution": {
     "iopub.execute_input": "2025-03-18T06:46:23.801045Z",
     "iopub.status.busy": "2025-03-18T06:46:23.800683Z",
     "iopub.status.idle": "2025-03-18T06:46:23.807416Z",
     "shell.execute_reply": "2025-03-18T06:46:23.806400Z",
     "shell.execute_reply.started": "2025-03-18T06:46:23.801008Z"
    },
    "id": "IimsHPyXEYwa",
    "outputId": "3ecc36e6-0794-4687-b3f4-5079279694ec"
   },
   "outputs": [
    {
     "data": {
      "text/plain": [
       "True"
      ]
     },
     "execution_count": 29,
     "metadata": {},
     "output_type": "execute_result"
    }
   ],
   "source": [
    "hungry or sleepy   # '배가 고프다' 또는 '졸리지 않다'"
   ]
  },
  {
   "cell_type": "markdown",
   "metadata": {
    "id": "uO8rFdm0Edg5"
   },
   "source": [
    "### 1.3.7 if 문"
   ]
  },
  {
   "cell_type": "code",
   "execution_count": 30,
   "metadata": {
    "colab": {
     "base_uri": "https://localhost:8080/"
    },
    "execution": {
     "iopub.execute_input": "2025-03-18T06:46:23.809532Z",
     "iopub.status.busy": "2025-03-18T06:46:23.808711Z",
     "iopub.status.idle": "2025-03-18T06:46:23.814746Z",
     "shell.execute_reply": "2025-03-18T06:46:23.813657Z",
     "shell.execute_reply.started": "2025-03-18T06:46:23.809495Z"
    },
    "id": "i0s_2OWLEiCt",
    "outputId": "b313ad69-e89b-4816-9c17-2d5ce4559b66"
   },
   "outputs": [
    {
     "name": "stdout",
     "output_type": "stream",
     "text": [
      "I'm hungry\n"
     ]
    }
   ],
   "source": [
    "hungry = True\n",
    "if hungry:\n",
    "    print(\"I'm hungry\")"
   ]
  },
  {
   "cell_type": "code",
   "execution_count": 31,
   "metadata": {
    "colab": {
     "base_uri": "https://localhost:8080/"
    },
    "execution": {
     "iopub.execute_input": "2025-03-18T06:46:23.816638Z",
     "iopub.status.busy": "2025-03-18T06:46:23.816151Z",
     "iopub.status.idle": "2025-03-18T06:46:23.822801Z",
     "shell.execute_reply": "2025-03-18T06:46:23.821628Z",
     "shell.execute_reply.started": "2025-03-18T06:46:23.816596Z"
    },
    "id": "s7ELLi6NEpJs",
    "outputId": "03f99cb6-c269-42eb-d29c-a019544a5303"
   },
   "outputs": [
    {
     "name": "stdout",
     "output_type": "stream",
     "text": [
      "I'm not hungry\n",
      "I'm sleepy\n"
     ]
    }
   ],
   "source": [
    "hungry = False\n",
    "if hungry:\n",
    "    print(\"I'm hungry\")\n",
    "else:\n",
    "    print(\"I'm not hungry\")\n",
    "    print(\"I'm sleepy\")"
   ]
  },
  {
   "cell_type": "markdown",
   "metadata": {
    "id": "WKKwAvSZE4X0"
   },
   "source": [
    "### 1.3.8 for 문"
   ]
  },
  {
   "cell_type": "code",
   "execution_count": 32,
   "metadata": {
    "colab": {
     "base_uri": "https://localhost:8080/"
    },
    "execution": {
     "iopub.execute_input": "2025-03-18T06:46:23.825042Z",
     "iopub.status.busy": "2025-03-18T06:46:23.824366Z",
     "iopub.status.idle": "2025-03-18T06:46:23.831622Z",
     "shell.execute_reply": "2025-03-18T06:46:23.830376Z",
     "shell.execute_reply.started": "2025-03-18T06:46:23.824998Z"
    },
    "id": "Q8RYnkeEE66l",
    "outputId": "57154d80-98ff-4527-cb9a-a96d7d9e6d86"
   },
   "outputs": [
    {
     "name": "stdout",
     "output_type": "stream",
     "text": [
      "1\n",
      "2\n",
      "3\n"
     ]
    }
   ],
   "source": [
    "for i in[1, 2, 3]:\n",
    "    print(i)"
   ]
  },
  {
   "cell_type": "markdown",
   "metadata": {
    "id": "tpRkfObOE-p6"
   },
   "source": [
    "### 1.3.9 함수"
   ]
  },
  {
   "cell_type": "code",
   "execution_count": 33,
   "metadata": {
    "colab": {
     "base_uri": "https://localhost:8080/"
    },
    "execution": {
     "iopub.execute_input": "2025-03-18T06:46:23.834319Z",
     "iopub.status.busy": "2025-03-18T06:46:23.833338Z",
     "iopub.status.idle": "2025-03-18T06:46:23.840393Z",
     "shell.execute_reply": "2025-03-18T06:46:23.839144Z",
     "shell.execute_reply.started": "2025-03-18T06:46:23.834266Z"
    },
    "id": "S2p36mUcFAoG",
    "outputId": "43beaaf9-7cef-4b88-de86-d883c8fad3b9"
   },
   "outputs": [
    {
     "name": "stdout",
     "output_type": "stream",
     "text": [
      "Hello World!\n"
     ]
    }
   ],
   "source": [
    "def hello():\n",
    "    print(\"Hello World!\")\n",
    "\n",
    "hello()"
   ]
  },
  {
   "cell_type": "code",
   "execution_count": 34,
   "metadata": {
    "colab": {
     "base_uri": "https://localhost:8080/"
    },
    "execution": {
     "iopub.execute_input": "2025-03-18T06:46:23.842746Z",
     "iopub.status.busy": "2025-03-18T06:46:23.842023Z",
     "iopub.status.idle": "2025-03-18T06:46:23.848916Z",
     "shell.execute_reply": "2025-03-18T06:46:23.847751Z",
     "shell.execute_reply.started": "2025-03-18T06:46:23.842700Z"
    },
    "id": "TK2jl0CHFHml",
    "outputId": "09b59b61-7770-4ccd-a316-acaa6adad7ab"
   },
   "outputs": [
    {
     "name": "stdout",
     "output_type": "stream",
     "text": [
      "Hello cat!\n"
     ]
    }
   ],
   "source": [
    "def hello(object):\n",
    "    print(\"Hello \" + object + \"!\")\n",
    "\n",
    "hello(\"cat\")"
   ]
  },
  {
   "cell_type": "markdown",
   "metadata": {
    "id": "6OJ3OflCFRkI"
   },
   "source": [
    "## 1.4 파이썬 스크립트 파일"
   ]
  },
  {
   "cell_type": "markdown",
   "metadata": {
    "id": "7Htqo1C7IwGh"
   },
   "source": [
    "\n",
    "### 1.4.1 파일로 저장하기"
   ]
  },
  {
   "cell_type": "code",
   "execution_count": 35,
   "metadata": {
    "colab": {
     "base_uri": "https://localhost:8080/"
    },
    "execution": {
     "iopub.execute_input": "2025-03-18T06:46:23.851088Z",
     "iopub.status.busy": "2025-03-18T06:46:23.850417Z",
     "iopub.status.idle": "2025-03-18T06:46:23.856608Z",
     "shell.execute_reply": "2025-03-18T06:46:23.855422Z",
     "shell.execute_reply.started": "2025-03-18T06:46:23.851044Z"
    },
    "id": "VHCjCPhFFgOO",
    "outputId": "f425a2d9-35fe-4e1f-af7f-a4f5ca88e710"
   },
   "outputs": [
    {
     "name": "stdout",
     "output_type": "stream",
     "text": [
      "I'm hungry!\n"
     ]
    }
   ],
   "source": [
    "print(\"I'm hungry!\")"
   ]
  },
  {
   "cell_type": "markdown",
   "metadata": {
    "id": "p9Cz3v8AFsJZ"
   },
   "source": [
    "### 1.4.2 클래스"
   ]
  },
  {
   "cell_type": "markdown",
   "metadata": {
    "id": "TEWZ2g8IwBpP"
   },
   "source": []
  },
  {
   "cell_type": "code",
   "execution_count": 36,
   "metadata": {
    "colab": {
     "base_uri": "https://localhost:8080/"
    },
    "execution": {
     "iopub.execute_input": "2025-03-18T06:46:23.858855Z",
     "iopub.status.busy": "2025-03-18T06:46:23.858168Z",
     "iopub.status.idle": "2025-03-18T06:46:23.867051Z",
     "shell.execute_reply": "2025-03-18T06:46:23.865900Z",
     "shell.execute_reply.started": "2025-03-18T06:46:23.858809Z"
    },
    "id": "UnCQMRXpvVwa",
    "outputId": "be3905ab-4eec-4ba2-80c1-090c3c26862f"
   },
   "outputs": [
    {
     "name": "stdout",
     "output_type": "stream",
     "text": [
      "Initilized!\n",
      "Hello David!\n",
      "Good-bye David!\n"
     ]
    }
   ],
   "source": [
    "class Man:\n",
    "   def __init__(self, name):\n",
    "       self.name = name\n",
    "       print(\"Initilized!\")\n",
    "\n",
    "   def hello(self):\n",
    "       print(\"Hello \" + self.name + \"!\")\n",
    "\n",
    "   def goodbye(self):\n",
    "       print(\"Good-bye \" + self.name + \"!\")\n",
    "\n",
    "m = Man(\"David\")\n",
    "m.hello()\n",
    "m.goodbye()"
   ]
  },
  {
   "cell_type": "markdown",
   "metadata": {
    "id": "_tbX20AmF4hw"
   },
   "source": [
    "## 1.5 넘파이"
   ]
  },
  {
   "cell_type": "markdown",
   "metadata": {
    "id": "nF7cl3nTI0dA"
   },
   "source": [
    "\n",
    "### 1.5.1 넘파이 가져오기"
   ]
  },
  {
   "cell_type": "code",
   "execution_count": 37,
   "metadata": {
    "execution": {
     "iopub.execute_input": "2025-03-18T06:46:23.869022Z",
     "iopub.status.busy": "2025-03-18T06:46:23.868518Z",
     "iopub.status.idle": "2025-03-18T06:46:23.969003Z",
     "shell.execute_reply": "2025-03-18T06:46:23.968326Z",
     "shell.execute_reply.started": "2025-03-18T06:46:23.868979Z"
    },
    "id": "iA9oB11oF9cL"
   },
   "outputs": [],
   "source": [
    "import numpy as np"
   ]
  },
  {
   "cell_type": "markdown",
   "metadata": {
    "id": "173KMMMdGBQM"
   },
   "source": [
    "### 1.5.2 넘파이 배열 생성하기"
   ]
  },
  {
   "cell_type": "code",
   "execution_count": 38,
   "metadata": {
    "colab": {
     "base_uri": "https://localhost:8080/"
    },
    "execution": {
     "iopub.execute_input": "2025-03-18T06:46:23.970664Z",
     "iopub.status.busy": "2025-03-18T06:46:23.970127Z",
     "iopub.status.idle": "2025-03-18T06:46:23.974844Z",
     "shell.execute_reply": "2025-03-18T06:46:23.974274Z",
     "shell.execute_reply.started": "2025-03-18T06:46:23.970634Z"
    },
    "id": "ooYGZDRWGEMs",
    "outputId": "1469658d-61b8-42db-b3bd-d54171ac1eba"
   },
   "outputs": [
    {
     "name": "stdout",
     "output_type": "stream",
     "text": [
      "[1. 2. 3.]\n"
     ]
    }
   ],
   "source": [
    "x = np.array([1.0, 2.0, 3.0])\n",
    "print(x)"
   ]
  },
  {
   "cell_type": "code",
   "execution_count": 39,
   "metadata": {
    "colab": {
     "base_uri": "https://localhost:8080/"
    },
    "execution": {
     "iopub.execute_input": "2025-03-18T06:46:23.976326Z",
     "iopub.status.busy": "2025-03-18T06:46:23.975859Z",
     "iopub.status.idle": "2025-03-18T06:46:23.980509Z",
     "shell.execute_reply": "2025-03-18T06:46:23.979917Z",
     "shell.execute_reply.started": "2025-03-18T06:46:23.976299Z"
    },
    "id": "ToFI4_mSGJGP",
    "outputId": "08bed3e2-cb6c-4fc7-adfb-53e9a84efde2"
   },
   "outputs": [
    {
     "data": {
      "text/plain": [
       "numpy.ndarray"
      ]
     },
     "execution_count": 39,
     "metadata": {},
     "output_type": "execute_result"
    }
   ],
   "source": [
    "type(x)"
   ]
  },
  {
   "cell_type": "markdown",
   "metadata": {
    "id": "07LD2VG4GTrb"
   },
   "source": [
    "### 1.5.3 넘파이의 산술 연산"
   ]
  },
  {
   "cell_type": "code",
   "execution_count": 40,
   "metadata": {
    "colab": {
     "base_uri": "https://localhost:8080/"
    },
    "execution": {
     "iopub.execute_input": "2025-03-18T06:46:23.981786Z",
     "iopub.status.busy": "2025-03-18T06:46:23.981535Z",
     "iopub.status.idle": "2025-03-18T06:46:23.987022Z",
     "shell.execute_reply": "2025-03-18T06:46:23.986424Z",
     "shell.execute_reply.started": "2025-03-18T06:46:23.981762Z"
    },
    "id": "x-jy9zxpGVyq",
    "outputId": "70f23b96-0800-405b-d13b-6b1432ed59e4"
   },
   "outputs": [
    {
     "data": {
      "text/plain": [
       "array([3., 6., 9.])"
      ]
     },
     "execution_count": 40,
     "metadata": {},
     "output_type": "execute_result"
    }
   ],
   "source": [
    "x = np.array([1.0, 2.0, 3.0])\n",
    "y = np.array([2.0, 4.0, 6.0])\n",
    "\n",
    "x + y  # 원소별 덧셈"
   ]
  },
  {
   "cell_type": "code",
   "execution_count": 41,
   "metadata": {
    "colab": {
     "base_uri": "https://localhost:8080/"
    },
    "execution": {
     "iopub.execute_input": "2025-03-18T06:46:23.988320Z",
     "iopub.status.busy": "2025-03-18T06:46:23.988079Z",
     "iopub.status.idle": "2025-03-18T06:46:23.992526Z",
     "shell.execute_reply": "2025-03-18T06:46:23.991944Z",
     "shell.execute_reply.started": "2025-03-18T06:46:23.988296Z"
    },
    "id": "xj_TGgLxGhHX",
    "outputId": "31f9b7c7-2025-486c-c5fe-d734371b9e3a"
   },
   "outputs": [
    {
     "data": {
      "text/plain": [
       "array([-1., -2., -3.])"
      ]
     },
     "execution_count": 41,
     "metadata": {},
     "output_type": "execute_result"
    }
   ],
   "source": [
    "x - y"
   ]
  },
  {
   "cell_type": "code",
   "execution_count": 42,
   "metadata": {
    "colab": {
     "base_uri": "https://localhost:8080/"
    },
    "execution": {
     "iopub.execute_input": "2025-03-18T06:46:23.993784Z",
     "iopub.status.busy": "2025-03-18T06:46:23.993530Z",
     "iopub.status.idle": "2025-03-18T06:46:23.998239Z",
     "shell.execute_reply": "2025-03-18T06:46:23.997671Z",
     "shell.execute_reply.started": "2025-03-18T06:46:23.993760Z"
    },
    "id": "4vkVGDYqGkAg",
    "outputId": "f71421a6-c598-4193-e454-a42376ed6259"
   },
   "outputs": [
    {
     "data": {
      "text/plain": [
       "array([ 2.,  8., 18.])"
      ]
     },
     "execution_count": 42,
     "metadata": {},
     "output_type": "execute_result"
    }
   ],
   "source": [
    "x * y"
   ]
  },
  {
   "cell_type": "code",
   "execution_count": 43,
   "metadata": {
    "colab": {
     "base_uri": "https://localhost:8080/"
    },
    "execution": {
     "iopub.execute_input": "2025-03-18T06:46:24.000716Z",
     "iopub.status.busy": "2025-03-18T06:46:23.999279Z",
     "iopub.status.idle": "2025-03-18T06:46:24.005367Z",
     "shell.execute_reply": "2025-03-18T06:46:24.004792Z",
     "shell.execute_reply.started": "2025-03-18T06:46:24.000678Z"
    },
    "id": "XgeQ0_7iGmCu",
    "outputId": "0248d141-ae85-4661-9bf1-678af4e9a232"
   },
   "outputs": [
    {
     "data": {
      "text/plain": [
       "array([0.5, 0.5, 0.5])"
      ]
     },
     "execution_count": 43,
     "metadata": {},
     "output_type": "execute_result"
    }
   ],
   "source": [
    "x / y"
   ]
  },
  {
   "cell_type": "code",
   "execution_count": 44,
   "metadata": {
    "colab": {
     "base_uri": "https://localhost:8080/"
    },
    "execution": {
     "iopub.execute_input": "2025-03-18T06:46:24.006924Z",
     "iopub.status.busy": "2025-03-18T06:46:24.006443Z",
     "iopub.status.idle": "2025-03-18T06:46:24.011576Z",
     "shell.execute_reply": "2025-03-18T06:46:24.010990Z",
     "shell.execute_reply.started": "2025-03-18T06:46:24.006898Z"
    },
    "id": "7ESyOKEuGq0y",
    "outputId": "38c8e743-3ea9-439b-c16c-20fc1dd962b6"
   },
   "outputs": [
    {
     "data": {
      "text/plain": [
       "array([0.5, 1. , 1.5])"
      ]
     },
     "execution_count": 44,
     "metadata": {},
     "output_type": "execute_result"
    }
   ],
   "source": [
    "x = np.array([1.0, 2.0, 3.0])\n",
    "x / 2.0"
   ]
  },
  {
   "cell_type": "markdown",
   "metadata": {
    "id": "UNpYLjSaGtH5"
   },
   "source": [
    "### 1.5.4 넘파이의 N차원 배열"
   ]
  },
  {
   "cell_type": "code",
   "execution_count": 45,
   "metadata": {
    "colab": {
     "base_uri": "https://localhost:8080/"
    },
    "execution": {
     "iopub.execute_input": "2025-03-18T06:46:24.012875Z",
     "iopub.status.busy": "2025-03-18T06:46:24.012492Z",
     "iopub.status.idle": "2025-03-18T06:46:24.016569Z",
     "shell.execute_reply": "2025-03-18T06:46:24.016005Z",
     "shell.execute_reply.started": "2025-03-18T06:46:24.012851Z"
    },
    "id": "MIo_NrrIGwOs",
    "outputId": "4aec5b15-4d05-4b3b-e494-509328462ff0"
   },
   "outputs": [
    {
     "name": "stdout",
     "output_type": "stream",
     "text": [
      "[[1 2]\n",
      " [3 4]]\n"
     ]
    }
   ],
   "source": [
    "A = np.array([[1, 2], [3, 4]])\n",
    "print(A)"
   ]
  },
  {
   "cell_type": "code",
   "execution_count": 46,
   "metadata": {
    "colab": {
     "base_uri": "https://localhost:8080/"
    },
    "execution": {
     "iopub.execute_input": "2025-03-18T06:46:24.017982Z",
     "iopub.status.busy": "2025-03-18T06:46:24.017512Z",
     "iopub.status.idle": "2025-03-18T06:46:24.021939Z",
     "shell.execute_reply": "2025-03-18T06:46:24.021371Z",
     "shell.execute_reply.started": "2025-03-18T06:46:24.017956Z"
    },
    "id": "Ojhujlb8G2Zk",
    "outputId": "9d61289a-cbd1-4e13-8447-cc5148c44512"
   },
   "outputs": [
    {
     "data": {
      "text/plain": [
       "(2, 2)"
      ]
     },
     "execution_count": 46,
     "metadata": {},
     "output_type": "execute_result"
    }
   ],
   "source": [
    "A.shape"
   ]
  },
  {
   "cell_type": "code",
   "execution_count": 47,
   "metadata": {
    "colab": {
     "base_uri": "https://localhost:8080/"
    },
    "execution": {
     "iopub.execute_input": "2025-03-18T06:46:24.023387Z",
     "iopub.status.busy": "2025-03-18T06:46:24.022917Z",
     "iopub.status.idle": "2025-03-18T06:46:24.027331Z",
     "shell.execute_reply": "2025-03-18T06:46:24.026747Z",
     "shell.execute_reply.started": "2025-03-18T06:46:24.023361Z"
    },
    "id": "qqEyYCNaG4qi",
    "outputId": "fa328cf2-3a0a-40b1-d69b-966750854c85"
   },
   "outputs": [
    {
     "data": {
      "text/plain": [
       "dtype('int64')"
      ]
     },
     "execution_count": 47,
     "metadata": {},
     "output_type": "execute_result"
    }
   ],
   "source": [
    "A.dtype"
   ]
  },
  {
   "cell_type": "code",
   "execution_count": 48,
   "metadata": {
    "colab": {
     "base_uri": "https://localhost:8080/"
    },
    "execution": {
     "iopub.execute_input": "2025-03-18T06:46:24.028776Z",
     "iopub.status.busy": "2025-03-18T06:46:24.028319Z",
     "iopub.status.idle": "2025-03-18T06:46:24.033283Z",
     "shell.execute_reply": "2025-03-18T06:46:24.032708Z",
     "shell.execute_reply.started": "2025-03-18T06:46:24.028751Z"
    },
    "id": "Z15appBJG7as",
    "outputId": "ab08bd34-7201-47b9-8d72-8492cf94f23a"
   },
   "outputs": [
    {
     "data": {
      "text/plain": [
       "array([[ 4,  2],\n",
       "       [ 3, 10]])"
      ]
     },
     "execution_count": 48,
     "metadata": {},
     "output_type": "execute_result"
    }
   ],
   "source": [
    "B = np.array([[3, 0], [0, 6]])\n",
    "A + B"
   ]
  },
  {
   "cell_type": "code",
   "execution_count": 49,
   "metadata": {
    "colab": {
     "base_uri": "https://localhost:8080/"
    },
    "execution": {
     "iopub.execute_input": "2025-03-18T06:46:24.034733Z",
     "iopub.status.busy": "2025-03-18T06:46:24.034269Z",
     "iopub.status.idle": "2025-03-18T06:46:24.038730Z",
     "shell.execute_reply": "2025-03-18T06:46:24.038152Z",
     "shell.execute_reply.started": "2025-03-18T06:46:24.034706Z"
    },
    "id": "3ZFTaqFUHAfJ",
    "outputId": "f033e57e-19a1-4673-d2c8-f4fd569de291"
   },
   "outputs": [
    {
     "data": {
      "text/plain": [
       "array([[ 3,  0],\n",
       "       [ 0, 24]])"
      ]
     },
     "execution_count": 49,
     "metadata": {},
     "output_type": "execute_result"
    }
   ],
   "source": [
    "A * B"
   ]
  },
  {
   "cell_type": "code",
   "execution_count": 50,
   "metadata": {
    "colab": {
     "base_uri": "https://localhost:8080/"
    },
    "execution": {
     "iopub.execute_input": "2025-03-18T06:46:24.040016Z",
     "iopub.status.busy": "2025-03-18T06:46:24.039632Z",
     "iopub.status.idle": "2025-03-18T06:46:24.043502Z",
     "shell.execute_reply": "2025-03-18T06:46:24.042920Z",
     "shell.execute_reply.started": "2025-03-18T06:46:24.039992Z"
    },
    "id": "pWx4lZtuHEXh",
    "outputId": "8df6c70f-6e14-431b-aa5e-2e4aaa316427"
   },
   "outputs": [
    {
     "name": "stdout",
     "output_type": "stream",
     "text": [
      "[[1 2]\n",
      " [3 4]]\n"
     ]
    }
   ],
   "source": [
    "print(A)"
   ]
  },
  {
   "cell_type": "code",
   "execution_count": 51,
   "metadata": {
    "colab": {
     "base_uri": "https://localhost:8080/"
    },
    "execution": {
     "iopub.execute_input": "2025-03-18T06:46:24.044770Z",
     "iopub.status.busy": "2025-03-18T06:46:24.044388Z",
     "iopub.status.idle": "2025-03-18T06:46:24.048713Z",
     "shell.execute_reply": "2025-03-18T06:46:24.048140Z",
     "shell.execute_reply.started": "2025-03-18T06:46:24.044745Z"
    },
    "id": "UNm_BB1dHGam",
    "outputId": "a3e38037-6f0f-48d9-eee4-1dd8c86bded0"
   },
   "outputs": [
    {
     "data": {
      "text/plain": [
       "array([[10, 20],\n",
       "       [30, 40]])"
      ]
     },
     "execution_count": 51,
     "metadata": {},
     "output_type": "execute_result"
    }
   ],
   "source": [
    "A * 10"
   ]
  },
  {
   "cell_type": "markdown",
   "metadata": {
    "id": "Z6XMELu_HI4O"
   },
   "source": [
    "### 1.5.5 브로드캐스트"
   ]
  },
  {
   "cell_type": "code",
   "execution_count": 52,
   "metadata": {
    "colab": {
     "base_uri": "https://localhost:8080/"
    },
    "execution": {
     "iopub.execute_input": "2025-03-18T06:46:24.049980Z",
     "iopub.status.busy": "2025-03-18T06:46:24.049600Z",
     "iopub.status.idle": "2025-03-18T06:46:24.054138Z",
     "shell.execute_reply": "2025-03-18T06:46:24.053683Z",
     "shell.execute_reply.started": "2025-03-18T06:46:24.049955Z"
    },
    "id": "ZJl8J1XTHLwP",
    "outputId": "5af1352c-644f-4638-c7ed-a26a8d81994b"
   },
   "outputs": [
    {
     "data": {
      "text/plain": [
       "array([[10, 40],\n",
       "       [30, 80]])"
      ]
     },
     "execution_count": 52,
     "metadata": {},
     "output_type": "execute_result"
    }
   ],
   "source": [
    "A = np.array([[1, 2], [3, 4]])\n",
    "B = np.array([10, 20])\n",
    "A * B"
   ]
  },
  {
   "cell_type": "markdown",
   "metadata": {
    "id": "8IDeIZv_HVqt"
   },
   "source": [
    "### 1.5.6 원소 접근"
   ]
  },
  {
   "cell_type": "code",
   "execution_count": 53,
   "metadata": {
    "colab": {
     "base_uri": "https://localhost:8080/"
    },
    "execution": {
     "iopub.execute_input": "2025-03-18T06:46:24.054899Z",
     "iopub.status.busy": "2025-03-18T06:46:24.054725Z",
     "iopub.status.idle": "2025-03-18T06:46:24.057900Z",
     "shell.execute_reply": "2025-03-18T06:46:24.057453Z",
     "shell.execute_reply.started": "2025-03-18T06:46:24.054882Z"
    },
    "id": "VEciBh8GHYxg",
    "outputId": "0afd3820-b073-4d3b-c1ea-ab1412169a73"
   },
   "outputs": [
    {
     "name": "stdout",
     "output_type": "stream",
     "text": [
      "[[51 55]\n",
      " [14 19]\n",
      " [ 0  4]]\n"
     ]
    }
   ],
   "source": [
    "X = np.array([[51, 55], [14, 19], [0, 4]])\n",
    "print(X)"
   ]
  },
  {
   "cell_type": "code",
   "execution_count": 54,
   "metadata": {
    "colab": {
     "base_uri": "https://localhost:8080/"
    },
    "execution": {
     "iopub.execute_input": "2025-03-18T06:46:24.058785Z",
     "iopub.status.busy": "2025-03-18T06:46:24.058516Z",
     "iopub.status.idle": "2025-03-18T06:46:24.061755Z",
     "shell.execute_reply": "2025-03-18T06:46:24.061335Z",
     "shell.execute_reply.started": "2025-03-18T06:46:24.058768Z"
    },
    "id": "oipvTGBVHgMS",
    "outputId": "a5fbec6c-304b-4dd6-e6be-e43c024fe58e"
   },
   "outputs": [
    {
     "data": {
      "text/plain": [
       "array([51, 55])"
      ]
     },
     "execution_count": 54,
     "metadata": {},
     "output_type": "execute_result"
    }
   ],
   "source": [
    "X[0]  # 0행"
   ]
  },
  {
   "cell_type": "code",
   "execution_count": 55,
   "metadata": {
    "colab": {
     "base_uri": "https://localhost:8080/"
    },
    "execution": {
     "iopub.execute_input": "2025-03-18T06:46:24.062624Z",
     "iopub.status.busy": "2025-03-18T06:46:24.062342Z",
     "iopub.status.idle": "2025-03-18T06:46:24.065587Z",
     "shell.execute_reply": "2025-03-18T06:46:24.065171Z",
     "shell.execute_reply.started": "2025-03-18T06:46:24.062607Z"
    },
    "id": "bD4BU1K0HjgF",
    "outputId": "897e290d-602a-40cd-afa8-25ff9ecb0489"
   },
   "outputs": [
    {
     "data": {
      "text/plain": [
       "55"
      ]
     },
     "execution_count": 55,
     "metadata": {},
     "output_type": "execute_result"
    }
   ],
   "source": [
    "X[0][1]  # (0, 1) 위치의 원소"
   ]
  },
  {
   "cell_type": "code",
   "execution_count": 56,
   "metadata": {
    "colab": {
     "base_uri": "https://localhost:8080/"
    },
    "execution": {
     "iopub.execute_input": "2025-03-18T06:46:24.066515Z",
     "iopub.status.busy": "2025-03-18T06:46:24.066176Z",
     "iopub.status.idle": "2025-03-18T06:46:24.069130Z",
     "shell.execute_reply": "2025-03-18T06:46:24.068676Z",
     "shell.execute_reply.started": "2025-03-18T06:46:24.066498Z"
    },
    "id": "YbyF2FDFHopB",
    "outputId": "9431134a-2086-4391-adb7-a714e3df8c68"
   },
   "outputs": [
    {
     "name": "stdout",
     "output_type": "stream",
     "text": [
      "[51 55]\n",
      "[14 19]\n",
      "[0 4]\n"
     ]
    }
   ],
   "source": [
    "for row in X:\n",
    "    print(row)"
   ]
  },
  {
   "cell_type": "code",
   "execution_count": 57,
   "metadata": {
    "colab": {
     "base_uri": "https://localhost:8080/"
    },
    "execution": {
     "iopub.execute_input": "2025-03-18T06:46:24.069944Z",
     "iopub.status.busy": "2025-03-18T06:46:24.069740Z",
     "iopub.status.idle": "2025-03-18T06:46:24.072690Z",
     "shell.execute_reply": "2025-03-18T06:46:24.072221Z",
     "shell.execute_reply.started": "2025-03-18T06:46:24.069927Z"
    },
    "id": "erVc63ZTHs5H",
    "outputId": "055c1694-7619-4f40-b26b-7ca37087053b"
   },
   "outputs": [
    {
     "name": "stdout",
     "output_type": "stream",
     "text": [
      "[51 55 14 19  0  4]\n"
     ]
    }
   ],
   "source": [
    "X = X.flatten()  # X를 1차원 배열로 변환(평탄화)\n",
    "print(X)"
   ]
  },
  {
   "cell_type": "code",
   "execution_count": 58,
   "metadata": {
    "colab": {
     "base_uri": "https://localhost:8080/"
    },
    "execution": {
     "iopub.execute_input": "2025-03-18T06:46:24.073529Z",
     "iopub.status.busy": "2025-03-18T06:46:24.073320Z",
     "iopub.status.idle": "2025-03-18T06:46:24.076820Z",
     "shell.execute_reply": "2025-03-18T06:46:24.076378Z",
     "shell.execute_reply.started": "2025-03-18T06:46:24.073512Z"
    },
    "id": "_LyLu82nHzbF",
    "outputId": "5f07c1a2-7cec-447b-c951-4c5cdaf19b48"
   },
   "outputs": [
    {
     "data": {
      "text/plain": [
       "array([51, 14,  0])"
      ]
     },
     "execution_count": 58,
     "metadata": {},
     "output_type": "execute_result"
    }
   ],
   "source": [
    "X[np.array([0, 2, 4])]  # 인덱스가 0, 2, 4인 원소 얻기"
   ]
  },
  {
   "cell_type": "code",
   "execution_count": 59,
   "metadata": {
    "colab": {
     "base_uri": "https://localhost:8080/"
    },
    "execution": {
     "iopub.execute_input": "2025-03-18T06:46:24.077714Z",
     "iopub.status.busy": "2025-03-18T06:46:24.077429Z",
     "iopub.status.idle": "2025-03-18T06:46:24.080999Z",
     "shell.execute_reply": "2025-03-18T06:46:24.080506Z",
     "shell.execute_reply.started": "2025-03-18T06:46:24.077696Z"
    },
    "id": "U8Atc0WZH56y",
    "outputId": "607bba8c-aeb1-427b-bd42-03eb611c827a"
   },
   "outputs": [
    {
     "data": {
      "text/plain": [
       "array([ True,  True, False,  True, False, False])"
      ]
     },
     "execution_count": 59,
     "metadata": {},
     "output_type": "execute_result"
    }
   ],
   "source": [
    "X > 15"
   ]
  },
  {
   "cell_type": "code",
   "execution_count": 60,
   "metadata": {
    "colab": {
     "base_uri": "https://localhost:8080/"
    },
    "execution": {
     "iopub.execute_input": "2025-03-18T06:46:24.081851Z",
     "iopub.status.busy": "2025-03-18T06:46:24.081636Z",
     "iopub.status.idle": "2025-03-18T06:46:24.085311Z",
     "shell.execute_reply": "2025-03-18T06:46:24.084814Z",
     "shell.execute_reply.started": "2025-03-18T06:46:24.081834Z"
    },
    "id": "Yc7r73mBH8ir",
    "outputId": "b29dc5cc-9287-4968-8620-82b1f9d9cc5b"
   },
   "outputs": [
    {
     "data": {
      "text/plain": [
       "array([51, 55, 19])"
      ]
     },
     "execution_count": 60,
     "metadata": {},
     "output_type": "execute_result"
    }
   ],
   "source": [
    "X[X>15]"
   ]
  },
  {
   "cell_type": "markdown",
   "metadata": {
    "id": "o5TKoIgVIAHm"
   },
   "source": [
    "## 1.6 맷플롯립"
   ]
  },
  {
   "cell_type": "markdown",
   "metadata": {
    "id": "yxjysDrJI50s"
   },
   "source": [
    "### 1.6.1 단순한 그래프 그리기"
   ]
  },
  {
   "cell_type": "markdown",
   "metadata": {
    "id": "0hH-HMEMwKv8"
   },
   "source": []
  },
  {
   "cell_type": "code",
   "execution_count": 61,
   "metadata": {
    "colab": {
     "base_uri": "https://localhost:8080/",
     "height": 430
    },
    "execution": {
     "iopub.execute_input": "2025-03-18T06:46:24.086184Z",
     "iopub.status.busy": "2025-03-18T06:46:24.085961Z",
     "iopub.status.idle": "2025-03-18T06:46:24.496372Z",
     "shell.execute_reply": "2025-03-18T06:46:24.495549Z",
     "shell.execute_reply.started": "2025-03-18T06:46:24.086167Z"
    },
    "id": "GDsnaLK3wFUD",
    "outputId": "cfac4311-8f31-4835-928b-06c5cbde1681"
   },
   "outputs": [
    {
     "data": {
      "image/png": "[encoded data removed]",
      "text/plain": [
       "<Figure size 640x480 with 1 Axes>"
      ]
     },
     "metadata": {},
     "output_type": "display_data"
    }
   ],
   "source": [
    "import numpy as np\n",
    "import matplotlib.pyplot as plt\n",
    "\n",
    "# 데이터 준비\n",
    "x = np.arange(0, 6, 0.1)  # 0에서 6까지 0.1 간격으로 생성\n",
    "y = np.sin(x)\n",
    "\n",
    "# 그래프 그리기\n",
    "plt.plot(x, y)\n",
    "plt.show()"
   ]
  },
  {
   "cell_type": "markdown",
   "metadata": {
    "id": "gTXCJJNgINii"
   },
   "source": [
    "### 1.6.2 pyplot의 기능"
   ]
  },
  {
   "cell_type": "markdown",
   "metadata": {
    "id": "lBaIVRi7wimD"
   },
   "source": [
    "***ch01/sin_cos_graph.py***"
   ]
  },
  {
   "cell_type": "code",
   "execution_count": 62,
   "metadata": {
    "colab": {
     "base_uri": "https://localhost:8080/",
     "height": 472
    },
    "execution": {
     "iopub.execute_input": "2025-03-18T06:46:24.497669Z",
     "iopub.status.busy": "2025-03-18T06:46:24.497300Z",
     "iopub.status.idle": "2025-03-18T06:46:24.671757Z",
     "shell.execute_reply": "2025-03-18T06:46:24.670909Z",
     "shell.execute_reply.started": "2025-03-18T06:46:24.497648Z"
    },
    "id": "51OFHi_lwl7z",
    "outputId": "a606771f-a8dc-4214-b32e-0f0502fca12b"
   },
   "outputs": [
    {
     "data": {
      "image/png": "[encoded data removed]",
      "text/plain": [
       "<Figure size 640x480 with 1 Axes>"
      ]
     },
     "metadata": {},
     "output_type": "display_data"
    }
   ],
   "source": [
    "import numpy as np\n",
    "import matplotlib.pyplot as plt\n",
    "\n",
    "# 데이터 준비\n",
    "x = np.arange(0, 6, 0.1)  # 0에서 6까지 0.1 간격으로 생성\n",
    "y1 = np.sin(x)\n",
    "y2 = np.cos(x)\n",
    "\n",
    "# 그래프 그리기\n",
    "plt.plot(x, y1, label=\"sin\")\n",
    "plt.plot(x, y2, linestyle = \"--\", label=\"cos\")  # cos 함수는 점선으로 그리기\n",
    "plt.xlabel(\"x\")         # x축 이름\n",
    "plt.ylabel(\"y\")         # y축 이름\n",
    "plt.title('sin & cos')  # 제목\n",
    "plt.legend()\n",
    "plt.show()"
   ]
  },
  {
   "cell_type": "markdown",
   "metadata": {
    "id": "3NiZEZTnISiv"
   },
   "source": [
    "### 1.6.3 이미지 표시하기"
   ]
  },
  {
   "cell_type": "markdown",
   "metadata": {
    "id": "yediOLchwsEB"
   },
   "source": []
  },
  {
   "cell_type": "code",
   "execution_count": 63,
   "metadata": {
    "colab": {
     "base_uri": "https://localhost:8080/",
     "height": 435
    },
    "execution": {
     "iopub.execute_input": "2025-03-18T06:46:24.672959Z",
     "iopub.status.busy": "2025-03-18T06:46:24.672657Z",
     "iopub.status.idle": "2025-03-18T06:46:24.966686Z",
     "shell.execute_reply": "2025-03-18T06:46:24.965255Z",
     "shell.execute_reply.started": "2025-03-18T06:46:24.672939Z"
    },
    "id": "xhhg-H8OwuZB",
    "outputId": "5213794e-009a-4341-8f49-b0effb840336",
    "tags": []
   },
   "outputs": [
    {
     "data": {
      "image/png": "[encoded data removed]",
      "text/plain": [
       "<Figure size 640x480 with 1 Axes>"
      ]
     },
     "metadata": {},
     "output_type": "display_data"
    }
   ],
   "source": [
    "\n",
    "import matplotlib.pyplot as plt\n",
    "from matplotlib.image import imread\n",
    "import matplotlib.image as mpimg\n",
    "import urllib.request\n",
    "\n",
    "# 이미지 URL\n",
    "url = 'https://gs-h.goesw.kr/module/upload/file/selectImageView.do?atchFileId=31000661947&fileSn=0'\n",
    "\n",
    "# URL에서 이미지 다운로드\n",
    "urllib.request.urlretrieve(url, 'downloaded_image.png')\n",
    "\n",
    "img = imread('downloaded_image.png')  # 이미지 읽어오기(적절한 경로를 설정하세요!)\n",
    "\n",
    "plt.imshow(img)\n",
    "plt.show()"
   ]
  },
  {
   "cell_type": "code",
   "execution_count": null,
   "metadata": {
    "id": "pgHzWbXPz9Fz"
   },
   "outputs": [],
   "source": []
  }
 ],
 "metadata": {
  "colab": {
   "provenance": [],
   "toc_visible": true
  },
  "kernelspec": {
   "display_name": "Python 3 (ipykernel)",
   "language": "python",
   "name": "python3"
  },
  "language_info": {
   "codemirror_mode": {
    "name": "ipython",
    "version": 3
   },
   "file_extension": ".py",
   "mimetype": "text/x-python",
   "name": "python",
   "nbconvert_exporter": "python",
   "pygments_lexer": "ipython3",
   "version": "3.8.10"
  }
 },
 "nbformat": 4,
 "nbformat_minor": 4
}
