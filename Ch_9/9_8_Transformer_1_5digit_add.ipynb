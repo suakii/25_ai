{
 "cells": [
  {
   "cell_type": "code",
   "execution_count": 1,
   "metadata": {
    "execution": {
     "iopub.execute_input": "2025-10-03T05:49:11.962305Z",
     "iopub.status.busy": "2025-10-03T05:49:11.962134Z",
     "iopub.status.idle": "2025-10-03T05:49:13.980550Z",
     "shell.execute_reply": "2025-10-03T05:49:13.979350Z",
     "shell.execute_reply.started": "2025-10-03T05:49:11.962288Z"
    },
    "tags": []
   },
   "outputs": [
    {
     "name": "stdout",
     "output_type": "stream",
     "text": [
      "Device: cuda:8\n",
      "입력 배치 shape: torch.Size([64, 13])\n",
      "출력 배치 shape: torch.Size([64, 8])\n",
      "첫 번째 샘플 원문: 88410+94490 → 182900\n",
      "첫 번째 입력 인덱스: [1, 11, 11, 7, 4, 3, 13, 12, 7, 7, 12, 3, 2]\n",
      "첫 번째 출력 인덱스: [1, 4, 11, 5, 12, 3, 3, 2]\n"
     ]
    }
   ],
   "source": [
    "# ==============================\n",
    "# 라이브러리\n",
    "# ==============================\n",
    "import random\n",
    "import numpy as np\n",
    "import torch\n",
    "from torch.utils.data import Dataset, DataLoader\n",
    "from torch.nn.utils.rnn import pad_sequence\n",
    "from sklearn.model_selection import train_test_split\n",
    "\n",
    "# ==============================\n",
    "# 시드 고정 (재현성 확보)\n",
    "# ==============================\n",
    "seed = 42\n",
    "random.seed(seed)\n",
    "np.random.seed(seed)\n",
    "torch.manual_seed(seed)\n",
    "if torch.cuda.is_available():\n",
    "    torch.cuda.manual_seed_all(seed)\n",
    "\n",
    "device = torch.device(\"cuda:8\" if torch.cuda.is_available() else \"cpu\")\n",
    "print(\"Device:\", device)\n",
    "\n",
    "# ==============================\n",
    "# 특수 토큰 정의\n",
    "# ==============================\n",
    "PAD = \"<PAD>\"\n",
    "SOS = \"<SOS>\"\n",
    "EOS = \"<EOS>\"\n",
    "\n",
    "# ==============================\n",
    "# 숫자 덧셈 Dataset 정의\n",
    "# ==============================\n",
    "class AddDataset(Dataset):\n",
    "    def __init__(self, n_samples=50000, n_digits=5, src_stoi=None, tgt_stoi=None):\n",
    "        self.samples = []\n",
    "        for _ in range(n_samples):\n",
    "            a = random.randint(10**(n_digits-1), 10**n_digits - 1)\n",
    "            b = random.randint(10**(n_digits-1), 10**n_digits - 1)\n",
    "            src = f\"{a}+{b}\"              # 입력: \"12345+67890\"\n",
    "            tgt = str(a+b)                # 출력: \"80235\"\n",
    "            self.samples.append((src, tgt))\n",
    "\n",
    "        # 공통 vocab 생성 (숫자 + 연산자)\n",
    "        tokens = list(\"0123456789+\")\n",
    "        special = [PAD, SOS, EOS]\n",
    "        vocab = special + tokens\n",
    "\n",
    "        # 입력 사전\n",
    "        if src_stoi is None:\n",
    "            self.src_stoi = {ch: i for i, ch in enumerate(vocab)}\n",
    "        else:\n",
    "            self.src_stoi = src_stoi\n",
    "        self.src_itos = {i: ch for ch, i in self.src_stoi.items()}\n",
    "\n",
    "        # 출력 사전 (입력과 동일)\n",
    "        if tgt_stoi is None:\n",
    "            self.tgt_stoi = self.src_stoi\n",
    "        else:\n",
    "            self.tgt_stoi = tgt_stoi\n",
    "        self.tgt_itos = {i: ch for ch, i in self.tgt_stoi.items()}\n",
    "\n",
    "    def __len__(self):\n",
    "        return len(self.samples)\n",
    "\n",
    "    def __getitem__(self, idx):\n",
    "        src, tgt = self.samples[idx]\n",
    "        src_ids = [self.src_stoi[SOS]] + [self.src_stoi[c] for c in src] + [self.src_stoi[EOS]]\n",
    "        tgt_ids = [self.tgt_stoi[SOS]] + [self.tgt_stoi[c] for c in tgt] + [self.tgt_stoi[EOS]]\n",
    "        return torch.tensor(src_ids), torch.tensor(tgt_ids), src, tgt\n",
    "\n",
    "# ==============================\n",
    "# collate_fn: 배치 패딩\n",
    "# ==============================\n",
    "def collate_fn(batch):\n",
    "    src_batch, tgt_batch, src_strs, tgt_strs = zip(*batch)\n",
    "    src_batch = pad_sequence(src_batch, batch_first=True, padding_value=train_dataset.src_stoi[PAD])\n",
    "    tgt_batch = pad_sequence(tgt_batch, batch_first=True, padding_value=train_dataset.tgt_stoi[PAD])\n",
    "    return src_batch, tgt_batch, src_strs, tgt_strs\n",
    "\n",
    "# ==============================\n",
    "# 데이터셋 생성\n",
    "# ==============================\n",
    "train_samples, test_samples = train_test_split(range(50000), test_size=0.2, random_state=seed)\n",
    "\n",
    "train_dataset = AddDataset(n_samples=len(train_samples), n_digits=5)\n",
    "test_dataset = AddDataset(n_samples=len(test_samples), n_digits=5,\n",
    "                          src_stoi=train_dataset.src_stoi,\n",
    "                          tgt_stoi=train_dataset.tgt_stoi)\n",
    "\n",
    "train_loader = DataLoader(train_dataset, batch_size=64, shuffle=True, collate_fn=collate_fn)\n",
    "test_loader = DataLoader(test_dataset, batch_size=64, shuffle=False, collate_fn=collate_fn)\n",
    "\n",
    "# ==============================\n",
    "# 데이터 예시 출력\n",
    "# ==============================\n",
    "for src_batch, tgt_batch, src_strs, tgt_strs in train_loader:\n",
    "    print(\"입력 배치 shape:\", src_batch.shape)\n",
    "    print(\"출력 배치 shape:\", tgt_batch.shape)\n",
    "    print(\"첫 번째 샘플 원문:\", src_strs[0], \"→\", tgt_strs[0])\n",
    "    print(\"첫 번째 입력 인덱스:\", src_batch[0][:20].tolist())\n",
    "    print(\"첫 번째 출력 인덱스:\", tgt_batch[0][:20].tolist())\n",
    "    break\n"
   ]
  },
  {
   "cell_type": "code",
   "execution_count": null,
   "metadata": {
    "tags": []
   },
   "outputs": [],
   "source": []
  },
  {
   "cell_type": "code",
   "execution_count": 2,
   "metadata": {
    "execution": {
     "iopub.execute_input": "2025-10-03T05:49:13.982141Z",
     "iopub.status.busy": "2025-10-03T05:49:13.981691Z",
     "iopub.status.idle": "2025-10-03T05:49:13.990195Z",
     "shell.execute_reply": "2025-10-03T05:49:13.989043Z",
     "shell.execute_reply.started": "2025-10-03T05:49:13.982120Z"
    },
    "tags": []
   },
   "outputs": [],
   "source": [
    "import torch.nn as nn\n",
    "\n",
    "class TransformerAdd(nn.Module):\n",
    "    def __init__(self, vocab_size, emb_dim=128, nhead=4, ffn_dim=256, nlayers=2, pad_idx=0, max_len=50):\n",
    "        super().__init__()\n",
    "        self.emb = nn.Embedding(vocab_size, emb_dim, padding_idx=pad_idx)\n",
    "        self.pos_emb = nn.Embedding(max_len, emb_dim)\n",
    "\n",
    "        self.transformer = nn.Transformer(\n",
    "            d_model=emb_dim,\n",
    "            nhead=nhead,\n",
    "            num_encoder_layers=nlayers,\n",
    "            num_decoder_layers=nlayers,\n",
    "            dim_feedforward=ffn_dim,\n",
    "            batch_first=True\n",
    "        )\n",
    "        self.fc_out = nn.Linear(emb_dim, vocab_size)\n",
    "        self.pad_idx = pad_idx\n",
    "\n",
    "    def forward(self, src, tgt):\n",
    "        B, S = src.size()\n",
    "        _, T = tgt.size()\n",
    "\n",
    "        pos_src = torch.arange(S, device=src.device).unsqueeze(0).expand(B, S)\n",
    "        pos_tgt = torch.arange(T, device=tgt.device).unsqueeze(0).expand(B, T)\n",
    "\n",
    "        src_emb = self.emb(src) + self.pos_emb(pos_src)\n",
    "        tgt_emb = self.emb(tgt) + self.pos_emb(pos_tgt)\n",
    "\n",
    "        # 마스크 생성 (디코더용 causal mask)\n",
    "        tgt_mask = nn.Transformer.generate_square_subsequent_mask(T).to(src.device)\n",
    "\n",
    "        out = self.transformer(src_emb, tgt_emb, tgt_mask=tgt_mask)\n",
    "        return self.fc_out(out)  # [B,T,V]\n"
   ]
  },
  {
   "cell_type": "code",
   "execution_count": 3,
   "metadata": {
    "execution": {
     "iopub.execute_input": "2025-10-03T05:49:13.992198Z",
     "iopub.status.busy": "2025-10-03T05:49:13.991660Z",
     "iopub.status.idle": "2025-10-03T05:52:47.155922Z",
     "shell.execute_reply": "2025-10-03T05:52:47.154966Z",
     "shell.execute_reply.started": "2025-10-03T05:49:13.992163Z"
    },
    "tags": []
   },
   "outputs": [
    {
     "name": "stdout",
     "output_type": "stream",
     "text": [
      "Epoch 001 | Train Loss 1.5657 | Train Acc 0.4015\n",
      "Epoch 002 | Train Loss 0.5393 | Train Acc 0.7996\n",
      "Epoch 003 | Train Loss 0.0738 | Train Acc 0.9767\n",
      "Epoch 004 | Train Loss 0.0422 | Train Acc 0.9872\n",
      "Epoch 005 | Train Loss 0.0347 | Train Acc 0.9901\n",
      "Epoch 006 | Train Loss 0.0175 | Train Acc 0.9949\n",
      "Epoch 007 | Train Loss 0.0153 | Train Acc 0.9956\n",
      "Epoch 008 | Train Loss 0.0231 | Train Acc 0.9937\n",
      "Epoch 009 | Train Loss 0.0210 | Train Acc 0.9943\n",
      "Epoch 010 | Train Loss 0.0109 | Train Acc 0.9969\n"
     ]
    },
    {
     "data": {
      "image/png": "[encoded data removed]",
      "text/plain": [
       "<Figure size 1200x500 with 2 Axes>"
      ]
     },
     "metadata": {},
     "output_type": "display_data"
    }
   ],
   "source": [
    "import torch.optim as optim\n",
    "import matplotlib.pyplot as plt\n",
    "\n",
    "PAD_IDX = train_dataset.src_stoi[PAD]\n",
    "vocab_size = len(train_dataset.src_stoi)\n",
    "\n",
    "model = TransformerAdd(vocab_size=vocab_size, pad_idx=PAD_IDX).to(device)\n",
    "criterion = nn.CrossEntropyLoss(ignore_index=PAD_IDX)\n",
    "optimizer = optim.Adam(model.parameters(), lr=1e-3)\n",
    "\n",
    "N_EPOCHS = 10\n",
    "\n",
    "# 기록용 리스트\n",
    "train_losses = []\n",
    "train_accs = []\n",
    "\n",
    "for epoch in range(1, N_EPOCHS+1):\n",
    "    model.train()\n",
    "    total_loss = 0\n",
    "    total_acc = 0\n",
    "\n",
    "    for src, tgt, _, _ in train_loader:\n",
    "        src, tgt = src.to(device), tgt.to(device)\n",
    "\n",
    "        optimizer.zero_grad()\n",
    "        # 입력은 [:-1], 타깃은 [1:] (teacher forcing)\n",
    "        output = model(src, tgt[:, :-1])             # [B, T-1, V]\n",
    "        loss = criterion(output.reshape(-1, vocab_size), tgt[:, 1:].reshape(-1))\n",
    "        loss.backward()\n",
    "        optimizer.step()\n",
    "\n",
    "        total_loss += loss.item()\n",
    "\n",
    "        # Accuracy 계산\n",
    "        with torch.no_grad():\n",
    "            pred_tokens = output.argmax(dim=-1)     # [B, T-1]\n",
    "            true_tokens = tgt[:, 1:]                # [B, T-1]\n",
    "            mask = (true_tokens != PAD_IDX)         # PAD 제외\n",
    "            correct = (pred_tokens == true_tokens) & mask\n",
    "            acc = correct.sum().float() / mask.sum().float()\n",
    "            total_acc += acc.item()\n",
    "\n",
    "    avg_loss = total_loss / len(train_loader)\n",
    "    avg_acc = total_acc / len(train_loader)\n",
    "\n",
    "    train_losses.append(avg_loss)\n",
    "    train_accs.append(avg_acc)\n",
    "\n",
    "    print(f\"Epoch {epoch:03d} | Train Loss {avg_loss:.4f} | Train Acc {avg_acc:.4f}\")\n",
    "\n",
    "# ==============================\n",
    "# 학습 곡선 그래프 출력\n",
    "# ==============================\n",
    "plt.figure(figsize=(12,5))\n",
    "\n",
    "plt.subplot(1,2,1)\n",
    "plt.plot(train_losses, label=\"Train Loss\")\n",
    "plt.xlabel(\"Epoch\")\n",
    "plt.ylabel(\"Loss\")\n",
    "plt.title(\"Training Loss\")\n",
    "plt.legend()\n",
    "\n",
    "plt.subplot(1,2,2)\n",
    "plt.plot(train_accs, label=\"Train Accuracy\")\n",
    "plt.xlabel(\"Epoch\")\n",
    "plt.ylabel(\"Accuracy\")\n",
    "plt.title(\"Training Accuracy\")\n",
    "plt.legend()\n",
    "\n",
    "plt.tight_layout()\n",
    "plt.show()\n"
   ]
  },
  {
   "cell_type": "code",
   "execution_count": 4,
   "metadata": {
    "execution": {
     "iopub.execute_input": "2025-10-03T05:52:47.157944Z",
     "iopub.status.busy": "2025-10-03T05:52:47.157080Z",
     "iopub.status.idle": "2025-10-03T05:52:47.164634Z",
     "shell.execute_reply": "2025-10-03T05:52:47.163654Z",
     "shell.execute_reply.started": "2025-10-03T05:52:47.157922Z"
    },
    "tags": []
   },
   "outputs": [],
   "source": [
    "@torch.no_grad()\n",
    "def greedy_decode(model, src_str, stoi, itos, device, max_len=10):\n",
    "    model.eval()\n",
    "    # 입력 인덱스 변환\n",
    "    src_ids = [stoi[SOS]] + [stoi[c] for c in src_str] + [stoi[EOS]]\n",
    "    src = torch.tensor(src_ids, device=device).unsqueeze(0)\n",
    "\n",
    "    # 초기 <SOS>\n",
    "    tgt = torch.tensor([[stoi[SOS]]], device=device)\n",
    "\n",
    "    for _ in range(max_len):\n",
    "        out = model(src, tgt)  # [1,T,V]\n",
    "        next_token = out[:,-1,:].argmax(-1, keepdim=True)\n",
    "        tgt = torch.cat([tgt, next_token], dim=1)\n",
    "\n",
    "        if next_token.item() == stoi[EOS]:\n",
    "            break\n",
    "\n",
    "    return \"\".join([itos[i.item()] for i in tgt[0][1:] if itos[i.item()] not in [PAD, SOS, EOS]])\n"
   ]
  },
  {
   "cell_type": "code",
   "execution_count": 5,
   "metadata": {
    "execution": {
     "iopub.execute_input": "2025-10-03T05:52:47.165768Z",
     "iopub.status.busy": "2025-10-03T05:52:47.165485Z",
     "iopub.status.idle": "2025-10-03T05:52:47.171363Z",
     "shell.execute_reply": "2025-10-03T05:52:47.170550Z",
     "shell.execute_reply.started": "2025-10-03T05:52:47.165749Z"
    },
    "tags": []
   },
   "outputs": [],
   "source": [
    "import random\n",
    "\n",
    "@torch.no_grad()\n",
    "def show_examples(model, dataset, stoi, itos, device=\"cpu\", n=10):\n",
    "    model.eval()\n",
    "    indices = random.sample(range(len(dataset)), n)\n",
    "    print(\"\\n=== Transformer 덧셈 예시 출력 ===\")\n",
    "    for idx in indices:\n",
    "        src_ids, tgt_ids, src_str, tgt_str = dataset[idx]\n",
    "        pred_str = greedy_decode(model, src_str, stoi, itos, device=device, max_len=8)\n",
    "\n",
    "        # 정답과 예측을 숫자로 변환해 오차 계산\n",
    "        try:\n",
    "            true_val = int(tgt_str)\n",
    "            pred_val = int(pred_str)\n",
    "            error = abs(true_val - pred_val)\n",
    "        except ValueError:\n",
    "            error = \"N/A\"  # 예측이 숫자로 안 나올 경우\n",
    "\n",
    "        print(f\"입력: {src_str:<15} | 정답: {tgt_str:<10} | 예측: {pred_str:<10} | 오차: {error}\")\n"
   ]
  },
  {
   "cell_type": "code",
   "execution_count": 6,
   "metadata": {
    "execution": {
     "iopub.execute_input": "2025-10-03T05:52:47.172418Z",
     "iopub.status.busy": "2025-10-03T05:52:47.172162Z",
     "iopub.status.idle": "2025-10-03T05:52:47.344454Z",
     "shell.execute_reply": "2025-10-03T05:52:47.343930Z",
     "shell.execute_reply.started": "2025-10-03T05:52:47.172400Z"
    },
    "tags": []
   },
   "outputs": [
    {
     "name": "stdout",
     "output_type": "stream",
     "text": [
      "\n",
      "=== Transformer 덧셈 예시 출력 ===\n",
      "입력: 47200+81294     | 정답: 128494     | 예측: 128494     | 오차: 0\n",
      "입력: 22851+71862     | 정답: 94713      | 예측: 94713      | 오차: 0\n",
      "입력: 53225+71449     | 정답: 124674     | 예측: 124674     | 오차: 0\n",
      "입력: 82946+12871     | 정답: 95817      | 예측: 95817      | 오차: 0\n",
      "입력: 85047+57833     | 정답: 142880     | 예측: 142880     | 오차: 0\n",
      "입력: 78038+49310     | 정답: 127348     | 예측: 127348     | 오차: 0\n",
      "입력: 42516+10838     | 정답: 53354      | 예측: 53354      | 오차: 0\n",
      "입력: 81290+95242     | 정답: 176532     | 예측: 176532     | 오차: 0\n",
      "입력: 96573+73747     | 정답: 170320     | 예측: 170320     | 오차: 0\n",
      "입력: 48078+33678     | 정답: 81756      | 예측: 81756      | 오차: 0\n"
     ]
    }
   ],
   "source": [
    "# ==============================\n",
    "# 학습 완료 후 예시 출력\n",
    "# ==============================\n",
    "show_examples(\n",
    "    model, \n",
    "    test_dataset, \n",
    "    train_dataset.src_stoi,  # stoi\n",
    "    train_dataset.src_itos,  # itos\n",
    "    device=device, \n",
    "    n=10\n",
    ")\n"
   ]
  },
  {
   "cell_type": "code",
   "execution_count": null,
   "metadata": {},
   "outputs": [],
   "source": []
  },
  {
   "cell_type": "code",
   "execution_count": null,
   "metadata": {},
   "outputs": [],
   "source": []
  }
 ],
 "metadata": {
  "accelerator": "GPU",
  "colab": {
   "gpuType": "T4",
   "provenance": []
  },
  "kernelspec": {
   "display_name": "Python 3 (ipykernel)",
   "language": "python",
   "name": "python3"
  },
  "language_info": {
   "codemirror_mode": {
    "name": "ipython",
    "version": 3
   },
   "file_extension": ".py",
   "mimetype": "text/x-python",
   "name": "python",
   "nbconvert_exporter": "python",
   "pygments_lexer": "ipython3",
   "version": "3.8.10"
  }
 },
 "nbformat": 4,
 "nbformat_minor": 4
}
