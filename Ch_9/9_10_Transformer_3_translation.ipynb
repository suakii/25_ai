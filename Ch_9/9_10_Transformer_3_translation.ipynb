{
 "cells": [
  {
   "cell_type": "code",
   "execution_count": 1,
   "metadata": {
    "execution": {
     "iopub.execute_input": "2025-10-08T11:40:38.304111Z",
     "iopub.status.busy": "2025-10-08T11:40:38.303368Z",
     "iopub.status.idle": "2025-10-08T11:40:40.252256Z",
     "shell.execute_reply": "2025-10-08T11:40:40.250544Z",
     "shell.execute_reply.started": "2025-10-08T11:40:38.304049Z"
    },
    "tags": []
   },
   "outputs": [
    {
     "name": "stdout",
     "output_type": "stream",
     "text": [
      "Defaulting to user installation because normal site-packages is not writeable\n",
      "Requirement already satisfied: spacy<3.7 in /src/suakii/.local/lib/python3.8/site-packages (3.6.1)\n",
      "Requirement already satisfied: datasets in /src/suakii/.local/lib/python3.8/site-packages (3.1.0)\n",
      "Requirement already satisfied: tqdm in /src/suakii/.local/lib/python3.8/site-packages (4.67.1)\n",
      "Requirement already satisfied: matplotlib in /usr/local/lib/python3.8/dist-packages (3.7.1)\n",
      "Requirement already satisfied: spacy-legacy<3.1.0,>=3.0.11 in /src/suakii/.local/lib/python3.8/site-packages (from spacy<3.7) (3.0.12)\n",
      "Requirement already satisfied: spacy-loggers<2.0.0,>=1.0.0 in /src/suakii/.local/lib/python3.8/site-packages (from spacy<3.7) (1.0.5)\n",
      "Requirement already satisfied: murmurhash<1.1.0,>=0.28.0 in /src/suakii/.local/lib/python3.8/site-packages (from spacy<3.7) (1.0.13)\n",
      "Requirement already satisfied: cymem<2.1.0,>=2.0.2 in /src/suakii/.local/lib/python3.8/site-packages (from spacy<3.7) (2.0.11)\n",
      "Requirement already satisfied: preshed<3.1.0,>=3.0.2 in /src/suakii/.local/lib/python3.8/site-packages (from spacy<3.7) (3.0.10)\n",
      "Requirement already satisfied: thinc<8.2.0,>=8.1.8 in /src/suakii/.local/lib/python3.8/site-packages (from spacy<3.7) (8.1.12)\n",
      "Requirement already satisfied: wasabi<1.2.0,>=0.9.1 in /src/suakii/.local/lib/python3.8/site-packages (from spacy<3.7) (1.1.3)\n",
      "Requirement already satisfied: srsly<3.0.0,>=2.4.3 in /src/suakii/.local/lib/python3.8/site-packages (from spacy<3.7) (2.4.8)\n",
      "Requirement already satisfied: catalogue<2.1.0,>=2.0.6 in /src/suakii/.local/lib/python3.8/site-packages (from spacy<3.7) (2.0.10)\n",
      "Requirement already satisfied: typer<0.10.0,>=0.3.0 in /src/suakii/.local/lib/python3.8/site-packages (from spacy<3.7) (0.9.4)\n",
      "Requirement already satisfied: pathy>=0.10.0 in /src/suakii/.local/lib/python3.8/site-packages (from spacy<3.7) (0.11.0)\n",
      "Requirement already satisfied: smart-open<7.0.0,>=5.2.1 in /src/suakii/.local/lib/python3.8/site-packages (from spacy<3.7) (6.4.0)\n",
      "Requirement already satisfied: numpy>=1.15.0 in /usr/local/lib/python3.8/dist-packages (from spacy<3.7) (1.23.5)\n",
      "Requirement already satisfied: requests<3.0.0,>=2.13.0 in /usr/local/lib/python3.8/dist-packages (from spacy<3.7) (2.32.4)\n",
      "Requirement already satisfied: pydantic!=1.8,!=1.8.1,<3.0.0,>=1.7.4 in /src/suakii/.local/lib/python3.8/site-packages (from spacy<3.7) (2.10.6)\n",
      "Requirement already satisfied: jinja2 in /usr/local/lib/python3.8/dist-packages (from spacy<3.7) (3.1.2)\n",
      "Requirement already satisfied: setuptools in /usr/lib/python3/dist-packages (from spacy<3.7) (45.2.0)\n",
      "Requirement already satisfied: packaging>=20.0 in /usr/local/lib/python3.8/dist-packages (from spacy<3.7) (21.3)\n",
      "Requirement already satisfied: langcodes<4.0.0,>=3.2.0 in /src/suakii/.local/lib/python3.8/site-packages (from spacy<3.7) (3.4.1)\n",
      "Requirement already satisfied: filelock in /usr/local/lib/python3.8/dist-packages (from datasets) (3.8.0)\n",
      "Requirement already satisfied: pyarrow>=15.0.0 in /usr/local/lib/python3.8/dist-packages (from datasets) (17.0.0)\n",
      "Requirement already satisfied: dill<0.3.9,>=0.3.0 in /src/suakii/.local/lib/python3.8/site-packages (from datasets) (0.3.8)\n",
      "Requirement already satisfied: pandas in /usr/local/lib/python3.8/dist-packages (from datasets) (2.0.1)\n",
      "Requirement already satisfied: xxhash in /src/suakii/.local/lib/python3.8/site-packages (from datasets) (3.6.0)\n",
      "Requirement already satisfied: multiprocess<0.70.17 in /src/suakii/.local/lib/python3.8/site-packages (from datasets) (0.70.16)\n",
      "Requirement already satisfied: fsspec<=2024.9.0,>=2023.1.0 in /usr/local/lib/python3.8/dist-packages (from fsspec[http]<=2024.9.0,>=2023.1.0->datasets) (2023.10.0)\n",
      "Requirement already satisfied: aiohttp in /usr/local/lib/python3.8/dist-packages (from datasets) (3.8.4)\n",
      "Requirement already satisfied: huggingface-hub>=0.23.0 in /src/suakii/.local/lib/python3.8/site-packages (from datasets) (0.29.3)\n",
      "Requirement already satisfied: pyyaml>=5.1 in /usr/local/lib/python3.8/dist-packages (from datasets) (6.0.2)\n",
      "Requirement already satisfied: contourpy>=1.0.1 in /usr/local/lib/python3.8/dist-packages (from matplotlib) (1.0.7)\n",
      "Requirement already satisfied: cycler>=0.10 in /usr/local/lib/python3.8/dist-packages (from matplotlib) (0.11.0)\n",
      "Requirement already satisfied: fonttools>=4.22.0 in /usr/local/lib/python3.8/dist-packages (from matplotlib) (4.39.3)\n",
      "Requirement already satisfied: kiwisolver>=1.0.1 in /usr/local/lib/python3.8/dist-packages (from matplotlib) (1.4.4)\n",
      "Requirement already satisfied: pillow>=6.2.0 in /usr/local/lib/python3.8/dist-packages (from matplotlib) (9.5.0)\n",
      "Requirement already satisfied: pyparsing>=2.3.1 in /usr/local/lib/python3.8/dist-packages (from matplotlib) (3.0.9)\n",
      "Requirement already satisfied: python-dateutil>=2.7 in /usr/local/lib/python3.8/dist-packages (from matplotlib) (2.8.2)\n",
      "Requirement already satisfied: importlib-resources>=3.2.0 in /usr/local/lib/python3.8/dist-packages (from matplotlib) (5.12.0)\n",
      "Requirement already satisfied: attrs>=17.3.0 in /src/suakii/.local/lib/python3.8/site-packages (from aiohttp->datasets) (25.3.0)\n",
      "Requirement already satisfied: charset-normalizer<4.0,>=2.0 in /usr/local/lib/python3.8/dist-packages (from aiohttp->datasets) (3.1.0)\n",
      "Requirement already satisfied: multidict<7.0,>=4.5 in /usr/local/lib/python3.8/dist-packages (from aiohttp->datasets) (6.0.4)\n",
      "Requirement already satisfied: async-timeout<5.0,>=4.0.0a3 in /usr/local/lib/python3.8/dist-packages (from aiohttp->datasets) (4.0.2)\n",
      "Requirement already satisfied: yarl<2.0,>=1.0 in /usr/local/lib/python3.8/dist-packages (from aiohttp->datasets) (1.9.2)\n",
      "Requirement already satisfied: frozenlist>=1.1.1 in /usr/local/lib/python3.8/dist-packages (from aiohttp->datasets) (1.3.3)\n",
      "Requirement already satisfied: aiosignal>=1.1.2 in /usr/local/lib/python3.8/dist-packages (from aiohttp->datasets) (1.3.1)\n",
      "Requirement already satisfied: typing-extensions>=3.7.4.3 in /src/suakii/.local/lib/python3.8/site-packages (from huggingface-hub>=0.23.0->datasets) (4.12.2)\n",
      "Requirement already satisfied: zipp>=3.1.0 in /usr/local/lib/python3.8/dist-packages (from importlib-resources>=3.2.0->matplotlib) (3.15.0)\n",
      "Requirement already satisfied: language-data>=1.2 in /src/suakii/.local/lib/python3.8/site-packages (from langcodes<4.0.0,>=3.2.0->spacy<3.7) (1.3.0)\n",
      "Requirement already satisfied: pathlib-abc==0.1.1 in /src/suakii/.local/lib/python3.8/site-packages (from pathy>=0.10.0->spacy<3.7) (0.1.1)\n",
      "Requirement already satisfied: annotated-types>=0.6.0 in /src/suakii/.local/lib/python3.8/site-packages (from pydantic!=1.8,!=1.8.1,<3.0.0,>=1.7.4->spacy<3.7) (0.7.0)\n",
      "Requirement already satisfied: pydantic-core==2.27.2 in /src/suakii/.local/lib/python3.8/site-packages (from pydantic!=1.8,!=1.8.1,<3.0.0,>=1.7.4->spacy<3.7) (2.27.2)\n",
      "Requirement already satisfied: six>=1.5 in /src/suakii/.local/lib/python3.8/site-packages (from python-dateutil>=2.7->matplotlib) (1.16.0)\n",
      "Requirement already satisfied: idna<4,>=2.5 in /usr/local/lib/python3.8/dist-packages (from requests<3.0.0,>=2.13.0->spacy<3.7) (3.4)\n",
      "Requirement already satisfied: urllib3<3,>=1.21.1 in /usr/local/lib/python3.8/dist-packages (from requests<3.0.0,>=2.13.0->spacy<3.7) (1.26.12)\n",
      "Requirement already satisfied: certifi>=2017.4.17 in /usr/local/lib/python3.8/dist-packages (from requests<3.0.0,>=2.13.0->spacy<3.7) (2022.12.7)\n",
      "Requirement already satisfied: blis<0.8.0,>=0.7.8 in /src/suakii/.local/lib/python3.8/site-packages (from thinc<8.2.0,>=8.1.8->spacy<3.7) (0.7.11)\n",
      "Requirement already satisfied: confection<1.0.0,>=0.0.1 in /src/suakii/.local/lib/python3.8/site-packages (from thinc<8.2.0,>=8.1.8->spacy<3.7) (0.1.5)\n",
      "Requirement already satisfied: click<9.0.0,>=7.1.1 in /src/suakii/.local/lib/python3.8/site-packages (from typer<0.10.0,>=0.3.0->spacy<3.7) (8.1.8)\n",
      "Requirement already satisfied: MarkupSafe>=2.0 in /usr/local/lib/python3.8/dist-packages (from jinja2->spacy<3.7) (2.1.1)\n",
      "Requirement already satisfied: pytz>=2020.1 in /usr/local/lib/python3.8/dist-packages (from pandas->datasets) (2023.3)\n",
      "Requirement already satisfied: tzdata>=2022.1 in /usr/local/lib/python3.8/dist-packages (from pandas->datasets) (2023.3)\n",
      "Requirement already satisfied: marisa-trie>=1.1.0 in /src/suakii/.local/lib/python3.8/site-packages (from language-data>=1.2->langcodes<4.0.0,>=3.2.0->spacy<3.7) (1.2.1)\n",
      "Note: you may need to restart the kernel to use updated packages.\n"
     ]
    }
   ],
   "source": [
    "pip install \"spacy<3.7\" datasets tqdm matplotlib "
   ]
  },
  {
   "cell_type": "code",
   "execution_count": 2,
   "metadata": {
    "execution": {
     "iopub.execute_input": "2025-10-08T11:40:42.754068Z",
     "iopub.status.busy": "2025-10-08T11:40:42.753344Z",
     "iopub.status.idle": "2025-10-08T11:40:50.814649Z",
     "shell.execute_reply": "2025-10-08T11:40:50.812931Z",
     "shell.execute_reply.started": "2025-10-08T11:40:42.754011Z"
    },
    "tags": []
   },
   "outputs": [
    {
     "name": "stdout",
     "output_type": "stream",
     "text": [
      "2025-10-08 20:40:44.592888: I tensorflow/core/platform/cpu_feature_guard.cc:193] This TensorFlow binary is optimized with oneAPI Deep Neural Network Library (oneDNN) to use the following CPU instructions in performance-critical operations:  AVX2 AVX512F AVX512_VNNI FMA\n",
      "To enable them in other operations, rebuild TensorFlow with the appropriate compiler flags.\n",
      "2025-10-08 20:40:44.740675: I tensorflow/core/util/util.cc:169] oneDNN custom operations are on. You may see slightly different numerical results due to floating-point round-off errors from different computation orders. To turn them off, set the environment variable `TF_ENABLE_ONEDNN_OPTS=0`.\n",
      "2025-10-08 20:40:44.778847: E tensorflow/stream_executor/cuda/cuda_blas.cc:2981] Unable to register cuBLAS factory: Attempting to register factory for plugin cuBLAS when one has already been registered\n",
      "2025-10-08 20:40:45.386099: W tensorflow/stream_executor/platform/default/dso_loader.cc:64] Could not load dynamic library 'libnvinfer.so.7'; dlerror: libnvinfer.so.7: cannot open shared object file: No such file or directory\n",
      "2025-10-08 20:40:45.386168: W tensorflow/stream_executor/platform/default/dso_loader.cc:64] Could not load dynamic library 'libnvinfer_plugin.so.7'; dlerror: libnvinfer_plugin.so.7: cannot open shared object file: No such file or directory\n",
      "2025-10-08 20:40:45.386177: W tensorflow/compiler/tf2tensorrt/utils/py_utils.cc:38] TF-TRT Warning: Cannot dlopen some TensorRT libraries. If you would like to use Nvidia GPU with TensorRT, please make sure the missing libraries mentioned above are installed properly.\n",
      "Defaulting to user installation because normal site-packages is not writeable\n",
      "Collecting en-core-web-sm==3.6.0\n",
      "  Downloading https://github.com/explosion/spacy-models/releases/download/en_core_web_sm-3.6.0/en_core_web_sm-3.6.0-py3-none-any.whl (12.8 MB)\n",
      "\u001b[2K     \u001b[90m━━━━━━━━━━━━━━━━━━━━━━━━━━━━━━━━━━━━━━━━\u001b[0m \u001b[32m12.8/12.8 MB\u001b[0m \u001b[31m42.0 MB/s\u001b[0m eta \u001b[36m0:00:00\u001b[0m \u001b[36m0:00:01\u001b[0m\n",
      "\u001b[?25hRequirement already satisfied: spacy<3.7.0,>=3.6.0 in /src/suakii/.local/lib/python3.8/site-packages (from en-core-web-sm==3.6.0) (3.6.1)\n",
      "Requirement already satisfied: spacy-legacy<3.1.0,>=3.0.11 in /src/suakii/.local/lib/python3.8/site-packages (from spacy<3.7.0,>=3.6.0->en-core-web-sm==3.6.0) (3.0.12)\n",
      "Requirement already satisfied: spacy-loggers<2.0.0,>=1.0.0 in /src/suakii/.local/lib/python3.8/site-packages (from spacy<3.7.0,>=3.6.0->en-core-web-sm==3.6.0) (1.0.5)\n",
      "Requirement already satisfied: murmurhash<1.1.0,>=0.28.0 in /src/suakii/.local/lib/python3.8/site-packages (from spacy<3.7.0,>=3.6.0->en-core-web-sm==3.6.0) (1.0.13)\n",
      "Requirement already satisfied: cymem<2.1.0,>=2.0.2 in /src/suakii/.local/lib/python3.8/site-packages (from spacy<3.7.0,>=3.6.0->en-core-web-sm==3.6.0) (2.0.11)\n",
      "Requirement already satisfied: preshed<3.1.0,>=3.0.2 in /src/suakii/.local/lib/python3.8/site-packages (from spacy<3.7.0,>=3.6.0->en-core-web-sm==3.6.0) (3.0.10)\n",
      "Requirement already satisfied: thinc<8.2.0,>=8.1.8 in /src/suakii/.local/lib/python3.8/site-packages (from spacy<3.7.0,>=3.6.0->en-core-web-sm==3.6.0) (8.1.12)\n",
      "Requirement already satisfied: wasabi<1.2.0,>=0.9.1 in /src/suakii/.local/lib/python3.8/site-packages (from spacy<3.7.0,>=3.6.0->en-core-web-sm==3.6.0) (1.1.3)\n",
      "Requirement already satisfied: srsly<3.0.0,>=2.4.3 in /src/suakii/.local/lib/python3.8/site-packages (from spacy<3.7.0,>=3.6.0->en-core-web-sm==3.6.0) (2.4.8)\n",
      "Requirement already satisfied: catalogue<2.1.0,>=2.0.6 in /src/suakii/.local/lib/python3.8/site-packages (from spacy<3.7.0,>=3.6.0->en-core-web-sm==3.6.0) (2.0.10)\n",
      "Requirement already satisfied: typer<0.10.0,>=0.3.0 in /src/suakii/.local/lib/python3.8/site-packages (from spacy<3.7.0,>=3.6.0->en-core-web-sm==3.6.0) (0.9.4)\n",
      "Requirement already satisfied: pathy>=0.10.0 in /src/suakii/.local/lib/python3.8/site-packages (from spacy<3.7.0,>=3.6.0->en-core-web-sm==3.6.0) (0.11.0)\n",
      "Requirement already satisfied: smart-open<7.0.0,>=5.2.1 in /src/suakii/.local/lib/python3.8/site-packages (from spacy<3.7.0,>=3.6.0->en-core-web-sm==3.6.0) (6.4.0)\n",
      "Requirement already satisfied: tqdm<5.0.0,>=4.38.0 in /src/suakii/.local/lib/python3.8/site-packages (from spacy<3.7.0,>=3.6.0->en-core-web-sm==3.6.0) (4.67.1)\n",
      "Requirement already satisfied: numpy>=1.15.0 in /usr/local/lib/python3.8/dist-packages (from spacy<3.7.0,>=3.6.0->en-core-web-sm==3.6.0) (1.23.5)\n",
      "Requirement already satisfied: requests<3.0.0,>=2.13.0 in /usr/local/lib/python3.8/dist-packages (from spacy<3.7.0,>=3.6.0->en-core-web-sm==3.6.0) (2.32.4)\n",
      "Requirement already satisfied: pydantic!=1.8,!=1.8.1,<3.0.0,>=1.7.4 in /src/suakii/.local/lib/python3.8/site-packages (from spacy<3.7.0,>=3.6.0->en-core-web-sm==3.6.0) (2.10.6)\n",
      "Requirement already satisfied: jinja2 in /usr/local/lib/python3.8/dist-packages (from spacy<3.7.0,>=3.6.0->en-core-web-sm==3.6.0) (3.1.2)\n",
      "Requirement already satisfied: setuptools in /usr/lib/python3/dist-packages (from spacy<3.7.0,>=3.6.0->en-core-web-sm==3.6.0) (45.2.0)\n",
      "Requirement already satisfied: packaging>=20.0 in /usr/local/lib/python3.8/dist-packages (from spacy<3.7.0,>=3.6.0->en-core-web-sm==3.6.0) (21.3)\n",
      "Requirement already satisfied: langcodes<4.0.0,>=3.2.0 in /src/suakii/.local/lib/python3.8/site-packages (from spacy<3.7.0,>=3.6.0->en-core-web-sm==3.6.0) (3.4.1)\n",
      "Requirement already satisfied: language-data>=1.2 in /src/suakii/.local/lib/python3.8/site-packages (from langcodes<4.0.0,>=3.2.0->spacy<3.7.0,>=3.6.0->en-core-web-sm==3.6.0) (1.3.0)\n",
      "Requirement already satisfied: pyparsing!=3.0.5,>=2.0.2 in /usr/local/lib/python3.8/dist-packages (from packaging>=20.0->spacy<3.7.0,>=3.6.0->en-core-web-sm==3.6.0) (3.0.9)\n",
      "Requirement already satisfied: pathlib-abc==0.1.1 in /src/suakii/.local/lib/python3.8/site-packages (from pathy>=0.10.0->spacy<3.7.0,>=3.6.0->en-core-web-sm==3.6.0) (0.1.1)\n",
      "Requirement already satisfied: annotated-types>=0.6.0 in /src/suakii/.local/lib/python3.8/site-packages (from pydantic!=1.8,!=1.8.1,<3.0.0,>=1.7.4->spacy<3.7.0,>=3.6.0->en-core-web-sm==3.6.0) (0.7.0)\n",
      "Requirement already satisfied: pydantic-core==2.27.2 in /src/suakii/.local/lib/python3.8/site-packages (from pydantic!=1.8,!=1.8.1,<3.0.0,>=1.7.4->spacy<3.7.0,>=3.6.0->en-core-web-sm==3.6.0) (2.27.2)\n",
      "Requirement already satisfied: typing-extensions>=4.12.2 in /src/suakii/.local/lib/python3.8/site-packages (from pydantic!=1.8,!=1.8.1,<3.0.0,>=1.7.4->spacy<3.7.0,>=3.6.0->en-core-web-sm==3.6.0) (4.12.2)\n",
      "Requirement already satisfied: charset_normalizer<4,>=2 in /usr/local/lib/python3.8/dist-packages (from requests<3.0.0,>=2.13.0->spacy<3.7.0,>=3.6.0->en-core-web-sm==3.6.0) (3.1.0)\n",
      "Requirement already satisfied: idna<4,>=2.5 in /usr/local/lib/python3.8/dist-packages (from requests<3.0.0,>=2.13.0->spacy<3.7.0,>=3.6.0->en-core-web-sm==3.6.0) (3.4)\n",
      "Requirement already satisfied: urllib3<3,>=1.21.1 in /usr/local/lib/python3.8/dist-packages (from requests<3.0.0,>=2.13.0->spacy<3.7.0,>=3.6.0->en-core-web-sm==3.6.0) (1.26.12)\n",
      "Requirement already satisfied: certifi>=2017.4.17 in /usr/local/lib/python3.8/dist-packages (from requests<3.0.0,>=2.13.0->spacy<3.7.0,>=3.6.0->en-core-web-sm==3.6.0) (2022.12.7)\n",
      "Requirement already satisfied: blis<0.8.0,>=0.7.8 in /src/suakii/.local/lib/python3.8/site-packages (from thinc<8.2.0,>=8.1.8->spacy<3.7.0,>=3.6.0->en-core-web-sm==3.6.0) (0.7.11)\n",
      "Requirement already satisfied: confection<1.0.0,>=0.0.1 in /src/suakii/.local/lib/python3.8/site-packages (from thinc<8.2.0,>=8.1.8->spacy<3.7.0,>=3.6.0->en-core-web-sm==3.6.0) (0.1.5)\n",
      "Requirement already satisfied: click<9.0.0,>=7.1.1 in /src/suakii/.local/lib/python3.8/site-packages (from typer<0.10.0,>=0.3.0->spacy<3.7.0,>=3.6.0->en-core-web-sm==3.6.0) (8.1.8)\n",
      "Requirement already satisfied: MarkupSafe>=2.0 in /usr/local/lib/python3.8/dist-packages (from jinja2->spacy<3.7.0,>=3.6.0->en-core-web-sm==3.6.0) (2.1.1)\n",
      "Requirement already satisfied: marisa-trie>=1.1.0 in /src/suakii/.local/lib/python3.8/site-packages (from language-data>=1.2->langcodes<4.0.0,>=3.2.0->spacy<3.7.0,>=3.6.0->en-core-web-sm==3.6.0) (1.2.1)\n",
      "\u001b[38;5;2m✔ Download and installation successful\u001b[0m\n",
      "You can now load the package via spacy.load('en_core_web_sm')\n"
     ]
    }
   ],
   "source": [
    "!python3 -m spacy download en_core_web_sm\n"
   ]
  },
  {
   "cell_type": "code",
   "execution_count": 3,
   "metadata": {
    "execution": {
     "iopub.execute_input": "2025-10-08T11:40:50.829499Z",
     "iopub.status.busy": "2025-10-08T11:40:50.828921Z",
     "iopub.status.idle": "2025-10-08T11:40:58.468189Z",
     "shell.execute_reply": "2025-10-08T11:40:58.466528Z",
     "shell.execute_reply.started": "2025-10-08T11:40:50.829452Z"
    },
    "tags": []
   },
   "outputs": [
    {
     "name": "stdout",
     "output_type": "stream",
     "text": [
      "2025-10-08 20:40:52.658638: I tensorflow/core/platform/cpu_feature_guard.cc:193] This TensorFlow binary is optimized with oneAPI Deep Neural Network Library (oneDNN) to use the following CPU instructions in performance-critical operations:  AVX2 AVX512F AVX512_VNNI FMA\n",
      "To enable them in other operations, rebuild TensorFlow with the appropriate compiler flags.\n",
      "2025-10-08 20:40:52.803869: I tensorflow/core/util/util.cc:169] oneDNN custom operations are on. You may see slightly different numerical results due to floating-point round-off errors from different computation orders. To turn them off, set the environment variable `TF_ENABLE_ONEDNN_OPTS=0`.\n",
      "2025-10-08 20:40:52.842218: E tensorflow/stream_executor/cuda/cuda_blas.cc:2981] Unable to register cuBLAS factory: Attempting to register factory for plugin cuBLAS when one has already been registered\n",
      "2025-10-08 20:40:53.451464: W tensorflow/stream_executor/platform/default/dso_loader.cc:64] Could not load dynamic library 'libnvinfer.so.7'; dlerror: libnvinfer.so.7: cannot open shared object file: No such file or directory\n",
      "2025-10-08 20:40:53.451532: W tensorflow/stream_executor/platform/default/dso_loader.cc:64] Could not load dynamic library 'libnvinfer_plugin.so.7'; dlerror: libnvinfer_plugin.so.7: cannot open shared object file: No such file or directory\n",
      "2025-10-08 20:40:53.451542: W tensorflow/compiler/tf2tensorrt/utils/py_utils.cc:38] TF-TRT Warning: Cannot dlopen some TensorRT libraries. If you would like to use Nvidia GPU with TensorRT, please make sure the missing libraries mentioned above are installed properly.\n",
      "Defaulting to user installation because normal site-packages is not writeable\n",
      "Collecting de-core-news-sm==3.6.0\n",
      "  Downloading https://github.com/explosion/spacy-models/releases/download/de_core_news_sm-3.6.0/de_core_news_sm-3.6.0-py3-none-any.whl (14.6 MB)\n",
      "\u001b[2K     \u001b[90m━━━━━━━━━━━━━━━━━━━━━━━━━━━━━━━━━━━━━━━━\u001b[0m \u001b[32m14.6/14.6 MB\u001b[0m \u001b[31m94.0 MB/s\u001b[0m eta \u001b[36m0:00:00\u001b[0m\n",
      "\u001b[?25hRequirement already satisfied: spacy<3.7.0,>=3.6.0 in /src/suakii/.local/lib/python3.8/site-packages (from de-core-news-sm==3.6.0) (3.6.1)\n",
      "Requirement already satisfied: spacy-legacy<3.1.0,>=3.0.11 in /src/suakii/.local/lib/python3.8/site-packages (from spacy<3.7.0,>=3.6.0->de-core-news-sm==3.6.0) (3.0.12)\n",
      "Requirement already satisfied: spacy-loggers<2.0.0,>=1.0.0 in /src/suakii/.local/lib/python3.8/site-packages (from spacy<3.7.0,>=3.6.0->de-core-news-sm==3.6.0) (1.0.5)\n",
      "Requirement already satisfied: murmurhash<1.1.0,>=0.28.0 in /src/suakii/.local/lib/python3.8/site-packages (from spacy<3.7.0,>=3.6.0->de-core-news-sm==3.6.0) (1.0.13)\n",
      "Requirement already satisfied: cymem<2.1.0,>=2.0.2 in /src/suakii/.local/lib/python3.8/site-packages (from spacy<3.7.0,>=3.6.0->de-core-news-sm==3.6.0) (2.0.11)\n",
      "Requirement already satisfied: preshed<3.1.0,>=3.0.2 in /src/suakii/.local/lib/python3.8/site-packages (from spacy<3.7.0,>=3.6.0->de-core-news-sm==3.6.0) (3.0.10)\n",
      "Requirement already satisfied: thinc<8.2.0,>=8.1.8 in /src/suakii/.local/lib/python3.8/site-packages (from spacy<3.7.0,>=3.6.0->de-core-news-sm==3.6.0) (8.1.12)\n",
      "Requirement already satisfied: wasabi<1.2.0,>=0.9.1 in /src/suakii/.local/lib/python3.8/site-packages (from spacy<3.7.0,>=3.6.0->de-core-news-sm==3.6.0) (1.1.3)\n",
      "Requirement already satisfied: srsly<3.0.0,>=2.4.3 in /src/suakii/.local/lib/python3.8/site-packages (from spacy<3.7.0,>=3.6.0->de-core-news-sm==3.6.0) (2.4.8)\n",
      "Requirement already satisfied: catalogue<2.1.0,>=2.0.6 in /src/suakii/.local/lib/python3.8/site-packages (from spacy<3.7.0,>=3.6.0->de-core-news-sm==3.6.0) (2.0.10)\n",
      "Requirement already satisfied: typer<0.10.0,>=0.3.0 in /src/suakii/.local/lib/python3.8/site-packages (from spacy<3.7.0,>=3.6.0->de-core-news-sm==3.6.0) (0.9.4)\n",
      "Requirement already satisfied: pathy>=0.10.0 in /src/suakii/.local/lib/python3.8/site-packages (from spacy<3.7.0,>=3.6.0->de-core-news-sm==3.6.0) (0.11.0)\n",
      "Requirement already satisfied: smart-open<7.0.0,>=5.2.1 in /src/suakii/.local/lib/python3.8/site-packages (from spacy<3.7.0,>=3.6.0->de-core-news-sm==3.6.0) (6.4.0)\n",
      "Requirement already satisfied: tqdm<5.0.0,>=4.38.0 in /src/suakii/.local/lib/python3.8/site-packages (from spacy<3.7.0,>=3.6.0->de-core-news-sm==3.6.0) (4.67.1)\n",
      "Requirement already satisfied: numpy>=1.15.0 in /usr/local/lib/python3.8/dist-packages (from spacy<3.7.0,>=3.6.0->de-core-news-sm==3.6.0) (1.23.5)\n",
      "Requirement already satisfied: requests<3.0.0,>=2.13.0 in /usr/local/lib/python3.8/dist-packages (from spacy<3.7.0,>=3.6.0->de-core-news-sm==3.6.0) (2.32.4)\n",
      "Requirement already satisfied: pydantic!=1.8,!=1.8.1,<3.0.0,>=1.7.4 in /src/suakii/.local/lib/python3.8/site-packages (from spacy<3.7.0,>=3.6.0->de-core-news-sm==3.6.0) (2.10.6)\n",
      "Requirement already satisfied: jinja2 in /usr/local/lib/python3.8/dist-packages (from spacy<3.7.0,>=3.6.0->de-core-news-sm==3.6.0) (3.1.2)\n",
      "Requirement already satisfied: setuptools in /usr/lib/python3/dist-packages (from spacy<3.7.0,>=3.6.0->de-core-news-sm==3.6.0) (45.2.0)\n",
      "Requirement already satisfied: packaging>=20.0 in /usr/local/lib/python3.8/dist-packages (from spacy<3.7.0,>=3.6.0->de-core-news-sm==3.6.0) (21.3)\n",
      "Requirement already satisfied: langcodes<4.0.0,>=3.2.0 in /src/suakii/.local/lib/python3.8/site-packages (from spacy<3.7.0,>=3.6.0->de-core-news-sm==3.6.0) (3.4.1)\n",
      "Requirement already satisfied: language-data>=1.2 in /src/suakii/.local/lib/python3.8/site-packages (from langcodes<4.0.0,>=3.2.0->spacy<3.7.0,>=3.6.0->de-core-news-sm==3.6.0) (1.3.0)\n",
      "Requirement already satisfied: pyparsing!=3.0.5,>=2.0.2 in /usr/local/lib/python3.8/dist-packages (from packaging>=20.0->spacy<3.7.0,>=3.6.0->de-core-news-sm==3.6.0) (3.0.9)\n",
      "Requirement already satisfied: pathlib-abc==0.1.1 in /src/suakii/.local/lib/python3.8/site-packages (from pathy>=0.10.0->spacy<3.7.0,>=3.6.0->de-core-news-sm==3.6.0) (0.1.1)\n",
      "Requirement already satisfied: annotated-types>=0.6.0 in /src/suakii/.local/lib/python3.8/site-packages (from pydantic!=1.8,!=1.8.1,<3.0.0,>=1.7.4->spacy<3.7.0,>=3.6.0->de-core-news-sm==3.6.0) (0.7.0)\n",
      "Requirement already satisfied: pydantic-core==2.27.2 in /src/suakii/.local/lib/python3.8/site-packages (from pydantic!=1.8,!=1.8.1,<3.0.0,>=1.7.4->spacy<3.7.0,>=3.6.0->de-core-news-sm==3.6.0) (2.27.2)\n",
      "Requirement already satisfied: typing-extensions>=4.12.2 in /src/suakii/.local/lib/python3.8/site-packages (from pydantic!=1.8,!=1.8.1,<3.0.0,>=1.7.4->spacy<3.7.0,>=3.6.0->de-core-news-sm==3.6.0) (4.12.2)\n",
      "Requirement already satisfied: charset_normalizer<4,>=2 in /usr/local/lib/python3.8/dist-packages (from requests<3.0.0,>=2.13.0->spacy<3.7.0,>=3.6.0->de-core-news-sm==3.6.0) (3.1.0)\n",
      "Requirement already satisfied: idna<4,>=2.5 in /usr/local/lib/python3.8/dist-packages (from requests<3.0.0,>=2.13.0->spacy<3.7.0,>=3.6.0->de-core-news-sm==3.6.0) (3.4)\n",
      "Requirement already satisfied: urllib3<3,>=1.21.1 in /usr/local/lib/python3.8/dist-packages (from requests<3.0.0,>=2.13.0->spacy<3.7.0,>=3.6.0->de-core-news-sm==3.6.0) (1.26.12)\n",
      "Requirement already satisfied: certifi>=2017.4.17 in /usr/local/lib/python3.8/dist-packages (from requests<3.0.0,>=2.13.0->spacy<3.7.0,>=3.6.0->de-core-news-sm==3.6.0) (2022.12.7)\n",
      "Requirement already satisfied: blis<0.8.0,>=0.7.8 in /src/suakii/.local/lib/python3.8/site-packages (from thinc<8.2.0,>=8.1.8->spacy<3.7.0,>=3.6.0->de-core-news-sm==3.6.0) (0.7.11)\n",
      "Requirement already satisfied: confection<1.0.0,>=0.0.1 in /src/suakii/.local/lib/python3.8/site-packages (from thinc<8.2.0,>=8.1.8->spacy<3.7.0,>=3.6.0->de-core-news-sm==3.6.0) (0.1.5)\n",
      "Requirement already satisfied: click<9.0.0,>=7.1.1 in /src/suakii/.local/lib/python3.8/site-packages (from typer<0.10.0,>=0.3.0->spacy<3.7.0,>=3.6.0->de-core-news-sm==3.6.0) (8.1.8)\n",
      "Requirement already satisfied: MarkupSafe>=2.0 in /usr/local/lib/python3.8/dist-packages (from jinja2->spacy<3.7.0,>=3.6.0->de-core-news-sm==3.6.0) (2.1.1)\n",
      "Requirement already satisfied: marisa-trie>=1.1.0 in /src/suakii/.local/lib/python3.8/site-packages (from language-data>=1.2->langcodes<4.0.0,>=3.2.0->spacy<3.7.0,>=3.6.0->de-core-news-sm==3.6.0) (1.2.1)\n",
      "\u001b[38;5;2m✔ Download and installation successful\u001b[0m\n",
      "You can now load the package via spacy.load('de_core_news_sm')\n"
     ]
    }
   ],
   "source": [
    "!python3 -m spacy download de_core_news_sm\n"
   ]
  },
  {
   "cell_type": "code",
   "execution_count": 4,
   "metadata": {
    "execution": {
     "iopub.execute_input": "2025-10-08T11:41:00.350049Z",
     "iopub.status.busy": "2025-10-08T11:41:00.349249Z",
     "iopub.status.idle": "2025-10-08T11:41:05.876526Z",
     "shell.execute_reply": "2025-10-08T11:41:05.875885Z",
     "shell.execute_reply.started": "2025-10-08T11:41:00.349988Z"
    },
    "tags": []
   },
   "outputs": [
    {
     "name": "stderr",
     "output_type": "stream",
     "text": [
      "2025-10-08 20:41:02.231092: I tensorflow/core/platform/cpu_feature_guard.cc:193] This TensorFlow binary is optimized with oneAPI Deep Neural Network Library (oneDNN) to use the following CPU instructions in performance-critical operations:  AVX2 AVX512F AVX512_VNNI FMA\n",
      "To enable them in other operations, rebuild TensorFlow with the appropriate compiler flags.\n",
      "2025-10-08 20:41:02.399050: I tensorflow/core/util/util.cc:169] oneDNN custom operations are on. You may see slightly different numerical results due to floating-point round-off errors from different computation orders. To turn them off, set the environment variable `TF_ENABLE_ONEDNN_OPTS=0`.\n",
      "2025-10-08 20:41:02.437911: E tensorflow/stream_executor/cuda/cuda_blas.cc:2981] Unable to register cuBLAS factory: Attempting to register factory for plugin cuBLAS when one has already been registered\n",
      "2025-10-08 20:41:03.019008: W tensorflow/stream_executor/platform/default/dso_loader.cc:64] Could not load dynamic library 'libnvinfer.so.7'; dlerror: libnvinfer.so.7: cannot open shared object file: No such file or directory\n",
      "2025-10-08 20:41:03.019068: W tensorflow/stream_executor/platform/default/dso_loader.cc:64] Could not load dynamic library 'libnvinfer_plugin.so.7'; dlerror: libnvinfer_plugin.so.7: cannot open shared object file: No such file or directory\n",
      "2025-10-08 20:41:03.019075: W tensorflow/compiler/tf2tensorrt/utils/py_utils.cc:38] TF-TRT Warning: Cannot dlopen some TensorRT libraries. If you would like to use Nvidia GPU with TensorRT, please make sure the missing libraries mentioned above are installed properly.\n"
     ]
    },
    {
     "name": "stdout",
     "output_type": "stream",
     "text": [
      "['A', 'man', 'in', 'a', 'blue', 'shirt', 'is', 'standing', 'on', 'a', 'ladder', 'cleaning', 'a', 'window', '.']\n",
      "['Ein', 'Mann', 'in', 'einem', 'blauen', 'Hemd', 'steht', 'auf', 'einer', 'Leiter', 'und', 'putzt', 'ein', 'Fenster', '.']\n"
     ]
    }
   ],
   "source": [
    "import spacy\n",
    "\n",
    "# 영어 테스트\n",
    "nlp_en = spacy.load(\"en_core_web_sm\")\n",
    "doc_en = nlp_en(\"A man in a blue shirt is standing on a ladder cleaning a window.\")\n",
    "print([tok.text for tok in doc_en])\n",
    "\n",
    "# 독일어 테스트\n",
    "nlp_de = spacy.load(\"de_core_news_sm\")\n",
    "doc_de = nlp_de(\"Ein Mann in einem blauen Hemd steht auf einer Leiter und putzt ein Fenster.\")\n",
    "print([tok.text for tok in doc_de])\n"
   ]
  },
  {
   "cell_type": "code",
   "execution_count": 5,
   "metadata": {
    "execution": {
     "iopub.execute_input": "2025-10-08T11:41:11.371007Z",
     "iopub.status.busy": "2025-10-08T11:41:11.370083Z",
     "iopub.status.idle": "2025-10-08T11:41:12.168092Z",
     "shell.execute_reply": "2025-10-08T11:41:12.167475Z",
     "shell.execute_reply.started": "2025-10-08T11:41:11.370943Z"
    },
    "tags": []
   },
   "outputs": [
    {
     "name": "stdout",
     "output_type": "stream",
     "text": [
      "Using device: cuda:9\n"
     ]
    }
   ],
   "source": [
    "# ============================================\n",
    "# 1. 라이브러리 임포트 및 설정\n",
    "# ============================================\n",
    "import torch\n",
    "import torch.nn as nn\n",
    "import torch.optim as optim\n",
    "from torch.nn.utils.rnn import pad_sequence\n",
    "from torch.utils.data import DataLoader, Dataset\n",
    "\n",
    "# torchtext 대신 Hugging Face datasets 사용\n",
    "from datasets import load_dataset\n",
    "\n",
    "# NLP 관련\n",
    "import spacy\n",
    "import numpy as np\n",
    "import math, time, random\n",
    "from tqdm import tqdm\n",
    "\n",
    "# 시각화\n",
    "import matplotlib.pyplot as plt\n",
    "\n",
    "# --------------------------------------------\n",
    "# 디바이스 설정\n",
    "# --------------------------------------------\n",
    "device = torch.device(\"cuda:9\" if torch.cuda.is_available() else \"cpu\")\n",
    "print(\"Using device:\", device)\n",
    "\n",
    "# --------------------------------------------\n",
    "# 시드 고정 (재현성 확보)\n",
    "# --------------------------------------------\n",
    "torch.manual_seed(42)\n",
    "random.seed(42)\n",
    "np.random.seed(42)\n"
   ]
  },
  {
   "cell_type": "code",
   "execution_count": 6,
   "metadata": {
    "execution": {
     "iopub.execute_input": "2025-10-08T11:41:23.036700Z",
     "iopub.status.busy": "2025-10-08T11:41:23.035832Z",
     "iopub.status.idle": "2025-10-08T11:41:32.457740Z",
     "shell.execute_reply": "2025-10-08T11:41:32.457148Z",
     "shell.execute_reply.started": "2025-10-08T11:41:23.036636Z"
    },
    "tags": []
   },
   "outputs": [
    {
     "name": "stdout",
     "output_type": "stream",
     "text": [
      "DatasetDict({\n",
      "    train: Dataset({\n",
      "        features: ['en', 'de'],\n",
      "        num_rows: 29000\n",
      "    })\n",
      "    validation: Dataset({\n",
      "        features: ['en', 'de'],\n",
      "        num_rows: 1014\n",
      "    })\n",
      "    test: Dataset({\n",
      "        features: ['en', 'de'],\n",
      "        num_rows: 1000\n",
      "    })\n",
      "})\n",
      "\n",
      "훈련 데이터 개수: 29000\n",
      "검증 데이터 개수: 1014\n",
      "테스트 데이터 개수: 1000\n",
      "\n",
      "예시 문장:\n",
      "독일어 (de): Zwei junge weiße Männer sind im Freien in der Nähe vieler Büsche.\n",
      "영어 (en): Two young, White males are outside near many bushes.\n"
     ]
    }
   ],
   "source": [
    "# ============================================\n",
    "# 2. Multi30k 데이터셋 로딩\n",
    "# ============================================\n",
    "\n",
    "from datasets import load_dataset\n",
    "\n",
    "SRC_LANGUAGE = \"de\"\n",
    "TGT_LANGUAGE = \"en\"\n",
    "\n",
    "# 데이터셋 불러오기\n",
    "dataset = load_dataset(\"bentrevett/multi30k\")\n",
    "\n",
    "print(dataset)\n",
    "print(f\"\\n훈련 데이터 개수: {len(dataset['train'])}\")\n",
    "print(f\"검증 데이터 개수: {len(dataset['validation'])}\")\n",
    "print(f\"테스트 데이터 개수: {len(dataset['test'])}\")\n",
    "\n",
    "# 샘플 확인\n",
    "print(\"\\n예시 문장:\")\n",
    "sample = dataset[\"train\"][0]\n",
    "print(f\"독일어 (de): {sample['de']}\")\n",
    "print(f\"영어 (en): {sample['en']}\")\n"
   ]
  },
  {
   "cell_type": "code",
   "execution_count": 7,
   "metadata": {
    "execution": {
     "iopub.execute_input": "2025-10-08T11:41:52.561246Z",
     "iopub.status.busy": "2025-10-08T11:41:52.560406Z",
     "iopub.status.idle": "2025-10-08T11:41:58.157510Z",
     "shell.execute_reply": "2025-10-08T11:41:58.156748Z",
     "shell.execute_reply.started": "2025-10-08T11:41:52.561186Z"
    },
    "tags": []
   },
   "outputs": [
    {
     "name": "stdout",
     "output_type": "stream",
     "text": [
      "독일어 vocab 크기: 7853\n",
      "영어 vocab 크기: 5893\n",
      "PAD_IDX=1, BOS_IDX=2, EOS_IDX=3, UNK_IDX=0\n"
     ]
    }
   ],
   "source": [
    "# ============================================\n",
    "# 3. spaCy 기반 토크나이저 및 어휘 사전 구축\n",
    "# ============================================\n",
    "\n",
    "import spacy\n",
    "from collections import Counter\n",
    "\n",
    "# spaCy 모델 불러오기 (설치되어 있어야 함)\n",
    "spacy_de = spacy.load(\"de_core_news_sm\")\n",
    "spacy_en = spacy.load(\"en_core_web_sm\")\n",
    "\n",
    "# --------------------------------------------\n",
    "# 1) 토크나이저 함수 정의\n",
    "# --------------------------------------------\n",
    "def tokenize_de(text):\n",
    "    \"\"\"독일어 문장을 단어 리스트로 변환\"\"\"\n",
    "    return [tok.text.lower() for tok in spacy_de.tokenizer(text)]\n",
    "\n",
    "def tokenize_en(text):\n",
    "    \"\"\"영어 문장을 단어 리스트로 변환\"\"\"\n",
    "    return [tok.text.lower() for tok in spacy_en.tokenizer(text)]\n",
    "\n",
    "# --------------------------------------------\n",
    "# 2) 어휘 사전(Vocabulary) 구축\n",
    "# --------------------------------------------\n",
    "def build_vocab(texts, tokenizer, min_freq=2):\n",
    "    \"\"\"주어진 텍스트 리스트로부터 단어 사전 생성\"\"\"\n",
    "    counter = Counter()\n",
    "    for text in texts:\n",
    "        counter.update(tokenizer(text))\n",
    "\n",
    "    vocab = {\"<unk>\": 0, \"<pad>\": 1, \"<bos>\": 2, \"<eos>\": 3}\n",
    "    for word, freq in counter.items():\n",
    "        if freq >= min_freq and word not in vocab:\n",
    "            vocab[word] = len(vocab)\n",
    "    return vocab\n",
    "\n",
    "# --------------------------------------------\n",
    "# 3) 실제 어휘 사전 생성\n",
    "# --------------------------------------------\n",
    "src_texts = [d[\"de\"] for d in dataset[\"train\"]]\n",
    "tgt_texts = [d[\"en\"] for d in dataset[\"train\"]]\n",
    "\n",
    "src_vocab = build_vocab(src_texts, tokenize_de)\n",
    "tgt_vocab = build_vocab(tgt_texts, tokenize_en)\n",
    "\n",
    "print(f\"독일어 vocab 크기: {len(src_vocab)}\")\n",
    "print(f\"영어 vocab 크기: {len(tgt_vocab)}\")\n",
    "\n",
    "# --------------------------------------------\n",
    "# 4) 특수 토큰 인덱스 저장\n",
    "# --------------------------------------------\n",
    "PAD_IDX = src_vocab[\"<pad>\"]\n",
    "BOS_IDX = src_vocab[\"<bos>\"]\n",
    "EOS_IDX = src_vocab[\"<eos>\"]\n",
    "UNK_IDX = src_vocab[\"<unk>\"]\n",
    "\n",
    "print(f\"PAD_IDX={PAD_IDX}, BOS_IDX={BOS_IDX}, EOS_IDX={EOS_IDX}, UNK_IDX={UNK_IDX}\")\n"
   ]
  },
  {
   "cell_type": "code",
   "execution_count": 8,
   "metadata": {
    "execution": {
     "iopub.execute_input": "2025-10-08T11:42:01.367181Z",
     "iopub.status.busy": "2025-10-08T11:42:01.366297Z",
     "iopub.status.idle": "2025-10-08T11:42:01.433549Z",
     "shell.execute_reply": "2025-10-08T11:42:01.432667Z",
     "shell.execute_reply.started": "2025-10-08T11:42:01.367110Z"
    },
    "tags": []
   },
   "outputs": [
    {
     "name": "stdout",
     "output_type": "stream",
     "text": [
      "입력(src) 배치 크기: torch.Size([33, 64])\n",
      "출력(tgt) 배치 크기: torch.Size([28, 64])\n"
     ]
    }
   ],
   "source": [
    "# ============================================\n",
    "# 4. DataLoader 구성 및 Collate 함수 정의\n",
    "# ============================================\n",
    "\n",
    "from torch.nn.utils.rnn import pad_sequence\n",
    "from torch.utils.data import DataLoader\n",
    "\n",
    "# --------------------------------------------\n",
    "# 1) 문장을 인덱스 시퀀스로 변환하는 함수\n",
    "# --------------------------------------------\n",
    "def encode_sentence(text, vocab, tokenizer):\n",
    "    \"\"\"문장을 토큰화하고 각 토큰을 인덱스로 변환\"\"\"\n",
    "    tokens = tokenizer(text)\n",
    "    ids = [vocab.get(tok, vocab[\"<unk>\"]) for tok in tokens]\n",
    "    # 문장 시작(<bos>)과 끝(<eos>) 추가\n",
    "    return torch.tensor([vocab[\"<bos>\"]] + ids + [vocab[\"<eos>\"]], dtype=torch.long)\n",
    "\n",
    "# --------------------------------------------\n",
    "# 2) Collate 함수 (배치 단위 데이터 구성)\n",
    "# --------------------------------------------\n",
    "def collate_fn(batch):\n",
    "    \"\"\"batch: [{'de': ..., 'en': ...}, {...}, ...] 형태\"\"\"\n",
    "    src_batch, tgt_batch = [], []\n",
    "\n",
    "    for item in batch:\n",
    "        src_tensor = encode_sentence(item[\"de\"], src_vocab, tokenize_de)\n",
    "        tgt_tensor = encode_sentence(item[\"en\"], tgt_vocab, tokenize_en)\n",
    "        src_batch.append(src_tensor)\n",
    "        tgt_batch.append(tgt_tensor)\n",
    "\n",
    "    # 문장 길이 맞춰 패딩\n",
    "    src_batch = pad_sequence(src_batch, padding_value=PAD_IDX)\n",
    "    tgt_batch = pad_sequence(tgt_batch, padding_value=PAD_IDX)\n",
    "    return src_batch, tgt_batch\n",
    "\n",
    "# --------------------------------------------\n",
    "# 3) DataLoader 구성\n",
    "# --------------------------------------------\n",
    "BATCH_SIZE = 64\n",
    "\n",
    "train_dataloader = DataLoader(dataset[\"train\"], batch_size=BATCH_SIZE, shuffle=True, collate_fn=collate_fn)\n",
    "val_dataloader   = DataLoader(dataset[\"validation\"], batch_size=BATCH_SIZE, collate_fn=collate_fn)\n",
    "test_dataloader  = DataLoader(dataset[\"test\"], batch_size=BATCH_SIZE, collate_fn=collate_fn)\n",
    "\n",
    "# --------------------------------------------\n",
    "# 4) 예시 배치 확인\n",
    "# --------------------------------------------\n",
    "src_batch, tgt_batch = next(iter(train_dataloader))\n",
    "print(\"입력(src) 배치 크기:\", src_batch.shape)\n",
    "print(\"출력(tgt) 배치 크기:\", tgt_batch.shape)\n"
   ]
  },
  {
   "cell_type": "code",
   "execution_count": 9,
   "metadata": {
    "execution": {
     "iopub.execute_input": "2025-10-08T11:42:05.428713Z",
     "iopub.status.busy": "2025-10-08T11:42:05.427835Z",
     "iopub.status.idle": "2025-10-08T11:42:05.444081Z",
     "shell.execute_reply": "2025-10-08T11:42:05.442726Z",
     "shell.execute_reply.started": "2025-10-08T11:42:05.428651Z"
    },
    "tags": []
   },
   "outputs": [],
   "source": [
    "# ============================================\n",
    "# 5. Positional Encoding 정의\n",
    "# ============================================\n",
    "\n",
    "import math\n",
    "\n",
    "class PositionalEncoding(nn.Module):\n",
    "    def __init__(self, d_model, dropout=0.1, max_len=5000):\n",
    "        super().__init__()\n",
    "        self.dropout = nn.Dropout(p=dropout)\n",
    "\n",
    "        # [max_len, d_model] 크기의 위치 인코딩 행렬 생성\n",
    "        pe = torch.zeros(max_len, d_model)\n",
    "        position = torch.arange(0, max_len, dtype=torch.float).unsqueeze(1)\n",
    "        div_term = torch.exp(\n",
    "            torch.arange(0, d_model, 2).float() * (-math.log(10000.0) / d_model)\n",
    "        )\n",
    "\n",
    "        # 짝수 인덱스 → sin, 홀수 인덱스 → cos\n",
    "        pe[:, 0::2] = torch.sin(position * div_term)\n",
    "        pe[:, 1::2] = torch.cos(position * div_term)\n",
    "\n",
    "        pe = pe.unsqueeze(0)  # [1, max_len, d_model]\n",
    "        self.register_buffer(\"pe\", pe)\n",
    "\n",
    "    def forward(self, x):\n",
    "        # 입력 x: [batch, seq_len, d_model]\n",
    "        x = x + self.pe[:, :x.size(1)]\n",
    "        return self.dropout(x)\n"
   ]
  },
  {
   "cell_type": "code",
   "execution_count": 10,
   "metadata": {
    "execution": {
     "iopub.execute_input": "2025-10-08T11:42:08.356176Z",
     "iopub.status.busy": "2025-10-08T11:42:08.354954Z",
     "iopub.status.idle": "2025-10-08T11:42:08.373052Z",
     "shell.execute_reply": "2025-10-08T11:42:08.371595Z",
     "shell.execute_reply.started": "2025-10-08T11:42:08.356111Z"
    },
    "tags": []
   },
   "outputs": [],
   "source": [
    "# ============================================\n",
    "# 6. Transformer 번역 모델 정의\n",
    "# ============================================\n",
    "\n",
    "class TransformerTranslationModel(nn.Module):\n",
    "    def __init__(self, src_vocab_size, tgt_vocab_size, emb_size=512, nhead=8, num_layers=6, ff_dim=2048, dropout=0.1):\n",
    "        super().__init__()\n",
    "\n",
    "        # --------------------------------------------\n",
    "        # 1) 임베딩 (Embedding)\n",
    "        # --------------------------------------------\n",
    "        self.src_emb = nn.Embedding(src_vocab_size, emb_size)\n",
    "        self.tgt_emb = nn.Embedding(tgt_vocab_size, emb_size)\n",
    "        self.pos_encoder = PositionalEncoding(emb_size, dropout=dropout)\n",
    "\n",
    "        # --------------------------------------------\n",
    "        # 2) Transformer 본체\n",
    "        # --------------------------------------------\n",
    "        self.transformer = nn.Transformer(\n",
    "            d_model=emb_size,\n",
    "            nhead=nhead,\n",
    "            num_encoder_layers=num_layers,\n",
    "            num_decoder_layers=num_layers,\n",
    "            dim_feedforward=ff_dim,\n",
    "            dropout=dropout,\n",
    "            batch_first=True  # [B, L, D] (배치, 시퀀스 길이, 임베딩 차원)\n",
    "        )\n",
    "\n",
    "        # --------------------------------------------\n",
    "        # 3) 출력층\n",
    "        # --------------------------------------------\n",
    "        self.generator = nn.Linear(emb_size, tgt_vocab_size)\n",
    "\n",
    "    # --------------------------------------------\n",
    "    # forward 함수\n",
    "    # --------------------------------------------\n",
    "    def forward(self, src, tgt, tgt_mask=None, src_padding_mask=None, tgt_padding_mask=None):\n",
    "        # --------------------------------------------\n",
    "        # 임베딩 + 위치 인코딩\n",
    "        # --------------------------------------------\n",
    "        src_emb = self.pos_encoder(self.src_emb(src))\n",
    "        tgt_emb = self.pos_encoder(self.tgt_emb(tgt))\n",
    "\n",
    "        # --------------------------------------------\n",
    "        # Transformer 인코더-디코더 통과\n",
    "        # --------------------------------------------\n",
    "        output = self.transformer(\n",
    "            src_emb,\n",
    "            tgt_emb,\n",
    "            tgt_mask=tgt_mask,                       # 미래 단어 차단 (디코더용)\n",
    "            src_key_padding_mask=src_padding_mask,   # 인코더 패딩 무시\n",
    "            tgt_key_padding_mask=tgt_padding_mask,   # 디코더 패딩 무시\n",
    "            memory_key_padding_mask=src_padding_mask # 인코더-디코더 어텐션에서 패딩 무시\n",
    "        )\n",
    "\n",
    "        # --------------------------------------------\n",
    "        # 출력층 (단어별 확률)\n",
    "        # --------------------------------------------\n",
    "        return self.generator(output)\n"
   ]
  },
  {
   "cell_type": "code",
   "execution_count": 11,
   "metadata": {
    "execution": {
     "iopub.execute_input": "2025-10-08T11:42:11.174457Z",
     "iopub.status.busy": "2025-10-08T11:42:11.173597Z",
     "iopub.status.idle": "2025-10-08T11:42:11.186738Z",
     "shell.execute_reply": "2025-10-08T11:42:11.185429Z",
     "shell.execute_reply.started": "2025-10-08T11:42:11.174396Z"
    },
    "tags": []
   },
   "outputs": [],
   "source": [
    "# ============================================\n",
    "# 7. 마스크 생성 함수 정의\n",
    "# ============================================\n",
    "\n",
    "def generate_square_subsequent_mask(sz: int):\n",
    "    \"\"\"\n",
    "    디코더용 causal mask (미래 단어 차단)\n",
    "    shape: [T, T], True = 차단\n",
    "    \"\"\"\n",
    "    mask = torch.triu(torch.ones(sz, sz, dtype=torch.bool), diagonal=1)\n",
    "    return mask\n",
    "\n",
    "def create_mask(src: torch.Tensor, tgt_in: torch.Tensor, src_pad_idx: int, tgt_pad_idx: int):\n",
    "    \"\"\"\n",
    "    src: [B, S]\n",
    "    tgt_in: [B, T]  (디코더 입력, 보통 <bos>로 시작하고 마지막 <eos>는 제외)\n",
    "    반환:\n",
    "      - tgt_mask: [T, T]\n",
    "      - src_key_padding_mask: [B, S]  (True가 PAD)\n",
    "      - tgt_key_padding_mask: [B, T]  (True가 PAD)\n",
    "    \"\"\"\n",
    "    B, T = tgt_in.size()\n",
    "    tgt_mask = generate_square_subsequent_mask(T).to(tgt_in.device)\n",
    "\n",
    "    src_key_padding_mask = (src == src_pad_idx)  # [B, S]\n",
    "    tgt_key_padding_mask = (tgt_in == tgt_pad_idx)  # [B, T]\n",
    "    return tgt_mask, src_key_padding_mask, tgt_key_padding_mask\n"
   ]
  },
  {
   "cell_type": "code",
   "execution_count": 13,
   "metadata": {
    "execution": {
     "iopub.execute_input": "2025-10-08T11:44:22.407929Z",
     "iopub.status.busy": "2025-10-08T11:44:22.406990Z",
     "iopub.status.idle": "2025-10-08T11:44:22.942715Z",
     "shell.execute_reply": "2025-10-08T11:44:22.942030Z",
     "shell.execute_reply.started": "2025-10-08T11:44:22.407864Z"
    },
    "tags": []
   },
   "outputs": [
    {
     "name": "stdout",
     "output_type": "stream",
     "text": [
      "모델 준비 완료\n"
     ]
    }
   ],
   "source": [
    "# ============================================\n",
    "# 8. Transformer 모델 초기화\n",
    "# ============================================\n",
    "\n",
    "# 소스/타깃 vocab 크기\n",
    "SRC_VOCAB_SIZE = len(src_vocab)\n",
    "TGT_VOCAB_SIZE = len(tgt_vocab)\n",
    "\n",
    "# 패딩/시작/끝 토큰 인덱스 분리 (소스/타깃 각각)\n",
    "SRC_PAD_IDX = src_vocab[\"<pad>\"]; SRC_BOS_IDX = src_vocab[\"<bos>\"]; SRC_EOS_IDX = src_vocab[\"<eos>\"]\n",
    "TGT_PAD_IDX = tgt_vocab[\"<pad>\"]; TGT_BOS_IDX = tgt_vocab[\"<bos>\"]; TGT_EOS_IDX = tgt_vocab[\"<eos>\"]\n",
    "\n",
    "# 단어 역변환 사전\n",
    "tgt_vocab_inv = {v: k for k, v in tgt_vocab.items()}\n",
    "\n",
    "\n",
    "# 모델 생성\n",
    "model = TransformerTranslationModel(\n",
    "    src_vocab_size=SRC_VOCAB_SIZE,\n",
    "    tgt_vocab_size=TGT_VOCAB_SIZE,\n",
    "    emb_size=512,      \n",
    "    nhead=8,\n",
    "    num_layers=6,      \n",
    "    ff_dim=2048,\n",
    "    dropout=0.1\n",
    ").to(device)\n",
    "\n",
    "print(\"모델 준비 완료\")\n"
   ]
  },
  {
   "cell_type": "code",
   "execution_count": 15,
   "metadata": {
    "execution": {
     "iopub.execute_input": "2025-10-08T11:50:59.021796Z",
     "iopub.status.busy": "2025-10-08T11:50:59.020872Z",
     "iopub.status.idle": "2025-10-08T11:56:21.466874Z",
     "shell.execute_reply": "2025-10-08T11:56:21.465505Z",
     "shell.execute_reply.started": "2025-10-08T11:50:59.021732Z"
    },
    "tags": []
   },
   "outputs": [
    {
     "name": "stderr",
     "output_type": "stream",
     "text": [
      "[Train] Epoch 1: 100%|██████████| 454/454 [00:31<00:00, 14.27it/s]\n"
     ]
    },
    {
     "name": "stdout",
     "output_type": "stream",
     "text": [
      "\n",
      "[테스트 번역 예시]  'ein mann isst .' → 'a man is eating food .'\n",
      "\n",
      "Epoch [1/10] | Train Loss: 1.4954 | Val Loss: 1.7173 | Val BLEU: 19.65\n"
     ]
    },
    {
     "name": "stderr",
     "output_type": "stream",
     "text": [
      "[Train] Epoch 2: 100%|██████████| 454/454 [00:30<00:00, 14.80it/s]\n"
     ]
    },
    {
     "name": "stdout",
     "output_type": "stream",
     "text": [
      "\n",
      "[테스트 번역 예시]  'ein mann isst .' → 'a man is eating ice cream .'\n",
      "\n",
      "Epoch [2/10] | Train Loss: 1.3857 | Val Loss: 1.6861 | Val BLEU: 19.04\n"
     ]
    },
    {
     "name": "stderr",
     "output_type": "stream",
     "text": [
      "[Train] Epoch 3: 100%|██████████| 454/454 [00:30<00:00, 14.67it/s]\n"
     ]
    },
    {
     "name": "stdout",
     "output_type": "stream",
     "text": [
      "\n",
      "[테스트 번역 예시]  'ein mann isst .' → 'a man is eating ice cream .'\n",
      "\n",
      "Epoch [3/10] | Train Loss: 1.2934 | Val Loss: 1.6643 | Val BLEU: 24.37\n"
     ]
    },
    {
     "name": "stderr",
     "output_type": "stream",
     "text": [
      "[Train] Epoch 4: 100%|██████████| 454/454 [00:31<00:00, 14.63it/s]\n"
     ]
    },
    {
     "name": "stdout",
     "output_type": "stream",
     "text": [
      "\n",
      "[테스트 번역 예시]  'ein mann isst .' → 'a man is eating ice cream .'\n",
      "\n",
      "Epoch [4/10] | Train Loss: 1.2040 | Val Loss: 1.6627 | Val BLEU: 19.46\n"
     ]
    },
    {
     "name": "stderr",
     "output_type": "stream",
     "text": [
      "[Train] Epoch 5: 100%|██████████| 454/454 [00:31<00:00, 14.37it/s]\n"
     ]
    },
    {
     "name": "stdout",
     "output_type": "stream",
     "text": [
      "\n",
      "[테스트 번역 예시]  'ein mann isst .' → 'a man is eating a eats .'\n",
      "\n",
      "Epoch [5/10] | Train Loss: 1.1211 | Val Loss: 1.6408 | Val BLEU: 24.58\n"
     ]
    },
    {
     "name": "stderr",
     "output_type": "stream",
     "text": [
      "[Train] Epoch 6: 100%|██████████| 454/454 [00:31<00:00, 14.23it/s]\n"
     ]
    },
    {
     "name": "stdout",
     "output_type": "stream",
     "text": [
      "\n",
      "[테스트 번역 예시]  'ein mann isst .' → 'a man is eating a meal .'\n",
      "\n",
      "Epoch [6/10] | Train Loss: 1.0451 | Val Loss: 1.6330 | Val BLEU: 22.05\n"
     ]
    },
    {
     "name": "stderr",
     "output_type": "stream",
     "text": [
      "[Train] Epoch 7: 100%|██████████| 454/454 [00:31<00:00, 14.37it/s]\n"
     ]
    },
    {
     "name": "stdout",
     "output_type": "stream",
     "text": [
      "\n",
      "[테스트 번역 예시]  'ein mann isst .' → 'a man is eating .'\n",
      "\n",
      "Epoch [7/10] | Train Loss: 0.9721 | Val Loss: 1.6499 | Val BLEU: 18.69\n"
     ]
    },
    {
     "name": "stderr",
     "output_type": "stream",
     "text": [
      "[Train] Epoch 8: 100%|██████████| 454/454 [00:30<00:00, 14.83it/s]\n"
     ]
    },
    {
     "name": "stdout",
     "output_type": "stream",
     "text": [
      "\n",
      "[테스트 번역 예시]  'ein mann isst .' → 'a man eats food .'\n",
      "\n",
      "Epoch [8/10] | Train Loss: 0.9047 | Val Loss: 1.6563 | Val BLEU: 25.04\n"
     ]
    },
    {
     "name": "stderr",
     "output_type": "stream",
     "text": [
      "[Train] Epoch 9: 100%|██████████| 454/454 [00:31<00:00, 14.55it/s]\n"
     ]
    },
    {
     "name": "stdout",
     "output_type": "stream",
     "text": [
      "\n",
      "[테스트 번역 예시]  'ein mann isst .' → 'a man is eating a meal .'\n",
      "\n",
      "Epoch [9/10] | Train Loss: 0.8378 | Val Loss: 1.6719 | Val BLEU: 20.32\n"
     ]
    },
    {
     "name": "stderr",
     "output_type": "stream",
     "text": [
      "[Train] Epoch 10: 100%|██████████| 454/454 [00:32<00:00, 13.90it/s]\n"
     ]
    },
    {
     "name": "stdout",
     "output_type": "stream",
     "text": [
      "\n",
      "[테스트 번역 예시]  'ein mann isst .' → 'a man is eating his food .'\n",
      "\n",
      "Epoch [10/10] | Train Loss: 0.7779 | Val Loss: 1.6718 | Val BLEU: 19.65\n"
     ]
    }
   ],
   "source": [
    "# ============================================\n",
    "# 9. 손실 함수 + 옵티마이저 + BLEU 평가 포함 학습 루프 (테스트 문장 포함)\n",
    "# ============================================\n",
    "\n",
    "import nltk\n",
    "from nltk.translate.bleu_score import corpus_bleu, SmoothingFunction\n",
    "nltk.download('punkt', quiet=True)\n",
    "\n",
    "loss_fn = nn.CrossEntropyLoss(ignore_index=TGT_PAD_IDX)\n",
    "optimizer = torch.optim.Adam(model.parameters(), lr=1e-4)\n",
    "\n",
    "NUM_EPOCHS = 10\n",
    "train_losses, val_losses = [], []\n",
    "val_bleus = []\n",
    "\n",
    "# -------------------------------\n",
    "# (1) BLEU 계산 함수\n",
    "# -------------------------------\n",
    "def compute_bleu_score(model, dataloader):\n",
    "    model.eval()\n",
    "    preds, refs = [], []\n",
    "    smoothie = SmoothingFunction().method4\n",
    "\n",
    "    with torch.no_grad():\n",
    "        for src_batch, tgt_batch in dataloader:\n",
    "            src = src_batch.transpose(0, 1).to(device)\n",
    "            tgt = tgt_batch.transpose(0, 1).to(device)\n",
    "\n",
    "            tgt_input = tgt[:, :-1]\n",
    "            tgt_output = tgt[:, 1:]\n",
    "\n",
    "            tgt_mask, src_kpm, tgt_kpm = create_mask(src, tgt_input, SRC_PAD_IDX, TGT_PAD_IDX)\n",
    "            logits = model(\n",
    "                src, tgt_input,\n",
    "                tgt_mask=tgt_mask,\n",
    "                src_padding_mask=src_kpm,\n",
    "                tgt_padding_mask=tgt_kpm,\n",
    "            )\n",
    "\n",
    "            pred_ids = logits.argmax(-1).cpu().numpy()\n",
    "            tgt_ids = tgt_output.cpu().numpy()\n",
    "\n",
    "            for pred, ref in zip(pred_ids, tgt_ids):\n",
    "                pred_tokens = [tgt_vocab_inv[i] for i in pred if i not in [TGT_PAD_IDX, TGT_BOS_IDX, TGT_EOS_IDX]]\n",
    "                ref_tokens  = [tgt_vocab_inv[i] for i in ref if i not in [TGT_PAD_IDX, TGT_BOS_IDX, TGT_EOS_IDX]]\n",
    "                preds.append(pred_tokens)\n",
    "                refs.append([ref_tokens])\n",
    "    return corpus_bleu(refs, preds, smoothing_function=smoothie)\n",
    "\n",
    "\n",
    "# -------------------------------\n",
    "# (2) 단일 문장 번역 함수\n",
    "# -------------------------------\n",
    "@torch.no_grad()\n",
    "def translate_sentence(model, sentence_de, max_len=20):\n",
    "    model.eval()\n",
    "\n",
    "    # 독일어 문장 토큰화 및 인덱스 변환\n",
    "    src_tokens = [SRC_BOS_IDX] + [src_vocab.get(tok, src_vocab[\"<unk>\"]) for tok in tokenize_de(sentence_de)] + [SRC_EOS_IDX]\n",
    "    src_tensor = torch.tensor(src_tokens, dtype=torch.long).unsqueeze(0).to(device)\n",
    "\n",
    "    # 초기 디코더 입력 (<bos>)\n",
    "    tgt_tokens = [TGT_BOS_IDX]\n",
    "    tgt_tensor = torch.tensor(tgt_tokens, dtype=torch.long).unsqueeze(0).to(device)\n",
    "\n",
    "    for _ in range(max_len):\n",
    "        tgt_mask, src_kpm, tgt_kpm = create_mask(src_tensor, tgt_tensor, SRC_PAD_IDX, TGT_PAD_IDX)\n",
    "        output = model(src_tensor, tgt_tensor, tgt_mask=tgt_mask, src_padding_mask=src_kpm, tgt_padding_mask=tgt_kpm)\n",
    "        next_token = output[:, -1, :].argmax(-1).item()\n",
    "        tgt_tokens.append(next_token)\n",
    "        tgt_tensor = torch.tensor(tgt_tokens, dtype=torch.long).unsqueeze(0).to(device)\n",
    "\n",
    "        if next_token == TGT_EOS_IDX:\n",
    "            break\n",
    "\n",
    "    # 인덱스를 단어로 변환\n",
    "    translated = [tgt_vocab_inv[idx] for idx in tgt_tokens[1:-1]]  # <bos>, <eos> 제외\n",
    "    return \" \".join(translated)\n",
    "\n",
    "\n",
    "# -------------------------------\n",
    "# (3) 학습 루프\n",
    "# -------------------------------\n",
    "for epoch in range(1, NUM_EPOCHS + 1):\n",
    "    model.train()\n",
    "    total_loss = 0.0\n",
    "\n",
    "    for src_batch, tgt_batch in tqdm(train_dataloader, desc=f\"[Train] Epoch {epoch}\"):\n",
    "        src = src_batch.transpose(0, 1).to(device)\n",
    "        tgt = tgt_batch.transpose(0, 1).to(device)\n",
    "\n",
    "        tgt_input  = tgt[:, :-1]\n",
    "        tgt_output = tgt[:, 1:]\n",
    "\n",
    "        tgt_mask, src_kpm, tgt_kpm = create_mask(src, tgt_input, SRC_PAD_IDX, TGT_PAD_IDX)\n",
    "\n",
    "        logits = model(src, tgt_input,\n",
    "                       tgt_mask=tgt_mask,\n",
    "                       src_padding_mask=src_kpm,\n",
    "                       tgt_padding_mask=tgt_kpm)\n",
    "\n",
    "        optimizer.zero_grad()\n",
    "        loss = loss_fn(logits.reshape(-1, logits.size(-1)), tgt_output.reshape(-1))\n",
    "        loss.backward()\n",
    "        optimizer.step()\n",
    "        total_loss += loss.item()\n",
    "\n",
    "    avg_train_loss = total_loss / len(train_dataloader)\n",
    "    train_losses.append(avg_train_loss)\n",
    "\n",
    "    # -------------------------------\n",
    "    # Validation\n",
    "    # -------------------------------\n",
    "    model.eval()\n",
    "    val_loss = 0.0\n",
    "    with torch.no_grad():\n",
    "        for src_batch, tgt_batch in val_dataloader:\n",
    "            src = src_batch.transpose(0, 1).to(device)\n",
    "            tgt = tgt_batch.transpose(0, 1).to(device)\n",
    "\n",
    "            tgt_input  = tgt[:, :-1]\n",
    "            tgt_output = tgt[:, 1:]\n",
    "\n",
    "            tgt_mask, src_kpm, tgt_kpm = create_mask(src, tgt_input, SRC_PAD_IDX, TGT_PAD_IDX)\n",
    "            logits = model(\n",
    "                src, tgt_input,\n",
    "                tgt_mask=tgt_mask,\n",
    "                src_padding_mask=src_kpm,\n",
    "                tgt_padding_mask=tgt_kpm,\n",
    "            )\n",
    "\n",
    "            val_loss += loss_fn(logits.reshape(-1, logits.size(-1)), tgt_output.reshape(-1)).item()\n",
    "\n",
    "    avg_val_loss = val_loss / len(val_dataloader)\n",
    "    val_losses.append(avg_val_loss)\n",
    "\n",
    "    # BLEU 계산\n",
    "    val_bleu = compute_bleu_score(model, val_dataloader)\n",
    "    val_bleus.append(val_bleu)\n",
    "\n",
    "    # -------------------------------\n",
    "    # 샘플 문장 번역 출력\n",
    "    # -------------------------------\n",
    "    test_sentence = \"ein mann isst .\"  # 테스트용 문장\n",
    "    translation = translate_sentence(model, test_sentence)\n",
    "    print(f\"\\n[테스트 번역 예시]  '{test_sentence}' → '{translation}'\\n\")\n",
    "\n",
    "    print(f\"Epoch [{epoch}/{NUM_EPOCHS}] | \"\n",
    "          f\"Train Loss: {avg_train_loss:.4f} | Val Loss: {avg_val_loss:.4f} | \"\n",
    "          f\"Val BLEU: {val_bleu*100:.2f}\")\n",
    "\n",
    "    \n",
    "# ============================================\n",
    "# 10. 학습 결과 시각화 (Loss & BLEU 곡선)\n",
    "# ============================================\n",
    "\n",
    "import matplotlib.pyplot as plt\n",
    "\n",
    "# -------------------------------\n",
    "# 1) Loss 변화 시각화\n",
    "# -------------------------------\n",
    "plt.figure(figsize=(7, 4))\n",
    "plt.plot(train_losses, label=\"Train Loss\", linestyle=\"--\", color=\"royalblue\")\n",
    "plt.plot(val_losses, label=\"Validation Loss\", color=\"orange\")\n",
    "plt.xlabel(\"Epoch\")\n",
    "plt.ylabel(\"Loss\")\n",
    "plt.title(\"Loss Curve (Transformer Translation)\")\n",
    "plt.legend()\n",
    "plt.grid(True, linestyle=\"--\", alpha=0.5)\n",
    "plt.show()\n",
    "\n",
    "# -------------------------------\n",
    "# 2) BLEU 점수 변화 시각화\n",
    "# -------------------------------\n",
    "plt.figure(figsize=(7, 4))\n",
    "plt.plot([b * 100 for b in val_bleus], label=\"Validation BLEU\", color=\"green\")\n",
    "plt.xlabel(\"Epoch\")\n",
    "plt.ylabel(\"BLEU Score (0–100)\")\n",
    "plt.title(\"Validation BLEU Trend\")\n",
    "plt.legend()\n",
    "plt.grid(True, linestyle=\"--\", alpha=0.5)\n",
    "plt.show()\n",
    "\n"
   ]
  },
  {
   "cell_type": "code",
   "execution_count": 16,
   "metadata": {
    "execution": {
     "iopub.execute_input": "2025-10-08T11:58:39.498803Z",
     "iopub.status.busy": "2025-10-08T11:58:39.497835Z",
     "iopub.status.idle": "2025-10-08T11:58:39.862894Z",
     "shell.execute_reply": "2025-10-08T11:58:39.861920Z",
     "shell.execute_reply.started": "2025-10-08T11:58:39.498736Z"
    },
    "tags": []
   },
   "outputs": [
    {
     "data": {
      "image/png": "[encoded data removed]",
      "text/plain": [
       "<Figure size 700x400 with 1 Axes>"
      ]
     },
     "metadata": {},
     "output_type": "display_data"
    },
    {
     "data": {
      "image/png": "[encoded data removed]",
      "text/plain": [
       "<Figure size 700x400 with 1 Axes>"
      ]
     },
     "metadata": {},
     "output_type": "display_data"
    }
   ],
   "source": []
  },
  {
   "cell_type": "code",
   "execution_count": 17,
   "metadata": {
    "execution": {
     "iopub.execute_input": "2025-10-08T12:05:10.028093Z",
     "iopub.status.busy": "2025-10-08T12:05:10.026657Z",
     "iopub.status.idle": "2025-10-08T12:05:10.376963Z",
     "shell.execute_reply": "2025-10-08T12:05:10.376373Z",
     "shell.execute_reply.started": "2025-10-08T12:05:10.028028Z"
    },
    "tags": []
   },
   "outputs": [
    {
     "name": "stdout",
     "output_type": "stream",
     "text": [
      "\n",
      "[독일어] Zwei junge weiße Männer sind im Freien in der Nähe vieler Büsche.\n",
      "[영어 번역] two young white males are outside near bushes .\n",
      "\n",
      "[독일어] Ein Mann steht auf einer Leiter und putzt ein Fenster.\n",
      "[영어 번역] a man is standing on a ladder cleaning a window .\n",
      "\n",
      "[독일어] Ein Mädchen spielt mit einem Hund im Garten.\n",
      "[영어 번역] a girl is playing with a dog in the yard .\n",
      "\n",
      "[독일어] ich liebe dich.\n",
      "[영어 번역] i think <unk> to be seen .\n"
     ]
    }
   ],
   "source": [
    "# ============================================\n",
    "# 119. Greedy Decoding 함수\n",
    "# ============================================\n",
    "\n",
    "@torch.no_grad()\n",
    "def greedy_decode(model, src, src_mask, max_len, start_symbol, end_symbol):\n",
    "    \"\"\"\n",
    "    src: [1, S]\n",
    "    src_mask: [S, S]\n",
    "    \"\"\"\n",
    "    src = src.to(device)\n",
    "    memory = model.transformer.encoder(\n",
    "        model.pos_encoder(model.src_emb(src)),\n",
    "        src_key_padding_mask=(src == SRC_PAD_IDX)\n",
    "    )\n",
    "\n",
    "    # 디코더 입력의 시작은 <bos>\n",
    "    ys = torch.ones(1, 1).fill_(start_symbol).type(torch.long).to(device)\n",
    "\n",
    "    for i in range(max_len - 1):\n",
    "        tgt_mask = generate_square_subsequent_mask(ys.size(1)).to(device)\n",
    "        tgt_emb = model.pos_encoder(model.tgt_emb(ys))\n",
    "        out = model.transformer.decoder(\n",
    "            tgt_emb, memory,\n",
    "            tgt_mask=tgt_mask,\n",
    "            memory_key_padding_mask=(src == SRC_PAD_IDX)\n",
    "        )\n",
    "        out = model.generator(out[:, -1])  # 마지막 단어 예측\n",
    "        next_word = out.argmax(dim=1).item()\n",
    "\n",
    "        ys = torch.cat([ys, torch.ones(1, 1).fill_(next_word).type_as(src)], dim=1)\n",
    "        if next_word == end_symbol:\n",
    "            break\n",
    "\n",
    "    return ys\n",
    "\n",
    "\n",
    "def translate(model, src_sentence):\n",
    "    model.eval()\n",
    "\n",
    "    # 입력 문장 소문자 처리\n",
    "    src_sentence = src_sentence.lower()\n",
    "\n",
    "    # 토큰화 + 인덱스로 변환 (없는 단어는 <unk>)\n",
    "    src_tokens = [SRC_BOS_IDX] + [\n",
    "        src_vocab[token.text] if token.text in src_vocab else src_vocab['<unk>']\n",
    "        for token in nlp_de(src_sentence)\n",
    "    ] + [SRC_EOS_IDX]\n",
    "\n",
    "    src_tensor = torch.LongTensor(src_tokens).unsqueeze(0).to(device)\n",
    "\n",
    "    # 마스크 생성\n",
    "    num_tokens = src_tensor.size(1)\n",
    "    src_mask = torch.zeros(num_tokens, num_tokens, dtype=torch.bool).to(device)\n",
    "\n",
    "    # greedy decoding\n",
    "    tgt_tokens = greedy_decode(\n",
    "        model, src_tensor, src_mask, max_len=50,\n",
    "        start_symbol=TGT_BOS_IDX,\n",
    "        end_symbol=TGT_EOS_IDX\n",
    "    ).flatten()\n",
    "\n",
    "    # index → token 복원\n",
    "    tgt_itos = {v: k for k, v in tgt_vocab.items()}  # 인덱스 → 단어 변환\n",
    "    translated = \" \".join([tgt_itos.get(tok, \"<unk>\") for tok in tgt_tokens.cpu().numpy()])\n",
    "\n",
    "    # <bos>, <eos> 제거\n",
    "    return translated.replace(\"<bos>\", \"\").replace(\"<eos>\", \"\").strip()\n",
    "\n",
    "\n",
    "# 테스트 문장 예시\n",
    "test_sentences = [\n",
    "    \"Zwei junge weiße Männer sind im Freien in der Nähe vieler Büsche.\",\n",
    "    \"Ein Mann steht auf einer Leiter und putzt ein Fenster.\",\n",
    "    \"Ein Mädchen spielt mit einem Hund im Garten.\",\n",
    "    \"ich liebe dich.\",\n",
    "]\n",
    "\n",
    "for s in test_sentences:\n",
    "    print(f\"\\n[독일어] {s}\")\n",
    "    print(f\"[영어 번역] {translate(model, s)}\")\n"
   ]
  },
  {
   "cell_type": "code",
   "execution_count": null,
   "metadata": {},
   "outputs": [],
   "source": []
  }
 ],
 "metadata": {
  "accelerator": "GPU",
  "colab": {
   "gpuType": "T4",
   "provenance": []
  },
  "kernelspec": {
   "display_name": "Python 3 (ipykernel)",
   "language": "python",
   "name": "python3"
  },
  "language_info": {
   "codemirror_mode": {
    "name": "ipython",
    "version": 3
   },
   "file_extension": ".py",
   "mimetype": "text/x-python",
   "name": "python",
   "nbconvert_exporter": "python",
   "pygments_lexer": "ipython3",
   "version": "3.8.10"
  }
 },
 "nbformat": 4,
 "nbformat_minor": 4
}
