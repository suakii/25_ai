{
 "cells": [
  {
   "cell_type": "code",
   "execution_count": 1,
   "metadata": {
    "execution": {
     "iopub.execute_input": "2025-09-29T13:51:48.761757Z",
     "iopub.status.busy": "2025-09-29T13:51:48.761550Z",
     "iopub.status.idle": "2025-09-29T13:51:50.828119Z",
     "shell.execute_reply": "2025-09-29T13:51:50.827004Z",
     "shell.execute_reply.started": "2025-09-29T13:51:48.761738Z"
    },
    "tags": []
   },
   "outputs": [
    {
     "name": "stdout",
     "output_type": "stream",
     "text": [
      "Device: cuda:6\n",
      "입력 배치 shape: torch.Size([128, 7])\n",
      "출력 배치 shape: torch.Size([128, 5])\n",
      "\n",
      "[샘플 0]\n",
      "  원문: '72+147 ' → '219 '\n",
      "  입력 인덱스: [9, 4, 1, 3, 6, 9, 0]\n",
      "  입력 토큰 : ['7', '2', '+', '1', '4', '7', ' ']\n",
      "  출력 인덱스: [12, 4, 3, 11, 0]\n",
      "  출력 토큰 : ['_', '2', '1', '9', ' ']\n"
     ]
    }
   ],
   "source": [
    "# ==============================\n",
    "# 데이터 로딩 (addition.txt)\n",
    "# ==============================\n",
    "import random\n",
    "import numpy as np\n",
    "import torch\n",
    "from torch.utils.data import Dataset, DataLoader\n",
    "from sklearn.model_selection import train_test_split\n",
    "from tqdm import tqdm\n",
    "\n",
    "# ==============================\n",
    "# 시드 고정\n",
    "# ==============================\n",
    "seed = 42\n",
    "random.seed(seed)\n",
    "np.random.seed(seed)\n",
    "torch.manual_seed(seed)\n",
    "if torch.cuda.is_available():\n",
    "    torch.cuda.manual_seed_all(seed)\n",
    "\n",
    "device = torch.device(\"cuda:6\" if torch.cuda.is_available() else \"cpu\")\n",
    "print(\"Device:\", device)\n",
    "\n",
    "\n",
    "# ------------------------------\n",
    "# Dataset 정의 (고정 길이, '_' 시작)\n",
    "# ------------------------------\n",
    "class AddDataset(Dataset):\n",
    "    def __init__(self, samples, stoi=None, itos=None):\n",
    "        self.samples = samples\n",
    "\n",
    "        if stoi is None:\n",
    "            # 전체 문자 + '_' 포함\n",
    "            vocab = set(\"\".join(s for s, _ in samples) +\n",
    "                        \"\".join(t for _, t in samples) + \"_\")\n",
    "            self.stoi = {s: i for i, s in enumerate(sorted(vocab))}\n",
    "        else:\n",
    "            self.stoi = stoi\n",
    "\n",
    "        self.itos = {i: s for s, i in self.stoi.items()}\n",
    "\n",
    "    def __len__(self):\n",
    "        return len(self.samples)\n",
    "\n",
    "    def __getitem__(self, idx):\n",
    "        src, tgt = self.samples[idx]\n",
    "\n",
    "        # 입력: 그대로 (길이 7 보장, 뒤 공백 포함)\n",
    "        src_ids = [self.stoi[c] for c in src]\n",
    "\n",
    "        # 출력: '_' + tgt (길이 5 보장, tgt도 뒤 공백 포함)\n",
    "        tgt_ids = [self.stoi[\"_\"]] + [self.stoi[c] for c in tgt]\n",
    "\n",
    "        return torch.tensor(src_ids), torch.tensor(tgt_ids), src, tgt\n",
    "\n",
    "\n",
    "# ------------------------------\n",
    "# collate_fn: pad 불필요, 그냥 stack\n",
    "# ------------------------------\n",
    "def collate_fn(batch):\n",
    "    src_batch, tgt_batch, src_strs, tgt_strs = zip(*batch)\n",
    "    return torch.stack(src_batch), torch.stack(tgt_batch), src_strs, tgt_strs\n",
    "\n",
    "\n",
    "# ==============================\n",
    "# 데이터셋 불러오기\n",
    "# ==============================\n",
    "all_samples = []\n",
    "with open(\"addition.txt\", encoding=\"utf-8\") as f:\n",
    "    for line in f:\n",
    "        line = line[:-1] if line.endswith(\"\\n\") else line  # 개행만 제거\n",
    "        if not line:\n",
    "            continue\n",
    "        src, tgt = line.split(\"_\")  # '_' 기준 분리\n",
    "\n",
    "        # 항상 src=7, tgt=4 고정\n",
    "        assert len(src) == 7, f\"src 길이 오류: {repr(src)}\"\n",
    "        assert len(tgt) == 4, f\"tgt 길이 오류: {repr(tgt)}\"\n",
    "\n",
    "        all_samples.append((src, tgt))\n",
    "\n",
    "# train/val 분리\n",
    "train_samples, test_samples = train_test_split(all_samples, test_size=0.1, random_state=42)\n",
    "\n",
    "# Dataset 생성\n",
    "train_dataset = AddDataset(train_samples)\n",
    "test_dataset = AddDataset(test_samples, stoi=train_dataset.stoi, itos=train_dataset.itos)\n",
    "\n",
    "# DataLoader\n",
    "train_loader = DataLoader(train_dataset, batch_size=128, shuffle=True, collate_fn=collate_fn)\n",
    "test_loader = DataLoader(test_dataset, batch_size=128, shuffle=False, collate_fn=collate_fn)\n",
    "\n",
    "\n",
    "# ==============================\n",
    "# 데이터 예시 출력\n",
    "# ==============================\n",
    "for src_batch, tgt_batch, src_strs, tgt_strs in train_loader:\n",
    "    print(\"입력 배치 shape:\", src_batch.shape)  # [B, 7]\n",
    "    print(\"출력 배치 shape:\", tgt_batch.shape)  # [B, 5]\n",
    "\n",
    "    for i in range(len(src_strs)):\n",
    "        print(f\"\\n[샘플 {i}]\")\n",
    "        print(f\"  원문: {repr(src_strs[i])} → {repr(tgt_strs[i])}\")\n",
    "\n",
    "        # 토큰 변환 확인\n",
    "        src_tokens = [train_dataset.itos[idx.item()] for idx in src_batch[i]]\n",
    "        tgt_tokens = [train_dataset.itos[idx.item()] for idx in tgt_batch[i]]\n",
    "\n",
    "        print(\"  입력 인덱스:\", src_batch[i].tolist())\n",
    "        print(\"  입력 토큰 :\", src_tokens)\n",
    "        print(\"  출력 인덱스:\", tgt_batch[i].tolist())\n",
    "        print(\"  출력 토큰 :\", tgt_tokens)\n",
    "        break\n",
    "\n",
    "    break  # 첫 배치만 확인\n"
   ]
  },
  {
   "cell_type": "code",
   "execution_count": 2,
   "metadata": {
    "execution": {
     "iopub.execute_input": "2025-09-29T13:51:50.831348Z",
     "iopub.status.busy": "2025-09-29T13:51:50.830447Z",
     "iopub.status.idle": "2025-09-29T13:51:50.845154Z",
     "shell.execute_reply": "2025-09-29T13:51:50.844272Z",
     "shell.execute_reply.started": "2025-09-29T13:51:50.831303Z"
    },
    "tags": []
   },
   "outputs": [],
   "source": [
    "# ==============================\n",
    "# 9.3.2 모델 정의 (Addition: Attention 없는 Seq2Seq, )\n",
    "# ==============================\n",
    "\n",
    "import torch\n",
    "import torch.nn as nn\n",
    "\n",
    "# ==============================\n",
    "# Encoder 정의\n",
    "# ==============================\n",
    "class Encoder(nn.Module):\n",
    "    def __init__(self, input_dim, emb_dim, hidden_dim, num_layers=1, dropout=0.0):\n",
    "        super().__init__()\n",
    "        self.embedding = nn.Embedding(input_dim, emb_dim)\n",
    "        self.lstm = nn.LSTM(\n",
    "            emb_dim, hidden_dim,\n",
    "            num_layers=num_layers,\n",
    "            batch_first=True,\n",
    "            dropout=dropout if num_layers > 1 else 0.0\n",
    "        )\n",
    "\n",
    "    def forward(self, src):\n",
    "        \"\"\"\n",
    "        src: [batch_size, src_len=7]\n",
    "        \"\"\"\n",
    "        embedded = self.embedding(src)                   # [B, 7, E]\n",
    "        _, (hidden, cell) = self.lstm(embedded)\n",
    "        return hidden, cell\n",
    "\n",
    "\n",
    "# ==============================\n",
    "# Decoder 정의\n",
    "# ==============================\n",
    "class Decoder(nn.Module):\n",
    "    def __init__(self, output_dim, emb_dim, hidden_dim, num_layers=1, dropout=0.0):\n",
    "        super().__init__()\n",
    "        self.embedding = nn.Embedding(output_dim, emb_dim)\n",
    "        self.lstm = nn.LSTM(\n",
    "            emb_dim, hidden_dim,\n",
    "            num_layers=num_layers,\n",
    "            batch_first=True,\n",
    "            dropout=dropout if num_layers > 1 else 0.0\n",
    "        )\n",
    "        self.fc_out = nn.Linear(hidden_dim, output_dim)\n",
    "\n",
    "    def forward(self, input, hidden, cell):\n",
    "        \"\"\"\n",
    "        input: [B]  (단일 토큰 인덱스, '_' 또는 숫자/공백)\n",
    "        hidden, cell: [num_layers, B, H]\n",
    "        \"\"\"\n",
    "        input = input.unsqueeze(1)                       # [B, 1]\n",
    "        embedded = self.embedding(input)                 # [B, 1, E]\n",
    "        output, (hidden, cell) = self.lstm(embedded, (hidden, cell))\n",
    "        prediction = self.fc_out(output.squeeze(1))      # [B, vocab]\n",
    "        return prediction, hidden, cell\n",
    "\n",
    "\n",
    "# ==============================\n",
    "# Seq2Seq (Encoder–Decoder 통합)\n",
    "# ==============================\n",
    "class Seq2Seq(nn.Module):\n",
    "    def __init__(self, encoder, decoder, device):\n",
    "        super().__init__()\n",
    "        self.encoder = encoder\n",
    "        self.decoder = decoder\n",
    "        self.device = device\n",
    "\n",
    "    def forward(self, src, trg, teacher_forcing_ratio=1.0):\n",
    "        \"\"\"\n",
    "        src: [B, 7]\n",
    "        trg: [B, 5]   (항상 '_' + 4자리)\n",
    "        \"\"\"\n",
    "        B = src.size(0)\n",
    "        Tt = trg.size(1)  # 5\n",
    "        V = self.decoder.fc_out.out_features\n",
    "\n",
    "        outputs = torch.zeros(B, Tt, V, device=self.device)\n",
    "\n",
    "        hidden, cell = self.encoder(src)\n",
    "\n",
    "        # 첫 입력은 항상 '_' (trg[:,0])\n",
    "        input = trg[:, 0]\n",
    "\n",
    "        # t=1~4 자리 예측\n",
    "        for t in range(1, Tt):\n",
    "            output, hidden, cell = self.decoder(input, hidden, cell)\n",
    "            outputs[:, t, :] = output\n",
    "\n",
    "            teacher_force = torch.rand(1).item() < teacher_forcing_ratio\n",
    "            top1 = output.argmax(1)\n",
    "\n",
    "            input = trg[:, t] if teacher_force else top1\n",
    "\n",
    "        return outputs\n"
   ]
  },
  {
   "cell_type": "code",
   "execution_count": 3,
   "metadata": {
    "execution": {
     "iopub.execute_input": "2025-09-29T13:51:50.846316Z",
     "iopub.status.busy": "2025-09-29T13:51:50.846025Z",
     "iopub.status.idle": "2025-09-29T13:51:50.853652Z",
     "shell.execute_reply": "2025-09-29T13:51:50.852716Z",
     "shell.execute_reply.started": "2025-09-29T13:51:50.846297Z"
    },
    "tags": []
   },
   "outputs": [],
   "source": [
    "import torch\n",
    "\n",
    "@torch.no_grad()\n",
    "def greedy_decode_seq2seq(model, src, stoi, itos, device, max_len=4):\n",
    "    \"\"\"\n",
    "    src: [1, src_len=7]\n",
    "    출력: 항상 길이 4 문자열 (뒤 공백 포함)\n",
    "    \"\"\"\n",
    "    model.eval()\n",
    "    hidden, cell = model.encoder(src)  # 인코더 실행\n",
    "\n",
    "    # 첫 입력은 '_' 토큰\n",
    "    input_token = torch.tensor([stoi[\"_\"]], device=device)\n",
    "\n",
    "    outputs = []\n",
    "    for _ in range(4):  # 항상 4 step\n",
    "        output, hidden, cell = model.decoder(input_token, hidden, cell)  # [1, V]\n",
    "        top1 = output.argmax(1)  # [1]\n",
    "        outputs.append(top1.item())\n",
    "        input_token = top1\n",
    "\n",
    "    return outputs  # 토큰 인덱스 리스트\n",
    "\n",
    "\n",
    "def tokenize_fixed(x: str):\n",
    "    \"\"\"\n",
    "    문자열을 그대로 문자 리스트로 변환 (공백 포함).\n",
    "    ex) \"16+75  \" -> [\"1\",\"6\",\"+\",\"7\",\"5\",\" \",\" \"]\n",
    "    \"\"\"\n",
    "    return list(x)\n",
    "\n",
    "\n",
    "@torch.no_grad()\n",
    "def evaluate_seq2seq(model, x, stoi, itos, device, max_len=4):\n",
    "    \"\"\"\n",
    "    x: 문자열 입력 (예: \"123+456\")\n",
    "    max_len: 출력 고정 길이 (기본 4)\n",
    "    \"\"\"\n",
    "    # 문자열 → 인덱스\n",
    "    x_idx = [stoi[c] for c in x]\n",
    "    src = torch.tensor(x_idx, device=device).unsqueeze(0)\n",
    "\n",
    "    # 디코딩\n",
    "    pred_idx = greedy_decode_seq2seq(model, src, stoi, itos, device, max_len)\n",
    "    pred = \"\".join([itos[i] for i in pred_idx])\n",
    "    return pred\n"
   ]
  },
  {
   "cell_type": "code",
   "execution_count": 4,
   "metadata": {
    "execution": {
     "iopub.execute_input": "2025-09-29T13:51:50.854805Z",
     "iopub.status.busy": "2025-09-29T13:51:50.854539Z",
     "iopub.status.idle": "2025-09-29T13:51:51.726592Z",
     "shell.execute_reply": "2025-09-29T13:51:51.725514Z",
     "shell.execute_reply.started": "2025-09-29T13:51:50.854786Z"
    },
    "tags": []
   },
   "outputs": [],
   "source": [
    "# ==============================\n",
    "# 하이퍼파라미터 & 모델 초기화\n",
    "# ==============================\n",
    "import torch\n",
    "import torch.nn as nn\n",
    "import torch.optim as optim\n",
    "\n",
    "# ------------------------------\n",
    "# 하이퍼파라미터\n",
    "# ------------------------------\n",
    "INPUT_DIM = len(train_dataset.stoi)   # 입력 vocab 크기\n",
    "OUTPUT_DIM = len(train_dataset.stoi)  # 출력 vocab 크기 (공용 vocab)\n",
    "EMB_DIM = 32\n",
    "HIDDEN_DIM = 192\n",
    "N_EPOCHS = 50\n",
    "PATIENCE = 15\n",
    "MIN_DELTA = 1e-3\n",
    "CLIP = 5.0\n",
    "LR = 0.001\n",
    "\n",
    "# ------------------------------\n",
    "# 모델 정의\n",
    "# ------------------------------\n",
    "enc = Encoder(INPUT_DIM, EMB_DIM, HIDDEN_DIM).to(device)\n",
    "dec = Decoder(OUTPUT_DIM, EMB_DIM, HIDDEN_DIM).to(device)\n",
    "model = Seq2Seq(enc, dec, device).to(device)\n",
    "\n",
    "# ------------------------------\n",
    "# 손실 함수 & 옵티마이저 (ignore_index 제거)\n",
    "# ------------------------------\n",
    "criterion = nn.CrossEntropyLoss()\n",
    "optimizer = optim.Adam(model.parameters(), lr=LR)\n"
   ]
  },
  {
   "cell_type": "code",
   "execution_count": 5,
   "metadata": {
    "execution": {
     "iopub.execute_input": "2025-09-29T13:51:51.730628Z",
     "iopub.status.busy": "2025-09-29T13:51:51.730104Z",
     "iopub.status.idle": "2025-09-29T13:51:51.738963Z",
     "shell.execute_reply": "2025-09-29T13:51:51.737375Z",
     "shell.execute_reply.started": "2025-09-29T13:51:51.730604Z"
    },
    "tags": []
   },
   "outputs": [],
   "source": [
    "# ==============================\n",
    "# 평가 지표\n",
    "# ==============================\n",
    "def token_accuracy_fn(y_pred, y_true):\n",
    "    \"\"\"\n",
    "    토큰 단위 정확도 (pad 없음)\n",
    "    y_pred: [B, T, V] (logits)\n",
    "    y_true: [B, T] (ids)\n",
    "    \"\"\"\n",
    "    pred_tokens = y_pred.argmax(dim=2)  # [B, T]\n",
    "    correct = (pred_tokens == y_true)\n",
    "    acc = correct.sum().float() / torch.numel(y_true)\n",
    "    return acc.item()\n",
    "\n",
    "\n",
    "# ------------------------------\n",
    "# 문자열 정리 함수\n",
    "# ------------------------------\n",
    "def clean_str(s: str):\n",
    "    \"\"\"\n",
    "    <sos>, <eos>, <pad> 없음.\n",
    "    그대로 비교하되, 사람 보기용으로는 rstrip() 정도만.\n",
    "    \"\"\"\n",
    "    return s.rstrip()\n",
    "\n",
    "\n",
    "@torch.no_grad()\n",
    "def exact_match_fn(model, dataset, stoi, itos, device, n_samples=None):\n",
    "    \"\"\"\n",
    "    Exact Match 평가 (출력 전체 문자열이 정답과 동일한지 확인)\n",
    "    \"\"\"\n",
    "    if n_samples is None or n_samples >= len(dataset):\n",
    "        indices = range(len(dataset))\n",
    "    else:\n",
    "        indices = random.sample(range(len(dataset)), n_samples)\n",
    "\n",
    "    correct = 0\n",
    "    for idx in indices:\n",
    "        _, _, src_str, tgt_str = dataset[idx]\n",
    "\n",
    "        # pred_str: 항상 길이 4 문자열 (뒤 공백 포함)\n",
    "        pred_str = evaluate_seq2seq(\n",
    "            model, src_str,\n",
    "            stoi=stoi, itos=itos,\n",
    "            device=device\n",
    "        )\n",
    "\n",
    "        if pred_str == tgt_str:   # 공백 포함 그대로 비교\n",
    "            correct += 1\n",
    "\n",
    "    return correct / len(indices)\n"
   ]
  },
  {
   "cell_type": "code",
   "execution_count": 6,
   "metadata": {
    "execution": {
     "iopub.execute_input": "2025-09-29T13:51:51.740061Z",
     "iopub.status.busy": "2025-09-29T13:51:51.739877Z",
     "iopub.status.idle": "2025-09-29T13:51:51.750559Z",
     "shell.execute_reply": "2025-09-29T13:51:51.749268Z",
     "shell.execute_reply.started": "2025-09-29T13:51:51.740043Z"
    },
    "tags": []
   },
   "outputs": [],
   "source": [
    "# ----------------------------------------------------------\n",
    "# 1 epoch 학습 \n",
    "# ----------------------------------------------------------\n",
    "def train_one_epoch(model, loader, optimizer, criterion, epoch, clip=5.0, tf_ratio=1.0):\n",
    "    model.train()\n",
    "    total_loss = 0.0\n",
    "    total_acc = 0.0\n",
    "\n",
    "    for src, trg, _, _ in tqdm(loader, desc=f\"Train Epoch {epoch}\", leave=False):\n",
    "        src, trg = src.to(device), trg.to(device)\n",
    "        optimizer.zero_grad()\n",
    "\n",
    "        # forward\n",
    "        output = model(src, trg, teacher_forcing_ratio=tf_ratio)  # [B, T, V]\n",
    "\n",
    "        V = output.shape[-1]\n",
    "        # 그대로 loss 계산 (trg는 '_' + 4자리 → 길이 5)\n",
    "        output_flat = output.reshape(-1, V)   # [B*T, V]\n",
    "        trg_flat = trg.reshape(-1)            # [B*T]\n",
    "\n",
    "        loss = criterion(output_flat, trg_flat)\n",
    "        loss.backward()\n",
    "        torch.nn.utils.clip_grad_norm_(model.parameters(), clip)\n",
    "        optimizer.step()\n",
    "\n",
    "        # 토큰 정확도\n",
    "        B, T = trg.size()\n",
    "        output_eval = output.view(B, T, V)\n",
    "        acc = token_accuracy_fn(output_eval, trg)\n",
    "\n",
    "        total_loss += loss.item()\n",
    "        total_acc += acc\n",
    "\n",
    "    n = len(loader)\n",
    "    return total_loss / n, total_acc / n\n",
    "\n",
    "\n",
    "# ----------------------------------------------------------\n",
    "# 1 epoch 평가 \n",
    "# ----------------------------------------------------------\n",
    "@torch.no_grad()\n",
    "def evaluate_one_epoch(model, loader, criterion):\n",
    "    model.eval()\n",
    "    total_loss = 0.0\n",
    "    total_acc = 0.0\n",
    "\n",
    "    for src, trg, _, _ in loader:\n",
    "        src, trg = src.to(device), trg.to(device)\n",
    "\n",
    "        output = model(src, trg, teacher_forcing_ratio=0.0)  # [B, T, V]\n",
    "\n",
    "        V = output.shape[-1]\n",
    "        output_flat = output.reshape(-1, V)\n",
    "        trg_flat = trg.reshape(-1)\n",
    "\n",
    "        loss = criterion(output_flat, trg_flat)\n",
    "\n",
    "        # 토큰 정확도\n",
    "        B, T = trg.size()\n",
    "        output_eval = output.view(B, T, V)\n",
    "        acc = token_accuracy_fn(output_eval, trg)\n",
    "\n",
    "        total_loss += loss.item()\n",
    "        total_acc += acc\n",
    "\n",
    "    n = len(loader)\n",
    "    return total_loss / n, total_acc / n\n"
   ]
  },
  {
   "cell_type": "code",
   "execution_count": 7,
   "metadata": {
    "execution": {
     "iopub.execute_input": "2025-09-29T13:51:51.751646Z",
     "iopub.status.busy": "2025-09-29T13:51:51.751461Z",
     "iopub.status.idle": "2025-09-29T14:05:05.651993Z",
     "shell.execute_reply": "2025-09-29T14:05:05.650318Z",
     "shell.execute_reply.started": "2025-09-29T13:51:51.751629Z"
    },
    "tags": []
   },
   "outputs": [
    {
     "name": "stderr",
     "output_type": "stream",
     "text": [
      "                                                                \r"
     ]
    },
    {
     "name": "stdout",
     "output_type": "stream",
     "text": [
      "Epoch 001 | Train Loss: 1.83550 | Token Acc: 0.31108 || Val Loss: 1.72297 | Token Acc: 0.36863 | Exact Acc: 0.00960 (Best Val Exact: 0.00000, Patience: 0)\n",
      "[DEBUG] 입력: 541+286 | 정답: 827 | 예측: 683\n"
     ]
    },
    {
     "name": "stderr",
     "output_type": "stream",
     "text": [
      "                                                                \r"
     ]
    },
    {
     "name": "stdout",
     "output_type": "stream",
     "text": [
      "Epoch 002 | Train Loss: 1.52113 | Token Acc: 0.41981 || Val Loss: 1.51342 | Token Acc: 0.43188 | Exact Acc: 0.02360 (Best Val Exact: 0.00960, Patience: 0)\n",
      "[DEBUG] 입력: 639+49  | 정답: 688 | 예측: 704\n"
     ]
    },
    {
     "name": "stderr",
     "output_type": "stream",
     "text": [
      "                                                                \r"
     ]
    },
    {
     "name": "stdout",
     "output_type": "stream",
     "text": [
      "Epoch 003 | Train Loss: 1.37461 | Token Acc: 0.47236 || Val Loss: 1.39280 | Token Acc: 0.47930 | Exact Acc: 0.04740 (Best Val Exact: 0.02360, Patience: 0)\n",
      "[DEBUG] 입력: 905+302 | 정답: 1207 | 예측: 1199\n"
     ]
    },
    {
     "name": "stderr",
     "output_type": "stream",
     "text": [
      "                                                                \r"
     ]
    },
    {
     "name": "stdout",
     "output_type": "stream",
     "text": [
      "Epoch 004 | Train Loss: 1.27928 | Token Acc: 0.50763 || Val Loss: 1.34943 | Token Acc: 0.50301 | Exact Acc: 0.05740 (Best Val Exact: 0.04740, Patience: 0)\n",
      "[DEBUG] 입력: 278+29  | 정답: 307 | 예측: 313\n"
     ]
    },
    {
     "name": "stderr",
     "output_type": "stream",
     "text": [
      "                                                                \r"
     ]
    },
    {
     "name": "stdout",
     "output_type": "stream",
     "text": [
      "Epoch 005 | Train Loss: 1.21428 | Token Acc: 0.53229 || Val Loss: 1.31144 | Token Acc: 0.52574 | Exact Acc: 0.07900 (Best Val Exact: 0.05740, Patience: 0)\n",
      "[DEBUG] 입력: 5+337   | 정답: 342 | 예측: 345\n"
     ]
    },
    {
     "name": "stderr",
     "output_type": "stream",
     "text": [
      "                                                                \r"
     ]
    },
    {
     "name": "stdout",
     "output_type": "stream",
     "text": [
      "Epoch 006 | Train Loss: 1.16334 | Token Acc: 0.55110 || Val Loss: 1.28232 | Token Acc: 0.53777 | Exact Acc: 0.09980 (Best Val Exact: 0.07900, Patience: 0)\n",
      "[DEBUG] 입력: 0+94    | 정답: 94 | 예측: 95\n"
     ]
    },
    {
     "name": "stderr",
     "output_type": "stream",
     "text": [
      "                                                                \r"
     ]
    },
    {
     "name": "stdout",
     "output_type": "stream",
     "text": [
      "Epoch 007 | Train Loss: 1.12396 | Token Acc: 0.56430 || Val Loss: 1.29245 | Token Acc: 0.54547 | Exact Acc: 0.11200 (Best Val Exact: 0.09980, Patience: 0)\n",
      "[DEBUG] 입력: 883+18  | 정답: 901 | 예측: 901\n"
     ]
    },
    {
     "name": "stderr",
     "output_type": "stream",
     "text": [
      "                                                                \r"
     ]
    },
    {
     "name": "stdout",
     "output_type": "stream",
     "text": [
      "Epoch 008 | Train Loss: 1.08859 | Token Acc: 0.57694 || Val Loss: 1.25842 | Token Acc: 0.56266 | Exact Acc: 0.13080 (Best Val Exact: 0.11200, Patience: 0)\n",
      "[DEBUG] 입력: 89+586  | 정답: 675 | 예측: 678\n"
     ]
    },
    {
     "name": "stderr",
     "output_type": "stream",
     "text": [
      "                                                                \r"
     ]
    },
    {
     "name": "stdout",
     "output_type": "stream",
     "text": [
      "Epoch 009 | Train Loss: 1.05939 | Token Acc: 0.58642 || Val Loss: 1.26366 | Token Acc: 0.56641 | Exact Acc: 0.14300 (Best Val Exact: 0.13080, Patience: 0)\n",
      "[DEBUG] 입력: 78+572  | 정답: 650 | 예측: 651\n"
     ]
    },
    {
     "name": "stderr",
     "output_type": "stream",
     "text": [
      "                                                                 \r"
     ]
    },
    {
     "name": "stdout",
     "output_type": "stream",
     "text": [
      "Epoch 010 | Train Loss: 1.03968 | Token Acc: 0.59193 || Val Loss: 1.26059 | Token Acc: 0.57434 | Exact Acc: 0.17080 (Best Val Exact: 0.14300, Patience: 0)\n",
      "[DEBUG] 입력: 752+405 | 정답: 1157 | 예측: 1162\n"
     ]
    },
    {
     "name": "stderr",
     "output_type": "stream",
     "text": [
      "                                                                 \r"
     ]
    },
    {
     "name": "stdout",
     "output_type": "stream",
     "text": [
      "Epoch 011 | Train Loss: 1.02071 | Token Acc: 0.59799 || Val Loss: 1.26274 | Token Acc: 0.57465 | Exact Acc: 0.16120 (Best Val Exact: 0.17080, Patience: 0)\n",
      "[DEBUG] 입력: 389+49  | 정답: 438 | 예측: 439\n"
     ]
    },
    {
     "name": "stderr",
     "output_type": "stream",
     "text": [
      "                                                                 \r"
     ]
    },
    {
     "name": "stdout",
     "output_type": "stream",
     "text": [
      "Epoch 012 | Train Loss: 1.00370 | Token Acc: 0.60439 || Val Loss: 1.24892 | Token Acc: 0.58363 | Exact Acc: 0.18300 (Best Val Exact: 0.17080, Patience: 1)\n",
      "[DEBUG] 입력: 648+60  | 정답: 708 | 예측: 710\n"
     ]
    },
    {
     "name": "stderr",
     "output_type": "stream",
     "text": [
      "                                                                 \r"
     ]
    },
    {
     "name": "stdout",
     "output_type": "stream",
     "text": [
      "Epoch 013 | Train Loss: 0.98856 | Token Acc: 0.60891 || Val Loss: 1.26416 | Token Acc: 0.58492 | Exact Acc: 0.18160 (Best Val Exact: 0.18300, Patience: 0)\n",
      "[DEBUG] 입력: 10+19   | 정답: 29 | 예측: 30\n"
     ]
    },
    {
     "name": "stderr",
     "output_type": "stream",
     "text": [
      "                                                                 \r"
     ]
    },
    {
     "name": "stdout",
     "output_type": "stream",
     "text": [
      "Epoch 014 | Train Loss: 0.98141 | Token Acc: 0.61168 || Val Loss: 1.22846 | Token Acc: 0.59512 | Exact Acc: 0.21300 (Best Val Exact: 0.18300, Patience: 1)\n",
      "[DEBUG] 입력: 625+965 | 정답: 1590 | 예측: 1573\n"
     ]
    },
    {
     "name": "stderr",
     "output_type": "stream",
     "text": [
      "                                                                 \r"
     ]
    },
    {
     "name": "stdout",
     "output_type": "stream",
     "text": [
      "Epoch 015 | Train Loss: 0.95908 | Token Acc: 0.62048 || Val Loss: 1.26040 | Token Acc: 0.59344 | Exact Acc: 0.21360 (Best Val Exact: 0.21300, Patience: 0)\n",
      "[DEBUG] 입력: 0+288   | 정답: 288 | 예측: 288\n"
     ]
    },
    {
     "name": "stderr",
     "output_type": "stream",
     "text": [
      "                                                                 \r"
     ]
    },
    {
     "name": "stdout",
     "output_type": "stream",
     "text": [
      "Epoch 016 | Train Loss: 0.95107 | Token Acc: 0.62260 || Val Loss: 1.24471 | Token Acc: 0.60242 | Exact Acc: 0.23500 (Best Val Exact: 0.21300, Patience: 1)\n",
      "[DEBUG] 입력: 401+352 | 정답: 753 | 예측: 750\n"
     ]
    },
    {
     "name": "stderr",
     "output_type": "stream",
     "text": [
      "                                                                 \r"
     ]
    },
    {
     "name": "stdout",
     "output_type": "stream",
     "text": [
      "Epoch 017 | Train Loss: 0.93824 | Token Acc: 0.62809 || Val Loss: 1.27065 | Token Acc: 0.59965 | Exact Acc: 0.21980 (Best Val Exact: 0.23500, Patience: 0)\n",
      "[DEBUG] 입력: 483+77  | 정답: 560 | 예측: 559\n"
     ]
    },
    {
     "name": "stderr",
     "output_type": "stream",
     "text": [
      "                                                                 \r"
     ]
    },
    {
     "name": "stdout",
     "output_type": "stream",
     "text": [
      "Epoch 018 | Train Loss: 0.93064 | Token Acc: 0.62958 || Val Loss: 1.27430 | Token Acc: 0.60484 | Exact Acc: 0.23520 (Best Val Exact: 0.23500, Patience: 1)\n",
      "[DEBUG] 입력: 343+94  | 정답: 437 | 예측: 439\n"
     ]
    },
    {
     "name": "stderr",
     "output_type": "stream",
     "text": [
      "                                                                 \r"
     ]
    },
    {
     "name": "stdout",
     "output_type": "stream",
     "text": [
      "Epoch 019 | Train Loss: 0.92208 | Token Acc: 0.63342 || Val Loss: 1.29496 | Token Acc: 0.60313 | Exact Acc: 0.23640 (Best Val Exact: 0.23500, Patience: 2)\n",
      "[DEBUG] 입력: 861+414 | 정답: 1275 | 예측: 1262\n"
     ]
    },
    {
     "name": "stderr",
     "output_type": "stream",
     "text": [
      "                                                                 \r"
     ]
    },
    {
     "name": "stdout",
     "output_type": "stream",
     "text": [
      "Epoch 020 | Train Loss: 0.91494 | Token Acc: 0.63569 || Val Loss: 1.26746 | Token Acc: 0.60801 | Exact Acc: 0.23700 (Best Val Exact: 0.23640, Patience: 0)\n",
      "[DEBUG] 입력: 51+193  | 정답: 244 | 예측: 245\n"
     ]
    },
    {
     "name": "stderr",
     "output_type": "stream",
     "text": [
      "                                                                 \r"
     ]
    },
    {
     "name": "stdout",
     "output_type": "stream",
     "text": [
      "Epoch 021 | Train Loss: 0.90453 | Token Acc: 0.64003 || Val Loss: 1.26199 | Token Acc: 0.61473 | Exact Acc: 0.25780 (Best Val Exact: 0.23640, Patience: 1)\n",
      "[DEBUG] 입력: 396+32  | 정답: 428 | 예측: 426\n"
     ]
    },
    {
     "name": "stderr",
     "output_type": "stream",
     "text": [
      "                                                                 \r"
     ]
    },
    {
     "name": "stdout",
     "output_type": "stream",
     "text": [
      "Epoch 022 | Train Loss: 0.89144 | Token Acc: 0.64550 || Val Loss: 1.33545 | Token Acc: 0.60473 | Exact Acc: 0.22320 (Best Val Exact: 0.25780, Patience: 0)\n",
      "[DEBUG] 입력: 82+717  | 정답: 799 | 예측: 801\n"
     ]
    },
    {
     "name": "stderr",
     "output_type": "stream",
     "text": [
      "                                                                 \r"
     ]
    },
    {
     "name": "stdout",
     "output_type": "stream",
     "text": [
      "Epoch 023 | Train Loss: 0.89146 | Token Acc: 0.64424 || Val Loss: 1.24847 | Token Acc: 0.62680 | Exact Acc: 0.29980 (Best Val Exact: 0.25780, Patience: 1)\n",
      "[DEBUG] 입력: 547+90  | 정답: 637 | 예측: 637\n"
     ]
    },
    {
     "name": "stderr",
     "output_type": "stream",
     "text": [
      "                                                                 \r"
     ]
    },
    {
     "name": "stdout",
     "output_type": "stream",
     "text": [
      "Epoch 024 | Train Loss: 0.87249 | Token Acc: 0.65327 || Val Loss: 1.26524 | Token Acc: 0.62578 | Exact Acc: 0.29500 (Best Val Exact: 0.29980, Patience: 0)\n",
      "[DEBUG] 입력: 17+948  | 정답: 965 | 예측: 964\n"
     ]
    },
    {
     "name": "stderr",
     "output_type": "stream",
     "text": [
      "                                                                 \r"
     ]
    },
    {
     "name": "stdout",
     "output_type": "stream",
     "text": [
      "Epoch 025 | Train Loss: 0.87465 | Token Acc: 0.65101 || Val Loss: 1.27462 | Token Acc: 0.62902 | Exact Acc: 0.30640 (Best Val Exact: 0.29980, Patience: 1)\n",
      "[DEBUG] 입력: 2+693   | 정답: 695 | 예측: 695\n"
     ]
    },
    {
     "name": "stderr",
     "output_type": "stream",
     "text": [
      "                                                                 \r"
     ]
    },
    {
     "name": "stdout",
     "output_type": "stream",
     "text": [
      "Epoch 026 | Train Loss: 0.85440 | Token Acc: 0.66055 || Val Loss: 1.25477 | Token Acc: 0.62852 | Exact Acc: 0.30060 (Best Val Exact: 0.30640, Patience: 0)\n",
      "[DEBUG] 입력: 4+440   | 정답: 444 | 예측: 444\n"
     ]
    },
    {
     "name": "stderr",
     "output_type": "stream",
     "text": [
      "                                                                 \r"
     ]
    },
    {
     "name": "stdout",
     "output_type": "stream",
     "text": [
      "Epoch 027 | Train Loss: 0.85846 | Token Acc: 0.65757 || Val Loss: 1.34410 | Token Acc: 0.61160 | Exact Acc: 0.23460 (Best Val Exact: 0.30640, Patience: 1)\n",
      "[DEBUG] 입력: 935+258 | 정답: 1193 | 예측: 1187\n"
     ]
    },
    {
     "name": "stderr",
     "output_type": "stream",
     "text": [
      "                                                                 \r"
     ]
    },
    {
     "name": "stdout",
     "output_type": "stream",
     "text": [
      "Epoch 028 | Train Loss: 0.84777 | Token Acc: 0.66200 || Val Loss: 1.33718 | Token Acc: 0.62238 | Exact Acc: 0.27340 (Best Val Exact: 0.30640, Patience: 2)\n",
      "[DEBUG] 입력: 8+760   | 정답: 768 | 예측: 770\n"
     ]
    },
    {
     "name": "stderr",
     "output_type": "stream",
     "text": [
      "                                                                 \r"
     ]
    },
    {
     "name": "stdout",
     "output_type": "stream",
     "text": [
      "Epoch 029 | Train Loss: 0.84318 | Token Acc: 0.66328 || Val Loss: 1.28766 | Token Acc: 0.63848 | Exact Acc: 0.33740 (Best Val Exact: 0.30640, Patience: 3)\n",
      "[DEBUG] 입력: 644+0   | 정답: 644 | 예측: 645\n"
     ]
    },
    {
     "name": "stderr",
     "output_type": "stream",
     "text": [
      "                                                                 \r"
     ]
    },
    {
     "name": "stdout",
     "output_type": "stream",
     "text": [
      "Epoch 030 | Train Loss: 0.83391 | Token Acc: 0.66723 || Val Loss: 1.30173 | Token Acc: 0.63219 | Exact Acc: 0.29860 (Best Val Exact: 0.33740, Patience: 0)\n",
      "[DEBUG] 입력: 586+73  | 정답: 659 | 예측: 658\n"
     ]
    },
    {
     "name": "stderr",
     "output_type": "stream",
     "text": [
      "                                                                 \r"
     ]
    },
    {
     "name": "stdout",
     "output_type": "stream",
     "text": [
      "Epoch 031 | Train Loss: 0.83168 | Token Acc: 0.66734 || Val Loss: 1.28014 | Token Acc: 0.63770 | Exact Acc: 0.32640 (Best Val Exact: 0.33740, Patience: 1)\n",
      "[DEBUG] 입력: 870+983 | 정답: 1853 | 예측: 1869\n"
     ]
    },
    {
     "name": "stderr",
     "output_type": "stream",
     "text": [
      "                                                                 \r"
     ]
    },
    {
     "name": "stdout",
     "output_type": "stream",
     "text": [
      "Epoch 032 | Train Loss: 0.82511 | Token Acc: 0.67029 || Val Loss: 1.27121 | Token Acc: 0.64023 | Exact Acc: 0.32280 (Best Val Exact: 0.33740, Patience: 2)\n",
      "[DEBUG] 입력: 825+314 | 정답: 1139 | 예측: 1141\n"
     ]
    },
    {
     "name": "stderr",
     "output_type": "stream",
     "text": [
      "                                                                 \r"
     ]
    },
    {
     "name": "stdout",
     "output_type": "stream",
     "text": [
      "Epoch 033 | Train Loss: 0.81678 | Token Acc: 0.67470 || Val Loss: 1.36543 | Token Acc: 0.62852 | Exact Acc: 0.28360 (Best Val Exact: 0.33740, Patience: 3)\n",
      "[DEBUG] 입력: 85+137  | 정답: 222 | 예측: 220\n"
     ]
    },
    {
     "name": "stderr",
     "output_type": "stream",
     "text": [
      "                                                                 \r"
     ]
    },
    {
     "name": "stdout",
     "output_type": "stream",
     "text": [
      "Epoch 034 | Train Loss: 0.81329 | Token Acc: 0.67492 || Val Loss: 1.31157 | Token Acc: 0.64594 | Exact Acc: 0.34940 (Best Val Exact: 0.33740, Patience: 4)\n",
      "[DEBUG] 입력: 90+698  | 정답: 788 | 예측: 788\n"
     ]
    },
    {
     "name": "stderr",
     "output_type": "stream",
     "text": [
      "                                                                 \r"
     ]
    },
    {
     "name": "stdout",
     "output_type": "stream",
     "text": [
      "Epoch 035 | Train Loss: 0.80673 | Token Acc: 0.67826 || Val Loss: 1.32837 | Token Acc: 0.63582 | Exact Acc: 0.30180 (Best Val Exact: 0.34940, Patience: 0)\n",
      "[DEBUG] 입력: 8+785   | 정답: 793 | 예측: 795\n"
     ]
    },
    {
     "name": "stderr",
     "output_type": "stream",
     "text": [
      "                                                                 \r"
     ]
    },
    {
     "name": "stdout",
     "output_type": "stream",
     "text": [
      "Epoch 036 | Train Loss: 0.80461 | Token Acc: 0.67931 || Val Loss: 1.30198 | Token Acc: 0.64773 | Exact Acc: 0.35600 (Best Val Exact: 0.34940, Patience: 1)\n",
      "[DEBUG] 입력: 48+81   | 정답: 129 | 예측: 129\n"
     ]
    },
    {
     "name": "stderr",
     "output_type": "stream",
     "text": [
      "                                                                 \r"
     ]
    },
    {
     "name": "stdout",
     "output_type": "stream",
     "text": [
      "Epoch 037 | Train Loss: 0.79032 | Token Acc: 0.68519 || Val Loss: 1.29881 | Token Acc: 0.65215 | Exact Acc: 0.37640 (Best Val Exact: 0.35600, Patience: 0)\n",
      "[DEBUG] 입력: 845+418 | 정답: 1263 | 예측: 1263\n"
     ]
    },
    {
     "name": "stderr",
     "output_type": "stream",
     "text": [
      "                                                                 \r"
     ]
    },
    {
     "name": "stdout",
     "output_type": "stream",
     "text": [
      "Epoch 038 | Train Loss: 0.78955 | Token Acc: 0.68531 || Val Loss: 1.30557 | Token Acc: 0.64938 | Exact Acc: 0.36840 (Best Val Exact: 0.37640, Patience: 0)\n",
      "[DEBUG] 입력: 849+768 | 정답: 1617 | 예측: 1618\n"
     ]
    },
    {
     "name": "stderr",
     "output_type": "stream",
     "text": [
      "                                                                 \r"
     ]
    },
    {
     "name": "stdout",
     "output_type": "stream",
     "text": [
      "Epoch 039 | Train Loss: 0.78535 | Token Acc: 0.68645 || Val Loss: 1.26981 | Token Acc: 0.65840 | Exact Acc: 0.40140 (Best Val Exact: 0.37640, Patience: 1)\n",
      "[DEBUG] 입력: 690+326 | 정답: 1016 | 예측: 1013\n"
     ]
    },
    {
     "name": "stderr",
     "output_type": "stream",
     "text": [
      "                                                                 \r"
     ]
    },
    {
     "name": "stdout",
     "output_type": "stream",
     "text": [
      "Epoch 040 | Train Loss: 0.78595 | Token Acc: 0.68593 || Val Loss: 1.27454 | Token Acc: 0.65672 | Exact Acc: 0.39780 (Best Val Exact: 0.40140, Patience: 0)\n",
      "[DEBUG] 입력: 59+234  | 정답: 293 | 예측: 293\n"
     ]
    },
    {
     "name": "stderr",
     "output_type": "stream",
     "text": [
      "                                                                 \r"
     ]
    },
    {
     "name": "stdout",
     "output_type": "stream",
     "text": [
      "Epoch 041 | Train Loss: 0.76948 | Token Acc: 0.69333 || Val Loss: 1.31766 | Token Acc: 0.65398 | Exact Acc: 0.38260 (Best Val Exact: 0.40140, Patience: 1)\n",
      "[DEBUG] 입력: 74+2    | 정답: 76 | 예측: 76\n"
     ]
    },
    {
     "name": "stderr",
     "output_type": "stream",
     "text": [
      "                                                                 \r"
     ]
    },
    {
     "name": "stdout",
     "output_type": "stream",
     "text": [
      "Epoch 042 | Train Loss: 0.77355 | Token Acc: 0.69135 || Val Loss: 1.27873 | Token Acc: 0.65801 | Exact Acc: 0.39340 (Best Val Exact: 0.40140, Patience: 2)\n",
      "[DEBUG] 입력: 721+794 | 정답: 1515 | 예측: 1514\n"
     ]
    },
    {
     "name": "stderr",
     "output_type": "stream",
     "text": [
      "                                                                 \r"
     ]
    },
    {
     "name": "stdout",
     "output_type": "stream",
     "text": [
      "Epoch 043 | Train Loss: 0.76270 | Token Acc: 0.69714 || Val Loss: 1.24006 | Token Acc: 0.66672 | Exact Acc: 0.42560 (Best Val Exact: 0.40140, Patience: 3)\n",
      "[DEBUG] 입력: 46+490  | 정답: 536 | 예측: 536\n"
     ]
    },
    {
     "name": "stderr",
     "output_type": "stream",
     "text": [
      "                                                                 \r"
     ]
    },
    {
     "name": "stdout",
     "output_type": "stream",
     "text": [
      "Epoch 044 | Train Loss: 0.75688 | Token Acc: 0.69916 || Val Loss: 1.29979 | Token Acc: 0.66031 | Exact Acc: 0.40640 (Best Val Exact: 0.42560, Patience: 0)\n",
      "[DEBUG] 입력: 604+548 | 정답: 1152 | 예측: 1150\n"
     ]
    },
    {
     "name": "stderr",
     "output_type": "stream",
     "text": [
      "                                                                 \r"
     ]
    },
    {
     "name": "stdout",
     "output_type": "stream",
     "text": [
      "Epoch 045 | Train Loss: 0.76593 | Token Acc: 0.69363 || Val Loss: 1.31752 | Token Acc: 0.66137 | Exact Acc: 0.41240 (Best Val Exact: 0.42560, Patience: 1)\n",
      "[DEBUG] 입력: 797+407 | 정답: 1204 | 예측: 1203\n"
     ]
    },
    {
     "name": "stderr",
     "output_type": "stream",
     "text": [
      "                                                                 \r"
     ]
    },
    {
     "name": "stdout",
     "output_type": "stream",
     "text": [
      "Epoch 046 | Train Loss: 0.75961 | Token Acc: 0.69709 || Val Loss: 1.40780 | Token Acc: 0.65039 | Exact Acc: 0.36760 (Best Val Exact: 0.42560, Patience: 2)\n",
      "[DEBUG] 입력: 57+979  | 정답: 1036 | 예측: 1036\n"
     ]
    },
    {
     "name": "stderr",
     "output_type": "stream",
     "text": [
      "                                                                 \r"
     ]
    },
    {
     "name": "stdout",
     "output_type": "stream",
     "text": [
      "Epoch 047 | Train Loss: 0.74564 | Token Acc: 0.70425 || Val Loss: 1.33551 | Token Acc: 0.66570 | Exact Acc: 0.43180 (Best Val Exact: 0.42560, Patience: 3)\n",
      "[DEBUG] 입력: 471+708 | 정답: 1179 | 예측: 1181\n"
     ]
    },
    {
     "name": "stderr",
     "output_type": "stream",
     "text": [
      "                                                                 \r"
     ]
    },
    {
     "name": "stdout",
     "output_type": "stream",
     "text": [
      "Epoch 048 | Train Loss: 0.74627 | Token Acc: 0.70355 || Val Loss: 1.30202 | Token Acc: 0.67426 | Exact Acc: 0.47180 (Best Val Exact: 0.43180, Patience: 0)\n",
      "[DEBUG] 입력: 53+832  | 정답: 885 | 예측: 884\n"
     ]
    },
    {
     "name": "stderr",
     "output_type": "stream",
     "text": [
      "                                                                 \r"
     ]
    },
    {
     "name": "stdout",
     "output_type": "stream",
     "text": [
      "Epoch 049 | Train Loss: 0.74739 | Token Acc: 0.70241 || Val Loss: 1.46953 | Token Acc: 0.65605 | Exact Acc: 0.40300 (Best Val Exact: 0.47180, Patience: 0)\n",
      "[DEBUG] 입력: 369+283 | 정답: 652 | 예측: 649\n"
     ]
    },
    {
     "name": "stderr",
     "output_type": "stream",
     "text": [
      "                                                                 \r"
     ]
    },
    {
     "name": "stdout",
     "output_type": "stream",
     "text": [
      "Epoch 050 | Train Loss: 0.74143 | Token Acc: 0.70539 || Val Loss: 1.30858 | Token Acc: 0.67656 | Exact Acc: 0.47460 (Best Val Exact: 0.47180, Patience: 1)\n",
      "[DEBUG] 입력: 64+135  | 정답: 199 | 예측: 199\n"
     ]
    }
   ],
   "source": [
    "# ==============================\n",
    "# 학습 루프 (Exact Match 기반 Early Stopping)\n",
    "# ==============================\n",
    "train_losses, val_losses = [], []\n",
    "train_accs, val_accs = [], []\n",
    "val_exact_accs = []   # train_exact_accs는 생략\n",
    "\n",
    "best_val_eacc = 0.0\n",
    "patience_counter = 0\n",
    "\n",
    "for epoch in range(1, N_EPOCHS + 1):\n",
    "    # ------------------------------\n",
    "    # 1) 학습 / 평가\n",
    "    # ------------------------------\n",
    "    tr_loss, tr_acc = train_one_epoch(\n",
    "        model, train_loader, optimizer, criterion,\n",
    "        epoch, clip=CLIP\n",
    "    )\n",
    "    va_loss, va_acc = evaluate_one_epoch(\n",
    "        model, test_loader, criterion\n",
    "    )\n",
    "\n",
    "    # Validation은 전체 데이터셋으로 Exact Match 평가\n",
    "    va_eacc = exact_match_fn(\n",
    "        model, test_dataset,\n",
    "        stoi=train_dataset.stoi,\n",
    "        itos=train_dataset.itos,\n",
    "        device=device,\n",
    "        n_samples=None   # None → 전체 데이터 평가\n",
    "    )\n",
    "\n",
    "    # ------------------------------\n",
    "    # 2) 기록\n",
    "    # ------------------------------\n",
    "    train_losses.append(tr_loss); val_losses.append(va_loss)\n",
    "    train_accs.append(tr_acc); val_accs.append(va_acc)\n",
    "    val_exact_accs.append(va_eacc)\n",
    "\n",
    "    print(f\"Epoch {epoch:03d} | \"\n",
    "          f\"Train Loss: {tr_loss:.5f} | Token Acc: {tr_acc:.5f} || \"\n",
    "          f\"Val Loss: {va_loss:.5f} | Token Acc: {va_acc:.5f} | Exact Acc: {va_eacc:.5f} \"\n",
    "          f\"(Best Val Exact: {best_val_eacc:.5f}, Patience: {patience_counter})\")\n",
    "\n",
    "    # ------------------------------\n",
    "    # 3) 샘플 디버그 출력\n",
    "    # ------------------------------\n",
    "    if epoch % 1 == 0:\n",
    "        src_ids, tgt_ids, src_str, tgt_str = random.choice(test_dataset)\n",
    "        pred = evaluate_seq2seq(\n",
    "            model, src_str,\n",
    "            stoi=train_dataset.stoi,\n",
    "            itos=train_dataset.itos,\n",
    "            device=device,\n",
    "            max_len=len(tgt_str)   # 고정 길이\n",
    "        )\n",
    "        print(f\"[DEBUG] 입력: {src_str} | 정답: {clean_str(tgt_str)} | 예측: {clean_str(pred)}\")\n",
    "\n",
    "    # ------------------------------\n",
    "    # 4) Early Stopping (Exact Match 기준)\n",
    "    # ------------------------------\n",
    "    if va_eacc > best_val_eacc + MIN_DELTA:\n",
    "        best_val_eacc = va_eacc\n",
    "        patience_counter = 0\n",
    "    else:\n",
    "        patience_counter += 1\n",
    "        if patience_counter >= PATIENCE:\n",
    "            print(\"Early stopping triggered!\")\n",
    "            break\n"
   ]
  },
  {
   "cell_type": "code",
   "execution_count": 8,
   "metadata": {
    "execution": {
     "iopub.execute_input": "2025-09-29T14:05:05.654688Z",
     "iopub.status.busy": "2025-09-29T14:05:05.654173Z",
     "iopub.status.idle": "2025-09-29T14:05:07.157528Z",
     "shell.execute_reply": "2025-09-29T14:05:07.156588Z",
     "shell.execute_reply.started": "2025-09-29T14:05:05.654659Z"
    },
    "tags": []
   },
   "outputs": [
    {
     "data": {
      "image/png": "[encoded data removed]",
      "text/plain": [
       "<Figure size 1800x500 with 3 Axes>"
      ]
     },
     "metadata": {},
     "output_type": "display_data"
    },
    {
     "name": "stdout",
     "output_type": "stream",
     "text": [
      "훈련 결과, 그래프, 모델 가중치, 메타정보를 'results_seq2seq_add_3num' 폴더에 저장했습니다.\n"
     ]
    }
   ],
   "source": [
    "# ----------------------------------------------------------\n",
    "# 학습 완료 후 결과 저장 (Seq2Seq, Attention 없음)\n",
    "# ----------------------------------------------------------\n",
    "\n",
    "import os\n",
    "import json\n",
    "import pickle\n",
    "import matplotlib.pyplot as plt\n",
    "\n",
    "# 저장 디렉토리 생성\n",
    "save_dir = \"results_seq2seq_add_3num\"\n",
    "os.makedirs(save_dir, exist_ok=True)\n",
    "\n",
    "# 1) 학습 로그 (loss, acc 기록) 저장\n",
    "history = {\n",
    "    \"train_losses\": [float(x) for x in train_losses],\n",
    "    \"val_losses\": [float(x) for x in val_losses],\n",
    "    \"train_accs\": [float(x) for x in train_accs],\n",
    "    \"val_accs\": [float(x) for x in val_accs],\n",
    "    \"val_exact_accs\": [float(x) for x in val_exact_accs],\n",
    "}\n",
    "with open(os.path.join(save_dir, \"history.json\"), \"w\") as f:\n",
    "    json.dump(history, f, indent=2)\n",
    "\n",
    "# 2) 학습 곡선 그래프 저장\n",
    "plt.figure(figsize=(18,5))\n",
    "\n",
    "plt.subplot(1,3,1)\n",
    "plt.plot(train_losses, label=\"Train Loss\")\n",
    "plt.plot(val_losses, label=\"Val Loss\")\n",
    "plt.legend(); plt.title(\"Loss Curve\")\n",
    "\n",
    "plt.subplot(1,3,2)\n",
    "plt.plot(train_accs, label=\"Train Token Acc\")\n",
    "plt.plot(val_accs, label=\"Val Token Acc\")\n",
    "plt.legend(); plt.title(\"Token Accuracy Curve\")\n",
    "\n",
    "plt.subplot(1,3,3)\n",
    "plt.plot(val_exact_accs, label=\"Val Exact Acc\")\n",
    "plt.legend(); plt.title(\"Exact Match Accuracy Curve\")\n",
    "\n",
    "plt.savefig(os.path.join(save_dir, \"training_curves.png\"), dpi=200, bbox_inches=\"tight\")\n",
    "plt.show()\n",
    "plt.close()\n",
    "\n",
    "# 3) 모델 가중치 저장\n",
    "torch.save(model.state_dict(), os.path.join(save_dir, \"results_seq2seq_add_3num.pt\"))\n",
    "\n",
    "# 4) 메타 정보 저장 (옵션)\n",
    "meta = {\n",
    "    \"input_dim\": INPUT_DIM,\n",
    "    \"output_dim\": OUTPUT_DIM,\n",
    "    \"emb_dim\": EMB_DIM,\n",
    "    \"hidden_dim\": HIDDEN_DIM,\n",
    "    \"n_epochs\": N_EPOCHS,\n",
    "    \"best_val_exact\": max(val_exact_accs) if val_exact_accs else None\n",
    "}\n",
    "with open(os.path.join(save_dir, \"meta.json\"), \"w\") as f:\n",
    "    json.dump(meta, f, indent=2)\n",
    "\n",
    "\n",
    "#5) stoi / itos 저장\n",
    "with open(os.path.join(save_dir, \"stoi.pkl\"), \"wb\") as f:\n",
    "    pickle.dump(train_dataset.stoi, f)\n",
    "\n",
    "with open(os.path.join(save_dir, \"itos.pkl\"), \"wb\") as f:\n",
    "    pickle.dump(train_dataset.itos, f)\n",
    "    \n",
    "\n",
    "\n",
    "print(f\"훈련 결과, 그래프, 모델 가중치, 메타정보를 '{save_dir}' 폴더에 저장했습니다.\")\n"
   ]
  },
  {
   "cell_type": "code",
   "execution_count": 9,
   "metadata": {
    "execution": {
     "iopub.execute_input": "2025-09-29T14:05:07.158895Z",
     "iopub.status.busy": "2025-09-29T14:05:07.158552Z",
     "iopub.status.idle": "2025-09-29T14:05:07.185286Z",
     "shell.execute_reply": "2025-09-29T14:05:07.184411Z",
     "shell.execute_reply.started": "2025-09-29T14:05:07.158869Z"
    },
    "tags": []
   },
   "outputs": [
    {
     "name": "stdout",
     "output_type": "stream",
     "text": [
      "\n",
      "=== 3자리 덧셈 예시 (Seq2Seq) ===\n",
      "문제: 491+175  | 정답: 666    | 예측: 666    | 오차: 0\n",
      "문제: 62+761   | 정답: 823    | 예측: 823    | 오차: 0\n",
      "문제: 98+394   | 정답: 492    | 예측: 490    | 오차: 2\n",
      "문제: 515+805  | 정답: 1320   | 예측: 1321   | 오차: 1\n",
      "문제: 643+8    | 정답: 651    | 예측: 650    | 오차: 1\n",
      "\n",
      "=== 임의 입력 예시 (Seq2Seq) ===\n",
      "문제: 396+32   | 정답:  428   | 예측: 427    | 오차: 1\n",
      "문제: 543+111  | 정답:  654   | 예측: 654    | 오차: 0\n",
      "문제: 100+390  | 정답:  490   | 예측: 400    | 오차: 90\n",
      "문제: 246+135  | 정답:  381   | 예측: 381    | 오차: 0\n",
      "문제: 88+1     | 정답:   89   | 예측: 88     | 오차: 1\n"
     ]
    }
   ],
   "source": [
    "# ==============================\n",
    "# 9.3.4 모델 예측과 샘플 확인 (3자리 덧셈 Seq2Seq)\n",
    "# ==============================\n",
    "\n",
    "# ------------------------------\n",
    "# 예시 출력 (테스트 데이터에서 샘플 확인)\n",
    "# ------------------------------\n",
    "@torch.no_grad()\n",
    "def show_examples_seq2seq(model, test_data, n=5):\n",
    "    indices = random.sample(range(len(test_data)), n)\n",
    "    print(\"\\n=== 3자리 덧셈 예시 (Seq2Seq) ===\")\n",
    "    for idx in indices:\n",
    "        _, _, src_str, tgt_str = test_data[idx]\n",
    "        pred_raw = evaluate_seq2seq(\n",
    "            model, src_str,\n",
    "            stoi=train_dataset.stoi,\n",
    "            itos=train_dataset.itos,\n",
    "            device=device,\n",
    "            max_len=len(tgt_str)\n",
    "        )\n",
    "\n",
    "        # 오차 계산 (공백 포함한 문자열 그대로 비교)\n",
    "        pred_str = pred_raw\n",
    "        true_str = tgt_str\n",
    "        try:\n",
    "            error = abs(int(true_str.strip()) - int(pred_str.strip()))\n",
    "        except:\n",
    "            error = \"N/A\"\n",
    "\n",
    "        print(f\"문제: {src_str:<8} | 정답: {true_str:<6} | 예측: {pred_str:<6} | 오차: {error}\")\n",
    "\n",
    "\n",
    "# ------------------------------\n",
    "# 실행: 테스트 데이터 무작위 5개 확인\n",
    "# ------------------------------\n",
    "show_examples_seq2seq(model, test_dataset, n=5)\n",
    "\n",
    "\n",
    "# ------------------------------\n",
    "# 임의 입력 확인\n",
    "# ------------------------------\n",
    "custom_examples = [\n",
    "    \"396+32 \",\n",
    "    \"543+111\",\n",
    "    \"100+390\",\n",
    "    \"246+135\",\n",
    "    \"88+1   \"   # 실제 공백 포함 케이스\n",
    "]\n",
    "\n",
    "print(\"\\n=== 임의 입력 예시 (Seq2Seq) ===\")\n",
    "for x in custom_examples:\n",
    "    # 입력 그대로 사용 (공백 포함)\n",
    "    src_proc = x  \n",
    "\n",
    "    pred_raw = evaluate_seq2seq(\n",
    "        model, src_proc,\n",
    "        stoi=train_dataset.stoi,\n",
    "        itos=train_dataset.itos,\n",
    "        device=device,\n",
    "        max_len=4   # 항상 출력 길이 4로 고정\n",
    "    )\n",
    "\n",
    "    # 정답 계산\n",
    "    try:\n",
    "        a, b = x.replace(\" \", \"\").split(\"+\")\n",
    "        true = str(int(a) + int(b)).rjust(4)  # 항상 4자리, 공백 패딩\n",
    "    except:\n",
    "        true = \"N/A\"\n",
    "\n",
    "    pred_str = pred_raw\n",
    "    try:\n",
    "        error = abs(int(true.strip()) - int(pred_str.strip()))\n",
    "    except:\n",
    "        error = \"N/A\"\n",
    "\n",
    "    print(f\"문제: {x:<8} | 정답: {true:<6} | 예측: {pred_str:<6} | 오차: {error}\")\n"
   ]
  },
  {
   "cell_type": "code",
   "execution_count": 10,
   "metadata": {
    "execution": {
     "iopub.execute_input": "2025-09-29T14:05:07.186611Z",
     "iopub.status.busy": "2025-09-29T14:05:07.186314Z",
     "iopub.status.idle": "2025-09-29T14:05:07.214179Z",
     "shell.execute_reply": "2025-09-29T14:05:07.213315Z",
     "shell.execute_reply.started": "2025-09-29T14:05:07.186593Z"
    },
    "tags": []
   },
   "outputs": [
    {
     "name": "stdout",
     "output_type": "stream",
     "text": [
      "문제: 123+456\n",
      "예측: '_578 '\n"
     ]
    }
   ],
   "source": [
    "import os\n",
    "import torch\n",
    "import torch.nn as nn\n",
    "import pickle\n",
    "\n",
    "# ===========================================\n",
    "# 0. 저장된 폴더 지정\n",
    "# ===========================================\n",
    "save_dir = \"results_seq2seq_add_3num\"  # 학습 시 사용한 동일 폴더\n",
    "\n",
    "# ===========================================\n",
    "# 1. stoi / itos 불러오기\n",
    "# ===========================================\n",
    "with open(os.path.join(save_dir, \"stoi.pkl\"), \"rb\") as f:\n",
    "    stoi = pickle.load(f)\n",
    "with open(os.path.join(save_dir, \"itos.pkl\"), \"rb\") as f:\n",
    "    itos = pickle.load(f)\n",
    "\n",
    "# ===========================================\n",
    "# 2. 모델 구조 정의 (학습 때와 동일)\n",
    "# ===========================================\n",
    "# Encoder 정의\n",
    "class Encoder(nn.Module):\n",
    "    def __init__(self, input_dim, emb_dim, hidden_dim, num_layers=1, dropout=0.0):\n",
    "        super().__init__()\n",
    "        self.embedding = nn.Embedding(input_dim, emb_dim)\n",
    "        self.lstm = nn.LSTM(\n",
    "            emb_dim, hidden_dim,\n",
    "            num_layers=num_layers,\n",
    "            batch_first=True,\n",
    "            dropout=dropout if num_layers > 1 else 0.0\n",
    "        )\n",
    "\n",
    "    def forward(self, src):\n",
    "        \"\"\"\n",
    "        src: [batch_size, src_len=7]  예: \"123+456\"\n",
    "        \"\"\"\n",
    "        embedded = self.embedding(src)                   # [B, 7, E]\n",
    "        _, (hidden, cell) = self.lstm(embedded)          # hidden/cell: [L, B, H]\n",
    "        return hidden, cell\n",
    "\n",
    "# Decoder 정의\n",
    "class Decoder(nn.Module):\n",
    "    def __init__(self, output_dim, emb_dim, hidden_dim, num_layers=1, dropout=0.0):\n",
    "        super().__init__()\n",
    "        self.embedding = nn.Embedding(output_dim, emb_dim)\n",
    "        self.lstm = nn.LSTM(\n",
    "            emb_dim, hidden_dim,\n",
    "            num_layers=num_layers,\n",
    "            batch_first=True,\n",
    "            dropout=dropout if num_layers > 1 else 0.0\n",
    "        )\n",
    "        self.fc_out = nn.Linear(hidden_dim, output_dim)\n",
    "\n",
    "    def forward(self, input, hidden, cell):\n",
    "        \"\"\"\n",
    "        input: [B]  (단일 토큰 인덱스, '_' 또는 숫자/공백 등)\n",
    "        hidden, cell: [num_layers, B, H]\n",
    "        \"\"\"\n",
    "        input = input.unsqueeze(1)                       # [B, 1]\n",
    "        embedded = self.embedding(input)                 # [B, 1, E]\n",
    "        output, (hidden, cell) = self.lstm(embedded, (hidden, cell))\n",
    "        prediction = self.fc_out(output.squeeze(1))      # [B, vocab]\n",
    "        return prediction, hidden, cell\n",
    "\n",
    "# Seq2Seq (inference에서는 forward를 직접 쓰지 않아도 됨)\n",
    "class Seq2Seq(nn.Module):\n",
    "    def __init__(self, encoder, decoder, device):\n",
    "        super().__init__()\n",
    "        self.encoder = encoder\n",
    "        self.decoder = decoder\n",
    "        self.device = device\n",
    "\n",
    "# ===========================================\n",
    "# 3. 모델 불러오기\n",
    "# ===========================================\n",
    "device = torch.device(\"cuda:6\" if torch.cuda.is_available() else \"cpu\")\n",
    "\n",
    "# 하이퍼파라미터는 학습 때와 동일해야 함\n",
    "INPUT_DIM = len(stoi)     # 입력 vocab 크기\n",
    "OUTPUT_DIM = len(itos)    # 출력 vocab 크기 (대개 동일하지만 itos 기준 사용 권장)\n",
    "EMB_DIM = 32              # 학습 시 사용한 값과 동일하게\n",
    "HIDDEN_DIM = 192          # 학습 시 사용한 값과 동일하게\n",
    "NUM_LAYERS = 1\n",
    "DROPOUT = 0.0\n",
    "\n",
    "enc = Encoder(INPUT_DIM, EMB_DIM, HIDDEN_DIM, num_layers=NUM_LAYERS, dropout=DROPOUT).to(device)\n",
    "dec = Decoder(OUTPUT_DIM, EMB_DIM, HIDDEN_DIM, num_layers=NUM_LAYERS, dropout=DROPOUT).to(device)\n",
    "loaded_model = Seq2Seq(enc, dec, device).to(device)\n",
    "\n",
    "# 모델 가중치 불러오기\n",
    "state_dict = torch.load(\n",
    "    os.path.join(save_dir, \"results_seq2seq_add_3num.pt\"),\n",
    "    map_location=device,\n",
    "    weights_only=True   # 보안 강화 옵션\n",
    ")\n",
    "loaded_model.load_state_dict(state_dict)\n",
    "loaded_model.eval()\n",
    "\n",
    "# ===========================================\n",
    "# 4. 예측 함수 (출력: '_' + 네 자리, SOS/EOS 없음)\n",
    "# ===========================================\n",
    "@torch.no_grad()\n",
    "def evaluate_seq2seq(model, src_str, stoi, itos, device):\n",
    "    # 입력 문자열을 인덱스로 변환\n",
    "    src = torch.tensor([stoi[c] for c in src_str], device=device).unsqueeze(0)  # [1, 7]\n",
    "    # 인코더\n",
    "    hidden, cell = model.encoder(src)\n",
    "\n",
    "    # 디코더: 우리는 시작 토큰으로 '_'를 직접 사용\n",
    "    outputs = [\"_\"]\n",
    "    input_tok = torch.tensor([stoi[\"_\"]], device=device)  # 첫 입력은 '_' 고정\n",
    "\n",
    "    # 뒤 4자리 생성\n",
    "    for _ in range(4):\n",
    "        logits, hidden, cell = model.decoder(input_tok, hidden, cell)\n",
    "        top1 = logits.argmax(1)           # [1]\n",
    "        outputs.append(itos[top1.item()]) # 토큰 → 문자\n",
    "        input_tok = top1                  # 다음 step의 입력\n",
    "\n",
    "    return \"\".join(outputs)  # 총 길이 5\n",
    "\n",
    "# ===========================================\n",
    "# 5. 테스트 입력\n",
    "# ===========================================\n",
    "test_input = \"123+456\"\n",
    "prediction = evaluate_seq2seq(loaded_model, test_input, stoi, itos, device)\n",
    "\n",
    "print(f\"문제: {test_input}\")\n",
    "print(f\"예측: '{prediction}'\")  # 공백까지 확인을 위해 따옴표로 감쌈\n"
   ]
  },
  {
   "cell_type": "code",
   "execution_count": null,
   "metadata": {},
   "outputs": [],
   "source": []
  },
  {
   "cell_type": "code",
   "execution_count": null,
   "metadata": {},
   "outputs": [],
   "source": []
  }
 ],
 "metadata": {
  "accelerator": "GPU",
  "colab": {
   "gpuType": "T4",
   "provenance": []
  },
  "kernelspec": {
   "display_name": "Python 3 (ipykernel)",
   "language": "python",
   "name": "python3"
  },
  "language_info": {
   "codemirror_mode": {
    "name": "ipython",
    "version": 3
   },
   "file_extension": ".py",
   "mimetype": "text/x-python",
   "name": "python",
   "nbconvert_exporter": "python",
   "pygments_lexer": "ipython3",
   "version": "3.8.10"
  }
 },
 "nbformat": 4,
 "nbformat_minor": 4
}
