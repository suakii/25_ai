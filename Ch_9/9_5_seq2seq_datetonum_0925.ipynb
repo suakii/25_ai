{
 "cells": [
  {
   "cell_type": "code",
   "execution_count": 1,
   "metadata": {
    "execution": {
     "iopub.execute_input": "2025-09-30T06:32:23.183310Z",
     "iopub.status.busy": "2025-09-30T06:32:23.183140Z",
     "iopub.status.idle": "2025-09-30T06:32:25.269332Z",
     "shell.execute_reply": "2025-09-30T06:32:25.268332Z",
     "shell.execute_reply.started": "2025-09-30T06:32:23.183293Z"
    },
    "tags": []
   },
   "outputs": [
    {
     "name": "stdout",
     "output_type": "stream",
     "text": [
      "Device: cuda:8\n",
      "입력 배치 shape: torch.Size([128, 30])\n",
      "출력 배치 shape: torch.Size([128, 12])\n",
      "첫 번째 샘플 원문: feb 11, 2011 → 2011-02-11\n",
      "첫 번째 입력 인덱스: [1, 43, 42, 39, 3, 7, 7, 4, 3, 8, 6, 7, 7, 2, 0, 0, 0, 0, 0, 0]\n",
      "첫 번째 출력 인덱스: [1, 6, 4, 5, 5, 3, 4, 6, 3, 5, 5, 2]\n"
     ]
    }
   ],
   "source": [
    "# ==============================\n",
    "# 데이터 로딩 작업\n",
    "# ==============================\n",
    "import random\n",
    "import numpy as np\n",
    "import torch\n",
    "from torch.utils.data import Dataset, DataLoader\n",
    "from torch.nn.utils.rnn import pad_sequence\n",
    "from sklearn.model_selection import train_test_split\n",
    "\n",
    "# ==============================\n",
    "# 시드 고정\n",
    "# ==============================\n",
    "seed = 42\n",
    "random.seed(seed)\n",
    "np.random.seed(seed)\n",
    "torch.manual_seed(seed)\n",
    "if torch.cuda.is_available():\n",
    "    torch.cuda.manual_seed_all(seed)\n",
    "\n",
    "device = torch.device(\"cuda:8\" if torch.cuda.is_available() else \"cpu\")\n",
    "print(\"Device:\", device)\n",
    "\n",
    "# ==============================\n",
    "# 토큰 정의\n",
    "# ==============================\n",
    "PAD = \"<PAD>\"\n",
    "SOS = \"<SOS>\"\n",
    "EOS = \"<EOS>\"\n",
    "\n",
    "# ------------------------------\n",
    "# Dataset 정의 (Reverse 옵션 추가, padding은 collate_fn에서 처리)\n",
    "# ------------------------------\n",
    "class DateDataset(Dataset):\n",
    "    def __init__(self, samples, src_stoi=None, tgt_stoi=None, reverse=True):\n",
    "        self.samples = samples\n",
    "        self.reverse = reverse\n",
    "\n",
    "        # 입력 문자 사전\n",
    "        if src_stoi is None:\n",
    "            src_vocab = set(\"\".join(s for s, _ in self.samples))\n",
    "            src_tokens = [PAD, SOS, EOS] + sorted(src_vocab)\n",
    "            self.src_stoi = {s: i for i, s in enumerate(src_tokens)}\n",
    "        else:\n",
    "            self.src_stoi = src_stoi\n",
    "        self.src_itos = {i: s for s, i in self.src_stoi.items()}\n",
    "\n",
    "        # 출력 문자 사전\n",
    "        if tgt_stoi is None:\n",
    "            tgt_vocab = set(\"\".join(t for _, t in self.samples))\n",
    "            tgt_tokens = [PAD, SOS, EOS] + sorted(tgt_vocab)\n",
    "            self.tgt_stoi = {s: i for i, s in enumerate(tgt_tokens)}\n",
    "        else:\n",
    "            self.tgt_stoi = tgt_stoi\n",
    "        self.tgt_itos = {i: s for s, i in self.tgt_stoi.items()}\n",
    "\n",
    "    def __len__(self):\n",
    "        return len(self.samples)\n",
    "\n",
    "    def __getitem__(self, idx):\n",
    "        src, tgt = self.samples[idx]\n",
    "\n",
    "        # Reverse Option 적용\n",
    "        if self.reverse:\n",
    "            src = src[::-1]\n",
    "\n",
    "        # 인덱스 변환 (패딩은 collate_fn에서 처리)\n",
    "        src_ids = [self.src_stoi[SOS]] + [self.src_stoi[c] for c in src] + [self.src_stoi[EOS]]\n",
    "        tgt_ids = [self.tgt_stoi[SOS]] + [self.tgt_stoi[c] for c in tgt] + [self.tgt_stoi[EOS]]\n",
    "\n",
    "        return torch.tensor(src_ids), torch.tensor(tgt_ids), src, tgt\n",
    "\n",
    "\n",
    "# ------------------------------\n",
    "# collate_fn: 배치 단위 padding\n",
    "# ------------------------------\n",
    "def collate_fn(batch):\n",
    "    src_batch, tgt_batch, src_strs, tgt_strs = zip(*batch)\n",
    "\n",
    "    src_batch = pad_sequence(src_batch, batch_first=True, padding_value=train_dataset.src_stoi[PAD])\n",
    "    tgt_batch = pad_sequence(tgt_batch, batch_first=True, padding_value=train_dataset.tgt_stoi[PAD])\n",
    "\n",
    "    return src_batch, tgt_batch, src_strs, tgt_strs\n",
    "\n",
    "\n",
    "# ==============================\n",
    "# 데이터셋 불러오기\n",
    "# ==============================\n",
    "all_samples = []\n",
    "with open(\"date.txt\", encoding=\"utf-8\") as f:\n",
    "    for line in f:\n",
    "        line = line.strip()\n",
    "        if not line:\n",
    "            continue\n",
    "        src, tgt = line.split(\"_\")\n",
    "        all_samples.append((src.strip(), tgt.strip()))\n",
    "\n",
    "train_samples, test_samples = train_test_split(all_samples, test_size=0.2, random_state=42)\n",
    "\n",
    "train_dataset = DateDataset(train_samples, reverse=False)\n",
    "test_dataset = DateDataset(test_samples,\n",
    "                           src_stoi=train_dataset.src_stoi,\n",
    "                           tgt_stoi=train_dataset.tgt_stoi,\n",
    "                           reverse=False)\n",
    "\n",
    "train_loader = DataLoader(train_dataset, batch_size=128, shuffle=True, collate_fn=collate_fn)\n",
    "test_loader = DataLoader(test_dataset, batch_size=128, shuffle=False, collate_fn=collate_fn)\n",
    "\n",
    "# ==============================\n",
    "# 데이터 예시 출력\n",
    "# ==============================\n",
    "for src_batch, tgt_batch, src_strs, tgt_strs in train_loader:\n",
    "    print(\"입력 배치 shape:\", src_batch.shape)\n",
    "    print(\"출력 배치 shape:\", tgt_batch.shape)\n",
    "    print(\"첫 번째 샘플 원문:\", src_strs[0], \"→\", tgt_strs[0])\n",
    "    print(\"첫 번째 입력 인덱스:\", src_batch[0][:20].tolist())\n",
    "    print(\"첫 번째 출력 인덱스:\", tgt_batch[0][:20].tolist())\n",
    "    break\n"
   ]
  },
  {
   "cell_type": "code",
   "execution_count": 2,
   "metadata": {
    "execution": {
     "iopub.execute_input": "2025-09-30T06:32:25.271659Z",
     "iopub.status.busy": "2025-09-30T06:32:25.270845Z",
     "iopub.status.idle": "2025-09-30T06:32:25.291735Z",
     "shell.execute_reply": "2025-09-30T06:32:25.290585Z",
     "shell.execute_reply.started": "2025-09-30T06:32:25.271623Z"
    },
    "tags": []
   },
   "outputs": [],
   "source": [
    "import torch\n",
    "import torch.nn as nn\n",
    "import torch.optim as optim\n",
    "\n",
    "# ==============================\n",
    "# Encoder\n",
    "# ==============================\n",
    "class Encoder(nn.Module):\n",
    "    def __init__(self, input_dim, emb_dim, hidden_dim, num_layers=1, dropout=0.0):\n",
    "        super().__init__()\n",
    "        self.embedding = nn.Embedding(input_dim, emb_dim, padding_idx=0)  # PAD=0\n",
    "        self.lstm = nn.LSTM(emb_dim, hidden_dim, num_layers=num_layers, batch_first=True, dropout=dropout)\n",
    "\n",
    "    def forward(self, src):\n",
    "        # src: [batch, src_len]\n",
    "        embedded = self.embedding(src)  # [batch, src_len, emb_dim]\n",
    "        outputs, (hidden, cell) = self.lstm(embedded)  # hidden, cell: [num_layers, batch, hidden_dim]\n",
    "        return hidden, cell\n",
    "\n",
    "\n",
    "# ==============================\n",
    "# Decoder\n",
    "# ==============================\n",
    "class Decoder(nn.Module):\n",
    "    def __init__(self, output_dim, emb_dim, hidden_dim, num_layers=1, dropout=0.0):\n",
    "        super().__init__()\n",
    "        self.embedding = nn.Embedding(output_dim, emb_dim, padding_idx=0)\n",
    "        self.lstm = nn.LSTM(emb_dim, hidden_dim, num_layers=num_layers, batch_first=True, dropout=dropout)\n",
    "        self.fc_out = nn.Linear(hidden_dim, output_dim)\n",
    "\n",
    "    def forward(self, input, hidden, cell):\n",
    "        # input: [batch] (토큰 하나)\n",
    "        input = input.unsqueeze(1)              # [batch, 1]\n",
    "        embedded = self.embedding(input)        # [batch, 1, emb_dim]\n",
    "        output, (hidden, cell) = self.lstm(embedded, (hidden, cell))\n",
    "        prediction = self.fc_out(output.squeeze(1))  # [batch, output_dim]\n",
    "        return prediction, hidden, cell\n",
    "\n",
    "\n",
    "# ==============================\n",
    "# Seq2Seq\n",
    "# ==============================\n",
    "class Seq2Seq(nn.Module):\n",
    "    def __init__(self, encoder, decoder, device, pad_idx):\n",
    "        super().__init__()\n",
    "        self.encoder = encoder\n",
    "        self.decoder = decoder\n",
    "        self.device = device\n",
    "        self.pad_idx = pad_idx\n",
    "\n",
    "    def forward(self, src, trg, teacher_forcing_ratio=0.5):\n",
    "        \"\"\"\n",
    "        src: [batch, src_len]\n",
    "        trg: [batch, trg_len]\n",
    "        \"\"\"\n",
    "        batch_size = src.size(0)\n",
    "        trg_len = trg.size(1)\n",
    "        trg_vocab_size = self.decoder.fc_out.out_features\n",
    "\n",
    "        outputs = torch.zeros(batch_size, trg_len, trg_vocab_size).to(self.device)\n",
    "\n",
    "        hidden, cell = self.encoder(src)\n",
    "        input = trg[:, 0]  # 첫 입력 = <SOS>\n",
    "\n",
    "        for t in range(1, trg_len):\n",
    "            output, hidden, cell = self.decoder(input, hidden, cell)\n",
    "            outputs[:, t, :] = output\n",
    "\n",
    "            teacher_force = torch.rand(1).item() < teacher_forcing_ratio\n",
    "            top1 = output.argmax(1)\n",
    "\n",
    "            input = trg[:, t] if teacher_force else top1\n",
    "\n",
    "        return outputs\n"
   ]
  },
  {
   "cell_type": "code",
   "execution_count": 3,
   "metadata": {
    "execution": {
     "iopub.execute_input": "2025-09-30T06:32:25.293668Z",
     "iopub.status.busy": "2025-09-30T06:32:25.293176Z",
     "iopub.status.idle": "2025-09-30T06:32:25.307183Z",
     "shell.execute_reply": "2025-09-30T06:32:25.306062Z",
     "shell.execute_reply.started": "2025-09-30T06:32:25.293627Z"
    },
    "tags": []
   },
   "outputs": [],
   "source": [
    "#추론 관련 함수\n",
    "\n",
    "@torch.no_grad()\n",
    "def greedy_decode_seq2seq(model, src, max_len, tgt_stoi, tgt_itos, debug=False):\n",
    "    model.eval()\n",
    "    hidden, cell = model.encoder(src)   # Encoder는 (hidden, cell) 반환\n",
    "\n",
    "    input_token = torch.tensor([tgt_stoi[\"<SOS>\"]], device=src.device)\n",
    "    outputs = []\n",
    "\n",
    "    for t in range(max_len):\n",
    "        output, hidden, cell = model.decoder(input_token, hidden, cell)  # [1, V]\n",
    "        top1 = output.argmax(1)\n",
    "\n",
    "        if debug:\n",
    "            print(f\"Step {t}: {tgt_itos[top1.item()]}\")\n",
    "\n",
    "        if top1.item() == tgt_stoi[\"<EOS>\"]:\n",
    "            break\n",
    "        if top1.item() not in (tgt_stoi[\"<SOS>\"], tgt_stoi[\"<PAD>\"]):\n",
    "            outputs.append(top1.item())\n",
    "\n",
    "        input_token = top1\n",
    "\n",
    "    return outputs\n",
    "\n",
    "\n",
    "@torch.no_grad()\n",
    "def evaluate_seq2seq(model, x_str, src_stoi, tgt_stoi, tgt_itos, device, max_len=20, debug=False):\n",
    "    # 문자열 → 인덱스 변환\n",
    "    x_idx = [src_stoi.get(c, src_stoi[\"<PAD>\"]) for c in x_str]\n",
    "    src = torch.tensor(x_idx, device=device).unsqueeze(0)  # [1, L]\n",
    "\n",
    "    # Greedy decoding\n",
    "    pred_idx = greedy_decode_seq2seq(model, src, max_len, tgt_stoi, tgt_itos, debug=debug)\n",
    "    pred_str = \"\".join([tgt_itos[i] for i in pred_idx])\n",
    "    return pred_str"
   ]
  },
  {
   "cell_type": "code",
   "execution_count": 4,
   "metadata": {
    "execution": {
     "iopub.execute_input": "2025-09-30T06:32:25.308953Z",
     "iopub.status.busy": "2025-09-30T06:32:25.308506Z",
     "iopub.status.idle": "2025-09-30T06:32:26.075941Z",
     "shell.execute_reply": "2025-09-30T06:32:26.075240Z",
     "shell.execute_reply.started": "2025-09-30T06:32:25.308918Z"
    },
    "tags": []
   },
   "outputs": [],
   "source": [
    "#하이퍼파라미터 & 모델 초기화\n",
    "\n",
    "INPUT_DIM = len(train_dataset.src_stoi)\n",
    "OUTPUT_DIM = len(train_dataset.tgt_stoi)\n",
    "\n",
    "PAD_IDX = train_dataset.tgt_stoi[\"<PAD>\"]\n",
    "SOS_IDX = train_dataset.tgt_stoi[\"<SOS>\"]\n",
    "EOS_IDX = train_dataset.tgt_stoi[\"<EOS>\"]\n",
    "\n",
    "EMB_DIM = 64          # 임베딩 차원\n",
    "HIDDEN_DIM = 256      # LSTM 은닉 차원\n",
    "N_EPOCHS = 50\n",
    "PATIENCE = 15         # early stopping patience\n",
    "MIN_DELTA = 1e-3\n",
    "CLIP = 5.0\n",
    "\n",
    "# Teacher Forcing Ratio 스케줄링\n",
    "TF_START = 0.7\n",
    "TF_END   = 0.3\n",
    "TF_DECAY = 0.02\n",
    "\n",
    "enc = Encoder(INPUT_DIM, EMB_DIM, HIDDEN_DIM).to(device)\n",
    "dec = Decoder(OUTPUT_DIM, EMB_DIM, HIDDEN_DIM).to(device)\n",
    "model = Seq2Seq(enc, dec, device, PAD_IDX).to(device)\n",
    "\n",
    "criterion = nn.CrossEntropyLoss(ignore_index=PAD_IDX)\n",
    "optimizer = optim.Adam(model.parameters(), lr=1e-3)"
   ]
  },
  {
   "cell_type": "code",
   "execution_count": 5,
   "metadata": {
    "execution": {
     "iopub.execute_input": "2025-09-30T06:32:26.078775Z",
     "iopub.status.busy": "2025-09-30T06:32:26.077630Z",
     "iopub.status.idle": "2025-09-30T06:32:26.093040Z",
     "shell.execute_reply": "2025-09-30T06:32:26.091793Z",
     "shell.execute_reply.started": "2025-09-30T06:32:26.078711Z"
    },
    "tags": []
   },
   "outputs": [],
   "source": [
    "#평가 지표\n",
    "def token_accuracy_fn(y_pred, y_true, pad_idx):\n",
    "    pred_tokens = y_pred.argmax(dim=2)  # [B, T]\n",
    "    mask = (y_true != pad_idx)\n",
    "    correct = (pred_tokens == y_true) & mask\n",
    "    acc = correct.sum().float() / mask.sum().float()\n",
    "    return acc.item()\n",
    "\n",
    "@torch.no_grad()\n",
    "@torch.no_grad()\n",
    "def exact_match_fn(model, dataset, src_stoi, tgt_stoi, tgt_itos, device, n_samples=None):\n",
    "    \"\"\"\n",
    "    n_samples=None → 전체 데이터셋 평가\n",
    "    n_samples=숫자 → 그 수만큼 랜덤 샘플 평가\n",
    "    \"\"\"\n",
    "    if n_samples is None or n_samples >= len(dataset):\n",
    "        indices = range(len(dataset))\n",
    "    else:\n",
    "        indices = random.sample(range(len(dataset)), n_samples)\n",
    "\n",
    "    correct = 0\n",
    "    for idx in indices:\n",
    "        _, _, src_str, tgt_str = dataset[idx]\n",
    "        pred_str = evaluate_seq2seq(\n",
    "            model, src_str,\n",
    "            src_stoi=src_stoi, tgt_stoi=tgt_stoi, tgt_itos=tgt_itos,\n",
    "            device=device, max_len=len(tgt_str)+2\n",
    "        )\n",
    "        if pred_str.replace(\" \", \"\") == tgt_str:\n",
    "            correct += 1\n",
    "\n",
    "    return correct / len(indices)\n",
    "\n"
   ]
  },
  {
   "cell_type": "code",
   "execution_count": 6,
   "metadata": {
    "execution": {
     "iopub.execute_input": "2025-09-30T06:32:26.095501Z",
     "iopub.status.busy": "2025-09-30T06:32:26.094838Z",
     "iopub.status.idle": "2025-09-30T06:32:26.112021Z",
     "shell.execute_reply": "2025-09-30T06:32:26.111129Z",
     "shell.execute_reply.started": "2025-09-30T06:32:26.095450Z"
    }
   },
   "outputs": [],
   "source": [
    "from tqdm import tqdm\n",
    "\n",
    "#: 학습 / 평가 함수\n",
    "\n",
    "def train_one_epoch(model, loader, optimizer, criterion, epoch, clip=5.0):\n",
    "    model.train()\n",
    "    total_loss = total_acc = 0.0\n",
    "    # teacher forcing ratio 선형 감소\n",
    "    tf_ratio = max(TF_END, TF_START - TF_DECAY * epoch)\n",
    "    for src, trg, _, _ in tqdm(loader, desc=f\"Train Epoch {epoch}\", leave=False):\n",
    "        src, trg = src.to(device), trg.to(device)\n",
    "        optimizer.zero_grad()\n",
    "\n",
    "        output = model(src, trg, teacher_forcing_ratio=1.0)#tf_ratio)\n",
    "\n",
    "        V = output.shape[-1]\n",
    "        output_flat = output[:, 1:].reshape(-1, V)\n",
    "        trg_flat = trg[:, 1:].reshape(-1)\n",
    "\n",
    "        loss = criterion(output_flat, trg_flat)\n",
    "        loss.backward()\n",
    "        torch.nn.utils.clip_grad_norm_(model.parameters(), clip)\n",
    "        optimizer.step()\n",
    "\n",
    "        B = src.size(0)\n",
    "        Tm1 = trg[:, 1:].size(1)\n",
    "        output_eval = output_flat.view(B, Tm1, V)\n",
    "        trg_eval = trg[:, 1:]\n",
    "        acc = token_accuracy_fn(output_eval, trg_eval, pad_idx=PAD_IDX)\n",
    "\n",
    "        total_loss += loss.item()\n",
    "        total_acc += acc\n",
    "\n",
    "    n = len(loader)\n",
    "    return total_loss / n, total_acc / n\n",
    "\n",
    "\n",
    "\n",
    "@torch.no_grad()\n",
    "def evaluate_one_epoch(model, loader, criterion):\n",
    "    model.eval()\n",
    "    total_loss = total_acc = 0.0\n",
    "\n",
    "    for src, trg, _, _ in loader:\n",
    "        src, trg = src.to(device), trg.to(device)\n",
    "        output = model(src, trg, teacher_forcing_ratio=0.0)\n",
    "\n",
    "        V = output.shape[-1]\n",
    "        output_flat = output[:, 1:].reshape(-1, V)\n",
    "        trg_flat = trg[:, 1:].reshape(-1)\n",
    "\n",
    "        loss = criterion(output_flat, trg_flat)\n",
    "\n",
    "        B = src.size(0)\n",
    "        Tm1 = trg[:, 1:].size(1)\n",
    "        output_eval = output_flat.view(B, Tm1, V)\n",
    "        trg_eval = trg[:, 1:]\n",
    "\n",
    "        total_loss += loss.item()\n",
    "        total_acc += token_accuracy_fn(output_eval, trg_eval, pad_idx=PAD_IDX)\n",
    "\n",
    "    n = len(loader)\n",
    "    return total_loss / n, total_acc / n\n"
   ]
  },
  {
   "cell_type": "code",
   "execution_count": 7,
   "metadata": {
    "execution": {
     "iopub.execute_input": "2025-09-30T06:32:26.115591Z",
     "iopub.status.busy": "2025-09-30T06:32:26.115133Z",
     "iopub.status.idle": "2025-09-30T07:10:55.413040Z",
     "shell.execute_reply": "2025-09-30T07:10:55.411850Z",
     "shell.execute_reply.started": "2025-09-30T06:32:26.115559Z"
    },
    "tags": []
   },
   "outputs": [
    {
     "name": "stderr",
     "output_type": "stream",
     "text": [
      "                                                                \r"
     ]
    },
    {
     "name": "stdout",
     "output_type": "stream",
     "text": [
      "Epoch 001 | Train Loss: 0.78237 | Token Acc: 0.71197 || Val Loss: 0.39607 | Token Acc: 0.86993 | Exact Acc: 0.02350 (Best Val Exact: 0.00000, Patience: 0)\n",
      "[DEBUG] 입력: Tuesday, June 27, 2017 | 정답: 2017-06-27 | 예측: 2017-02-27\n"
     ]
    },
    {
     "name": "stderr",
     "output_type": "stream",
     "text": [
      "                                                                \r"
     ]
    },
    {
     "name": "stdout",
     "output_type": "stream",
     "text": [
      "Epoch 002 | Train Loss: 0.08402 | Token Acc: 0.97789 || Val Loss: 0.01507 | Token Acc: 0.99893 | Exact Acc: 0.15250 (Best Val Exact: 0.02350, Patience: 0)\n",
      "[DEBUG] 입력: 10/30/98 | 정답: 1998-10-30 | 예측: 198-10\n"
     ]
    },
    {
     "name": "stderr",
     "output_type": "stream",
     "text": [
      "                                                                \r"
     ]
    },
    {
     "name": "stdout",
     "output_type": "stream",
     "text": [
      "Epoch 003 | Train Loss: 0.00576 | Token Acc: 0.99988 || Val Loss: 0.00291 | Token Acc: 0.99995 | Exact Acc: 0.18640 (Best Val Exact: 0.15250, Patience: 0)\n",
      "[DEBUG] 입력: 10/25/13 | 정답: 2013-10-25 | 예측: 201-12-\n"
     ]
    },
    {
     "name": "stderr",
     "output_type": "stream",
     "text": [
      "                                                                \r"
     ]
    },
    {
     "name": "stdout",
     "output_type": "stream",
     "text": [
      "Epoch 004 | Train Loss: 0.00193 | Token Acc: 0.99999 || Val Loss: 0.00137 | Token Acc: 1.00000 | Exact Acc: 0.20470 (Best Val Exact: 0.18640, Patience: 0)\n",
      "[DEBUG] 입력: Friday, January 18, 2008 | 정답: 2008-01-18 | 예측: 2008-01-18\n"
     ]
    },
    {
     "name": "stderr",
     "output_type": "stream",
     "text": [
      "                                                                \r"
     ]
    },
    {
     "name": "stdout",
     "output_type": "stream",
     "text": [
      "Epoch 005 | Train Loss: 0.00535 | Token Acc: 0.99888 || Val Loss: 0.00115 | Token Acc: 1.00000 | Exact Acc: 0.28790 (Best Val Exact: 0.20470, Patience: 0)\n",
      "[DEBUG] 입력: SEPTEMBER 29, 1978 | 정답: 1978-09-29 | 예측: 1978-09-29\n"
     ]
    },
    {
     "name": "stderr",
     "output_type": "stream",
     "text": [
      "                                                                \r"
     ]
    },
    {
     "name": "stdout",
     "output_type": "stream",
     "text": [
      "Epoch 006 | Train Loss: 0.00076 | Token Acc: 1.00000 || Val Loss: 0.00058 | Token Acc: 1.00000 | Exact Acc: 0.27290 (Best Val Exact: 0.28790, Patience: 0)\n",
      "[DEBUG] 입력: May 6, 2012 | 정답: 2012-05-06 | 예측: 201-05-26\n"
     ]
    },
    {
     "name": "stderr",
     "output_type": "stream",
     "text": [
      "                                                                \r"
     ]
    },
    {
     "name": "stdout",
     "output_type": "stream",
     "text": [
      "Epoch 007 | Train Loss: 0.00044 | Token Acc: 1.00000 || Val Loss: 0.00037 | Token Acc: 1.00000 | Exact Acc: 0.27780 (Best Val Exact: 0.28790, Patience: 1)\n",
      "[DEBUG] 입력: Feb 19, 1972 | 정답: 1972-02-19 | 예측: 197-22-19\n"
     ]
    },
    {
     "name": "stderr",
     "output_type": "stream",
     "text": [
      "                                                                \r"
     ]
    },
    {
     "name": "stdout",
     "output_type": "stream",
     "text": [
      "Epoch 008 | Train Loss: 0.00031 | Token Acc: 1.00000 || Val Loss: 0.00027 | Token Acc: 1.00000 | Exact Acc: 0.28180 (Best Val Exact: 0.28790, Patience: 2)\n",
      "[DEBUG] 입력: SEP 24, 1976 | 정답: 1976-09-24 | 예측: 197-02-14\n"
     ]
    },
    {
     "name": "stderr",
     "output_type": "stream",
     "text": [
      "                                                                \r"
     ]
    },
    {
     "name": "stdout",
     "output_type": "stream",
     "text": [
      "Epoch 009 | Train Loss: 0.00023 | Token Acc: 1.00000 || Val Loss: 0.00021 | Token Acc: 1.00000 | Exact Acc: 0.28110 (Best Val Exact: 0.28790, Patience: 3)\n",
      "[DEBUG] 입력: february 1, 1982 | 정답: 1982-02-01 | 예측: 1982-02-15\n"
     ]
    },
    {
     "name": "stderr",
     "output_type": "stream",
     "text": [
      "                                                                 \r"
     ]
    },
    {
     "name": "stdout",
     "output_type": "stream",
     "text": [
      "Epoch 010 | Train Loss: 0.00017 | Token Acc: 1.00000 || Val Loss: 0.00016 | Token Acc: 1.00000 | Exact Acc: 0.27910 (Best Val Exact: 0.28790, Patience: 4)\n",
      "[DEBUG] 입력: Saturday, June 26, 1993 | 정답: 1993-06-26 | 예측: 1993-06-26\n"
     ]
    },
    {
     "name": "stderr",
     "output_type": "stream",
     "text": [
      "                                                                 \r"
     ]
    },
    {
     "name": "stdout",
     "output_type": "stream",
     "text": [
      "Epoch 011 | Train Loss: 0.00014 | Token Acc: 1.00000 || Val Loss: 0.00013 | Token Acc: 1.00000 | Exact Acc: 0.27850 (Best Val Exact: 0.28790, Patience: 5)\n",
      "[DEBUG] 입력: friday, may 28, 1999 | 정답: 1999-05-28 | 예측: 1999-05-28\n"
     ]
    },
    {
     "name": "stderr",
     "output_type": "stream",
     "text": [
      "                                                                 \r"
     ]
    },
    {
     "name": "stdout",
     "output_type": "stream",
     "text": [
      "Epoch 012 | Train Loss: 0.00011 | Token Acc: 1.00000 || Val Loss: 0.00010 | Token Acc: 1.00000 | Exact Acc: 0.28150 (Best Val Exact: 0.28790, Patience: 6)\n",
      "[DEBUG] 입력: Sunday, July 26, 2009 | 정답: 2009-07-26 | 예측: 2009-07-26\n"
     ]
    },
    {
     "name": "stderr",
     "output_type": "stream",
     "text": [
      "                                                                 \r"
     ]
    },
    {
     "name": "stdout",
     "output_type": "stream",
     "text": [
      "Epoch 013 | Train Loss: 0.00009 | Token Acc: 1.00000 || Val Loss: 0.00008 | Token Acc: 1.00000 | Exact Acc: 0.28800 (Best Val Exact: 0.28790, Patience: 7)\n",
      "[DEBUG] 입력: OCT 7, 1991 | 정답: 1991-10-07 | 예측: 199-10-17\n"
     ]
    },
    {
     "name": "stderr",
     "output_type": "stream",
     "text": [
      "                                                                 \r"
     ]
    },
    {
     "name": "stdout",
     "output_type": "stream",
     "text": [
      "Epoch 014 | Train Loss: 0.00007 | Token Acc: 1.00000 || Val Loss: 0.00007 | Token Acc: 1.00000 | Exact Acc: 0.28140 (Best Val Exact: 0.28790, Patience: 8)\n",
      "[DEBUG] 입력: Monday, August 28, 1978 | 정답: 1978-08-28 | 예측: 1978-08-28\n"
     ]
    },
    {
     "name": "stderr",
     "output_type": "stream",
     "text": [
      "                                                                 \r"
     ]
    },
    {
     "name": "stdout",
     "output_type": "stream",
     "text": [
      "Epoch 015 | Train Loss: 0.00006 | Token Acc: 1.00000 || Val Loss: 0.00006 | Token Acc: 1.00000 | Exact Acc: 0.28780 (Best Val Exact: 0.28790, Patience: 9)\n",
      "[DEBUG] 입력: monday, january 7, 1985 | 정답: 1985-01-07 | 예측: 1985-01-17\n"
     ]
    },
    {
     "name": "stderr",
     "output_type": "stream",
     "text": [
      "                                                                 \r"
     ]
    },
    {
     "name": "stdout",
     "output_type": "stream",
     "text": [
      "Epoch 016 | Train Loss: 0.00005 | Token Acc: 1.00000 || Val Loss: 0.00005 | Token Acc: 1.00000 | Exact Acc: 0.28730 (Best Val Exact: 0.28790, Patience: 10)\n",
      "[DEBUG] 입력: may 18, 1986 | 정답: 1986-05-18 | 예측: 1986-05-18\n"
     ]
    },
    {
     "name": "stderr",
     "output_type": "stream",
     "text": [
      "                                                                 \r"
     ]
    },
    {
     "name": "stdout",
     "output_type": "stream",
     "text": [
      "Epoch 017 | Train Loss: 0.00004 | Token Acc: 1.00000 || Val Loss: 0.00004 | Token Acc: 1.00000 | Exact Acc: 0.28940 (Best Val Exact: 0.28790, Patience: 11)\n",
      "[DEBUG] 입력: July 29, 1983 | 정답: 1983-07-29 | 예측: 1983-07-29\n"
     ]
    },
    {
     "name": "stderr",
     "output_type": "stream",
     "text": [
      "                                                                 \r"
     ]
    },
    {
     "name": "stdout",
     "output_type": "stream",
     "text": [
      "Epoch 018 | Train Loss: 0.00003 | Token Acc: 1.00000 || Val Loss: 0.00003 | Token Acc: 1.00000 | Exact Acc: 0.29350 (Best Val Exact: 0.28940, Patience: 0)\n",
      "[DEBUG] 입력: APR 18, 2007 | 정답: 2007-04-18 | 예측: 2007-01-28\n"
     ]
    },
    {
     "name": "stderr",
     "output_type": "stream",
     "text": [
      "                                                                 \r"
     ]
    },
    {
     "name": "stdout",
     "output_type": "stream",
     "text": [
      "Epoch 019 | Train Loss: 0.00003 | Token Acc: 1.00000 || Val Loss: 0.00003 | Token Acc: 1.00000 | Exact Acc: 0.29180 (Best Val Exact: 0.29350, Patience: 0)\n",
      "[DEBUG] 입력: Feb 15, 2005 | 정답: 2005-02-15 | 예측: 205-021\n"
     ]
    },
    {
     "name": "stderr",
     "output_type": "stream",
     "text": [
      "                                                                 \r"
     ]
    },
    {
     "name": "stdout",
     "output_type": "stream",
     "text": [
      "Epoch 020 | Train Loss: 0.00002 | Token Acc: 1.00000 || Val Loss: 0.00002 | Token Acc: 1.00000 | Exact Acc: 0.29130 (Best Val Exact: 0.29350, Patience: 1)\n",
      "[DEBUG] 입력: mar 2, 2017 | 정답: 2017-03-02 | 예측: 2017-03-2\n"
     ]
    },
    {
     "name": "stderr",
     "output_type": "stream",
     "text": [
      "                                                                 \r"
     ]
    },
    {
     "name": "stdout",
     "output_type": "stream",
     "text": [
      "Epoch 021 | Train Loss: 0.00002 | Token Acc: 1.00000 || Val Loss: 0.00002 | Token Acc: 1.00000 | Exact Acc: 0.28960 (Best Val Exact: 0.29350, Patience: 2)\n",
      "[DEBUG] 입력: 4/3/70 | 정답: 1970-04-03 | 예측: 197-05-18\n"
     ]
    },
    {
     "name": "stderr",
     "output_type": "stream",
     "text": [
      "                                                                 \r"
     ]
    },
    {
     "name": "stdout",
     "output_type": "stream",
     "text": [
      "Epoch 022 | Train Loss: 0.00002 | Token Acc: 1.00000 || Val Loss: 0.00002 | Token Acc: 1.00000 | Exact Acc: 0.29320 (Best Val Exact: 0.29350, Patience: 3)\n",
      "[DEBUG] 입력: Dec 2, 1983 | 정답: 1983-12-02 | 예측: 1983-12-2\n"
     ]
    },
    {
     "name": "stderr",
     "output_type": "stream",
     "text": [
      "                                                                 \r"
     ]
    },
    {
     "name": "stdout",
     "output_type": "stream",
     "text": [
      "Epoch 023 | Train Loss: 0.00001 | Token Acc: 1.00000 || Val Loss: 0.00001 | Token Acc: 1.00000 | Exact Acc: 0.29370 (Best Val Exact: 0.29350, Patience: 4)\n",
      "[DEBUG] 입력: FEBRUARY 9, 1972 | 정답: 1972-02-09 | 예측: 1972-02-19\n"
     ]
    },
    {
     "name": "stderr",
     "output_type": "stream",
     "text": [
      "                                                                 \r"
     ]
    },
    {
     "name": "stdout",
     "output_type": "stream",
     "text": [
      "Epoch 024 | Train Loss: 0.00001 | Token Acc: 1.00000 || Val Loss: 0.00001 | Token Acc: 1.00000 | Exact Acc: 0.28520 (Best Val Exact: 0.29350, Patience: 5)\n",
      "[DEBUG] 입력: jun 27, 2016 | 정답: 2016-06-27 | 예측: 2016-09-27\n"
     ]
    },
    {
     "name": "stderr",
     "output_type": "stream",
     "text": [
      "                                                                 \r"
     ]
    },
    {
     "name": "stdout",
     "output_type": "stream",
     "text": [
      "Epoch 025 | Train Loss: 0.00001 | Token Acc: 1.00000 || Val Loss: 0.00001 | Token Acc: 1.00000 | Exact Acc: 0.29010 (Best Val Exact: 0.29350, Patience: 6)\n",
      "[DEBUG] 입력: TUESDAY, JUNE 17, 1986 | 정답: 1986-06-17 | 예측: 1986-06-17\n"
     ]
    },
    {
     "name": "stderr",
     "output_type": "stream",
     "text": [
      "                                                                 \r"
     ]
    },
    {
     "name": "stdout",
     "output_type": "stream",
     "text": [
      "Epoch 026 | Train Loss: 0.00001 | Token Acc: 1.00000 || Val Loss: 0.00001 | Token Acc: 1.00000 | Exact Acc: 0.29400 (Best Val Exact: 0.29350, Patience: 7)\n",
      "[DEBUG] 입력: 2/28/05 | 정답: 2005-02-28 | 예측: 205-12\n"
     ]
    },
    {
     "name": "stderr",
     "output_type": "stream",
     "text": [
      "                                                                 \r"
     ]
    },
    {
     "name": "stdout",
     "output_type": "stream",
     "text": [
      "Epoch 027 | Train Loss: 0.00001 | Token Acc: 1.00000 || Val Loss: 0.00001 | Token Acc: 1.00000 | Exact Acc: 0.29430 (Best Val Exact: 0.29350, Patience: 8)\n",
      "[DEBUG] 입력: Monday, February 16, 1976 | 정답: 1976-02-16 | 예측: 1976-02-16\n"
     ]
    },
    {
     "name": "stderr",
     "output_type": "stream",
     "text": [
      "                                                                 \r"
     ]
    },
    {
     "name": "stdout",
     "output_type": "stream",
     "text": [
      "Epoch 028 | Train Loss: 0.00001 | Token Acc: 1.00000 || Val Loss: 0.00001 | Token Acc: 1.00000 | Exact Acc: 0.29400 (Best Val Exact: 0.29350, Patience: 9)\n",
      "[DEBUG] 입력: monday, january 4, 1982 | 정답: 1982-01-04 | 예측: 1982-01-04\n"
     ]
    },
    {
     "name": "stderr",
     "output_type": "stream",
     "text": [
      "                                                                 \r"
     ]
    },
    {
     "name": "stdout",
     "output_type": "stream",
     "text": [
      "Epoch 029 | Train Loss: 0.00000 | Token Acc: 1.00000 || Val Loss: 0.00000 | Token Acc: 1.00000 | Exact Acc: 0.29490 (Best Val Exact: 0.29350, Patience: 10)\n",
      "[DEBUG] 입력: apr 7, 1996 | 정답: 1996-04-07 | 예측: 1996-04-27\n"
     ]
    },
    {
     "name": "stderr",
     "output_type": "stream",
     "text": [
      "                                                                 \r"
     ]
    },
    {
     "name": "stdout",
     "output_type": "stream",
     "text": [
      "Epoch 030 | Train Loss: 0.00000 | Token Acc: 1.00000 || Val Loss: 0.00000 | Token Acc: 1.00000 | Exact Acc: 0.29350 (Best Val Exact: 0.29490, Patience: 0)\n",
      "[DEBUG] 입력: thursday, march 18, 1976 | 정답: 1976-03-18 | 예측: 1976-03-18\n"
     ]
    },
    {
     "name": "stderr",
     "output_type": "stream",
     "text": [
      "                                                                 \r"
     ]
    },
    {
     "name": "stdout",
     "output_type": "stream",
     "text": [
      "Epoch 031 | Train Loss: 0.00000 | Token Acc: 1.00000 || Val Loss: 0.00000 | Token Acc: 1.00000 | Exact Acc: 0.29790 (Best Val Exact: 0.29490, Patience: 1)\n",
      "[DEBUG] 입력: August 14, 1970 | 정답: 1970-08-14 | 예측: 1970-08-16\n"
     ]
    },
    {
     "name": "stderr",
     "output_type": "stream",
     "text": [
      "                                                                 \r"
     ]
    },
    {
     "name": "stdout",
     "output_type": "stream",
     "text": [
      "Epoch 032 | Train Loss: 0.00000 | Token Acc: 1.00000 || Val Loss: 0.00000 | Token Acc: 1.00000 | Exact Acc: 0.29540 (Best Val Exact: 0.29790, Patience: 0)\n",
      "[DEBUG] 입력: Monday, May 19, 2008 | 정답: 2008-05-19 | 예측: 2008-09-15\n"
     ]
    },
    {
     "name": "stderr",
     "output_type": "stream",
     "text": [
      "                                                                 \r"
     ]
    },
    {
     "name": "stdout",
     "output_type": "stream",
     "text": [
      "Epoch 033 | Train Loss: 0.00000 | Token Acc: 1.00000 || Val Loss: 0.00000 | Token Acc: 1.00000 | Exact Acc: 0.29810 (Best Val Exact: 0.29790, Patience: 1)\n",
      "[DEBUG] 입력: 3/19/90 | 정답: 1990-03-19 | 예측: 190-19-29\n"
     ]
    },
    {
     "name": "stderr",
     "output_type": "stream",
     "text": [
      "                                                                 \r"
     ]
    },
    {
     "name": "stdout",
     "output_type": "stream",
     "text": [
      "Epoch 034 | Train Loss: 0.00000 | Token Acc: 1.00000 || Val Loss: 0.00000 | Token Acc: 1.00000 | Exact Acc: 0.29930 (Best Val Exact: 0.29790, Patience: 2)\n",
      "[DEBUG] 입력: 7/12/04 | 정답: 2004-07-12 | 예측: 204-01-2\n"
     ]
    },
    {
     "name": "stderr",
     "output_type": "stream",
     "text": [
      "                                                                 \r"
     ]
    },
    {
     "name": "stdout",
     "output_type": "stream",
     "text": [
      "Epoch 035 | Train Loss: 0.00000 | Token Acc: 1.00000 || Val Loss: 0.00000 | Token Acc: 1.00000 | Exact Acc: 0.29720 (Best Val Exact: 0.29930, Patience: 0)\n",
      "[DEBUG] 입력: June 15, 2015 | 정답: 2015-06-15 | 예측: 2015-16-25\n"
     ]
    },
    {
     "name": "stderr",
     "output_type": "stream",
     "text": [
      "                                                                 \r"
     ]
    },
    {
     "name": "stdout",
     "output_type": "stream",
     "text": [
      "Epoch 036 | Train Loss: 0.00000 | Token Acc: 1.00000 || Val Loss: 0.00000 | Token Acc: 1.00000 | Exact Acc: 0.29910 (Best Val Exact: 0.29930, Patience: 1)\n",
      "[DEBUG] 입력: Apr 5, 1981 | 정답: 1981-04-05 | 예측: 198-04-15\n"
     ]
    },
    {
     "name": "stderr",
     "output_type": "stream",
     "text": [
      "                                                                 \r"
     ]
    },
    {
     "name": "stdout",
     "output_type": "stream",
     "text": [
      "Epoch 037 | Train Loss: 0.00000 | Token Acc: 1.00000 || Val Loss: 0.00000 | Token Acc: 1.00000 | Exact Acc: 0.29830 (Best Val Exact: 0.29930, Patience: 2)\n",
      "[DEBUG] 입력: Aug 20, 1995 | 정답: 1995-08-20 | 예측: 1995-02-18\n"
     ]
    },
    {
     "name": "stderr",
     "output_type": "stream",
     "text": [
      "                                                                 \r"
     ]
    },
    {
     "name": "stdout",
     "output_type": "stream",
     "text": [
      "Epoch 038 | Train Loss: 0.00000 | Token Acc: 1.00000 || Val Loss: 0.00000 | Token Acc: 1.00000 | Exact Acc: 0.30000 (Best Val Exact: 0.29930, Patience: 3)\n",
      "[DEBUG] 입력: October 10, 2014 | 정답: 2014-10-10 | 예측: 2014-10-19\n"
     ]
    },
    {
     "name": "stderr",
     "output_type": "stream",
     "text": [
      "                                                                 \r"
     ]
    },
    {
     "name": "stdout",
     "output_type": "stream",
     "text": [
      "Epoch 039 | Train Loss: 0.00000 | Token Acc: 1.00000 || Val Loss: 0.00000 | Token Acc: 1.00000 | Exact Acc: 0.30250 (Best Val Exact: 0.29930, Patience: 4)\n",
      "[DEBUG] 입력: feb 19, 1994 | 정답: 1994-02-19 | 예측: 1994-12-29\n"
     ]
    },
    {
     "name": "stderr",
     "output_type": "stream",
     "text": [
      "                                                                 \r"
     ]
    },
    {
     "name": "stdout",
     "output_type": "stream",
     "text": [
      "Epoch 040 | Train Loss: 0.00000 | Token Acc: 1.00000 || Val Loss: 0.00000 | Token Acc: 1.00000 | Exact Acc: 0.29990 (Best Val Exact: 0.30250, Patience: 0)\n",
      "[DEBUG] 입력: sunday, june 3, 1979 | 정답: 1979-06-03 | 예측: 1979-06-03\n"
     ]
    },
    {
     "name": "stderr",
     "output_type": "stream",
     "text": [
      "                                                                 \r"
     ]
    },
    {
     "name": "stdout",
     "output_type": "stream",
     "text": [
      "Epoch 041 | Train Loss: 0.00000 | Token Acc: 1.00000 || Val Loss: 0.00000 | Token Acc: 1.00000 | Exact Acc: 0.30100 (Best Val Exact: 0.30250, Patience: 1)\n",
      "[DEBUG] 입력: 1/7/11 | 정답: 2011-01-07 | 예측: 197-12-28\n"
     ]
    },
    {
     "name": "stderr",
     "output_type": "stream",
     "text": [
      "                                                                 \r"
     ]
    },
    {
     "name": "stdout",
     "output_type": "stream",
     "text": [
      "Epoch 042 | Train Loss: 0.00000 | Token Acc: 1.00000 || Val Loss: 0.00000 | Token Acc: 1.00000 | Exact Acc: 0.30190 (Best Val Exact: 0.30250, Patience: 2)\n",
      "[DEBUG] 입력: February 10, 1986 | 정답: 1986-02-10 | 예측: 1986-02-19\n"
     ]
    },
    {
     "name": "stderr",
     "output_type": "stream",
     "text": [
      "                                                                 \r"
     ]
    },
    {
     "name": "stdout",
     "output_type": "stream",
     "text": [
      "Epoch 043 | Train Loss: 0.00000 | Token Acc: 1.00000 || Val Loss: 0.00000 | Token Acc: 1.00000 | Exact Acc: 0.30800 (Best Val Exact: 0.30250, Patience: 3)\n",
      "[DEBUG] 입력: JUL 14, 2005 | 정답: 2005-07-14 | 예측: 2005-01-2\n"
     ]
    },
    {
     "name": "stderr",
     "output_type": "stream",
     "text": [
      "                                                                 \r"
     ]
    },
    {
     "name": "stdout",
     "output_type": "stream",
     "text": [
      "Epoch 044 | Train Loss: 0.00000 | Token Acc: 1.00000 || Val Loss: 0.00000 | Token Acc: 1.00000 | Exact Acc: 0.30790 (Best Val Exact: 0.30800, Patience: 0)\n",
      "[DEBUG] 입력: august 25, 2007 | 정답: 2007-08-25 | 예측: 2007-08-25\n"
     ]
    },
    {
     "name": "stderr",
     "output_type": "stream",
     "text": [
      "                                                                 \r"
     ]
    },
    {
     "name": "stdout",
     "output_type": "stream",
     "text": [
      "Epoch 045 | Train Loss: 0.00000 | Token Acc: 1.00000 || Val Loss: 0.00000 | Token Acc: 1.00000 | Exact Acc: 0.30740 (Best Val Exact: 0.30800, Patience: 1)\n",
      "[DEBUG] 입력: January 24, 2011 | 정답: 2011-01-24 | 예측: 2011-01-24\n"
     ]
    },
    {
     "name": "stderr",
     "output_type": "stream",
     "text": [
      "                                                                 \r"
     ]
    },
    {
     "name": "stdout",
     "output_type": "stream",
     "text": [
      "Epoch 046 | Train Loss: 0.00000 | Token Acc: 1.00000 || Val Loss: 0.00000 | Token Acc: 1.00000 | Exact Acc: 0.30550 (Best Val Exact: 0.30800, Patience: 2)\n",
      "[DEBUG] 입력: 6/30/91 | 정답: 1991-06-30 | 예측: 199-01-23\n"
     ]
    },
    {
     "name": "stderr",
     "output_type": "stream",
     "text": [
      "                                                                 \r"
     ]
    },
    {
     "name": "stdout",
     "output_type": "stream",
     "text": [
      "Epoch 047 | Train Loss: 0.00000 | Token Acc: 1.00000 || Val Loss: 0.00000 | Token Acc: 1.00000 | Exact Acc: 0.30580 (Best Val Exact: 0.30800, Patience: 3)\n",
      "[DEBUG] 입력: NOVEMBER 13, 2006 | 정답: 2006-11-13 | 예측: 2006-11-13\n"
     ]
    },
    {
     "name": "stderr",
     "output_type": "stream",
     "text": [
      "                                                                 \r"
     ]
    },
    {
     "name": "stdout",
     "output_type": "stream",
     "text": [
      "Epoch 048 | Train Loss: 0.00000 | Token Acc: 1.00000 || Val Loss: 0.00000 | Token Acc: 1.00000 | Exact Acc: 0.30590 (Best Val Exact: 0.30800, Patience: 4)\n",
      "[DEBUG] 입력: FRIDAY, JUNE 29, 2007 | 정답: 2007-06-29 | 예측: 2007-09-26\n"
     ]
    },
    {
     "name": "stderr",
     "output_type": "stream",
     "text": [
      "                                                                 \r"
     ]
    },
    {
     "name": "stdout",
     "output_type": "stream",
     "text": [
      "Epoch 049 | Train Loss: 0.00000 | Token Acc: 1.00000 || Val Loss: 0.00000 | Token Acc: 1.00000 | Exact Acc: 0.31540 (Best Val Exact: 0.30800, Patience: 5)\n",
      "[DEBUG] 입력: June 26, 1985 | 정답: 1985-06-26 | 예측: 1985-06-21\n"
     ]
    },
    {
     "name": "stderr",
     "output_type": "stream",
     "text": [
      "                                                                 \r"
     ]
    },
    {
     "name": "stdout",
     "output_type": "stream",
     "text": [
      "Epoch 050 | Train Loss: 0.00000 | Token Acc: 1.00000 || Val Loss: 0.00000 | Token Acc: 1.00000 | Exact Acc: 0.31180 (Best Val Exact: 0.31540, Patience: 0)\n",
      "[DEBUG] 입력: august 29, 1999 | 정답: 1999-08-29 | 예측: 1999-08-29\n"
     ]
    }
   ],
   "source": [
    "# ==============================\n",
    "# 학습 루프 (Exact Match 기반 Early Stopping)\n",
    "# ==============================\n",
    "\n",
    "train_losses, val_losses = [], []\n",
    "train_accs, val_accs = [], []\n",
    "val_exact_accs = []   # train_exact_accs [] 제거\n",
    "\n",
    "best_val_eacc = 0.0\n",
    "patience_counter = 0\n",
    "\n",
    "for epoch in range(1, N_EPOCHS + 1):\n",
    "    # ------------------------------\n",
    "    # 1) 학습 / 평가\n",
    "    # ------------------------------\n",
    "    tr_loss, tr_acc = train_one_epoch(model, train_loader, optimizer, criterion, epoch)\n",
    "    va_loss, va_acc = evaluate_one_epoch(model, test_loader, criterion)\n",
    "    \n",
    "    # # Train Exact Match는 생략\n",
    "    # tr_eacc = exact_match_fn(\n",
    "    #     model, train_dataset,\n",
    "    #     src_stoi=train_dataset.src_stoi,\n",
    "    #     tgt_stoi=train_dataset.tgt_stoi,\n",
    "    #     tgt_itos=train_dataset.tgt_itos,\n",
    "    #     device=device, n_samples=500\n",
    "    # )\n",
    "    #\n",
    "    #validation은 전체 데이터셋으로 평가\n",
    "    va_eacc = exact_match_fn(\n",
    "        model, test_dataset,\n",
    "        src_stoi=train_dataset.src_stoi,\n",
    "        tgt_stoi=train_dataset.tgt_stoi,\n",
    "        tgt_itos=test_dataset.tgt_itos,\n",
    "        device=device,\n",
    "        n_samples=None   # None → 전체 데이터 평가\n",
    "    )\n",
    "\n",
    "    # ------------------------------\n",
    "    # 2) 기록\n",
    "    # ------------------------------\n",
    "    train_losses.append(tr_loss); val_losses.append(va_loss)\n",
    "    train_accs.append(tr_acc); val_accs.append(va_acc)\n",
    "    val_exact_accs.append(va_eacc)\n",
    "\n",
    "    print(f\"Epoch {epoch:03d} | \"\n",
    "          f\"Train Loss: {tr_loss:.5f} | Token Acc: {tr_acc:.5f} || \"\n",
    "          f\"Val Loss: {va_loss:.5f} | Token Acc: {va_acc:.5f} | Exact Acc: {va_eacc:.5f} \"\n",
    "          f\"(Best Val Exact: {best_val_eacc:.5f}, Patience: {patience_counter})\")\n",
    "\n",
    "    # ------------------------------\n",
    "    # 3) 샘플 디버그 출력\n",
    "    # ------------------------------\n",
    "    if epoch % 1 == 0:\n",
    "        src_ids, tgt_ids, src_str, tgt_str = random.choice(test_dataset)\n",
    "        pred = evaluate_seq2seq(\n",
    "            model, src_str,\n",
    "            src_stoi=train_dataset.src_stoi,\n",
    "            tgt_stoi=train_dataset.tgt_stoi,\n",
    "            tgt_itos=train_dataset.tgt_itos,\n",
    "            device=device,\n",
    "            max_len=len(tgt_str) + 2\n",
    "        )\n",
    "        print(f\"[DEBUG] 입력: {src_str} | 정답: {tgt_str} | 예측: {pred}\")\n",
    "\n",
    "    # ------------------------------\n",
    "    # 4) Early Stopping (Exact Match 기준)\n",
    "    # ------------------------------\n",
    "    if va_eacc > best_val_eacc + MIN_DELTA:\n",
    "        best_val_eacc = va_eacc\n",
    "        patience_counter = 0\n",
    "    else:\n",
    "        patience_counter += 1\n",
    "        if patience_counter >= PATIENCE:\n",
    "            print(\"Early stopping triggered!\")\n",
    "            break\n"
   ]
  },
  {
   "cell_type": "code",
   "execution_count": 8,
   "metadata": {
    "execution": {
     "iopub.execute_input": "2025-09-30T07:10:55.414996Z",
     "iopub.status.busy": "2025-09-30T07:10:55.414410Z",
     "iopub.status.idle": "2025-09-30T07:10:56.930631Z",
     "shell.execute_reply": "2025-09-30T07:10:56.929679Z",
     "shell.execute_reply.started": "2025-09-30T07:10:55.414972Z"
    },
    "tags": []
   },
   "outputs": [
    {
     "data": {
      "image/png": "[encoded data removed]",
      "text/plain": [
       "<Figure size 1800x500 with 3 Axes>"
      ]
     },
     "metadata": {},
     "output_type": "display_data"
    },
    {
     "name": "stdout",
     "output_type": "stream",
     "text": [
      "src/tgt stoi/itos 매핑 저장 완료\n",
      "훈련 결과, 그래프, 모델 가중치, 메타정보를 'results_seq2seq_date_normal' 폴더에 저장했습니다.\n"
     ]
    }
   ],
   "source": [
    "###\n",
    "# ----------------------------------------------------------\n",
    "# 학습 완료 후 결과 저장\n",
    "# ----------------------------------------------------------\n",
    "\n",
    "import os\n",
    "import json\n",
    "import matplotlib.pyplot as plt\n",
    "import pickle\n",
    "\n",
    "\n",
    "# 저장 디렉토리 생성\n",
    "save_dir = \"results_seq2seq_date_normal\"\n",
    "os.makedirs(save_dir, exist_ok=True)\n",
    "\n",
    "# 1) 학습 로그 (loss, acc 기록) 저장\n",
    "history = {\n",
    "    \"train_losses\": [float(x) for x in train_losses],\n",
    "    \"val_losses\": [float(x) for x in val_losses],\n",
    "    \"train_accs\": [float(x) for x in train_accs],\n",
    "    \"val_accs\": [float(x) for x in val_accs],\n",
    "    \"val_exact_accs\": [float(x) for x in val_exact_accs],\n",
    "}\n",
    "with open(os.path.join(save_dir, \"history.json\"), \"w\") as f:\n",
    "    json.dump(history, f, indent=2)\n",
    "\n",
    "# 2) 학습 곡선 그래프\n",
    "plt.figure(figsize=(18,5))\n",
    "\n",
    "plt.subplot(1,3,1)\n",
    "plt.plot(train_losses, label=\"Train Loss\")\n",
    "plt.plot(val_losses, label=\"Val Loss\")\n",
    "plt.legend(); plt.title(\"Loss Curve\")\n",
    "\n",
    "plt.subplot(1,3,2)\n",
    "plt.plot(train_accs, label=\"Train Token Acc\")\n",
    "plt.plot(val_accs, label=\"Val Token Acc\")\n",
    "plt.legend(); plt.title(\"Token Accuracy Curve\")\n",
    "\n",
    "plt.subplot(1,3,3)\n",
    "plt.plot(val_exact_accs, label=\"Val Exact Acc\")\n",
    "plt.legend(); plt.title(\"Exact Match Accuracy Curve\")\n",
    "\n",
    "plt.savefig(os.path.join(save_dir, \"training_curves.png\"), dpi=200, bbox_inches=\"tight\")\n",
    "plt.show()\n",
    "plt.close()\n",
    "\n",
    "# 3) 모델 가중치 저장\n",
    "torch.save(model.state_dict(), os.path.join(save_dir, \"results_seq2seq_date_normal.pt\"))\n",
    "\n",
    "# 4) 메타 정보 저장 (옵션)\n",
    "meta = {\n",
    "    \"input_dim\": INPUT_DIM,\n",
    "    \"output_dim\": OUTPUT_DIM,\n",
    "    \"emb_dim\": EMB_DIM,\n",
    "    \"hidden_dim\": HIDDEN_DIM,\n",
    "    \"n_epochs\": N_EPOCHS,\n",
    "    \"best_val_exact\": max(val_exact_accs) if val_exact_accs else None\n",
    "}\n",
    "with open(os.path.join(save_dir, \"meta.json\"), \"w\") as f:\n",
    "    json.dump(meta, f, indent=2)\n",
    "\n",
    "    \n",
    "\n",
    "# 5) stoi / itos 저장\n",
    "with open(os.path.join(save_dir, \"src_stoi.pkl\"), \"wb\") as f:\n",
    "    pickle.dump(train_dataset.src_stoi, f)\n",
    "with open(os.path.join(save_dir, \"src_itos.pkl\"), \"wb\") as f:\n",
    "    pickle.dump(train_dataset.src_itos, f)\n",
    "\n",
    "with open(os.path.join(save_dir, \"tgt_stoi.pkl\"), \"wb\") as f:\n",
    "    pickle.dump(train_dataset.tgt_stoi, f)\n",
    "with open(os.path.join(save_dir, \"tgt_itos.pkl\"), \"wb\") as f:\n",
    "    pickle.dump(train_dataset.tgt_itos, f)\n",
    "\n",
    "print(\"src/tgt stoi/itos 매핑 저장 완료\")\n",
    "\n",
    "\n",
    "print(f\"훈련 결과, 그래프, 모델 가중치, 메타정보를 '{save_dir}' 폴더에 저장했습니다.\")\n",
    "\n"
   ]
  },
  {
   "cell_type": "code",
   "execution_count": 9,
   "metadata": {
    "execution": {
     "iopub.execute_input": "2025-09-30T07:10:56.932005Z",
     "iopub.status.busy": "2025-09-30T07:10:56.931656Z",
     "iopub.status.idle": "2025-09-30T07:10:56.986900Z",
     "shell.execute_reply": "2025-09-30T07:10:56.986018Z",
     "shell.execute_reply.started": "2025-09-30T07:10:56.931986Z"
    }
   },
   "outputs": [
    {
     "name": "stdout",
     "output_type": "stream",
     "text": [
      "\n",
      "=== 날짜 변환 예시 (Seq2Seq) ===\n",
      "입력: AUG 19, 2016                   | 정답: 2016-08-19   | 예측: 2016-09-18  \n",
      "입력: FRIDAY, JULY 6, 1979           | 정답: 1979-07-06   | 예측: 1979-07-26  \n",
      "입력: 9/2/81                         | 정답: 1981-09-02   | 예측: 198-09-21   \n",
      "입력: february 28, 2003              | 정답: 2003-02-28   | 예측: 2003-02-28  \n",
      "입력: november 29, 1977              | 정답: 1977-11-29   | 예측: 1977-12-19  \n",
      "\n",
      "=== Custom 예시 입력 (Seq2Seq) ===\n",
      "입력: september 27, 1994             | 예측: 1994-09-27\n",
      "입력: August 19, 2003                | 예측: 2003-09-18\n",
      "입력: 2/10/93                        | 예측: 193-09-12\n",
      "입력: 10/31/90                       | 예측: 190-13-28\n",
      "입력: TUESDAY, SEPTEMBER 25, 1984    | 예측: 1984-09-25\n",
      "입력: JUN 17, 2013                   | 예측: 2013-01-27\n",
      "입력: april 3, 1996                  | 예측: 1996-04-30\n",
      "입력: October 24, 1974               | 예측: 1974-10-24\n"
     ]
    }
   ],
   "source": [
    "# ==============================\n",
    "# 문자열 정리 함수 (PAD, SOS, EOS 제거)\n",
    "# ==============================\n",
    "def clean_str(s: str):\n",
    "    return s.replace(SOS, \"\").replace(EOS, \"\").replace(PAD, \"\").strip()\n",
    "\n",
    "\n",
    "# ==============================\n",
    "# 날짜 변환 예시 출력 (테스트 데이터 랜덤 5개)\n",
    "# ==============================\n",
    "@torch.no_grad()\n",
    "def show_examples_date(model, test_data, n=5):\n",
    "    indices = random.sample(range(len(test_data)), n)\n",
    "    print(\"\\n=== 날짜 변환 예시 (Seq2Seq) ===\")\n",
    "    for idx in indices:\n",
    "        _, _, src_str, tgt_str = test_data[idx]\n",
    "\n",
    "        pred_raw = evaluate_seq2seq(\n",
    "            model, src_str,\n",
    "            src_stoi=train_dataset.src_stoi,\n",
    "            tgt_stoi=train_dataset.tgt_stoi,\n",
    "            tgt_itos=train_dataset.tgt_itos,\n",
    "            device=device,\n",
    "            max_len=len(tgt_str) + 5\n",
    "        )\n",
    "\n",
    "        pred_str = clean_str(pred_raw)\n",
    "        true_str = clean_str(tgt_str)\n",
    "\n",
    "        print(f\"입력: {src_str:<30} | 정답: {true_str:<12} | 예측: {pred_str:<12}\")\n",
    "\n",
    "\n",
    "# ------------------------------\n",
    "# 실행: 테스트 데이터 무작위 5개\n",
    "# ------------------------------\n",
    "show_examples_date(model, test_dataset, n=5)\n",
    "\n",
    "\n",
    "# ==============================\n",
    "# Custom Examples 직접 확인\n",
    "# ==============================\n",
    "custom_examples = [\n",
    "    \"september 27, 1994\",\n",
    "    \"August 19, 2003\",\n",
    "    \"2/10/93\",\n",
    "    \"10/31/90\",\n",
    "    \"TUESDAY, SEPTEMBER 25, 1984\",\n",
    "    \"JUN 17, 2013\",\n",
    "    \"april 3, 1996\",\n",
    "    \"October 24, 1974\"\n",
    "]\n",
    "\n",
    "print(\"\\n=== Custom 예시 입력 (Seq2Seq) ===\")\n",
    "for x in custom_examples:\n",
    "    pred_raw = evaluate_seq2seq(\n",
    "        model, x,\n",
    "        src_stoi=train_dataset.src_stoi,\n",
    "        tgt_stoi=train_dataset.tgt_stoi,\n",
    "        tgt_itos=train_dataset.tgt_itos,\n",
    "        device=device,\n",
    "        max_len=15   # YYYY-MM-DD 형태까지 넉넉히\n",
    "    )\n",
    "\n",
    "    pred_str = clean_str(pred_raw)\n",
    "    print(f\"입력: {x:<30} | 예측: {pred_str}\")\n"
   ]
  },
  {
   "cell_type": "code",
   "execution_count": null,
   "metadata": {},
   "outputs": [],
   "source": []
  },
  {
   "cell_type": "code",
   "execution_count": null,
   "metadata": {},
   "outputs": [],
   "source": []
  },
  {
   "cell_type": "code",
   "execution_count": null,
   "metadata": {},
   "outputs": [],
   "source": []
  }
 ],
 "metadata": {
  "accelerator": "GPU",
  "colab": {
   "gpuType": "T4",
   "provenance": []
  },
  "kernelspec": {
   "display_name": "Python 3 (ipykernel)",
   "language": "python",
   "name": "python3"
  },
  "language_info": {
   "codemirror_mode": {
    "name": "ipython",
    "version": 3
   },
   "file_extension": ".py",
   "mimetype": "text/x-python",
   "name": "python",
   "nbconvert_exporter": "python",
   "pygments_lexer": "ipython3",
   "version": "3.8.10"
  }
 },
 "nbformat": 4,
 "nbformat_minor": 4
}
