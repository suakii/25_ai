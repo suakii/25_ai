{
 "cells": [
  {
   "cell_type": "code",
   "execution_count": 1,
   "metadata": {
    "execution": {
     "iopub.execute_input": "2025-09-30T06:23:22.665376Z",
     "iopub.status.busy": "2025-09-30T06:23:22.664487Z",
     "iopub.status.idle": "2025-09-30T06:23:24.843888Z",
     "shell.execute_reply": "2025-09-30T06:23:24.843207Z",
     "shell.execute_reply.started": "2025-09-30T06:23:22.665319Z"
    },
    "tags": []
   },
   "outputs": [
    {
     "name": "stdout",
     "output_type": "stream",
     "text": [
      "Device: cuda:7\n",
      "입력 배치 shape: torch.Size([128, 7])\n",
      "출력 배치 shape: torch.Size([128, 5])\n",
      "\n",
      "[샘플 0]\n",
      "  원문: '72+147 ' → '219 '\n",
      "  입력 인덱스: [9, 4, 1, 3, 6, 9, 0]\n",
      "  입력 토큰 : ['7', '2', '+', '1', '4', '7', ' ']\n",
      "  출력 인덱스: [12, 4, 3, 11, 0]\n",
      "  출력 토큰 : ['_', '2', '1', '9', ' ']\n"
     ]
    }
   ],
   "source": [
    "# ==============================\n",
    "# 데이터 로딩 (addition.txt)\n",
    "# ==============================\n",
    "import random\n",
    "import numpy as np\n",
    "import torch\n",
    "from torch.utils.data import Dataset, DataLoader\n",
    "from sklearn.model_selection import train_test_split\n",
    "from tqdm import tqdm\n",
    "\n",
    "# ==============================\n",
    "# 시드 고정\n",
    "# ==============================\n",
    "seed = 42\n",
    "random.seed(seed)\n",
    "np.random.seed(seed)\n",
    "torch.manual_seed(seed)\n",
    "if torch.cuda.is_available():\n",
    "    torch.cuda.manual_seed_all(seed)\n",
    "\n",
    "device = torch.device(\"cuda:7\" if torch.cuda.is_available() else \"cpu\")\n",
    "print(\"Device:\", device)\n",
    "\n",
    "\n",
    "# ------------------------------\n",
    "# Dataset 정의 (고정 길이, '_' 시작)\n",
    "# ------------------------------\n",
    "class AddDataset(Dataset):\n",
    "    def __init__(self, samples, stoi=None, itos=None):\n",
    "        self.samples = samples\n",
    "\n",
    "        if stoi is None:\n",
    "            # 전체 문자 + '_' 포함\n",
    "            vocab = set(\"\".join(s for s, _ in samples) +\n",
    "                        \"\".join(t for _, t in samples) + \"_\")\n",
    "            self.stoi = {s: i for i, s in enumerate(sorted(vocab))}\n",
    "        else:\n",
    "            self.stoi = stoi\n",
    "\n",
    "        self.itos = {i: s for s, i in self.stoi.items()}\n",
    "\n",
    "    def __len__(self):\n",
    "        return len(self.samples)\n",
    "\n",
    "    def __getitem__(self, idx):\n",
    "        src, tgt = self.samples[idx]\n",
    "\n",
    "        # 입력: 그대로 (길이 7 보장, 뒤 공백 포함)\n",
    "        src_ids = [self.stoi[c] for c in src]\n",
    "\n",
    "        # 출력: '_' + tgt (길이 5 보장, tgt도 뒤 공백 포함)\n",
    "        tgt_ids = [self.stoi[\"_\"]] + [self.stoi[c] for c in tgt]\n",
    "\n",
    "        return torch.tensor(src_ids), torch.tensor(tgt_ids), src, tgt\n",
    "\n",
    "\n",
    "# ------------------------------\n",
    "# collate_fn: pad 불필요, 그냥 stack\n",
    "# ------------------------------\n",
    "def collate_fn(batch):\n",
    "    src_batch, tgt_batch, src_strs, tgt_strs = zip(*batch)\n",
    "    return torch.stack(src_batch), torch.stack(tgt_batch), src_strs, tgt_strs\n",
    "\n",
    "\n",
    "# ==============================\n",
    "# 데이터셋 불러오기\n",
    "# ==============================\n",
    "all_samples = []\n",
    "with open(\"addition.txt\", encoding=\"utf-8\") as f:\n",
    "    for line in f:\n",
    "        line = line[:-1] if line.endswith(\"\\n\") else line  # 개행만 제거\n",
    "        if not line:\n",
    "            continue\n",
    "        src, tgt = line.split(\"_\")  # '_' 기준 분리\n",
    "\n",
    "        # 항상 src=7, tgt=4 고정\n",
    "        assert len(src) == 7, f\"src 길이 오류: {repr(src)}\"\n",
    "        assert len(tgt) == 4, f\"tgt 길이 오류: {repr(tgt)}\"\n",
    "\n",
    "        all_samples.append((src, tgt))\n",
    "\n",
    "# train/val 분리\n",
    "train_samples, test_samples = train_test_split(all_samples, test_size=0.1, random_state=42)\n",
    "\n",
    "# Dataset 생성\n",
    "train_dataset = AddDataset(train_samples)\n",
    "test_dataset = AddDataset(test_samples, stoi=train_dataset.stoi, itos=train_dataset.itos)\n",
    "\n",
    "# DataLoader\n",
    "train_loader = DataLoader(train_dataset, batch_size=128, shuffle=True, collate_fn=collate_fn)\n",
    "test_loader = DataLoader(test_dataset, batch_size=128, shuffle=False, collate_fn=collate_fn)\n",
    "\n",
    "\n",
    "# ==============================\n",
    "# 데이터 예시 출력\n",
    "# ==============================\n",
    "for src_batch, tgt_batch, src_strs, tgt_strs in train_loader:\n",
    "    print(\"입력 배치 shape:\", src_batch.shape)  # [B, 7]\n",
    "    print(\"출력 배치 shape:\", tgt_batch.shape)  # [B, 5]\n",
    "\n",
    "    for i in range(len(src_strs)):\n",
    "        print(f\"\\n[샘플 {i}]\")\n",
    "        print(f\"  원문: {repr(src_strs[i])} → {repr(tgt_strs[i])}\")\n",
    "\n",
    "        # 토큰 변환 확인\n",
    "        src_tokens = [train_dataset.itos[idx.item()] for idx in src_batch[i]]\n",
    "        tgt_tokens = [train_dataset.itos[idx.item()] for idx in tgt_batch[i]]\n",
    "\n",
    "        print(\"  입력 인덱스:\", src_batch[i].tolist())\n",
    "        print(\"  입력 토큰 :\", src_tokens)\n",
    "        print(\"  출력 인덱스:\", tgt_batch[i].tolist())\n",
    "        print(\"  출력 토큰 :\", tgt_tokens)\n",
    "        break\n",
    "\n",
    "    break  # 첫 배치만 확인\n"
   ]
  },
  {
   "cell_type": "code",
   "execution_count": 2,
   "metadata": {
    "execution": {
     "iopub.execute_input": "2025-09-30T06:23:24.845310Z",
     "iopub.status.busy": "2025-09-30T06:23:24.844897Z",
     "iopub.status.idle": "2025-09-30T06:23:24.861680Z",
     "shell.execute_reply": "2025-09-30T06:23:24.860573Z",
     "shell.execute_reply.started": "2025-09-30T06:23:24.845284Z"
    },
    "tags": []
   },
   "outputs": [],
   "source": [
    "import torch\n",
    "import torch.nn as nn\n",
    "import torch.nn.functional as F\n",
    "\n",
    "# ----------------------------------------------------------\n",
    "# Encoder\n",
    "# ----------------------------------------------------------\n",
    "class Encoder(nn.Module):\n",
    "    def __init__(self, input_dim, emb_dim, hidden_dim, num_layers=1):\n",
    "        super().__init__()\n",
    "        self.embedding = nn.Embedding(input_dim, emb_dim)\n",
    "        self.lstm = nn.LSTM(\n",
    "            emb_dim, hidden_dim, num_layers,\n",
    "            batch_first=True\n",
    "        )\n",
    "\n",
    "    def forward(self, src):\n",
    "        \"\"\"\n",
    "        src: [B, 7]\n",
    "        \"\"\"\n",
    "        embedded = self.embedding(src)                        # [B, 7, E]\n",
    "        encoder_outputs, (hidden, cell) = self.lstm(embedded) # [B, 7, H]\n",
    "        return encoder_outputs, hidden, cell\n",
    "\n",
    "\n",
    "# ----------------------------------------------------------\n",
    "# Luong Attention (dot-product)\n",
    "# ----------------------------------------------------------\n",
    "class LuongAttention(nn.Module):\n",
    "    def __init__(self):\n",
    "        super().__init__()\n",
    "\n",
    "    def forward(self, decoder_state, encoder_outputs):\n",
    "        \"\"\"\n",
    "        decoder_state: [B, H]\n",
    "        encoder_outputs: [B, S, H]\n",
    "        \"\"\"\n",
    "        # dot product attention\n",
    "        scores = torch.bmm(encoder_outputs, decoder_state.unsqueeze(2)).squeeze(2)  # [B, S]\n",
    "        scores = scores / (encoder_outputs.size(-1) ** 0.5)\n",
    "\n",
    "        attn_weights = F.softmax(scores, dim=-1)               # [B, S]\n",
    "        context = torch.bmm(attn_weights.unsqueeze(1), encoder_outputs).squeeze(1)  # [B, H]\n",
    "        return attn_weights, context\n",
    "\n",
    "\n",
    "# ----------------------------------------------------------\n",
    "# Decoder with Attention\n",
    "# ----------------------------------------------------------\n",
    "class LuongDecoder(nn.Module):\n",
    "    def __init__(self, output_dim, emb_dim, hidden_dim, num_layers=1):\n",
    "        super().__init__()\n",
    "        self.embedding = nn.Embedding(output_dim, emb_dim)\n",
    "        self.lstm = nn.LSTM(\n",
    "            emb_dim, hidden_dim, num_layers,\n",
    "            batch_first=True\n",
    "        )\n",
    "        self.attn = LuongAttention()\n",
    "\n",
    "        self.fc_out = nn.Sequential(\n",
    "            nn.Linear(hidden_dim * 2, hidden_dim),\n",
    "            nn.ReLU(),\n",
    "            nn.Linear(hidden_dim, output_dim)\n",
    "        )\n",
    "\n",
    "    def forward(self, input_token, hidden, cell, encoder_outputs):\n",
    "        \"\"\"\n",
    "        input_token: [B]  (직전 출력 문자 인덱스)\n",
    "        \"\"\"\n",
    "        emb = self.embedding(input_token).unsqueeze(1)       # [B, 1, E]\n",
    "        out, (hidden, cell) = self.lstm(emb, (hidden, cell)) # out: [B, 1, H]\n",
    "        dec_state = out.squeeze(1)                           # [B, H]\n",
    "\n",
    "        # Attention\n",
    "        attn_weights, context = self.attn(dec_state, encoder_outputs)\n",
    "\n",
    "        combined = torch.cat([dec_state, context], dim=-1)   # [B, 2H]\n",
    "        prediction = self.fc_out(combined)                   # [B, vocab]\n",
    "\n",
    "        return prediction, hidden, cell, attn_weights\n",
    "\n",
    "\n",
    "# ----------------------------------------------------------\n",
    "# Seq2Seq with Luong Attention\n",
    "# ----------------------------------------------------------\n",
    "class Seq2SeqAttn(nn.Module):\n",
    "    def __init__(self, encoder, decoder, device):\n",
    "        super().__init__()\n",
    "        self.encoder = encoder\n",
    "        self.decoder = decoder\n",
    "        self.device = device\n",
    "\n",
    "    def forward(self, src, trg, tf_ratio=0.5):\n",
    "        \"\"\"\n",
    "        src: [B, 7]\n",
    "        trg: [B, 5]  (출력: '_' + 4자리 결과)\n",
    "        \"\"\"\n",
    "        batch_size = src.size(0)\n",
    "        trg_len = trg.size(1)     # 5\n",
    "        trg_vocab_size = self.decoder.fc_out[-1].out_features\n",
    "\n",
    "        outputs = torch.zeros(batch_size, trg_len, trg_vocab_size, device=self.device)\n",
    "\n",
    "        # 인코더 실행\n",
    "        encoder_outputs, hidden, cell = self.encoder(src)\n",
    "\n",
    "        # 첫 입력은 항상 \"_\" (즉, trg[:,0])\n",
    "        input_token = trg[:, 0]\n",
    "\n",
    "        for t in range(1, trg_len):\n",
    "            pred, hidden, cell, _ = self.decoder(\n",
    "                input_token, hidden, cell, encoder_outputs\n",
    "            )\n",
    "            outputs[:, t, :] = pred\n",
    "\n",
    "            teacher_force = torch.rand(1).item() < tf_ratio\n",
    "            top1 = pred.argmax(1)\n",
    "\n",
    "            input_token = trg[:, t] if teacher_force else top1\n",
    "\n",
    "        return outputs\n"
   ]
  },
  {
   "cell_type": "code",
   "execution_count": 3,
   "metadata": {
    "execution": {
     "iopub.execute_input": "2025-09-30T06:23:24.863715Z",
     "iopub.status.busy": "2025-09-30T06:23:24.862995Z",
     "iopub.status.idle": "2025-09-30T06:23:24.876423Z",
     "shell.execute_reply": "2025-09-30T06:23:24.875186Z",
     "shell.execute_reply.started": "2025-09-30T06:23:24.863678Z"
    },
    "tags": []
   },
   "outputs": [],
   "source": [
    "import torch\n",
    "\n",
    "@torch.no_grad()\n",
    "def greedy_decode_seq2seq(model, src, stoi, itos, device, max_len=4):\n",
    "    \"\"\"\n",
    "    src: [1, 7] 입력 텐서\n",
    "    max_len: 출력 고정 길이 (\n",
    "    \"\"\"\n",
    "    model.eval()\n",
    "    encoder_outputs, hidden, cell = model.encoder(src)\n",
    "\n",
    "    # 첫 입력은 항상 '_' (출력 맨 앞 기호)\n",
    "    input_token = torch.tensor([stoi[\"_\"]], device=device)\n",
    "    outputs = []  \n",
    "    \n",
    "    for _ in range(1, max_len):  # 나머지 4글자 예측\n",
    "        pred, hidden, cell, _ = model.decoder(\n",
    "            input_token, hidden, cell, encoder_outputs\n",
    "        )\n",
    "        top1 = pred.argmax(1)  # [1]\n",
    "        outputs.append(top1.item())\n",
    "        input_token = top1\n",
    "\n",
    "    return outputs\n",
    "\n",
    "\n",
    "@torch.no_grad()\n",
    "def evaluate_seq2seq(model, x, stoi, itos, device, max_len=4):\n",
    "    \"\"\"\n",
    "    x: 입력 문자열 (예: \"123+456\")\n",
    "    \"\"\"\n",
    "    # 1. 문자열 → 인덱스\n",
    "    x_idx = [stoi[c] for c in x]   # 공백 포함\n",
    "    src = torch.tensor(x_idx, device=device).unsqueeze(0)  # [1, 7]\n",
    "\n",
    "    # 2. Greedy 디코딩\n",
    "    pred_idx = greedy_decode_seq2seq(model, src, stoi, itos, device, max_len)\n",
    "\n",
    "    # 3. 인덱스 → 문자열\n",
    "    pred = \"\".join([itos[i] for i in pred_idx])\n",
    "    return pred\n"
   ]
  },
  {
   "cell_type": "code",
   "execution_count": 4,
   "metadata": {
    "execution": {
     "iopub.execute_input": "2025-09-30T06:23:24.878540Z",
     "iopub.status.busy": "2025-09-30T06:23:24.878033Z",
     "iopub.status.idle": "2025-09-30T06:23:25.661577Z",
     "shell.execute_reply": "2025-09-30T06:23:25.660546Z",
     "shell.execute_reply.started": "2025-09-30T06:23:24.878502Z"
    },
    "tags": []
   },
   "outputs": [],
   "source": [
    "# ==============================\n",
    "# 하이퍼파라미터 & 모델 초기화 (Seq2Seq + Attention)\n",
    "# ==============================\n",
    "import torch\n",
    "import torch.nn as nn\n",
    "import torch.optim as optim\n",
    "\n",
    "INPUT_DIM = len(train_dataset.stoi)\n",
    "OUTPUT_DIM = len(train_dataset.stoi)\n",
    "EMB_DIM = 32\n",
    "HIDDEN_DIM = 192\n",
    "N_EPOCHS = 50\n",
    "PATIENCE = 15\n",
    "MIN_DELTA = 1e-3\n",
    "CLIP = 5.0\n",
    "LR = 0.001\n",
    "\n",
    "# Teacher Forcing Ratio 스케줄링\n",
    "TF_START = 1.0\n",
    "TF_END   = 0.3\n",
    "TF_DECAY = (TF_START - TF_END) / N_EPOCHS  # epoch마다 감소량\n",
    "\n",
    "# ------------------\n",
    "# pad_idx는 필요 없음 (공백 \" \" 자체가 패딩 역할)\n",
    "# ------------------\n",
    "\n",
    "enc = Encoder(INPUT_DIM, EMB_DIM, HIDDEN_DIM).to(device)\n",
    "dec = LuongDecoder(OUTPUT_DIM, EMB_DIM, HIDDEN_DIM).to(device)\n",
    "model = Seq2SeqAttn(enc, dec, device).to(device)\n",
    "\n",
    "criterion = nn.CrossEntropyLoss()  # ignore_index 제거\n",
    "optimizer = optim.Adam(model.parameters(), lr=LR)\n"
   ]
  },
  {
   "cell_type": "code",
   "execution_count": 5,
   "metadata": {
    "execution": {
     "iopub.execute_input": "2025-09-30T06:23:25.663034Z",
     "iopub.status.busy": "2025-09-30T06:23:25.662606Z",
     "iopub.status.idle": "2025-09-30T06:23:25.674494Z",
     "shell.execute_reply": "2025-09-30T06:23:25.673167Z",
     "shell.execute_reply.started": "2025-09-30T06:23:25.663013Z"
    },
    "tags": []
   },
   "outputs": [],
   "source": [
    "# ==============================\n",
    "# 평가 지표 (고정 길이, 공백 패딩 버전)\n",
    "# ==============================\n",
    "def token_accuracy_fn(y_pred, y_true):\n",
    "    \"\"\"\n",
    "    토큰 단위 정확도\n",
    "    y_pred: [B, T, V] (logits)\n",
    "    y_true: [B, T] (ids)\n",
    "    \"\"\"\n",
    "    pred_tokens = y_pred.argmax(dim=2)  # [B, T]\n",
    "    correct = (pred_tokens == y_true)\n",
    "    acc = correct.sum().float() / y_true.numel()\n",
    "    return acc.item()\n",
    "\n",
    "\n",
    "# ------------------------------\n",
    "# 문자열 정리 함수 (공백 패딩만 제거)\n",
    "# ------------------------------\n",
    "def clean_str(s):\n",
    "    return s.strip()\n",
    "\n",
    "\n",
    "@torch.no_grad()\n",
    "def exact_match_fn(model, dataset, stoi, itos, device, n_samples=None):\n",
    "    \"\"\"\n",
    "    Exact Match 평가 (문장 단위 일치 여부 확인)\n",
    "    \"\"\"\n",
    "    if n_samples is None or n_samples >= len(dataset):\n",
    "        indices = range(len(dataset))\n",
    "    else:\n",
    "        indices = random.sample(range(len(dataset)), n_samples)\n",
    "\n",
    "    correct = 0\n",
    "    for idx in indices:\n",
    "        _, _, src_str, tgt_str = dataset[idx]\n",
    "        pred_str = evaluate_seq2seq(\n",
    "            model, src_str,\n",
    "            stoi=stoi, itos=itos,\n",
    "            device=device,\n",
    "            max_len=len(tgt_str)\n",
    "        )\n",
    "\n",
    "        # 공백 패딩 제거 후 비교\n",
    "        if clean_str(pred_str) == clean_str(tgt_str):\n",
    "            correct += 1\n",
    "\n",
    "    return correct / len(indices)\n"
   ]
  },
  {
   "cell_type": "code",
   "execution_count": 6,
   "metadata": {
    "execution": {
     "iopub.execute_input": "2025-09-30T06:23:25.675875Z",
     "iopub.status.busy": "2025-09-30T06:23:25.675560Z",
     "iopub.status.idle": "2025-09-30T06:23:25.686229Z",
     "shell.execute_reply": "2025-09-30T06:23:25.685332Z",
     "shell.execute_reply.started": "2025-09-30T06:23:25.675855Z"
    },
    "tags": []
   },
   "outputs": [],
   "source": [
    "# ----------------------------------------------------------\n",
    "# 1 epoch 학습 (토큰 정확도까지 계산)\n",
    "# ----------------------------------------------------------\n",
    "def train_one_epoch(model, loader, optimizer, criterion, epoch, clip=5.0):\n",
    "    model.train()\n",
    "    total_loss = 0.0\n",
    "    total_acc = 0.0\n",
    "    tf_ratio = max(TF_END, TF_START - TF_DECAY * epoch)\n",
    "\n",
    "    for src, trg, _, _ in tqdm(loader, desc=f\"Train Epoch {epoch}\", leave=False):\n",
    "        src, trg = src.to(device), trg.to(device)\n",
    "        optimizer.zero_grad()\n",
    "\n",
    "        # forward (teacher forcing 적용)\n",
    "        output = model(src, trg, tf_ratio=1.0)  # 고정으로 사용 [B, T, V]\n",
    "\n",
    "        # 손실 계산 (전체 시퀀스 기준)\n",
    "        V = output.shape[-1]\n",
    "        output_flat = output.contiguous().view(-1, V)   # [B*T, V]\n",
    "        trg_flat = trg.contiguous().view(-1)            # [B*T]\n",
    "\n",
    "        loss = criterion(output_flat, trg_flat)\n",
    "        loss.backward()\n",
    "        torch.nn.utils.clip_grad_norm_(model.parameters(), clip)\n",
    "        optimizer.step()\n",
    "\n",
    "        # 토큰 정확도 계산\n",
    "        B, T = trg.size()\n",
    "        output_eval = output.view(B, T, V)\n",
    "        trg_eval = trg\n",
    "        acc = token_accuracy_fn(output_eval, trg_eval)\n",
    "\n",
    "        total_loss += loss.item()\n",
    "        total_acc += acc\n",
    "\n",
    "    n = len(loader)\n",
    "    return total_loss / n, total_acc / n\n",
    "\n",
    "\n",
    "# ----------------------------------------------------------\n",
    "# 1 epoch 평가 (토큰 정확도까지 계산)\n",
    "# ----------------------------------------------------------\n",
    "@torch.no_grad()\n",
    "def evaluate_one_epoch(model, loader, criterion, epoch=0):\n",
    "    model.eval()\n",
    "    total_loss = 0.0\n",
    "    total_acc = 0.0\n",
    "\n",
    "    for src, trg, _, _ in loader:\n",
    "        src, trg = src.to(device), trg.to(device)\n",
    "        output = model(src, trg, tf_ratio=0.0)  # [B, T, V]\n",
    "\n",
    "        V = output.shape[-1]\n",
    "        output_flat = output.contiguous().view(-1, V)   # [B*T, V]\n",
    "        trg_flat = trg.contiguous().view(-1)            # [B*T]\n",
    "\n",
    "        loss = criterion(output_flat, trg_flat)\n",
    "\n",
    "        B, T = trg.size()\n",
    "        output_eval = output.view(B, T, V)\n",
    "        trg_eval = trg\n",
    "        acc = token_accuracy_fn(output_eval, trg_eval)\n",
    "\n",
    "        total_loss += loss.item()\n",
    "        total_acc += acc\n",
    "\n",
    "    n = len(loader)\n",
    "    return total_loss / n, total_acc / n\n"
   ]
  },
  {
   "cell_type": "code",
   "execution_count": 7,
   "metadata": {
    "execution": {
     "iopub.execute_input": "2025-09-30T06:23:25.688725Z",
     "iopub.status.busy": "2025-09-30T06:23:25.688423Z",
     "iopub.status.idle": "2025-09-30T06:38:59.253460Z",
     "shell.execute_reply": "2025-09-30T06:38:59.252325Z",
     "shell.execute_reply.started": "2025-09-30T06:23:25.688707Z"
    },
    "tags": []
   },
   "outputs": [
    {
     "name": "stderr",
     "output_type": "stream",
     "text": [
      "                                                                \r"
     ]
    },
    {
     "name": "stdout",
     "output_type": "stream",
     "text": [
      "Epoch 001 | Train Loss: 1.84409 | Token Acc: 0.30464 || Val Loss: 1.69105 | Token Acc: 0.37453 | Exact Acc: 0.00860 (Best Val Exact: 0.00000, Patience: 0)\n",
      "[DEBUG] 입력: 541+286 | 정답: 827  | 예측: 955\n"
     ]
    },
    {
     "name": "stderr",
     "output_type": "stream",
     "text": [
      "                                                                \r"
     ]
    },
    {
     "name": "stdout",
     "output_type": "stream",
     "text": [
      "Epoch 002 | Train Loss: 1.45739 | Token Acc: 0.43473 || Val Loss: 1.63896 | Token Acc: 0.42777 | Exact Acc: 0.01940 (Best Val Exact: 0.00860, Patience: 0)\n",
      "[DEBUG] 입력: 639+49  | 정답: 688  | 예측: 666\n"
     ]
    },
    {
     "name": "stderr",
     "output_type": "stream",
     "text": [
      "                                                                \r"
     ]
    },
    {
     "name": "stdout",
     "output_type": "stream",
     "text": [
      "Epoch 003 | Train Loss: 1.29859 | Token Acc: 0.49099 || Val Loss: 1.52654 | Token Acc: 0.48133 | Exact Acc: 0.04300 (Best Val Exact: 0.01940, Patience: 0)\n",
      "[DEBUG] 입력: 905+302 | 정답: 1207 | 예측: 122\n"
     ]
    },
    {
     "name": "stderr",
     "output_type": "stream",
     "text": [
      "                                                                \r"
     ]
    },
    {
     "name": "stdout",
     "output_type": "stream",
     "text": [
      "Epoch 004 | Train Loss: 1.20687 | Token Acc: 0.52716 || Val Loss: 1.54932 | Token Acc: 0.51977 | Exact Acc: 0.06660 (Best Val Exact: 0.04300, Patience: 0)\n",
      "[DEBUG] 입력: 278+29  | 정답: 307  | 예측: 310\n"
     ]
    },
    {
     "name": "stderr",
     "output_type": "stream",
     "text": [
      "                                                                \r"
     ]
    },
    {
     "name": "stdout",
     "output_type": "stream",
     "text": [
      "Epoch 005 | Train Loss: 1.14328 | Token Acc: 0.55082 || Val Loss: 1.45806 | Token Acc: 0.54691 | Exact Acc: 0.10300 (Best Val Exact: 0.06660, Patience: 0)\n",
      "[DEBUG] 입력: 5+337   | 정답: 342  | 예측: 340\n"
     ]
    },
    {
     "name": "stderr",
     "output_type": "stream",
     "text": [
      "                                                                \r"
     ]
    },
    {
     "name": "stdout",
     "output_type": "stream",
     "text": [
      "Epoch 006 | Train Loss: 1.09494 | Token Acc: 0.56784 || Val Loss: 1.50041 | Token Acc: 0.55602 | Exact Acc: 0.13000 (Best Val Exact: 0.10300, Patience: 0)\n",
      "[DEBUG] 입력: 0+94    | 정답: 94   | 예측: 94 \n"
     ]
    },
    {
     "name": "stderr",
     "output_type": "stream",
     "text": [
      "                                                                \r"
     ]
    },
    {
     "name": "stdout",
     "output_type": "stream",
     "text": [
      "Epoch 007 | Train Loss: 1.05602 | Token Acc: 0.58071 || Val Loss: 1.47274 | Token Acc: 0.56398 | Exact Acc: 0.13100 (Best Val Exact: 0.13000, Patience: 0)\n",
      "[DEBUG] 입력: 883+18  | 정답: 901  | 예측: 902\n"
     ]
    },
    {
     "name": "stderr",
     "output_type": "stream",
     "text": [
      "                                                                \r"
     ]
    },
    {
     "name": "stdout",
     "output_type": "stream",
     "text": [
      "Epoch 008 | Train Loss: 1.02570 | Token Acc: 0.59128 || Val Loss: 1.53363 | Token Acc: 0.56750 | Exact Acc: 0.14500 (Best Val Exact: 0.13100, Patience: 0)\n",
      "[DEBUG] 입력: 89+586  | 정답: 675  | 예측: 673\n"
     ]
    },
    {
     "name": "stderr",
     "output_type": "stream",
     "text": [
      "                                                                \r"
     ]
    },
    {
     "name": "stdout",
     "output_type": "stream",
     "text": [
      "Epoch 009 | Train Loss: 1.00363 | Token Acc: 0.59839 || Val Loss: 1.51191 | Token Acc: 0.58160 | Exact Acc: 0.17600 (Best Val Exact: 0.14500, Patience: 0)\n",
      "[DEBUG] 입력: 78+572  | 정답: 650  | 예측: 649\n"
     ]
    },
    {
     "name": "stderr",
     "output_type": "stream",
     "text": [
      "                                                                 \r"
     ]
    },
    {
     "name": "stdout",
     "output_type": "stream",
     "text": [
      "Epoch 010 | Train Loss: 0.97749 | Token Acc: 0.60891 || Val Loss: 1.70011 | Token Acc: 0.56582 | Exact Acc: 0.14020 (Best Val Exact: 0.17600, Patience: 0)\n",
      "[DEBUG] 입력: 752+405 | 정답: 1157 | 예측: 114\n"
     ]
    },
    {
     "name": "stderr",
     "output_type": "stream",
     "text": [
      "                                                                 \r"
     ]
    },
    {
     "name": "stdout",
     "output_type": "stream",
     "text": [
      "Epoch 011 | Train Loss: 0.96373 | Token Acc: 0.61277 || Val Loss: 1.53918 | Token Acc: 0.59582 | Exact Acc: 0.22400 (Best Val Exact: 0.17600, Patience: 1)\n",
      "[DEBUG] 입력: 389+49  | 정답: 438  | 예측: 440\n"
     ]
    },
    {
     "name": "stderr",
     "output_type": "stream",
     "text": [
      "                                                                 \r"
     ]
    },
    {
     "name": "stdout",
     "output_type": "stream",
     "text": [
      "Epoch 012 | Train Loss: 0.94985 | Token Acc: 0.61842 || Val Loss: 1.58655 | Token Acc: 0.60629 | Exact Acc: 0.24200 (Best Val Exact: 0.22400, Patience: 0)\n",
      "[DEBUG] 입력: 648+60  | 정답: 708  | 예측: 706\n"
     ]
    },
    {
     "name": "stderr",
     "output_type": "stream",
     "text": [
      "                                                                 \r"
     ]
    },
    {
     "name": "stdout",
     "output_type": "stream",
     "text": [
      "Epoch 013 | Train Loss: 0.91830 | Token Acc: 0.63035 || Val Loss: 1.41803 | Token Acc: 0.62414 | Exact Acc: 0.28340 (Best Val Exact: 0.24200, Patience: 0)\n",
      "[DEBUG] 입력: 10+19   | 정답: 29   | 예측: 27 \n"
     ]
    },
    {
     "name": "stderr",
     "output_type": "stream",
     "text": [
      "                                                                 \r"
     ]
    },
    {
     "name": "stdout",
     "output_type": "stream",
     "text": [
      "Epoch 014 | Train Loss: 0.91180 | Token Acc: 0.63237 || Val Loss: 1.40311 | Token Acc: 0.62430 | Exact Acc: 0.28040 (Best Val Exact: 0.28340, Patience: 0)\n",
      "[DEBUG] 입력: 625+965 | 정답: 1590 | 예측: 159\n"
     ]
    },
    {
     "name": "stderr",
     "output_type": "stream",
     "text": [
      "                                                                 \r"
     ]
    },
    {
     "name": "stdout",
     "output_type": "stream",
     "text": [
      "Epoch 015 | Train Loss: 0.89785 | Token Acc: 0.63902 || Val Loss: 1.68946 | Token Acc: 0.59961 | Exact Acc: 0.18700 (Best Val Exact: 0.28340, Patience: 1)\n",
      "[DEBUG] 입력: 0+288   | 정답: 288  | 예측: 289\n"
     ]
    },
    {
     "name": "stderr",
     "output_type": "stream",
     "text": [
      "                                                                 \r"
     ]
    },
    {
     "name": "stdout",
     "output_type": "stream",
     "text": [
      "Epoch 016 | Train Loss: 0.87135 | Token Acc: 0.64930 || Val Loss: 1.51352 | Token Acc: 0.62406 | Exact Acc: 0.28800 (Best Val Exact: 0.28340, Patience: 2)\n",
      "[DEBUG] 입력: 401+352 | 정답: 753  | 예측: 748\n"
     ]
    },
    {
     "name": "stderr",
     "output_type": "stream",
     "text": [
      "                                                                 \r"
     ]
    },
    {
     "name": "stdout",
     "output_type": "stream",
     "text": [
      "Epoch 017 | Train Loss: 0.83904 | Token Acc: 0.66334 || Val Loss: 1.54972 | Token Acc: 0.64512 | Exact Acc: 0.34680 (Best Val Exact: 0.28800, Patience: 0)\n",
      "[DEBUG] 입력: 483+77  | 정답: 560  | 예측: 560\n"
     ]
    },
    {
     "name": "stderr",
     "output_type": "stream",
     "text": [
      "                                                                 \r"
     ]
    },
    {
     "name": "stdout",
     "output_type": "stream",
     "text": [
      "Epoch 018 | Train Loss: 0.78627 | Token Acc: 0.68831 || Val Loss: 1.32331 | Token Acc: 0.68660 | Exact Acc: 0.50940 (Best Val Exact: 0.34680, Patience: 0)\n",
      "[DEBUG] 입력: 343+94  | 정답: 437  | 예측: 437\n"
     ]
    },
    {
     "name": "stderr",
     "output_type": "stream",
     "text": [
      "                                                                 \r"
     ]
    },
    {
     "name": "stdout",
     "output_type": "stream",
     "text": [
      "Epoch 019 | Train Loss: 0.72476 | Token Acc: 0.71852 || Val Loss: 1.41095 | Token Acc: 0.69746 | Exact Acc: 0.54140 (Best Val Exact: 0.50940, Patience: 0)\n",
      "[DEBUG] 입력: 861+414 | 정답: 1275 | 예측: 127\n"
     ]
    },
    {
     "name": "stderr",
     "output_type": "stream",
     "text": [
      "                                                                 \r"
     ]
    },
    {
     "name": "stdout",
     "output_type": "stream",
     "text": [
      "Epoch 020 | Train Loss: 0.67460 | Token Acc: 0.74015 || Val Loss: 1.13858 | Token Acc: 0.73375 | Exact Acc: 0.65000 (Best Val Exact: 0.54140, Patience: 0)\n",
      "[DEBUG] 입력: 51+193  | 정답: 244  | 예측: 244\n"
     ]
    },
    {
     "name": "stderr",
     "output_type": "stream",
     "text": [
      "                                                                 \r"
     ]
    },
    {
     "name": "stdout",
     "output_type": "stream",
     "text": [
      "Epoch 021 | Train Loss: 0.62713 | Token Acc: 0.76074 || Val Loss: 1.01308 | Token Acc: 0.75699 | Exact Acc: 0.73040 (Best Val Exact: 0.65000, Patience: 0)\n",
      "[DEBUG] 입력: 396+32  | 정답: 428  | 예측: 428\n"
     ]
    },
    {
     "name": "stderr",
     "output_type": "stream",
     "text": [
      "                                                                 \r"
     ]
    },
    {
     "name": "stdout",
     "output_type": "stream",
     "text": [
      "Epoch 022 | Train Loss: 0.59596 | Token Acc: 0.77305 || Val Loss: 0.92489 | Token Acc: 0.76504 | Exact Acc: 0.74700 (Best Val Exact: 0.73040, Patience: 0)\n",
      "[DEBUG] 입력: 82+717  | 정답: 799  | 예측: 799\n"
     ]
    },
    {
     "name": "stderr",
     "output_type": "stream",
     "text": [
      "                                                                 \r"
     ]
    },
    {
     "name": "stdout",
     "output_type": "stream",
     "text": [
      "Epoch 023 | Train Loss: 0.56828 | Token Acc: 0.78352 || Val Loss: 0.89209 | Token Acc: 0.77230 | Exact Acc: 0.76600 (Best Val Exact: 0.74700, Patience: 0)\n",
      "[DEBUG] 입력: 547+90  | 정답: 637  | 예측: 637\n"
     ]
    },
    {
     "name": "stderr",
     "output_type": "stream",
     "text": [
      "                                                                 \r"
     ]
    },
    {
     "name": "stdout",
     "output_type": "stream",
     "text": [
      "Epoch 024 | Train Loss: 0.55244 | Token Acc: 0.78849 || Val Loss: 0.75670 | Token Acc: 0.77918 | Exact Acc: 0.78120 (Best Val Exact: 0.76600, Patience: 0)\n",
      "[DEBUG] 입력: 17+948  | 정답: 965  | 예측: 965\n"
     ]
    },
    {
     "name": "stderr",
     "output_type": "stream",
     "text": [
      "                                                                 \r"
     ]
    },
    {
     "name": "stdout",
     "output_type": "stream",
     "text": [
      "Epoch 025 | Train Loss: 0.54555 | Token Acc: 0.79062 || Val Loss: 0.75009 | Token Acc: 0.77672 | Exact Acc: 0.77260 (Best Val Exact: 0.78120, Patience: 0)\n",
      "[DEBUG] 입력: 2+693   | 정답: 695  | 예측: 695\n"
     ]
    },
    {
     "name": "stderr",
     "output_type": "stream",
     "text": [
      "                                                                 \r"
     ]
    },
    {
     "name": "stdout",
     "output_type": "stream",
     "text": [
      "Epoch 026 | Train Loss: 0.54091 | Token Acc: 0.79147 || Val Loss: 0.75808 | Token Acc: 0.77906 | Exact Acc: 0.78100 (Best Val Exact: 0.78120, Patience: 1)\n",
      "[DEBUG] 입력: 4+440   | 정답: 444  | 예측: 444\n"
     ]
    },
    {
     "name": "stderr",
     "output_type": "stream",
     "text": [
      "                                                                 \r"
     ]
    },
    {
     "name": "stdout",
     "output_type": "stream",
     "text": [
      "Epoch 027 | Train Loss: 0.53507 | Token Acc: 0.79325 || Val Loss: 0.66112 | Token Acc: 0.79000 | Exact Acc: 0.80240 (Best Val Exact: 0.78120, Patience: 2)\n",
      "[DEBUG] 입력: 935+258 | 정답: 1193 | 예측: 119\n"
     ]
    },
    {
     "name": "stderr",
     "output_type": "stream",
     "text": [
      "                                                                 \r"
     ]
    },
    {
     "name": "stdout",
     "output_type": "stream",
     "text": [
      "Epoch 028 | Train Loss: 0.53054 | Token Acc: 0.79491 || Val Loss: 0.65287 | Token Acc: 0.79137 | Exact Acc: 0.80600 (Best Val Exact: 0.80240, Patience: 0)\n",
      "[DEBUG] 입력: 8+760   | 정답: 768  | 예측: 768\n"
     ]
    },
    {
     "name": "stderr",
     "output_type": "stream",
     "text": [
      "                                                                 \r"
     ]
    },
    {
     "name": "stdout",
     "output_type": "stream",
     "text": [
      "Epoch 029 | Train Loss: 0.53726 | Token Acc: 0.79232 || Val Loss: 0.71198 | Token Acc: 0.78570 | Exact Acc: 0.80380 (Best Val Exact: 0.80600, Patience: 0)\n",
      "[DEBUG] 입력: 644+0   | 정답: 644  | 예측: 644\n"
     ]
    },
    {
     "name": "stderr",
     "output_type": "stream",
     "text": [
      "                                                                 \r"
     ]
    },
    {
     "name": "stdout",
     "output_type": "stream",
     "text": [
      "Epoch 030 | Train Loss: 0.52997 | Token Acc: 0.79487 || Val Loss: 0.67599 | Token Acc: 0.77816 | Exact Acc: 0.76800 (Best Val Exact: 0.80600, Patience: 1)\n",
      "[DEBUG] 입력: 586+73  | 정답: 659  | 예측: 659\n"
     ]
    },
    {
     "name": "stderr",
     "output_type": "stream",
     "text": [
      "                                                                 \r"
     ]
    },
    {
     "name": "stdout",
     "output_type": "stream",
     "text": [
      "Epoch 031 | Train Loss: 0.52858 | Token Acc: 0.79510 || Val Loss: 0.65199 | Token Acc: 0.79340 | Exact Acc: 0.80880 (Best Val Exact: 0.80600, Patience: 2)\n",
      "[DEBUG] 입력: 870+983 | 정답: 1853 | 예측: 185\n"
     ]
    },
    {
     "name": "stderr",
     "output_type": "stream",
     "text": [
      "                                                                 \r"
     ]
    },
    {
     "name": "stdout",
     "output_type": "stream",
     "text": [
      "Epoch 032 | Train Loss: 0.52022 | Token Acc: 0.79804 || Val Loss: 0.67060 | Token Acc: 0.78863 | Exact Acc: 0.79600 (Best Val Exact: 0.80880, Patience: 0)\n",
      "[DEBUG] 입력: 825+314 | 정답: 1139 | 예측: 113\n"
     ]
    },
    {
     "name": "stderr",
     "output_type": "stream",
     "text": [
      "                                                                 \r"
     ]
    },
    {
     "name": "stdout",
     "output_type": "stream",
     "text": [
      "Epoch 033 | Train Loss: 0.53835 | Token Acc: 0.79134 || Val Loss: 0.61154 | Token Acc: 0.79238 | Exact Acc: 0.80580 (Best Val Exact: 0.80880, Patience: 1)\n",
      "[DEBUG] 입력: 85+137  | 정답: 222  | 예측: 222\n"
     ]
    },
    {
     "name": "stderr",
     "output_type": "stream",
     "text": [
      "                                                                 \r"
     ]
    },
    {
     "name": "stdout",
     "output_type": "stream",
     "text": [
      "Epoch 034 | Train Loss: 0.53778 | Token Acc: 0.79175 || Val Loss: 0.58723 | Token Acc: 0.79309 | Exact Acc: 0.80720 (Best Val Exact: 0.80880, Patience: 2)\n",
      "[DEBUG] 입력: 90+698  | 정답: 788  | 예측: 788\n"
     ]
    },
    {
     "name": "stderr",
     "output_type": "stream",
     "text": [
      "                                                                 \r"
     ]
    },
    {
     "name": "stdout",
     "output_type": "stream",
     "text": [
      "Epoch 035 | Train Loss: 0.51925 | Token Acc: 0.79838 || Val Loss: 0.52987 | Token Acc: 0.79883 | Exact Acc: 0.81480 (Best Val Exact: 0.80880, Patience: 3)\n",
      "[DEBUG] 입력: 8+785   | 정답: 793  | 예측: 793\n"
     ]
    },
    {
     "name": "stderr",
     "output_type": "stream",
     "text": [
      "                                                                 \r"
     ]
    },
    {
     "name": "stdout",
     "output_type": "stream",
     "text": [
      "Epoch 036 | Train Loss: 0.51434 | Token Acc: 0.79983 || Val Loss: 0.56487 | Token Acc: 0.79723 | Exact Acc: 0.81500 (Best Val Exact: 0.81480, Patience: 0)\n",
      "[DEBUG] 입력: 48+81   | 정답: 129  | 예측: 129\n"
     ]
    },
    {
     "name": "stderr",
     "output_type": "stream",
     "text": [
      "                                                                 \r"
     ]
    },
    {
     "name": "stdout",
     "output_type": "stream",
     "text": [
      "Epoch 037 | Train Loss: 0.51864 | Token Acc: 0.79838 || Val Loss: 0.61257 | Token Acc: 0.78500 | Exact Acc: 0.79160 (Best Val Exact: 0.81500, Patience: 0)\n",
      "[DEBUG] 입력: 845+418 | 정답: 1263 | 예측: 126\n"
     ]
    },
    {
     "name": "stderr",
     "output_type": "stream",
     "text": [
      "                                                                 \r"
     ]
    },
    {
     "name": "stdout",
     "output_type": "stream",
     "text": [
      "Epoch 038 | Train Loss: 0.54485 | Token Acc: 0.78969 || Val Loss: 0.56602 | Token Acc: 0.79238 | Exact Acc: 0.81000 (Best Val Exact: 0.81500, Patience: 1)\n",
      "[DEBUG] 입력: 849+768 | 정답: 1617 | 예측: 161\n"
     ]
    },
    {
     "name": "stderr",
     "output_type": "stream",
     "text": [
      "                                                                 \r"
     ]
    },
    {
     "name": "stdout",
     "output_type": "stream",
     "text": [
      "Epoch 039 | Train Loss: 0.51825 | Token Acc: 0.79860 || Val Loss: 0.54195 | Token Acc: 0.79801 | Exact Acc: 0.81540 (Best Val Exact: 0.81500, Patience: 2)\n",
      "[DEBUG] 입력: 690+326 | 정답: 1016 | 예측: 101\n"
     ]
    },
    {
     "name": "stderr",
     "output_type": "stream",
     "text": [
      "                                                                 \r"
     ]
    },
    {
     "name": "stdout",
     "output_type": "stream",
     "text": [
      "Epoch 040 | Train Loss: 0.52180 | Token Acc: 0.79735 || Val Loss: 0.65919 | Token Acc: 0.78793 | Exact Acc: 0.79200 (Best Val Exact: 0.81540, Patience: 0)\n",
      "[DEBUG] 입력: 59+234  | 정답: 293  | 예측: 293\n"
     ]
    },
    {
     "name": "stderr",
     "output_type": "stream",
     "text": [
      "                                                                 \r"
     ]
    },
    {
     "name": "stdout",
     "output_type": "stream",
     "text": [
      "Epoch 041 | Train Loss: 0.52894 | Token Acc: 0.79491 || Val Loss: 0.54733 | Token Acc: 0.79781 | Exact Acc: 0.81440 (Best Val Exact: 0.81540, Patience: 1)\n",
      "[DEBUG] 입력: 74+2    | 정답: 76   | 예측: 76 \n"
     ]
    },
    {
     "name": "stderr",
     "output_type": "stream",
     "text": [
      "                                                                 \r"
     ]
    },
    {
     "name": "stdout",
     "output_type": "stream",
     "text": [
      "Epoch 042 | Train Loss: 0.51412 | Token Acc: 0.79981 || Val Loss: 0.52094 | Token Acc: 0.79918 | Exact Acc: 0.81660 (Best Val Exact: 0.81540, Patience: 2)\n",
      "[DEBUG] 입력: 721+794 | 정답: 1515 | 예측: 151\n"
     ]
    },
    {
     "name": "stderr",
     "output_type": "stream",
     "text": [
      "                                                                 \r"
     ]
    },
    {
     "name": "stdout",
     "output_type": "stream",
     "text": [
      "Epoch 043 | Train Loss: 0.51610 | Token Acc: 0.79909 || Val Loss: 0.67208 | Token Acc: 0.78898 | Exact Acc: 0.80140 (Best Val Exact: 0.81660, Patience: 0)\n",
      "[DEBUG] 입력: 46+490  | 정답: 536  | 예측: 536\n"
     ]
    },
    {
     "name": "stderr",
     "output_type": "stream",
     "text": [
      "                                                                 \r"
     ]
    },
    {
     "name": "stdout",
     "output_type": "stream",
     "text": [
      "Epoch 044 | Train Loss: 0.53448 | Token Acc: 0.79290 || Val Loss: 0.57024 | Token Acc: 0.79617 | Exact Acc: 0.80980 (Best Val Exact: 0.81660, Patience: 1)\n",
      "[DEBUG] 입력: 604+548 | 정답: 1152 | 예측: 115\n"
     ]
    },
    {
     "name": "stderr",
     "output_type": "stream",
     "text": [
      "                                                                 \r"
     ]
    },
    {
     "name": "stdout",
     "output_type": "stream",
     "text": [
      "Epoch 045 | Train Loss: 0.51584 | Token Acc: 0.79929 || Val Loss: 0.51842 | Token Acc: 0.79949 | Exact Acc: 0.81740 (Best Val Exact: 0.81660, Patience: 2)\n",
      "[DEBUG] 입력: 797+407 | 정답: 1204 | 예측: 120\n"
     ]
    },
    {
     "name": "stderr",
     "output_type": "stream",
     "text": [
      "                                                                 \r"
     ]
    },
    {
     "name": "stdout",
     "output_type": "stream",
     "text": [
      "Epoch 046 | Train Loss: 0.51401 | Token Acc: 0.79983 || Val Loss: 0.53070 | Token Acc: 0.79883 | Exact Acc: 0.81540 (Best Val Exact: 0.81740, Patience: 0)\n",
      "[DEBUG] 입력: 57+979  | 정답: 1036 | 예측: 103\n"
     ]
    },
    {
     "name": "stderr",
     "output_type": "stream",
     "text": [
      "                                                                 \r"
     ]
    },
    {
     "name": "stdout",
     "output_type": "stream",
     "text": [
      "Epoch 047 | Train Loss: 0.53211 | Token Acc: 0.79404 || Val Loss: 0.75091 | Token Acc: 0.76449 | Exact Acc: 0.70560 (Best Val Exact: 0.81740, Patience: 1)\n",
      "[DEBUG] 입력: 471+708 | 정답: 1179 | 예측: 117\n"
     ]
    },
    {
     "name": "stderr",
     "output_type": "stream",
     "text": [
      "                                                                 \r"
     ]
    },
    {
     "name": "stdout",
     "output_type": "stream",
     "text": [
      "Epoch 048 | Train Loss: 0.52069 | Token Acc: 0.79769 || Val Loss: 0.53987 | Token Acc: 0.79879 | Exact Acc: 0.81580 (Best Val Exact: 0.81740, Patience: 2)\n",
      "[DEBUG] 입력: 53+832  | 정답: 885  | 예측: 885\n"
     ]
    },
    {
     "name": "stderr",
     "output_type": "stream",
     "text": [
      "                                                                 \r"
     ]
    },
    {
     "name": "stdout",
     "output_type": "stream",
     "text": [
      "Epoch 049 | Train Loss: 0.51455 | Token Acc: 0.79970 || Val Loss: 0.51724 | Token Acc: 0.79965 | Exact Acc: 0.81720 (Best Val Exact: 0.81740, Patience: 3)\n",
      "[DEBUG] 입력: 369+283 | 정답: 652  | 예측: 652\n"
     ]
    },
    {
     "name": "stderr",
     "output_type": "stream",
     "text": [
      "                                                                 \r"
     ]
    },
    {
     "name": "stdout",
     "output_type": "stream",
     "text": [
      "Epoch 050 | Train Loss: 0.52760 | Token Acc: 0.79528 || Val Loss: 0.58711 | Token Acc: 0.78586 | Exact Acc: 0.77980 (Best Val Exact: 0.81740, Patience: 4)\n",
      "[DEBUG] 입력: 64+135  | 정답: 199  | 예측: 199\n"
     ]
    }
   ],
   "source": [
    "# ==============================\n",
    "# 학습 루프 (Exact Match 기반 Early Stopping)\n",
    "# ==============================\n",
    "train_losses, val_losses = [], []\n",
    "train_accs, val_accs = [], []\n",
    "val_exact_accs = []\n",
    "\n",
    "best_val_eacc = 0.0\n",
    "patience_counter = 0\n",
    "\n",
    "for epoch in range(1, N_EPOCHS + 1):\n",
    "    # ------------------------------\n",
    "    # 1) 학습 / 평가\n",
    "    # ------------------------------\n",
    "    tr_loss, tr_acc = train_one_epoch(model, train_loader, optimizer, criterion, epoch, clip=CLIP)\n",
    "    va_loss, va_acc = evaluate_one_epoch(model, test_loader, criterion)\n",
    "\n",
    "    # Validation은 전체 데이터셋으로 Exact Match 평가\n",
    "    va_eacc = exact_match_fn(\n",
    "        model, test_dataset,\n",
    "        stoi=train_dataset.stoi,\n",
    "        itos=train_dataset.itos,\n",
    "        device=device,\n",
    "        n_samples=None\n",
    "    )\n",
    "\n",
    "    # ------------------------------\n",
    "    # 2) 기록\n",
    "    # ------------------------------\n",
    "    train_losses.append(tr_loss); val_losses.append(va_loss)\n",
    "    train_accs.append(tr_acc); val_accs.append(va_acc)\n",
    "    val_exact_accs.append(va_eacc)\n",
    "\n",
    "    print(f\"Epoch {epoch:03d} | \"\n",
    "          f\"Train Loss: {tr_loss:.5f} | Token Acc: {tr_acc:.5f} || \"\n",
    "          f\"Val Loss: {va_loss:.5f} | Token Acc: {va_acc:.5f} | Exact Acc: {va_eacc:.5f} \"\n",
    "          f\"(Best Val Exact: {best_val_eacc:.5f}, Patience: {patience_counter})\")\n",
    "\n",
    "    # ------------------------------\n",
    "    # 3) 샘플 디버그 출력\n",
    "    # ------------------------------\n",
    "    if epoch % 1 == 0:\n",
    "        src_ids, tgt_ids, src_str, tgt_str = random.choice(test_dataset)\n",
    "        pred_raw = evaluate_seq2seq(\n",
    "            model, src_str,\n",
    "            stoi=train_dataset.stoi,\n",
    "            itos=train_dataset.itos,\n",
    "            device=device,\n",
    "            max_len=len(tgt_str)   # 정답 길이와 동일하게 디코딩\n",
    "        )\n",
    "        print(f\"[DEBUG] 입력: {src_str} | 정답: {tgt_str} | 예측: {pred_raw}\")\n",
    "\n",
    "    # ------------------------------\n",
    "    # 4) Early Stopping (Exact Match 기준)\n",
    "    # ------------------------------\n",
    "    if va_eacc > best_val_eacc:   # discrete metric이므로 delta 불필요\n",
    "        best_val_eacc = va_eacc\n",
    "        patience_counter = 0\n",
    "    else:\n",
    "        patience_counter += 1\n",
    "        if patience_counter >= PATIENCE:\n",
    "            print(\"Early stopping triggered!\")\n",
    "            break\n"
   ]
  },
  {
   "cell_type": "code",
   "execution_count": 9,
   "metadata": {
    "execution": {
     "iopub.execute_input": "2025-09-30T06:42:14.298099Z",
     "iopub.status.busy": "2025-09-30T06:42:14.297411Z",
     "iopub.status.idle": "2025-09-30T06:42:15.364378Z",
     "shell.execute_reply": "2025-09-30T06:42:15.363440Z",
     "shell.execute_reply.started": "2025-09-30T06:42:14.298051Z"
    },
    "tags": []
   },
   "outputs": [
    {
     "data": {
      "image/png": "[encoded data removed]",
      "text/plain": [
       "<Figure size 1800x500 with 3 Axes>"
      ]
     },
     "metadata": {},
     "output_type": "display_data"
    },
    {
     "name": "stdout",
     "output_type": "stream",
     "text": [
      "훈련 결과, 그래프, 모델 가중치, 메타정보를 'results_seq2seq_attention_add_3num' 폴더에 저장했습니다.\n"
     ]
    }
   ],
   "source": [
    "# ----------------------------------------------------------\n",
    "# 학습 완료 후 결과 저장\n",
    "# ----------------------------------------------------------\n",
    "\n",
    "import os\n",
    "import json\n",
    "import matplotlib.pyplot as plt\n",
    "import pickle\n",
    "\n",
    "# 저장 디렉토리 생성\n",
    "save_dir = \"results_seq2seq_attention_add_3num\"\n",
    "os.makedirs(save_dir, exist_ok=True)\n",
    "\n",
    "# 1) 학습 로그 (loss, acc 기록) 저장\n",
    "history = {\n",
    "    \"train_losses\": [float(x) for x in train_losses],\n",
    "    \"val_losses\": [float(x) for x in val_losses],\n",
    "    \"train_accs\": [float(x) for x in train_accs],\n",
    "    \"val_accs\": [float(x) for x in val_accs],\n",
    "    \"val_exact_accs\": [float(x) for x in val_exact_accs],\n",
    "}\n",
    "with open(os.path.join(save_dir, \"history.json\"), \"w\") as f:\n",
    "    json.dump(history, f, indent=2)\n",
    "\n",
    "# 2) 학습 곡선 그래프\n",
    "plt.figure(figsize=(18,5))\n",
    "\n",
    "plt.subplot(1,3,1)\n",
    "plt.plot(train_losses, label=\"Train Loss\")\n",
    "plt.plot(val_losses, label=\"Val Loss\")\n",
    "plt.legend(); plt.title(\"Loss Curve\")\n",
    "\n",
    "plt.subplot(1,3,2)\n",
    "plt.plot(train_accs, label=\"Train Token Acc\")\n",
    "plt.plot(val_accs, label=\"Val Token Acc\")\n",
    "plt.legend(); plt.title(\"Token Accuracy Curve\")\n",
    "\n",
    "plt.subplot(1,3,3)\n",
    "plt.plot(val_exact_accs, label=\"Val Exact Acc\")\n",
    "plt.legend(); plt.title(\"Exact Match Accuracy Curve\")\n",
    "\n",
    "plt.savefig(os.path.join(save_dir, \"training_curves.png\"), dpi=200, bbox_inches=\"tight\")\n",
    "plt.show()\n",
    "plt.close()\n",
    "\n",
    "# 3) 모델 가중치 저장\n",
    "torch.save(model.state_dict(), os.path.join(save_dir, \"results_seq2seq_attention_add_3num.pt\"))\n",
    "\n",
    "# 4) 메타 정보 저장 (옵션)\n",
    "meta = {\n",
    "    \"input_dim\": INPUT_DIM,\n",
    "    \"output_dim\": OUTPUT_DIM,\n",
    "    \"emb_dim\": EMB_DIM,\n",
    "    \"hidden_dim\": HIDDEN_DIM,\n",
    "    \"n_epochs\": N_EPOCHS,\n",
    "    \"best_val_exact\": max(val_exact_accs) if val_exact_accs else None\n",
    "}\n",
    "with open(os.path.join(save_dir, \"meta.json\"), \"w\") as f:\n",
    "    json.dump(meta, f, indent=2)\n",
    "\n",
    "#5) stoi / itos 저장\n",
    "with open(os.path.join(save_dir, \"stoi.pkl\"), \"wb\") as f:\n",
    "    pickle.dump(train_dataset.stoi, f)\n",
    "\n",
    "with open(os.path.join(save_dir, \"itos.pkl\"), \"wb\") as f:\n",
    "    pickle.dump(train_dataset.itos, f)\n",
    "\n",
    "print(f\"훈련 결과, 그래프, 모델 가중치, 메타정보를 '{save_dir}' 폴더에 저장했습니다.\")\n"
   ]
  },
  {
   "cell_type": "code",
   "execution_count": 10,
   "metadata": {
    "execution": {
     "iopub.execute_input": "2025-09-30T06:42:21.564600Z",
     "iopub.status.busy": "2025-09-30T06:42:21.563788Z",
     "iopub.status.idle": "2025-09-30T06:42:21.617594Z",
     "shell.execute_reply": "2025-09-30T06:42:21.616680Z",
     "shell.execute_reply.started": "2025-09-30T06:42:21.564542Z"
    },
    "tags": []
   },
   "outputs": [
    {
     "name": "stdout",
     "output_type": "stream",
     "text": [
      "\n",
      "=== 3자리 덧셈 예시 (Seq2Seq with Attention) ===\n",
      "문제: 491+175  | 정답: 666    | 예측: 666    | 오차: 0\n",
      "문제: 62+761   | 정답: 823    | 예측: 823    | 오차: 0\n",
      "문제: 98+394   | 정답: 492    | 예측: 492    | 오차: 0\n",
      "문제: 515+805  | 정답: 1320   | 예측: 132    | 오차: 1188\n",
      "문제: 643+8    | 정답: 651    | 예측: 651    | 오차: 0\n",
      "\n",
      "=== 임의 입력 예시 (Seq2Seq with Attention) ===\n",
      "문제: 123+678  | 정답: 801    | 예측: 801    | 오차: 0\n",
      "문제: 543+111  | 정답: 654    | 예측: 654    | 오차: 0\n",
      "문제: 100+390  | 정답: 490    | 예측: 500    | 오차: 10\n",
      "문제: 246+135  | 정답: 381    | 예측: 381    | 오차: 0\n",
      "문제: 88+1     | 정답: 89     | 예측: 89     | 오차: 0\n"
     ]
    }
   ],
   "source": [
    "# ==============================\n",
    "# 9.3.4 모델 예측과 샘플 확인 (3자리 덧셈 Seq2Seq with Attention)\n",
    "# ==============================\n",
    "\n",
    "import random\n",
    "\n",
    "# ==============================\n",
    "# 예시 출력\n",
    "# ==============================\n",
    "@torch.no_grad()\n",
    "def show_examples_seq2seq(model, test_data, n=5):\n",
    "    indices = random.sample(range(len(test_data)), n)\n",
    "    print(\"\\n=== 3자리 덧셈 예시 (Seq2Seq with Attention) ===\")\n",
    "    for idx in indices:\n",
    "        _, _, src_str, tgt_str = test_data[idx]\n",
    "        pred_raw = evaluate_seq2seq(\n",
    "            model, src_str,\n",
    "            stoi=train_dataset.stoi,\n",
    "            itos=train_dataset.itos,\n",
    "            device=device,\n",
    "            max_len=len(tgt_str)   # 정답 길이만큼 디코딩\n",
    "        )\n",
    "\n",
    "        # 정답/예측 → 정수 변환 후 오차 계산\n",
    "        try:\n",
    "            true_val = int(tgt_str.strip())\n",
    "            pred_val = int(pred_raw.strip()) if pred_raw.strip().isdigit() else -1\n",
    "            error = abs(true_val - pred_val) if pred_val >= 0 else \"N/A\"\n",
    "        except:\n",
    "            error = \"N/A\"\n",
    "\n",
    "        print(f\"문제: {src_str:<8} | 정답: {tgt_str:<6} | 예측: {pred_raw:<6} | 오차: {error}\")\n",
    "\n",
    "# -----------------------------\n",
    "# 실행: 테스트 데이터 무작위 5개 확인\n",
    "# -----------------------------\n",
    "show_examples_seq2seq(model, test_dataset, n=5)\n",
    "\n",
    "\n",
    "# -----------------------------\n",
    "# 임의 입력 확인\n",
    "# -----------------------------\n",
    "custom_examples = [\n",
    "    \"123+678\",\n",
    "    \"543+111\",\n",
    "    \"100+390\",\n",
    "    \"246+135\",\n",
    "    \"88+1   \"   # 실제 공백이 포함된 케이스\n",
    "]\n",
    "\n",
    "print(\"\\n=== 임의 입력 예시 (Seq2Seq with Attention) ===\")\n",
    "for x in custom_examples:\n",
    "    pred_raw = evaluate_seq2seq(\n",
    "        model, x,\n",
    "        stoi=train_dataset.stoi,\n",
    "        itos=train_dataset.itos,\n",
    "        device=device,\n",
    "        max_len=len(x)   # 입력 길이 기준으로 충분히 설정\n",
    "    )\n",
    "\n",
    "    # 정답 계산\n",
    "    try:\n",
    "        a, b = x.replace(\" \", \"\").split(\"+\")\n",
    "        true = str(int(a) + int(b))\n",
    "    except:\n",
    "        true = \"N/A\"\n",
    "\n",
    "    try:\n",
    "        true_val = int(true)\n",
    "        pred_val = int(pred_raw.strip()) if pred_raw.strip().isdigit() else -1\n",
    "        error = abs(true_val - pred_val) if pred_val >= 0 else \"N/A\"\n",
    "    except:\n",
    "        error = \"N/A\"\n",
    "\n",
    "    print(f\"문제: {x:<8} | 정답: {true:<6} | 예측: {pred_raw:<6} | 오차: {error}\")\n"
   ]
  },
  {
   "cell_type": "code",
   "execution_count": 11,
   "metadata": {
    "execution": {
     "iopub.execute_input": "2025-09-30T06:42:24.451421Z",
     "iopub.status.busy": "2025-09-30T06:42:24.450158Z",
     "iopub.status.idle": "2025-09-30T06:42:24.645902Z",
     "shell.execute_reply": "2025-09-30T06:42:24.644942Z",
     "shell.execute_reply.started": "2025-09-30T06:42:24.451358Z"
    },
    "tags": []
   },
   "outputs": [
    {
     "name": "stdout",
     "output_type": "stream",
     "text": [
      "문제: 123+999\n",
      "예측: '_1122'\n"
     ]
    }
   ],
   "source": [
    "import os\n",
    "import torch\n",
    "import pickle\n",
    "\n",
    "# ===========================================\n",
    "# 0. 저장된 폴더 지정\n",
    "# ===========================================\n",
    "save_dir = \"results_seq2seq_attention_add_3num\"  # 학습 시 사용한 동일 폴더\n",
    "\n",
    "# ===========================================\n",
    "# 1. stoi / itos 불러오기\n",
    "# ===========================================\n",
    "with open(os.path.join(save_dir, \"stoi.pkl\"), \"rb\") as f:\n",
    "    stoi = pickle.load(f)\n",
    "with open(os.path.join(save_dir, \"itos.pkl\"), \"rb\") as f:\n",
    "    itos = pickle.load(f)\n",
    "\n",
    "# ===========================================\n",
    "# 2. 모델 불러오기\n",
    "# ===========================================\n",
    "device = torch.device(\"cuda\" if torch.cuda.is_available() else \"cpu\")\n",
    "\n",
    "INPUT_DIM = len(stoi)\n",
    "OUTPUT_DIM = len(itos)      # 입력/출력 vocab 크기 (동일)\n",
    "EMB_DIM = 32\n",
    "HIDDEN_DIM = 192\n",
    "NUM_LAYERS = 1\n",
    "\n",
    "enc = Encoder(INPUT_DIM, EMB_DIM, HIDDEN_DIM, num_layers=NUM_LAYERS).to(device)\n",
    "dec = LuongDecoder(OUTPUT_DIM, EMB_DIM, HIDDEN_DIM, num_layers=NUM_LAYERS).to(device)\n",
    "loaded_model = Seq2SeqAttn(enc, dec, device).to(device)\n",
    "\n",
    "# 가중치 불러오기 (학습 시 저장한 pt 파일)\n",
    "state_dict = torch.load(\n",
    "    os.path.join(save_dir, \"results_seq2seq_attention_add_3num.pt\"),\n",
    "    map_location=device,\n",
    "    weights_only=True\n",
    ")\n",
    "loaded_model.load_state_dict(state_dict)\n",
    "loaded_model.eval()\n",
    "\n",
    "# ===========================================\n",
    "# 3. 예측 함수 (Attention 버전)\n",
    "# ===========================================\n",
    "@torch.no_grad()\n",
    "def evaluate_seq2seq_attn(model, src_str, stoi, itos, device, max_len=5):\n",
    "    # 입력 문자열을 인덱스로 변환\n",
    "    src = torch.tensor([stoi[c] for c in src_str], device=device).unsqueeze(0)  # [1, 7]\n",
    "\n",
    "    # 인코더 실행\n",
    "    encoder_outputs, hidden, cell = model.encoder(src)\n",
    "\n",
    "    # 시작 토큰 \"_\"로 초기화\n",
    "    outputs = [\"_\"]\n",
    "    input_tok = torch.tensor([stoi[\"_\"]], device=device)\n",
    "\n",
    "    # 출력 생성 (뒤 4자리)\n",
    "    for _ in range(max_len - 1):\n",
    "        logits, hidden, cell, attn_weights = model.decoder(\n",
    "            input_tok, hidden, cell, encoder_outputs\n",
    "        )\n",
    "        top1 = logits.argmax(1)                 # [1]\n",
    "        outputs.append(itos[top1.item()])       # 토큰 인덱스 → 문자\n",
    "        input_tok = top1                        # 다음 입력은 예측 토큰\n",
    "\n",
    "    return \"\".join(outputs)  # 전체 길이 5 문자열 반환\n",
    "\n",
    "test_input = \"123+999\"\n",
    "prediction = evaluate_seq2seq_attn(loaded_model, test_input, stoi, itos, device)\n",
    "\n",
    "print(f\"문제: {test_input}\")\n",
    "print(f\"예측: '{prediction}'\")\n"
   ]
  },
  {
   "cell_type": "code",
   "execution_count": 12,
   "metadata": {
    "execution": {
     "iopub.execute_input": "2025-09-30T06:42:27.528527Z",
     "iopub.status.busy": "2025-09-30T06:42:27.527714Z",
     "iopub.status.idle": "2025-09-30T06:42:28.351836Z",
     "shell.execute_reply": "2025-09-30T06:42:28.351209Z",
     "shell.execute_reply.started": "2025-09-30T06:42:27.528465Z"
    },
    "tags": []
   },
   "outputs": [
    {
     "name": "stdout",
     "output_type": "stream",
     "text": [
      "문제: 123+111\n",
      "예측(5자리): '_234 '\n"
     ]
    },
    {
     "data": {
      "image/png": "[encoded data removed]",
      "text/plain": [
       "<Figure size 600x300 with 2 Axes>"
      ]
     },
     "metadata": {},
     "output_type": "display_data"
    },
    {
     "name": "stdout",
     "output_type": "stream",
     "text": [
      "문제: 789+456\n",
      "예측(5자리): '_1245'\n"
     ]
    },
    {
     "data": {
      "image/png": "[encoded data removed]",
      "text/plain": [
       "<Figure size 600x300 with 2 Axes>"
      ]
     },
     "metadata": {},
     "output_type": "display_data"
    },
    {
     "name": "stdout",
     "output_type": "stream",
     "text": [
      "문제: 488+527\n",
      "예측(5자리): '_1015'\n"
     ]
    },
    {
     "data": {
      "image/png": "[encoded data removed]",
      "text/plain": [
       "<Figure size 600x300 with 2 Axes>"
      ]
     },
     "metadata": {},
     "output_type": "display_data"
    }
   ],
   "source": [
    "import torch\n",
    "import matplotlib.pyplot as plt\n",
    "import numpy as np\n",
    "import koreanize_matplotlib\n",
    "\n",
    "# ----------------------------------------------------------\n",
    "# 0) 보이는 라벨로 치환: ' ' -> '␣', '_' -> 'SOS'\n",
    "# ----------------------------------------------------------\n",
    "def _visible_tokens(tokens):\n",
    "    out = []\n",
    "    for t in tokens:\n",
    "        if t == \" \":\n",
    "            out.append(\"[ ]\")\n",
    "        elif t == \"_\":\n",
    "            out.append(\"_\")\n",
    "        else:\n",
    "            out.append(t)\n",
    "    return out\n",
    "\n",
    "# ----------------------------------------------------------\n",
    "# 1) Greedy decoding (어텐션 가중치 포함, 출력 5자리)\n",
    "#    반환: output_tokens_5 = [\"_\", t1, t2, t3, t4]\n",
    "#          attn_matrix_5  = [5, S] (0행은 SOS용 0행)\n",
    "# ----------------------------------------------------------\n",
    "@torch.no_grad()\n",
    "def greedy_decode_attn_with_weights(model, src, stoi, itos, device, max_len=4):\n",
    "    model.eval()\n",
    "    encoder_outputs, hidden, cell = model.encoder(src)\n",
    "\n",
    "    input_token = torch.tensor([stoi[\"_\"]], device=src.device)  # 시작 \"_\"\n",
    "    pred_tokens, attn_rows = [], []\n",
    "\n",
    "    for _ in range(max_len):  # 4 step\n",
    "        pred, hidden, cell, attn_weights = model.decoder(\n",
    "            input_token, hidden, cell, encoder_outputs\n",
    "        )\n",
    "        top1 = pred.argmax(1)\n",
    "        pred_tokens.append(itos[top1.item()])\n",
    "        attn_rows.append(attn_weights.squeeze(0).detach().cpu().numpy())\n",
    "        input_token = top1\n",
    "\n",
    "    output_tokens_5 = [\"_\"] + pred_tokens  # 총 5글자\n",
    "\n",
    "    attn_matrix = np.stack(attn_rows, axis=0) if attn_rows else np.zeros((0, src.size(1)))\n",
    "    zeros_row = np.zeros((1, attn_matrix.shape[1]), dtype=attn_matrix.dtype)   # SOS 줄\n",
    "    attn_matrix_5 = np.concatenate([zeros_row, attn_matrix], axis=0)           # [5, S]\n",
    "    return output_tokens_5, attn_matrix_5\n",
    "\n",
    "# ----------------------------------------------------------\n",
    "# 2) 어텐션 시각화 (흑백, 값 표기, 조건부 글씨색, 보이는 라벨)\n",
    "# ----------------------------------------------------------\n",
    "def plot_attention(input_tokens, output_tokens, attn_matrix, title=None):\n",
    "    # 라벨을 보이는 기호로 치환\n",
    "    input_labels  = _visible_tokens(input_tokens)\n",
    "    output_labels = _visible_tokens(output_tokens)\n",
    "\n",
    "    T, S = attn_matrix.shape\n",
    "    if T != len(output_labels):\n",
    "        mT = min(T, len(output_labels))\n",
    "        attn_matrix  = attn_matrix[:mT]\n",
    "        output_labels = output_labels[:mT]\n",
    "        T = mT\n",
    "    if S != len(input_labels):\n",
    "        mS = min(S, len(input_labels))\n",
    "        attn_matrix = attn_matrix[:, :mS]\n",
    "        input_labels = input_labels[:mS]\n",
    "        S = mS\n",
    "\n",
    "    plt.figure(figsize=(max(6, S * 0.6), max(3, T * 0.6)))\n",
    "    im = plt.imshow(attn_matrix, aspect='auto', origin='lower', cmap=\"Greys\")\n",
    "    plt.colorbar(im)\n",
    "    plt.xticks(ticks=np.arange(S), labels=input_labels, rotation=90)\n",
    "    plt.yticks(ticks=np.arange(T), labels=output_labels)\n",
    "    plt.xlabel(\"입력 토큰\")\n",
    "    plt.ylabel(\"출력 토큰 (5자리)\")\n",
    "\n",
    "    threshold = float(attn_matrix.max()) * 0.5 if attn_matrix.size else 0.5\n",
    "    for i in range(T):\n",
    "        for j in range(S):\n",
    "            v = attn_matrix[i, j]\n",
    "            color = \"white\" if v > threshold else \"black\"\n",
    "            plt.text(j, i, f\"{v:.2f}\", ha='center', va='center', color=color, fontsize=8)\n",
    "\n",
    "    if title:\n",
    "        plt.title(title)\n",
    "    plt.tight_layout()\n",
    "    plt.show()\n",
    "\n",
    "# ==========================================\n",
    "# 3) 여러 예시로 어텐션 시각화\n",
    "# ==========================================\n",
    "examples = [\n",
    "    \"123+111\",\n",
    "    \"789+456\",\n",
    "    \"488+527\",\n",
    "    \n",
    "]\n",
    "\n",
    "for ex in examples:\n",
    "    padded = ex.ljust(7, \" \")                 # 항상 길이 7 (오른쪽 공백 패딩)\n",
    "    src = torch.tensor([stoi[c] for c in padded], device=device).unsqueeze(0)\n",
    "\n",
    "    output_tokens_5, attn_matrix = greedy_decode_attn_with_weights(\n",
    "        loaded_model, src, stoi, itos, device, max_len=4\n",
    "    )\n",
    "\n",
    "    print(f\"문제: {ex}\")\n",
    "    print(f\"예측(5자리): '{''.join(output_tokens_5)}'\")\n",
    "\n",
    "    plot_attention(\n",
    "        list(padded),                   # 입력 라벨: 공백까지 포함\n",
    "        output_tokens_5,                # 출력 5줄: '_' 포함\n",
    "        attn_matrix,\n",
    "        title=f\"{ex} → '{''.join(output_tokens_5)}'\"\n",
    "    )\n"
   ]
  },
  {
   "cell_type": "code",
   "execution_count": null,
   "metadata": {},
   "outputs": [],
   "source": []
  }
 ],
 "metadata": {
  "accelerator": "GPU",
  "colab": {
   "gpuType": "T4",
   "provenance": []
  },
  "kernelspec": {
   "display_name": "Python 3 (ipykernel)",
   "language": "python",
   "name": "python3"
  },
  "language_info": {
   "codemirror_mode": {
    "name": "ipython",
    "version": 3
   },
   "file_extension": ".py",
   "mimetype": "text/x-python",
   "name": "python",
   "nbconvert_exporter": "python",
   "pygments_lexer": "ipython3",
   "version": "3.8.10"
  }
 },
 "nbformat": 4,
 "nbformat_minor": 4
}
