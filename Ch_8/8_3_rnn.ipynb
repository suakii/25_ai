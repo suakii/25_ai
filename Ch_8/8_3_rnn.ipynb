{
 "cells": [
  {
   "cell_type": "code",
   "execution_count": 1,
   "id": "4bd8ef48-f25b-4d3d-91ba-14dac1f82a8c",
   "metadata": {
    "execution": {
     "iopub.execute_input": "2025-04-18T08:21:40.946692Z",
     "iopub.status.busy": "2025-04-18T08:21:40.945912Z",
     "iopub.status.idle": "2025-04-18T08:21:42.480675Z",
     "shell.execute_reply": "2025-04-18T08:21:42.479697Z",
     "shell.execute_reply.started": "2025-04-18T08:21:40.946633Z"
    },
    "tags": []
   },
   "outputs": [],
   "source": [
    "import torch\n",
    "import torch.nn as nn\n",
    "\n",
    "# 시퀀스 설정\n",
    "seq_len = 5\n",
    "batch_size = 1\n",
    "input_size = 3\n",
    "hidden_size = 4\n",
    "\n",
    "# 입력 텐서: (seq_len, batch_size, input_size)\n",
    "x_seq = torch.randn(seq_len, batch_size, input_size)"
   ]
  },
  {
   "cell_type": "code",
   "execution_count": 2,
   "id": "acf39d9d-dad4-4caa-9b65-6da8719db27d",
   "metadata": {
    "execution": {
     "iopub.execute_input": "2025-04-18T08:21:47.643432Z",
     "iopub.status.busy": "2025-04-18T08:21:47.642603Z",
     "iopub.status.idle": "2025-04-18T08:21:47.653514Z",
     "shell.execute_reply": "2025-04-18T08:21:47.652237Z",
     "shell.execute_reply.started": "2025-04-18T08:21:47.643374Z"
    },
    "tags": []
   },
   "outputs": [
    {
     "data": {
      "text/plain": [
       "tensor([[[-0.2235, -0.0438, -1.5244]],\n",
       "\n",
       "        [[ 2.6686,  1.2134, -0.1541]],\n",
       "\n",
       "        [[ 0.3769, -0.8807,  0.7293]],\n",
       "\n",
       "        [[-1.2839, -1.4658, -0.5082]],\n",
       "\n",
       "        [[-0.6745, -0.9097,  2.0739]]])"
      ]
     },
     "execution_count": 2,
     "metadata": {},
     "output_type": "execute_result"
    }
   ],
   "source": [
    "x_seq"
   ]
  },
  {
   "cell_type": "code",
   "execution_count": 3,
   "id": "0c10646e-729f-4e54-9a88-42763e6e44f4",
   "metadata": {
    "execution": {
     "iopub.execute_input": "2025-04-18T08:21:53.988845Z",
     "iopub.status.busy": "2025-04-18T08:21:53.988044Z",
     "iopub.status.idle": "2025-04-18T08:21:53.997238Z",
     "shell.execute_reply": "2025-04-18T08:21:53.995988Z",
     "shell.execute_reply.started": "2025-04-18T08:21:53.988788Z"
    },
    "tags": []
   },
   "outputs": [
    {
     "data": {
      "text/plain": [
       "torch.Size([5, 1, 3])"
      ]
     },
     "execution_count": 3,
     "metadata": {},
     "output_type": "execute_result"
    }
   ],
   "source": [
    "x_seq.shape"
   ]
  },
  {
   "cell_type": "code",
   "execution_count": 4,
   "id": "60322111-844f-4126-8a47-231a33e0dfab",
   "metadata": {
    "execution": {
     "iopub.execute_input": "2025-04-18T08:22:23.176588Z",
     "iopub.status.busy": "2025-04-18T08:22:23.175751Z",
     "iopub.status.idle": "2025-04-18T08:22:23.189107Z",
     "shell.execute_reply": "2025-04-18T08:22:23.187743Z",
     "shell.execute_reply.started": "2025-04-18T08:22:23.176529Z"
    },
    "tags": []
   },
   "outputs": [
    {
     "name": "stdout",
     "output_type": "stream",
     "text": [
      "torch.Size([5, 1, 4])\n",
      "torch.Size([1, 1, 4])\n"
     ]
    }
   ],
   "source": [
    "rnn = nn.RNN(input_size=input_size, hidden_size=hidden_size)\n",
    "\n",
    "# 초기 은닉 상태 (0으로 초기화)\n",
    "h0 = torch.zeros(1, batch_size, hidden_size)\n",
    "\n",
    "# 순전파\n",
    "output, hn = rnn(x_seq, h0)\n",
    "\n",
    "print(output.shape)  # torch.Size([seq_len, batch_size, hidden_size])\n",
    "print(hn.shape)      # torch.Size([1, batch_size, hidden_size])"
   ]
  },
  {
   "cell_type": "code",
   "execution_count": 5,
   "id": "88b6c624-6ed4-4c4e-9f24-327fe0dc55c5",
   "metadata": {
    "execution": {
     "iopub.execute_input": "2025-04-18T08:22:30.389147Z",
     "iopub.status.busy": "2025-04-18T08:22:30.388321Z",
     "iopub.status.idle": "2025-04-18T08:22:30.398304Z",
     "shell.execute_reply": "2025-04-18T08:22:30.397042Z",
     "shell.execute_reply.started": "2025-04-18T08:22:30.389091Z"
    },
    "tags": []
   },
   "outputs": [
    {
     "data": {
      "text/plain": [
       "tensor([[[0., 0., 0., 0.]]])"
      ]
     },
     "execution_count": 5,
     "metadata": {},
     "output_type": "execute_result"
    }
   ],
   "source": [
    "h0"
   ]
  },
  {
   "cell_type": "code",
   "execution_count": 6,
   "id": "5efd8b0b-0c66-49a8-90f9-84332dc00486",
   "metadata": {
    "execution": {
     "iopub.execute_input": "2025-04-18T08:22:33.011105Z",
     "iopub.status.busy": "2025-04-18T08:22:33.010280Z",
     "iopub.status.idle": "2025-04-18T08:22:33.019527Z",
     "shell.execute_reply": "2025-04-18T08:22:33.018225Z",
     "shell.execute_reply.started": "2025-04-18T08:22:33.011048Z"
    },
    "tags": []
   },
   "outputs": [
    {
     "data": {
      "text/plain": [
       "torch.Size([1, 1, 4])"
      ]
     },
     "execution_count": 6,
     "metadata": {},
     "output_type": "execute_result"
    }
   ],
   "source": [
    "h0.shape"
   ]
  },
  {
   "cell_type": "code",
   "execution_count": null,
   "id": "779093f7-ac20-48c7-8f18-7de9b64b696c",
   "metadata": {},
   "outputs": [],
   "source": []
  },
  {
   "cell_type": "code",
   "execution_count": 7,
   "id": "615cd8ab-d7f8-48ed-874a-a4b71ec44444",
   "metadata": {
    "execution": {
     "iopub.execute_input": "2025-04-18T08:36:01.833667Z",
     "iopub.status.busy": "2025-04-18T08:36:01.833118Z",
     "iopub.status.idle": "2025-04-18T08:36:01.928175Z",
     "shell.execute_reply": "2025-04-18T08:36:01.926951Z",
     "shell.execute_reply.started": "2025-04-18T08:36:01.833630Z"
    },
    "tags": []
   },
   "outputs": [
    {
     "name": "stdout",
     "output_type": "stream",
     "text": [
      "torch.Size([5, 1, 4])\n",
      "torch.Size([1, 1, 4])\n",
      "torch.Size([1, 1, 4])\n"
     ]
    }
   ],
   "source": [
    "lstm = nn.LSTM(input_size=input_size, hidden_size=hidden_size)\n",
    "\n",
    "# 초기 상태 설정 (은닉 상태 + 셀 상태)\n",
    "h0 = torch.zeros(1, batch_size, hidden_size)\n",
    "c0 = torch.zeros(1, batch_size, hidden_size)\n",
    "\n",
    "# 순전파\n",
    "output, (hn, cn) = lstm(x_seq, (h0, c0))\n",
    "\n",
    "print(output.shape)  # (seq_len, batch_size, hidden_size)\n",
    "print(hn.shape)      # (1, batch_size, hidden_size)\n",
    "print(cn.shape)      # (1, batch_size, hidden_size)"
   ]
  },
  {
   "cell_type": "code",
   "execution_count": null,
   "id": "1ae0eed6-c55a-493d-a06c-1424dcfcf470",
   "metadata": {},
   "outputs": [],
   "source": []
  }
 ],
 "metadata": {
  "kernelspec": {
   "display_name": "Python 3 (ipykernel)",
   "language": "python",
   "name": "python3"
  },
  "language_info": {
   "codemirror_mode": {
    "name": "ipython",
    "version": 3
   },
   "file_extension": ".py",
   "mimetype": "text/x-python",
   "name": "python",
   "nbconvert_exporter": "python",
   "pygments_lexer": "ipython3",
   "version": "3.8.10"
  }
 },
 "nbformat": 4,
 "nbformat_minor": 5
}
