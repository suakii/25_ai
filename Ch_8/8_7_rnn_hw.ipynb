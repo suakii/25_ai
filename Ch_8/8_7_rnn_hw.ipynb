{
  "nbformat": 4,
  "nbformat_minor": 0,
  "metadata": {
    "colab": {
      "provenance": []
    },
    "kernelspec": {
      "name": "python3",
      "display_name": "Python 3"
    },
    "language_info": {
      "name": "python"
    }
  },
  "cells": [
    {
      "cell_type": "code",
      "execution_count": null,
      "metadata": {
        "colab": {
          "base_uri": "https://localhost:8080/"
        },
        "id": "DvhrOhvvQtGP",
        "outputId": "ce8c54f0-c7e0-47b7-c67d-a8281be9c88d"
      },
      "outputs": [
        {
          "output_type": "stream",
          "name": "stdout",
          "text": [
            "Requirement already satisfied: mido in /usr/local/lib/python3.12/dist-packages (1.3.3)\n",
            "Requirement already satisfied: packaging in /usr/local/lib/python3.12/dist-packages (from mido) (25.0)\n",
            "Reading package lists... Done\n",
            "Building dependency tree... Done\n",
            "Reading state information... Done\n",
            "fluidsynth is already the newest version (2.2.5-1).\n",
            "0 upgraded, 0 newly installed, 0 to remove and 35 not upgraded.\n",
            "Requirement already satisfied: pyFluidSynth==1.3.0 in /usr/local/lib/python3.12/dist-packages (1.3.0)\n",
            "Requirement already satisfied: pretty_midi in /usr/local/lib/python3.12/dist-packages (0.2.10)\n",
            "Requirement already satisfied: soundfile in /usr/local/lib/python3.12/dist-packages (0.13.1)\n",
            "Requirement already satisfied: numpy in /usr/local/lib/python3.12/dist-packages (from pyFluidSynth==1.3.0) (2.0.2)\n",
            "Requirement already satisfied: mido>=1.1.16 in /usr/local/lib/python3.12/dist-packages (from pretty_midi) (1.3.3)\n",
            "Requirement already satisfied: six in /usr/local/lib/python3.12/dist-packages (from pretty_midi) (1.17.0)\n",
            "Requirement already satisfied: cffi>=1.0 in /usr/local/lib/python3.12/dist-packages (from soundfile) (2.0.0)\n",
            "Requirement already satisfied: pycparser in /usr/local/lib/python3.12/dist-packages (from cffi>=1.0->soundfile) (2.23)\n",
            "Requirement already satisfied: packaging in /usr/local/lib/python3.12/dist-packages (from mido>=1.1.16->pretty_midi) (25.0)\n"
          ]
        }
      ],
      "source": [
        "!pip install mido\n",
        "!apt-get install -y fluidsynth\n",
        "!pip install pyFluidSynth==1.3.0 pretty_midi soundfile\n"
      ]
    },
    {
      "cell_type": "code",
      "source": [
        "notes = [\"도\", \"레\", \"미\", \"파\", \"솔\", \"라\", \"시\"]\n",
        "note2idx = {n: i for i, n in enumerate(notes)}\n",
        "idx2note = {i: n for i, n in enumerate(notes)}\n",
        "\n",
        "# 반짝반짝 작은별 앞부분\n",
        "twinkle = [\n",
        "    \"도\",\"도\",\"솔\",\"솔\",\"라\",\"라\",\"솔\",\n",
        "    \"파\",\"파\",\"미\",\"미\",\"레\",\"레\",\"도\"\n",
        "]\n",
        "\n",
        "# 데이터 늘리기\n",
        "melody = twinkle * 50\n",
        "data = [note2idx[n] for n in melody]\n",
        "\n",
        "seq_len = 4\n",
        "X, Y = [], []\n",
        "for i in range(len(data) - seq_len):\n",
        "    X.append(data[i:i+seq_len])\n",
        "    Y.append(data[i+seq_len])\n",
        "\n",
        "import torch\n",
        "X = torch.tensor(X, dtype=torch.long)\n",
        "Y = torch.tensor(Y, dtype=torch.long)\n",
        "\n"
      ],
      "metadata": {
        "id": "HxKmch62Q3eW"
      },
      "execution_count": null,
      "outputs": []
    },
    {
      "cell_type": "code",
      "source": [
        "import torch.nn as nn\n",
        "\n",
        "class MusicLSTM(nn.Module):\n",
        "    def __init__(self, vocab_size, hidden_size, num_layers=1):\n",
        "        super().__init__()\n",
        "        self.embed = nn.Embedding(vocab_size, hidden_size)\n",
        "        self.lstm = nn.LSTM(hidden_size, hidden_size, num_layers, batch_first=True)\n",
        "        self.fc = nn.Linear(hidden_size, vocab_size)\n",
        "\n",
        "    def forward(self, x, hidden=None):\n",
        "        x = self.embed(x)\n",
        "        out, hidden = self.lstm(x, hidden)\n",
        "        out = self.fc(out[:, -1])  # 마지막 시점만 사용\n",
        "        return out, hidden\n",
        "\n"
      ],
      "metadata": {
        "id": "k-KpaEtSQ8J5"
      },
      "execution_count": null,
      "outputs": []
    },
    {
      "cell_type": "code",
      "source": [
        "model = MusicLSTM(vocab_size=len(notes), hidden_size=128)\n",
        "loss_fn = nn.CrossEntropyLoss()\n",
        "optimizer = torch.optim.Adam(model.parameters(), lr=0.01)\n",
        "\n",
        "for epoch in range(200):\n",
        "    model.train()\n",
        "    optimizer.zero_grad()\n",
        "    output, _ = model(X)\n",
        "    loss = loss_fn(output, Y)\n",
        "    loss.backward()\n",
        "    optimizer.step()\n",
        "    if epoch % 50 == 0:\n",
        "        print(f\"Epoch {epoch} | Loss: {loss.item():.4f}\")\n",
        "\n"
      ],
      "metadata": {
        "colab": {
          "base_uri": "https://localhost:8080/"
        },
        "id": "snOfgppyQ-ek",
        "outputId": "f36ecbca-8884-476f-c2a0-580beb2f741d"
      },
      "execution_count": null,
      "outputs": [
        {
          "output_type": "stream",
          "name": "stdout",
          "text": [
            "Epoch 0 | Loss: 1.9445\n",
            "Epoch 50 | Loss: 0.0001\n",
            "Epoch 100 | Loss: 0.0001\n",
            "Epoch 150 | Loss: 0.0000\n"
          ]
        }
      ]
    },
    {
      "cell_type": "code",
      "source": [
        "def generate_music(model, start_seq, length):\n",
        "    model.eval()\n",
        "    input_seq = torch.tensor([note2idx[n] for n in start_seq], dtype=torch.long).unsqueeze(0)\n",
        "    generated = list(start_seq)\n",
        "    hidden = None\n",
        "    for _ in range(length):\n",
        "        output, hidden = model(input_seq, hidden)\n",
        "        probs = nn.functional.softmax(output, dim=-1).squeeze()\n",
        "        next_idx = torch.multinomial(probs, 1).item()\n",
        "        next_note = idx2note[next_idx]\n",
        "        generated.append(next_note)\n",
        "        input_seq = torch.cat([input_seq[:, 1:], torch.tensor([[next_idx]])], dim=1)\n",
        "    return generated\n",
        "\n",
        "generated_melody = generate_music(model, [\"도\",\"도\",\"솔\",\"솔\"], length=30)\n",
        "print(\"생성된 멜로디:\", generated_melody)\n",
        "\n"
      ],
      "metadata": {
        "colab": {
          "base_uri": "https://localhost:8080/"
        },
        "id": "LD-dUj1wQ_o9",
        "outputId": "048dca9b-ba10-4599-9015-a36772aa54d1"
      },
      "execution_count": null,
      "outputs": [
        {
          "output_type": "stream",
          "name": "stdout",
          "text": [
            "생성된 멜로디: ['도', '도', '솔', '솔', '라', '라', '라', '솔', '파', '파', '파', '미', '미', '미', '레', '레', '레', '레', '레', '도', '도', '도', '도', '도', '도', '도', '도', '도', '솔', '솔', '솔', '라', '라', '솔']\n"
          ]
        }
      ]
    },
    {
      "cell_type": "code",
      "source": [
        "from mido import Message, MidiFile, MidiTrack\n",
        "\n",
        "def save_midi(note_sequence, filename=\"twinkle_generated.mid\", tempo=480):\n",
        "    mid = MidiFile()\n",
        "    track = MidiTrack()\n",
        "    mid.tracks.append(track)\n",
        "\n",
        "    note_to_midi = {\"도\":60, \"레\":62, \"미\":64, \"파\":65, \"솔\":67, \"라\":69, \"시\":71}\n",
        "\n",
        "    for n in note_sequence:\n",
        "        midi_note = note_to_midi[n]\n",
        "        track.append(Message(\"note_on\", note=midi_note, velocity=64, time=0))\n",
        "        track.append(Message(\"note_off\", note=midi_note, velocity=64, time=tempo))\n",
        "\n",
        "    mid.save(filename)\n",
        "    print(f\"MIDI 파일 저장 완료: {filename}\")\n",
        "\n",
        "save_midi(generated_melody)\n",
        "\n"
      ],
      "metadata": {
        "colab": {
          "base_uri": "https://localhost:8080/"
        },
        "id": "aM3aqg_DRFMl",
        "outputId": "46533162-bd0a-4afa-a55a-f112f023ccd2"
      },
      "execution_count": null,
      "outputs": [
        {
          "output_type": "stream",
          "name": "stdout",
          "text": [
            "MIDI 파일 저장 완료: twinkle_generated.mid\n"
          ]
        }
      ]
    },
    {
      "cell_type": "code",
      "source": [
        "import pretty_midi\n",
        "import soundfile as sf\n",
        "\n",
        "# 1. MIDI 불러오기\n",
        "midi_data = pretty_midi.PrettyMIDI(\"twinkle_generated.mid\")\n",
        "\n",
        "# 2. 악기 지정 (피아노)\n",
        "for inst in midi_data.instruments:\n",
        "    inst.program = pretty_midi.instrument_name_to_program(\"Acoustic Grand Piano\")\n",
        "\n",
        "# 3. SoundFont 경로 (Colab에 업로드한 .sf2 파일, 예: FluidR3_GM.sf2)\n",
        "sf2_path = \"Yamaha_C3_Grand_Piano.sf2\"\n",
        "\n",
        "# 4. MIDI → 오디오 변환 (numpy array)\n",
        "audio = midi_data.fluidsynth(sf2_path=sf2_path)\n",
        "\n",
        "# 5. WAV 저장 (44100 Hz)\n",
        "sf.write(\"twinkle_generated.wav\", audio, 44100)\n",
        "print(\"WAV 변환 완료!\")\n",
        "\n",
        "# 6. Colab에서 다운로드\n",
        "from google.colab import files\n",
        "files.download(\"twinkle_generated.wav\")\n"
      ],
      "metadata": {
        "colab": {
          "base_uri": "https://localhost:8080/",
          "height": 35
        },
        "id": "Ud8T-Kn5RIbj",
        "outputId": "1cf664fa-7d11-486e-e21a-d51bbea98200"
      },
      "execution_count": null,
      "outputs": [
        {
          "output_type": "stream",
          "name": "stdout",
          "text": [
            "WAV 변환 완료!\n"
          ]
        },
        {
          "output_type": "display_data",
          "data": {
            "text/plain": [
              "<IPython.core.display.Javascript object>"
            ],
            "application/javascript": [
              "\n",
              "    async function download(id, filename, size) {\n",
              "      if (!google.colab.kernel.accessAllowed) {\n",
              "        return;\n",
              "      }\n",
              "      const div = document.createElement('div');\n",
              "      const label = document.createElement('label');\n",
              "      label.textContent = `Downloading \"${filename}\": `;\n",
              "      div.appendChild(label);\n",
              "      const progress = document.createElement('progress');\n",
              "      progress.max = size;\n",
              "      div.appendChild(progress);\n",
              "      document.body.appendChild(div);\n",
              "\n",
              "      const buffers = [];\n",
              "      let downloaded = 0;\n",
              "\n",
              "      const channel = await google.colab.kernel.comms.open(id);\n",
              "      // Send a message to notify the kernel that we're ready.\n",
              "      channel.send({})\n",
              "\n",
              "      for await (const message of channel.messages) {\n",
              "        // Send a message to notify the kernel that we're ready.\n",
              "        channel.send({})\n",
              "        if (message.buffers) {\n",
              "          for (const buffer of message.buffers) {\n",
              "            buffers.push(buffer);\n",
              "            downloaded += buffer.byteLength;\n",
              "            progress.value = downloaded;\n",
              "          }\n",
              "        }\n",
              "      }\n",
              "      const blob = new Blob(buffers, {type: 'application/binary'});\n",
              "      const a = document.createElement('a');\n",
              "      a.href = window.URL.createObjectURL(blob);\n",
              "      a.download = filename;\n",
              "      div.appendChild(a);\n",
              "      a.click();\n",
              "      div.remove();\n",
              "    }\n",
              "  "
            ]
          },
          "metadata": {}
        },
        {
          "output_type": "display_data",
          "data": {
            "text/plain": [
              "<IPython.core.display.Javascript object>"
            ],
            "application/javascript": [
              "download(\"download_31691a6c-a34a-4b6c-9e08-902b610ae529\", \"twinkle_generated.wav\", 1587644)"
            ]
          },
          "metadata": {}
        }
      ]
    },
    {
      "cell_type": "code",
      "source": [],
      "metadata": {
        "id": "p6ll2JKzRKdn"
      },
      "execution_count": null,
      "outputs": []
    }
  ]
}